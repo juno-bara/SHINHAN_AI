{
 "cells": [
  {
   "cell_type": "code",
   "execution_count": 50,
   "metadata": {},
   "outputs": [],
   "source": [
    "# 라이브러리 로드\n",
    "import pandas as pd\n",
    "import numpy as np\n",
    "\n",
    "import warnings\n",
    "warnings.filterwarnings(\"ignore\")"
   ]
  },
  {
   "cell_type": "code",
   "execution_count": 51,
   "metadata": {},
   "outputs": [],
   "source": [
    "# 데이터 로드\n",
    "\n",
    "수익성 = pd.read_csv('./data/코스닥/코스닥 수익성.csv',encoding='cp949')\n",
    "안정성 = pd.read_csv('./data/코스닥/코스닥 안정성.csv',encoding='cp949')\n",
    "활동성 = pd.read_csv('./data/코스닥/코스닥 활동성.csv',encoding='cp949')\n",
    "성장성 = pd.read_csv('./data/코스닥/코스닥 성장성 계산용.csv',encoding='cp949')\n",
    "현금흐름 = pd.read_csv('./data/코스닥/코스닥 현금흐름 + 누적수익성비율.csv',encoding='cp949')\n",
    "연구개발 = pd.read_csv('./data/코스닥/코스닥 rs.csv',encoding='cp949')\n",
    "EBIT = pd.read_csv('./data/코스닥/에비~ 코스닥.csv',encoding='cp949')\n",
    "per_pbr_총부채 = pd.read_csv('./data/코스닥/per pbr 총부채 코스닥.csv',encoding='cp949')\n",
    "직원수_업력 = pd.read_csv('./data/코스닥/코스닥 직원수 급여 업력 외국인 대주주.csv',encoding='cp949')\n",
    "시가총액 = pd.read_csv('./data/코스닥/코스닥시가총액.csv',index_col=0)  #### 시총도 붙여야됨\n",
    "단기차입금 = pd.read_csv('./data/코스닥/코스닥 단기차입금 유동성 장기부채.csv',encoding='cp949')\n",
    "거시변수 = pd.read_excel('./data/거시경제 변수/거시변수.xlsx', engine=\"openpyxl\")\n",
    "상장일 = pd.read_csv('./data/코스닥/코스닥 상장일.csv',encoding='cp949')\n",
    "대분류 = pd.read_csv('./data/코스닥/코스닥 대분류.csv',encoding='cp949')\n",
    "유형자산 = pd.read_csv(\"./data/코스닥/코스닥 유형자산증가율.csv\", encoding= \"cp949\")"
   ]
  },
  {
   "cell_type": "code",
   "execution_count": 52,
   "metadata": {},
   "outputs": [],
   "source": [
    "#  사용 안하는 코드 컬럼 삭제 \n",
    "대분류.drop(['통계청 한국표준산업분류 코드 10차(대분류)'],axis=1,inplace=True)"
   ]
  },
  {
   "cell_type": "code",
   "execution_count": 53,
   "metadata": {},
   "outputs": [],
   "source": [
    "# 데이터 결합\n",
    "\n",
    "merge_data = [안정성, 수익성, 활동성, 성장성, 현금흐름, 연구개발, EBIT, per_pbr_총부채, 직원수_업력, 단기차입금, 상장일, 대분류, 유형자산]\n",
    "\n",
    "df = 안정성\n",
    "\n",
    "for data in merge_data[1:]:\n",
    "    df = df.merge(data, on=['회사명', '거래소코드', '회계년도'], how='left')\n"
   ]
  },
  {
   "cell_type": "code",
   "execution_count": 54,
   "metadata": {},
   "outputs": [
    {
     "name": "stdout",
     "output_type": "stream",
     "text": [
      "전체 행: 15617 개\n",
      "전체 기업 수 1744\n",
      "회사명                            0\n",
      "거래소코드                          0\n",
      "회계년도                           0\n",
      "자산(*)(요약)(IFRS)             1844\n",
      "자본(*)(요약)(IFRS)             1844\n",
      "                            ... \n",
      "유동성장기부채(요약)(IFRS연결)(백만원)    5530\n",
      "상장일                            0\n",
      "통계청 한국표준산업분류 10차(대분류)          0\n",
      "유형자산의 증가(*)(IFRS)(천원)       1844\n",
      "유형자산의 증가(*)(IFRS연결)(천원)     5530\n",
      "Length: 97, dtype: int64\n"
     ]
    }
   ],
   "source": [
    "pd.reset_option(\"display.max.rows\", None)\n",
    "print('전체 행:', df.shape[0],'개')\n",
    "print('전체 기업 수',len(df['회사명'].unique()))\n",
    "print(df.isna().sum())"
   ]
  },
  {
   "cell_type": "code",
   "execution_count": 55,
   "metadata": {},
   "outputs": [],
   "source": [
    "# 거래소 코드 6자리로 맞춰주는 함수\n",
    "def pad_code(x):\n",
    "    df[x] = df[x].astype(str).str.rjust(6, \"0\")\n",
    "    # return df\n",
    "\n",
    "# 외국계 기업 삭제 함수\n",
    "def remove_foreign_companies(df):\n",
    "    foreign_cp_ind = df[df[\"거래소코드\"].str[0] == \"9\"].index\n",
    "    print(\"외국계기업 데이터 수: \", len(foreign_cp_ind))\n",
    "    print(\"외국계기업 수: \",len(np.unique(df[df[\"거래소코드\"].astype(\"str\").str[0] == \"9\"][\"회사명\"])))\n",
    "    df.drop(index=foreign_cp_ind, axis=0, inplace=True)\n",
    "    df.reset_index(drop=True, inplace=True)\n",
    "    print('남은 데이터 수',df.shape[0]) \n",
    "    print('남은 기업 수',len(df['회사명'].unique()))\n",
    "    # return df\n",
    "\n",
    "# 회계년도 컬럼에서 년도만 추출 후 int화 함수 \n",
    "def change_year(df):\n",
    "    df[\"회계년도\"] = df[\"회계년도\"].astype(\"str\").str[:4].astype(\"int\")\n",
    "    # return df\n",
    "\n",
    "# 중복되는 데이터 확인 후 삭제하는 함수\n",
    "def find_duplicate_rows(df):\n",
    "    duplicate_rows = df[df.duplicated() == True].index\n",
    "    print(\"중복되는 데이터 수 : \",len(duplicate_rows))\n",
    "    df.drop(index = duplicate_rows ,axis=0, inplace=True)\n",
    "    df.reset_index(drop=True, inplace=True)\n",
    "    # return df\n",
    "\n",
    "# 중복되는 거래소 코드 확인 후 하나의 거래소 코드만 남기는 함수 \n",
    "def del_duplicated_code(df):\n",
    "    if len(df[\"회사명\"].unique()) != len(df[\"거래소코드\"].unique()):\n",
    "        print(\"회사수:\", len(df[\"회사명\"].unique()))\n",
    "        print(\"거래소코드수:\", len(df[\"거래소코드\"].unique()))\n",
    "        cp_ls = df[\"회사명\"].unique()\n",
    "        duplicated_ls = [c for c in cp_ls if df[df[\"회사명\"] == c][\"거래소코드\"].nunique() > 1]\n",
    "        print(\"거래소코드가 중복되는 기업 수:\", len(duplicated_ls))\n",
    "        # for i in duplicated_ls:\n",
    "        #     print(i)\n",
    "        # 중복 거래소코드 제거\n",
    "        for company_name in duplicated_ls:\n",
    "            # 각 기업의 데이터프레임 추출\n",
    "            df_company = df[df[\"회사명\"] == company_name]\n",
    "\n",
    "            # 마지막 거래소 코드만 남기기\n",
    "            last_code = df_company[\"거래소코드\"].iloc[-1]\n",
    "            df_company = df_company[df_company[\"거래소코드\"] == last_code]\n",
    "\n",
    "            # 중복 제거한 데이터프레임을 원래 데이터프레임에 업데이트\n",
    "            df = pd.concat([df[df[\"회사명\"] != company_name], df_company], ignore_index=True)\n",
    "        \n",
    "            \n",
    "        print(\"중복 거래소 코드 제거 후 회사수:\", len(df[\"회사명\"].unique()))\n",
    "        print(\"중복 거래소 코드 제거 후 거래소 코드 수:\", len(df[\"거래소코드\"].unique()))\n",
    "        print('남은 데이터 수',df.shape[0]) \n",
    "        print('남은 기업 수',len(df['회사명'].unique()))\n",
    "\n",
    "    elif len(df[\"회사명\"].unique()) != len(df[\"거래소코드\"].unique()):\n",
    "        print(\"회사수:\", len(df[\"회사명\"].unique()))\n",
    "        print(\"거래소코드수:\", len(df[\"거래소코드\"].unique()))\n",
    "    \n",
    "    return df\n",
    "\n",
    "#  연결 재무제표를 개별제무제표로 대체하는 함수\n",
    "def replace_yeongyeol_with_gaebyeol(df):\n",
    "    connected_cols = [col for col in df.columns if \"연결\" in col]\n",
    "\n",
    "    for connected_col in connected_cols:\n",
    "        original_col = connected_col.replace(\"연결\", \"\")\n",
    "        if original_col in df.columns:\n",
    "            df.loc[df[connected_col].isnull(), connected_col] = df[original_col]\n",
    "\n",
    "    df[\"차입금의존도(IFRS연결)\"].fillna(df[\"차입금의존도(IFRS)(백만원)\"], inplace=True)\n",
    "    df[\"유보율(IFRS연결)(백만원)\"].fillna(df[\"유보율(IFRS)\"], inplace=True)\n",
    "    df[\"현금비율(IFRS연결)(백만원)\"].fillna(df[\"현금비율(IFRS)\"], inplace=True)\n",
    "        \n",
    "    # return df\n",
    "\n"
   ]
  },
  {
   "cell_type": "code",
   "execution_count": 56,
   "metadata": {},
   "outputs": [
    {
     "name": "stdout",
     "output_type": "stream",
     "text": [
      "중복되는 데이터 수 :  0\n",
      "외국계기업 데이터 수:  152\n",
      "외국계기업 수:  23\n",
      "남은 데이터 수 15465\n",
      "남은 기업 수 1721\n"
     ]
    }
   ],
   "source": [
    "# 거래소 코드 6자리로 맞춰 주기\n",
    "pad_code(\"거래소코드\")\n",
    "\n",
    "# 회계년도에서 년도만 추출 후 int화\n",
    "change_year(df)\n",
    "\n",
    "# 중복되는 데이터 확인후 삭제\n",
    "find_duplicate_rows(df)\n",
    "\n",
    "# 외국계 기업 삭제\n",
    "remove_foreign_companies(df)"
   ]
  },
  {
   "cell_type": "code",
   "execution_count": 57,
   "metadata": {},
   "outputs": [
    {
     "name": "stdout",
     "output_type": "stream",
     "text": [
      "회사수: 1721\n",
      "거래소코드수: 1743\n",
      "거래소코드가 중복되는 기업 수: 22\n",
      "중복 거래소 코드 제거 후 회사수: 1721\n",
      "중복 거래소 코드 제거 후 거래소 코드 수: 1721\n",
      "남은 데이터 수 15329\n",
      "남은 기업 수 1721\n"
     ]
    }
   ],
   "source": [
    "# 거래소 코드가 중복되는 데이터 확인 후 하나의 거래소 코드만 남기기\n",
    "df = del_duplicated_code(df)"
   ]
  },
  {
   "cell_type": "code",
   "execution_count": 58,
   "metadata": {},
   "outputs": [],
   "source": [
    "# # 연결 재무재표의 결측치 개별 재무재표의 채우기\n",
    "replace_yeongyeol_with_gaebyeol(df)"
   ]
  },
  {
   "cell_type": "code",
   "execution_count": 59,
   "metadata": {},
   "outputs": [
    {
     "data": {
      "text/plain": [
       "회사명                            0\n",
       "거래소코드                          0\n",
       "회계년도                           0\n",
       "자산(*)(요약)(IFRS)             1667\n",
       "자본(*)(요약)(IFRS)             1667\n",
       "                            ... \n",
       "유동성장기부채(요약)(IFRS연결)(백만원)    1666\n",
       "상장일                            0\n",
       "통계청 한국표준산업분류 10차(대분류)          0\n",
       "유형자산의 증가(*)(IFRS)(천원)       1667\n",
       "유형자산의 증가(*)(IFRS연결)(천원)     1666\n",
       "Length: 97, dtype: int64"
      ]
     },
     "execution_count": 59,
     "metadata": {},
     "output_type": "execute_result"
    }
   ],
   "source": [
    "df.isna().sum()"
   ]
  },
  {
   "cell_type": "code",
   "execution_count": 60,
   "metadata": {},
   "outputs": [
    {
     "name": "stdout",
     "output_type": "stream",
     "text": [
      "전체 행: 15329 개\n",
      "전체 기업 수 1721\n",
      "회사명                            0\n",
      "거래소코드                          0\n",
      "회계년도                           0\n",
      "자산(*)(요약)(IFRS)             1667\n",
      "자본(*)(요약)(IFRS)             1667\n",
      "                            ... \n",
      "유동성장기부채(요약)(IFRS연결)(백만원)    1666\n",
      "상장일                            0\n",
      "통계청 한국표준산업분류 10차(대분류)          0\n",
      "유형자산의 증가(*)(IFRS)(천원)       1667\n",
      "유형자산의 증가(*)(IFRS연결)(천원)     1666\n",
      "Length: 97, dtype: int64\n"
     ]
    }
   ],
   "source": [
    "pd.reset_option(\"display.max.rows\", None)\n",
    "print('전체 행:', df.shape[0],'개')\n",
    "print('전체 기업 수',len(df['회사명'].unique()))\n",
    "print(df.isna().sum())"
   ]
  },
  {
   "cell_type": "code",
   "execution_count": 61,
   "metadata": {},
   "outputs": [],
   "source": [
    "#  삭제 할 개별재무제표 컬럼 정리  \n",
    "pd.reset_option(\"display.max.rows\", None)\n",
    "\n",
    "drop_col = ['유보율(IFRS)' ,'[제조]* (정상)영업손익(보고서기재)(요약)(IFRS)(백만원)','[제조]      이익잉여금(결손금)(요약)(IFRS)(백만원)',\n",
    "'[제조]영업활동으로 인한 현금흐름(간접법)(*)(요약)(IFRS)(백만원)','자산(*)(요약)(IFRS)(백만원)', \n",
    "'부채(*)(요약)(IFRS)(백만원)','[제조]자본(*)(요약)(IFRS)(백만원)','당기순이익(손실)(요약)(IFRS)(백만원)', \n",
    "'법인세비용차감전순이익(손실)(요약)(IFRS)(백만원)','금융원가(요약)(IFRS)(백만원)','금융수익(요약)(IFRS)(백만원)',\n",
    "'매출액(수익)(요약)(IFRS)(백만원)','연구개발비(IFRS)(천원)',\n",
    "'[제조]      유형자산(요약)(IFRS)(백만원)','자본금회전률(IFRS)',\n",
    "'총자본회전률(IFRS)','재고자산회전률(IFRS)','유형자산회전율(IFRS)','자기자본회전률(IFRS)','타인자본회전률(IFRS)',\n",
    "'경영자본순이익률(IFRS)','금융비용부담률(IFRS)','총자본순이익률(IFRS)','매출액총이익률(IFRS)',\n",
    "'자기자본순이익률(IFRS)','총자본정상영업이익률(IFRS)','자산(*)(요약)(IFRS)','자본(*)(요약)(IFRS)',\n",
    " '현금비율(IFRS)','* (정상)영업손익(보고서기재)(요약)(IFRS)(백만원)',\n",
    " '차입금의존도(IFRS)(백만원)','감가상각비(IFRS)(천원)','부채비율(IFRS)',\n",
    "'당좌비율(IFRS)','*이자비용(요약)(IFRS)(백만원)','순운전자본비율(IFRS)',\n",
    "'[제조]자산(*)(요약)(IFRS)(백만원)_x','[제조]자산(*)(요약)(IFRS연결)(백만원)_x',\n",
    "'[제조]자산(*)(요약)(IFRS)(백만원)_y','[제조]자산(*)(요약)(IFRS연결)(백만원)_y',\n",
    "'[제조]매출액(수익)(요약)(IFRS)(백만원)_y', '[제조]매출액(수익)(요약)(IFRS연결)(백만원)_y',\n",
    "'[제조]매출액(수익)(요약)(IFRS)(백만원)_x', '[제조]매출액(수익)(요약)(IFRS연결)(백만원)_x',\n",
    "'유동성장기부채(요약)(IFRS)(백만원)','단기차입금(요약)(IFRS)(백만원)','자산(*)(요약)(IFRS연결)(백만원)','[제조]자본(*)(요약)(IFRS연결)(백만원)',\"유형자산의 증가(*)(IFRS)(천원)\"\n",
    "]\n",
    "\n",
    "# 개별재무제표 컬럼 삭제\n",
    "df.drop(drop_col,axis=1,inplace=True)"
   ]
  },
  {
   "cell_type": "code",
   "execution_count": 62,
   "metadata": {},
   "outputs": [],
   "source": [
    "## 성장성 지표인 증가율 컬럼 만들기\n",
    "성장성_col = ['[제조]      유형자산(요약)(IFRS연결)(백만원)','매출액(수익)(요약)(IFRS연결)(백만원)',\n",
    "           '자본(*)(요약)(IFRS연결)','자산(*)(요약)(IFRS연결)',\n",
    "           '[제조]* (정상)영업손익(보고서기재)(요약)(IFRS연결)(백만원)']\n",
    "\n",
    "## 증가율 컬럼 전기에 음수일때 당기에 음수지만 증가할때 증가율 계산\n",
    "## ex (2011년 -20, 2012년 -10) -> -10-(-20) / np.abs(-20)= \n",
    "증가율_df = (df.groupby(['회사명', '거래소코드'])[성장성_col].shift(0) - df.groupby(['회사명', '거래소코드'])[성장성_col].shift(1)) / np.abs(df.groupby(['회사명', '거래소코드'])[성장성_col].shift(1))*100\n",
    "증가율_df.rename(columns={'[제조]      유형자산(요약)(IFRS연결)(백만원)':'유형자산증가율', '매출액(수익)(요약)(IFRS연결)(백만원)':'매출액증가율',\n",
    "       '자본(*)(요약)(IFRS연결)':'자기자본증가율', '자산(*)(요약)(IFRS연결)':'총자본증가율',\n",
    "       '[제조]* (정상)영업손익(보고서기재)(요약)(IFRS연결)(백만원)':'정상영업이익증가율'},inplace=True)\n",
    "\n",
    "df.drop(['[제조]      유형자산(요약)(IFRS연결)(백만원)','[제조]* (정상)영업손익(보고서기재)(요약)(IFRS연결)(백만원)'],axis=1,inplace=True)\n",
    "df = pd.concat([df,증가율_df],axis=1)"
   ]
  },
  {
   "cell_type": "code",
   "execution_count": 63,
   "metadata": {},
   "outputs": [],
   "source": [
    "## 시가총액 merge\n",
    "change_year(시가총액)\n",
    "df = df.merge(시가총액,on=['거래소코드','회계년도'],how='left')\n",
    "df['시가총액(백만원)'] = df['시가총액'] / 1000000\n",
    "df.drop(['시가총액'],axis=1,inplace=True)\n",
    "\n",
    "## 거시변수 merge\n",
    "거시변수.rename(columns={'회계연도':'회계년도'},inplace=True)\n",
    "change_year(거시변수)\n",
    "df = df.merge(거시변수,on=['회계년도'],how='left')"
   ]
  },
  {
   "cell_type": "code",
   "execution_count": 64,
   "metadata": {},
   "outputs": [],
   "source": [
    "### 파생변수 만들기 \n",
    "\n",
    "\n",
    "## 기업별 업력 설립일 이후 지속된 기간\n",
    "df['업력'] = df['회계년도'] -  pd.to_datetime(df['설립일'],format='%Y/%m/%d').dt.strftime('%Y').astype(int)\n",
    "df.drop('설립일',axis=1,inplace=True)\n",
    "\n",
    "## 누적수익성비율  - 자산0이면 inf - 공시안함 \n",
    "df['누적수익성비율'] = (df['[제조]      이익잉여금(결손금)(요약)(IFRS연결)(백만원)']/df['자산(*)(요약)(IFRS연결)']) * 100\n",
    "\n",
    "# 이자부담율\n",
    "df['이자부담률'] = (df['EBITDA(IFRS)(백만원)'] / df['*이자비용(요약)(IFRS연결)(백만원)']) * 100 \n",
    "\n",
    "# 부채상환계수 EBITDA / (이자비용 + 단기차입금 + 유동성장기부채)\n",
    "df['부채상환계수'] =( df['EBITDA(IFRS)(백만원)'] / (df['*이자비용(요약)(IFRS연결)(백만원)']+df['단기차입금(요약)(IFRS연결)(백만원)'] + df['유동성장기부채(요약)(IFRS연결)(백만원)'])) * 100\n",
    "\n",
    "# 현금흐름_자산 = 영업현금흐름 / 당기총자산\n",
    "df['현금흐름 대 자산'] = (df.groupby(['회사명','거래소코드'])['[제조]영업활동으로 인한 현금흐름(간접법)(*)(요약)(IFRS연결)(백만원)'].shift(0) / df.groupby(['회사명','거래소코드'])['자산(*)(요약)(IFRS연결)'].shift(0)) * 100\n",
    "\n",
    "# 현금흐름_매출액\n",
    "df['현금흐름 대 매출액'] = (df['[제조]영업활동으로 인한 현금흐름(간접법)(*)(요약)(IFRS연결)(백만원)'] / df['매출액(수익)(요약)(IFRS연결)(백만원)']) * 100\n",
    "\n",
    "# 토빈Q\n",
    "df['토빈Q'] = ((df['부채(*)(요약)(IFRS연결)(백만원)'] + df['시가총액(백만원)']) / df['자산(*)(요약)(IFRS연결)']) * 100 \n",
    "\n",
    "## TMD\n",
    "df['TMD'] =( df['부채(*)(요약)(IFRS연결)(백만원)'] / df['시가총액(백만원)']) * 100\n",
    "\n",
    "# 알트만 변수\n",
    "df['시총/총자산'] = (df['시가총액(백만원)'] / df['자산(*)(요약)(IFRS연결)']) *100\n",
    "\n",
    "# RD -단위도 수정\n",
    "df['연구개발비(IFRS연결)(백만원)'] = df['연구개발비(IFRS연결)(천원)']/1000\n",
    "df.drop(['연구개발비(IFRS연결)(천원)'],axis=1,inplace=True)\n",
    "df['RD'] = (df['연구개발비(IFRS연결)(백만원)'] / df['매출액(수익)(요약)(IFRS연결)(백만원)']) * 100\n",
    "\n",
    "# 직원수변동률 , 직원인건비총액(백만원단위) (고민필요)\n",
    "df['직원수변동률%'] = df.groupby(['회사명','거래소코드'])['합계_기말인원(명)'].pct_change()*100\n",
    "\n",
    "# 직원인건비총액(백만원)\n",
    "df['직원인건비총액(백만원)'] = (df['합계_년간총급여(천원)']/1000) * df['합계_기말인원(명)']\n",
    "df.drop(['합계_년간총급여(천원)'],axis=1,inplace=True)\n",
    "\n",
    "# 알트만 변수  EBIT = 법인세비용차감전순이익+금융원가-금융수익\n",
    "df['EBIT/총자산'] = ((df['법인세비용차감전순이익(손실)(요약)(IFRS연결)(백만원)'] + df['금융원가(요약)(IFRS연결)(백만원)']-df['금융수익(요약)(IFRS연결)(백만원)'])/df['자산(*)(요약)(IFRS연결)']) * 100\n",
    "\n",
    "# PBR \n",
    "df['PBR'] = (df['시가총액(백만원)']  / df['자본(*)(요약)(IFRS연결)']) * 100\n",
    "\n",
    "\n",
    "# 영업손익 전기영업손익 + 당기영업손익\n",
    "df[\"당기전기영업손익\"] = (df.groupby([\"회사명\", \"거래소코드\"])[\"* (정상)영업손익(보고서기재)(요약)(IFRS연결)(백만원)\"].shift(0) + df.groupby([\"회사명\", \"거래소코드\"])[\"* (정상)영업손익(보고서기재)(요약)(IFRS연결)(백만원)\"].shift(1)) / 2\n",
    "df['당기전기매출액'] = (df.groupby([\"회사명\", \"거래소코드\"])[\"매출액(수익)(요약)(IFRS연결)(백만원)\"].shift(0) + df.groupby([\"회사명\", \"거래소코드\"])[\"매출액(수익)(요약)(IFRS연결)(백만원)\"].shift(1)) / 2\n",
    "df[\"당기전기영업손익/매출액\"] = (df['당기전기영업손익'] / df['당기전기매출액']) * 100\n",
    "\n",
    "# capex컬럼 단위 맞춰주기\n",
    "df[\"유형자산의 증가(*)(IFRS연결)(천원)\"] = df[\"유형자산의 증가(*)(IFRS연결)(천원)\"] / 1000\n",
    "\n",
    "# findep =  (capex - 영업현금흐름 ) / capex\n",
    "df[\"FINDEP\"] = (df[\"유형자산의 증가(*)(IFRS연결)(천원)\"] - df['[제조]영업활동으로 인한 현금흐름(간접법)(*)(요약)(IFRS연결)(백만원)']) *100\n",
    "\n",
    "# PBR 변화율\n",
    "df['PBR변화율']  = (df.groupby(['회사명', '거래소코드'])['PBR'].shift(0) - df.groupby(['회사명', '거래소코드'])['PBR'].shift(1)) / np.abs(df.groupby(['회사명', '거래소코드'])['PBR'].shift(1)) *100\n",
    "\n",
    "# ROA 변화율\n",
    "df['ROA변화율']  = (df.groupby(['회사명', '거래소코드'])['총자본순이익률(IFRS연결)'].shift(0) - df.groupby(['회사명', '거래소코드'])['총자본순이익률(IFRS연결)'].shift(1)) / np.abs(df.groupby(['회사명', '거래소코드'])['총자본순이익률(IFRS연결)'].shift(1)) *100\n",
    "\n",
    "# EBITDA마진율\n",
    "df[\"EBITDA마진율\"] = (df[\"EBITDA(IFRS)(백만원)\"] / df[\"매출액(수익)(요약)(IFRS연결)(백만원)\"]) * 100\n",
    "\n",
    "# 논문을 바탕으로 새로운 컬럼 생성\n",
    "\n",
    "df['현금흐름/총부채비율'] = (df['[제조]영업활동으로 인한 현금흐름(간접법)(*)(요약)(IFRS연결)(백만원)'] / df['부채(*)(요약)(IFRS연결)(백만원)']) * 100\n",
    "df[\"영업현금흐름-단기차입금\"] = (df[\"[제조]영업활동으로 인한 현금흐름(간접법)(*)(요약)(IFRS연결)(백만원)\"] - df[\"단기차입금(요약)(IFRS연결)(백만원)\"]) * 100\n",
    "df[\"CND\"] =( np.abs((df[\"[제조]영업활동으로 인한 현금흐름(간접법)(*)(요약)(IFRS연결)(백만원)\"] - df[\"당기순이익(손실)(요약)(IFRS연결)(백만원)\"])) / df[\"매출액(수익)(요약)(IFRS연결)(백만원)\"]) *100\n"
   ]
  },
  {
   "cell_type": "code",
   "execution_count": 65,
   "metadata": {},
   "outputs": [],
   "source": [
    "# 컬럼이름 정리\n",
    "\n",
    "rename_list = {'자산(*)(요약)(IFRS연결)':'자산', '자본(*)(요약)(IFRS연결)':'자본',\n",
    "       '차입금의존도(IFRS연결)':'차입금의존도', '유보율(IFRS연결)(백만원)':'유보율', '현금비율(IFRS연결)(백만원)':'현금비율',\n",
    "       '부채비율(IFRS연결)':'부채비율', '당좌비율(IFRS연결)':'당좌비율', '순운전자본비율(IFRS연결)':'순운전자본비율',\n",
    "       '*이자비용(요약)(IFRS연결)(백만원)':'이자비용', '* (정상)영업손익(보고서기재)(요약)(IFRS연결)(백만원)':'영업손익',\n",
    "       '감가상각비(IFRS연결)(천원)':'감가상각비', 'EBITDA(IFRS)(백만원)':'EBITDA', '총자본정상영업이익률(IFRS연결)':'총자본정상영업이익률',\n",
    "       '자기자본순이익률(IFRS연결)':'자기자본순이익률', '총자본순이익률(IFRS연결)':'총자본순이익률', '매출액총이익률(IFRS연결)':'매출액총이익률',\n",
    "       '금융비용부담률(IFRS연결)':'금융비용부담률', '경영자본순이익률(IFRS연결)':'경영자본순이익률', '자본금회전률(IFRS연결)':'자본금회전률',\n",
    "       '유형자산회전율(IFRS연결)':'유형자산회전율', '재고자산회전률(IFRS연결)':'재고자산회전률', '자기자본회전률(IFRS연결)':'자기자본회전률',\n",
    "       '타인자본회전률(IFRS연결)':'타인자본회전률', '총자본회전률(IFRS연결)':'총자본회전률', \n",
    "       '[제조]      이익잉여금(결손금)(요약)(IFRS연결)(백만원)':'이익잉여금',\n",
    "       '[제조]영업활동으로 인한 현금흐름(간접법)(*)(요약)(IFRS연결)(백만원)':'영업활동으로 인한 현금흐름',\n",
    "       '매출액(수익)(요약)(IFRS연결)(백만원)':'매출액', '금융원가(요약)(IFRS연결)(백만원)':'금융원가',\n",
    "       '금융수익(요약)(IFRS연결)(백만원)':'금융수익', '법인세비용차감전순이익(손실)(요약)(IFRS연결)(백만원)':'법인세비용차감전순이익',\n",
    "       '당기순이익(손실)(요약)(IFRS연결)(백만원)':'당기순이익', \n",
    "       '부채(*)(요약)(IFRS연결)(백만원)':'부채', '외국인_주식분포비율':'외국인지분율', '보통주식비율':'대주주지분율',\n",
    "       '단기차입금(요약)(IFRS연결)(백만원)':'단기차입금', '유동성장기부채(요약)(IFRS연결)(백만원)':'유동성장기부채',\n",
    "       '시가총액(백만원)':'시가총액','연구개발비(IFRS연결)(백만원)':'연구개발비','직원인건비총액(백만원)':'직원인건비총액','통계청 한국표준산업분류 10차(대분류)':'산업군',\n",
    "       \"유형자산의 증가(*)(IFRS연결)(천원)\" : \"CAPEX\"\n",
    "       }\n",
    "\n",
    "df.rename(columns=rename_list,inplace=True)"
   ]
  },
  {
   "cell_type": "code",
   "execution_count": 66,
   "metadata": {},
   "outputs": [
    {
     "name": "stdout",
     "output_type": "stream",
     "text": [
      "전체 행: 14077 개\n",
      "전체 기업 수 1684\n"
     ]
    }
   ],
   "source": [
    "## 회계년도 2011년도 제거\n",
    "df['상장일'] = pd.to_datetime(df['상장일'],format='%Y/%m/%d').dt.strftime('%Y').astype(int)\n",
    "\n",
    "\n",
    "df = df[df['회계년도']>2011].reset_index(drop=True)\n",
    "\n",
    "print('전체 행:', df.shape[0],'개')\n",
    "print('전체 기업 수',len(df['회사명'].unique()))\n"
   ]
  },
  {
   "attachments": {},
   "cell_type": "markdown",
   "metadata": {},
   "source": [
    "-----"
   ]
  },
  {
   "attachments": {},
   "cell_type": "markdown",
   "metadata": {},
   "source": [
    "## 타겟 라벨링\n",
    "-----\n"
   ]
  },
  {
   "cell_type": "code",
   "execution_count": 67,
   "metadata": {},
   "outputs": [],
   "source": [
    "#  데이터 로드, 필요 없는 컬럼 삭제\n",
    "\n",
    "부실 = pd.read_csv('./data/y/y값최종.csv',index_col=0)\n",
    "change_year(부실)\n",
    "부실[\"거래소코드\"] = 부실[\"거래소코드\"].astype(\"str\").str.rjust(6,\"0\")\n",
    "부실.drop(['번호','회사명'],axis=1,inplace=True)"
   ]
  },
  {
   "cell_type": "code",
   "execution_count": 68,
   "metadata": {},
   "outputs": [],
   "source": [
    "# 데이터 결합\n",
    "df = df.merge(부실,on=['회계년도','거래소코드'],how='left')"
   ]
  },
  {
   "cell_type": "code",
   "execution_count": 69,
   "metadata": {},
   "outputs": [],
   "source": [
    "## 상폐기업 라벨링\n",
    "\n",
    "df[\"공시제목\"].fillna(0,inplace=True)\n",
    "\n",
    "상폐_ind = df[df[\"공시제목\"]== '상장폐지기업'].index\n",
    "\n",
    "### set1\n",
    "df.loc[상폐_ind,\"target_1\"] = 1\n",
    "\n",
    "for i in df.index:\n",
    "    if (df.loc[i,\"target_1\"] == 1) and (df.loc[i,\"회사명\"] == df.loc[i-1,\"회사명\"]) :\n",
    "        df.loc[i-1, \"target_1\"] = 1\n",
    "df['target_1'].fillna(0,inplace=True)\n",
    "df['target_1'] = df['target_1'].astype(int)\n",
    "\n",
    "# ### set2\n",
    "df.loc[상폐_ind,\"target_2\"] = 1\n",
    "\n",
    "for i in df.index:\n",
    "    if (df.loc[i,\"target_2\"] == 1) and (df.loc[i,\"회사명\"] == df.loc[i-1,\"회사명\"]) and (df.loc[i,'공시제목']=='상장폐지기업') :\n",
    "        df.loc[i-1, \"target_2\"] = 1 \n",
    "    if (df.loc[i,\"target_2\"] == 1) and (df.loc[i,\"회사명\"] == df.loc[i-2,\"회사명\"]) and (df.loc[i,'공시제목']=='상장폐지기업'):\n",
    "        df.loc[i-2, \"target_2\"] = 1\n",
    "\n",
    "df['target_2'].fillna(0,inplace=True)\n",
    "df['target_2'] = df['target_2'].astype(int)\n",
    "\n",
    "## set_3\n",
    "\n",
    "df.loc[상폐_ind,\"target_3\"] = 1\n",
    "\n",
    "for i in df.index:\n",
    "    if (df.loc[i,\"target_3\"] == 1) and (df.loc[i,\"회사명\"] == df.loc[i-1,\"회사명\"]) and (df.loc[i,'공시제목']=='상장폐지기업'):\n",
    "        df.loc[i-1, \"target_3\"] = 1\n",
    "df['target_3'].fillna(0,inplace=True)\n",
    "df['target_3'] = df['target_3'].astype(int)\n"
   ]
  },
  {
   "cell_type": "code",
   "execution_count": 70,
   "metadata": {},
   "outputs": [
    {
     "name": "stdout",
     "output_type": "stream",
     "text": [
      "237\n",
      "331\n",
      "237\n"
     ]
    }
   ],
   "source": [
    "print(df.target_1.sum())\n",
    "print(df.target_2.sum())\n",
    "print(df.target_3.sum())"
   ]
  },
  {
   "cell_type": "code",
   "execution_count": 71,
   "metadata": {},
   "outputs": [],
   "source": [
    "## 회생기업 라벨링\n",
    "\n",
    "df[\"공시제목\"].fillna(0,inplace=True)\n",
    "\n",
    "회생_ind = df[df[\"공시제목\"]== '회생절차개시결정'].index\n",
    "\n",
    "### set1\n",
    "df.loc[회생_ind,\"target_1\"] = 1\n",
    "\n",
    "for i in df.index:\n",
    "    if (df.loc[i,\"target_1\"] == 1) and (df.loc[i,\"회사명\"] == df.loc[i-1,\"회사명\"]) & (df.loc[i,'공시제목']=='회생절차개시결정'):\n",
    "        df.loc[i-1, \"target_1\"] = 1\n",
    "df['target_1'].fillna(0,inplace=True)\n",
    "df['target_1'] = df['target_1'].astype(int)\n",
    "\n",
    "# ### set2\n",
    "df.loc[회생_ind,\"target_2\"] = 1\n",
    "\n",
    "df['target_2'].fillna(0,inplace=True)\n",
    "df['target_2'] = df['target_2'].astype(int)\n",
    "\n",
    "## set_3\n",
    "\n",
    "df.loc[회생_ind,\"target_3\"] = 1\n",
    "\n",
    "df['target_3'].fillna(0,inplace=True)\n",
    "df['target_3'] = df['target_3'].astype(int)"
   ]
  },
  {
   "cell_type": "code",
   "execution_count": 72,
   "metadata": {},
   "outputs": [
    {
     "name": "stdout",
     "output_type": "stream",
     "text": [
      "312\n",
      "369\n",
      "275\n"
     ]
    }
   ],
   "source": [
    "print(df.target_1.sum())\n",
    "print(df.target_2.sum())\n",
    "print(df.target_3.sum())"
   ]
  },
  {
   "cell_type": "code",
   "execution_count": 73,
   "metadata": {},
   "outputs": [
    {
     "name": "stdout",
     "output_type": "stream",
     "text": [
      "부실 기업 수_1  :  167\n",
      "부실 기업 수_2  :  167\n",
      "부실 기업 수_3  :  167\n"
     ]
    }
   ],
   "source": [
    "print(\"부실 기업 수_1  : \",len(np.unique(df[df[\"target_1\"]==1][\"회사명\"])))\n",
    "print(\"부실 기업 수_2  : \",len(np.unique(df[df[\"target_2\"]==1][\"회사명\"])))\n",
    "print(\"부실 기업 수_3  : \",len(np.unique(df[df[\"target_3\"]==1][\"회사명\"])))"
   ]
  },
  {
   "cell_type": "code",
   "execution_count": 74,
   "metadata": {},
   "outputs": [
    {
     "name": "stdout",
     "output_type": "stream",
     "text": [
      "전체 데이터 수 :  14077\n",
      "부실 기업 데이터 수:  275\n",
      "정상 기업 데이터 수 :  13802\n",
      "부실 정상 데이터 비율 :  target_3\n",
      "0    0.980465\n",
      "1    0.019535\n",
      "Name: proportion, dtype: float64\n",
      "전체 기업 수 :  1684\n",
      "부실 기업 수  :  167\n",
      "정상 기업 수 :  1649\n",
      "결측치 수 :  121027\n"
     ]
    }
   ],
   "source": [
    "print(\"전체 데이터 수 : \", df.shape[0])\n",
    "print(\"부실 기업 데이터 수: \",len(df[df[\"target_3\"]==1]))\n",
    "print(\"정상 기업 데이터 수 : \",len(df[df[\"target_3\"]==0]))\n",
    "print(\"부실 정상 데이터 비율 : \",df[\"target_3\"].value_counts(property))\n",
    "print(\"전체 기업 수 : \" , len(np.unique(df[\"회사명\"])))\n",
    "print(\"부실 기업 수  : \",len(np.unique(df[df[\"target_1\"]==1][\"회사명\"])))\n",
    "print(\"정상 기업 수 : \",len(np.unique(df[df[\"target_3\"]==0][\"회사명\"])))\n",
    "print(\"결측치 수 : \", df.isna().sum().sum())\n"
   ]
  },
  {
   "cell_type": "code",
   "execution_count": 75,
   "metadata": {},
   "outputs": [],
   "source": [
    "def get_index_with_50_or_more_nan_columns(df):\n",
    "    \n",
    "    # 결측치 컬럼 개수 계산\n",
    "    nan_column_counts = df.isnull().sum(axis=1)\n",
    "    \n",
    "    # 결측치 컬럼 개수가 50개 이상인 인덱스 번호 추출\n",
    "    index_with_50_or_more_nan_columns = nan_column_counts[nan_column_counts >= 50].index.to_list()\n",
    "    print('제거행 수:' , len(index_with_50_or_more_nan_columns))\n",
    "\n",
    "    df.drop(index=index_with_50_or_more_nan_columns,inplace=True)\n",
    "    return df\n"
   ]
  },
  {
   "cell_type": "code",
   "execution_count": 76,
   "metadata": {},
   "outputs": [
    {
     "name": "stdout",
     "output_type": "stream",
     "text": [
      "제거행 수: 1455\n",
      "12622\n",
      "전체 기업 수 1632\n"
     ]
    }
   ],
   "source": [
    "print(len(get_index_with_50_or_more_nan_columns(df)))\n",
    "print('전체 기업 수',len(df['회사명'].unique()))\n"
   ]
  },
  {
   "cell_type": "code",
   "execution_count": 77,
   "metadata": {},
   "outputs": [
    {
     "name": "stdout",
     "output_type": "stream",
     "text": [
      "부실데이터 수: 279\n",
      "부실데이터 수: 325\n",
      "부실데이터 수: 245\n",
      "전체 데이터 수 :  12622\n",
      "부실 기업 데이터 수:  245\n",
      "정상 기업 데이터 수 :  12377\n",
      "부실 정상 데이터 비율 :  target_3\n",
      "0    0.980589\n",
      "1    0.019411\n",
      "Name: proportion, dtype: float64\n",
      "전체 기업 수 :  1632\n",
      "부실 기업 수  :  151\n",
      "정상 기업 수 :  1596\n",
      "결측치 수 :  23906\n"
     ]
    }
   ],
   "source": [
    "print('부실데이터 수:',df[df['target_1']==1].shape[0])\n",
    "print('부실데이터 수:',df[df['target_2']==1].shape[0])\n",
    "print('부실데이터 수:',df[df['target_3']==1].shape[0])\n",
    "\n",
    "print(\"전체 데이터 수 : \", df.shape[0])\n",
    "print(\"부실 기업 데이터 수: \",len(df[df[\"target_3\"]==1]))\n",
    "print(\"정상 기업 데이터 수 : \",len(df[df[\"target_3\"]==0]))\n",
    "print(\"부실 정상 데이터 비율 : \",df[\"target_3\"].value_counts(property))\n",
    "print(\"전체 기업 수 : \" , len(np.unique(df[\"회사명\"])))\n",
    "print(\"부실 기업 수  : \",len(np.unique(df[df[\"target_1\"]==1][\"회사명\"])))\n",
    "print(\"정상 기업 수 : \",len(np.unique(df[df[\"target_3\"]==0][\"회사명\"])))\n",
    "print(\"결측치 수 : \", df.isna().sum().sum())"
   ]
  },
  {
   "cell_type": "code",
   "execution_count": 78,
   "metadata": {},
   "outputs": [
    {
     "name": "stdout",
     "output_type": "stream",
     "text": [
      "회사명                  0\n",
      "거래소코드                0\n",
      "회계년도                 0\n",
      "자산                   1\n",
      "자본                   1\n",
      "차입금의존도             186\n",
      "유보율                186\n",
      "현금비율               186\n",
      "부채비율               186\n",
      "당좌비율               186\n",
      "순운전자본비율            186\n",
      "이자비용                 1\n",
      "영업손익                 1\n",
      "감가상각비                1\n",
      "EBITDA             188\n",
      "총자본정상영업이익률         186\n",
      "자기자본순이익률           186\n",
      "총자본순이익률            186\n",
      "매출액총이익률            186\n",
      "금융비용부담률            186\n",
      "경영자본순이익률           186\n",
      "자본금회전률             186\n",
      "유형자산회전율            186\n",
      "재고자산회전률            186\n",
      "자기자본회전률            186\n",
      "타인자본회전률            186\n",
      "총자본회전률             186\n",
      "이익잉여금                1\n",
      "영업활동으로 인한 현금흐름       1\n",
      "매출액                  1\n",
      "금융원가                 1\n",
      "금융수익                 1\n",
      "법인세비용차감전순이익          1\n",
      "당기순이익                1\n",
      "부채                   1\n",
      "합계_기말인원(명)        1085\n",
      "외국인지분율            1351\n",
      "대주주지분율            1095\n",
      "단기차입금                1\n",
      "유동성장기부채              1\n",
      "상장일                  0\n",
      "산업군                  0\n",
      "CAPEX                1\n",
      "유형자산증가율            632\n",
      "매출액증가율             648\n",
      "자기자본증가율            630\n",
      "총자본증가율             630\n",
      "정상영업이익증가율          630\n",
      "시가총액              1163\n",
      "장단기금리차               0\n",
      "cpi                  0\n",
      "업력                   0\n",
      "누적수익성비율              2\n",
      "이자부담률              190\n",
      "부채상환계수             190\n",
      "현금흐름 대 자산            2\n",
      "현금흐름 대 매출액           4\n",
      "토빈Q               1163\n",
      "TMD               1163\n",
      "시총/총자산            1163\n",
      "연구개발비                1\n",
      "RD                   5\n",
      "직원수변동률%           1642\n",
      "직원인건비총액           1085\n",
      "EBIT/총자산             2\n",
      "PBR               1163\n",
      "당기전기영업손익           630\n",
      "당기전기매출액            630\n",
      "당기전기영업손익/매출액       630\n",
      "FINDEP               1\n",
      "PBR변화율            1811\n",
      "ROA변화율             816\n",
      "EBITDA마진율          190\n",
      "현금흐름/총부채비율           2\n",
      "영업현금흐름-단기차입금         1\n",
      "CND                  4\n",
      "공시제목                 0\n",
      "target_1             0\n",
      "target_2             0\n",
      "target_3             0\n",
      "dtype: int64\n"
     ]
    }
   ],
   "source": [
    "pd.set_option('display.max_rows',None)\n",
    "print(df.isna().sum())\n",
    "pd.reset_option('display.max_rows',None)"
   ]
  },
  {
   "cell_type": "code",
   "execution_count": 79,
   "metadata": {},
   "outputs": [
    {
     "name": "stdout",
     "output_type": "stream",
     "text": [
      "전체 데이터 수 :  10807\n",
      "부실 기업 데이터 수:  243\n",
      "정상 기업 데이터 수 :  10564\n",
      "부실 정상 데이터 비율 :  target_3\n",
      "0    0.977515\n",
      "1    0.022485\n",
      "Name: proportion, dtype: float64\n",
      "전체 기업 수 :  1473\n",
      "부실 기업 수  :  150\n",
      "정상 기업 수 :  1437\n",
      "결측치 수 :  1277\n"
     ]
    }
   ],
   "source": [
    "# 상장일이 회계년도 보다 작은 데이터 삭제\n",
    "df = df[df[\"회계년도\"] > df[\"상장일\"]]\n",
    "df.reset_index(drop = True, inplace = True)\n",
    "\n",
    "print(\"전체 데이터 수 : \", df.shape[0])\n",
    "print(\"부실 기업 데이터 수: \",len(df[df[\"target_3\"]==1]))\n",
    "print(\"정상 기업 데이터 수 : \",len(df[df[\"target_3\"]==0]))\n",
    "print(\"부실 정상 데이터 비율 : \",df[\"target_3\"].value_counts(property))\n",
    "print(\"전체 기업 수 : \" , len(np.unique(df[\"회사명\"])))\n",
    "print(\"부실 기업 수  : \",len(np.unique(df[df[\"target_1\"]==1][\"회사명\"])))\n",
    "print(\"정상 기업 수 : \",len(np.unique(df[df[\"target_3\"]==0][\"회사명\"])))\n",
    "print(\"결측치 수 : \", df.isna().sum().sum())"
   ]
  },
  {
   "cell_type": "code",
   "execution_count": 80,
   "metadata": {},
   "outputs": [],
   "source": [
    "# 이용한 컬럼 삭제 \n",
    "\n",
    "df.drop(['자산','이자비용','매출액','부채','금융원가','시가총액',\"EBITDA\",'공시제목','상장일'],axis=1,inplace=True)"
   ]
  },
  {
   "cell_type": "code",
   "execution_count": 81,
   "metadata": {},
   "outputs": [
    {
     "name": "stdout",
     "output_type": "stream",
     "text": [
      "매출액증가율 삭제 행 수 :  119\n",
      "총자본증가율 삭제 행 수 :  0\n",
      "직원수변동률 삭제 행 수 :  3\n"
     ]
    }
   ],
   "source": [
    "# 이자부당률이 결측치로 나오는 14년도 영진코퍼레이션 결측치 직접 값 계산해서 결측치 대체\n",
    "df.loc[df[df[\"이자부담률\"].isna()].index, \"이자부담률\"] = -5.995505908521291\n",
    "\n",
    "# 부채상환계수rk 결측치로 나오는 14년도 영진코퍼레이션 결측치 직접 값 계산해서 결측치 대체\n",
    "df.loc[df[df[\"부채상환계수\"].isna()].index, \"부채상환계수\"] = -760.5303077054485\n",
    "\n",
    "# 대주주 지분율 없는 컬럼 다트에서 값 찾아서 대체 \n",
    "\n",
    "df.loc[903, \"대주주지분율\"] = 50                    # 드림티엔터테인먼트\n",
    "df.loc[2904, \"대주주지분율\"] = 27.83                # 아라온테크\n",
    "df.loc[3643, \"대주주지분율\"] = 49.8                 # 에이루트\n",
    "df.loc[3677, \"대주주지분율\"] = 18.5                 # 에이제이에스\n",
    "df.loc[4368, \"대주주지분율\"] = 23.84                # 와이즈파워\n",
    "df.loc[5496, \"대주주지분율\"] = 100                  # 제이테크놀로지\n",
    "df.loc[8094, \"대주주지분율\"] = 12.03                # 대한그린파워\n",
    "df.loc[8265, \"대주주지분율\"] = 14.94                # 디브이에스코리아\n",
    "df.loc[8746, \"대주주지분율\"] = 40.78                # 세미텍\n",
    "\n",
    "\n",
    "#  유형자산증가율 없는 컬럼 다트에서 값 찾아서 대체 \n",
    "df[\"유형자산증가율\"].fillna(0, inplace=True)        # 비츠로시스\n",
    "\n",
    "\n",
    "# 외국인 지분율 결측치 0으로 대체\n",
    "df[\"외국인지분율\"].fillna(0, inplace=True)\n",
    "\n",
    "\n",
    "# 직원인건비총액 결측치 0으로 대체\n",
    "df[\"직원인건비총액\"].fillna(0, inplace=True)\n",
    "\n",
    "# 합계_기말인원(명) 결측치 0으로 대체\n",
    "df[\"합계_기말인원(명)\"].fillna(0, inplace=True)\n",
    "\n",
    "\n",
    "\n",
    "#  유형자산증가율 없는 컬럼 다트에서 값 찾아서 대체 \n",
    "df.loc[1879, \"유형자산증가율\"] = 0                    # # 유형자산을 모두 처분하여 감가상각비가 없어 EBITDA값이 결측치인 14년도 영진코퍼레이션 결측치에 영업이익값으로 대체\n",
    "\n",
    "# #매출액증가율 없는 컬럼 삭제\n",
    "\n",
    "de_ind_1 = df[df[[\"매출액증가율\"]].isna().any(axis =1)].index\n",
    "print(\"매출액증가율 삭제 행 수 : \",len(de_ind_1))\n",
    "df.drop(index=de_ind_1, axis=0, inplace=True)\n",
    " # 메드팩토 셀리드 큐리언트\n",
    "\n",
    "\n",
    " # 증가율 컬럼 당해 회계년도에 상장하여 전년도 자료가 없어 결측치로 뜨는 데이터 삭제   \n",
    "de_ind = df[df[[\"총자본증가율\"]].isna().any(axis =1)].index\n",
    "print(\"총자본증가율 삭제 행 수 : \",len(de_ind))\n",
    "df.drop(index=de_ind, axis=0, inplace=True)\n",
    "\n",
    "# 직원수변동률 결측치 0으로 대체 \n",
    "de_ind_2 = df[df[[\"직원수변동률%\"]].isna().any(axis =1)].index\n",
    "print(\"직원수변동률 삭제 행 수 : \",len(de_ind_2))\n",
    "df.drop(index=de_ind_2, axis=0, inplace=True)\n",
    "#  비덴트 썬테크놀로지스"
   ]
  },
  {
   "cell_type": "code",
   "execution_count": 82,
   "metadata": {},
   "outputs": [
    {
     "name": "stdout",
     "output_type": "stream",
     "text": [
      "회사명                0\n",
      "거래소코드              0\n",
      "회계년도               0\n",
      "자본                 0\n",
      "차입금의존도             0\n",
      "유보율                0\n",
      "현금비율               0\n",
      "부채비율               0\n",
      "당좌비율               0\n",
      "순운전자본비율            0\n",
      "영업손익               0\n",
      "감가상각비              0\n",
      "총자본정상영업이익률         0\n",
      "자기자본순이익률           0\n",
      "총자본순이익률            0\n",
      "매출액총이익률            0\n",
      "금융비용부담률            0\n",
      "경영자본순이익률           0\n",
      "자본금회전률             0\n",
      "유형자산회전율            0\n",
      "재고자산회전률            0\n",
      "자기자본회전률            0\n",
      "타인자본회전률            0\n",
      "총자본회전률             0\n",
      "이익잉여금              0\n",
      "영업활동으로 인한 현금흐름     0\n",
      "금융수익               0\n",
      "법인세비용차감전순이익        0\n",
      "당기순이익              0\n",
      "합계_기말인원(명)         0\n",
      "외국인지분율             0\n",
      "대주주지분율             0\n",
      "단기차입금              0\n",
      "유동성장기부채            0\n",
      "산업군                0\n",
      "CAPEX              0\n",
      "유형자산증가율            0\n",
      "매출액증가율             0\n",
      "자기자본증가율            0\n",
      "총자본증가율             0\n",
      "정상영업이익증가율          0\n",
      "장단기금리차             0\n",
      "cpi                0\n",
      "업력                 0\n",
      "누적수익성비율            0\n",
      "이자부담률              0\n",
      "부채상환계수             0\n",
      "현금흐름 대 자산          0\n",
      "현금흐름 대 매출액         0\n",
      "토빈Q                0\n",
      "TMD                0\n",
      "시총/총자산             0\n",
      "연구개발비              0\n",
      "RD                 0\n",
      "직원수변동률%            0\n",
      "직원인건비총액            0\n",
      "EBIT/총자산           0\n",
      "PBR                0\n",
      "당기전기영업손익           0\n",
      "당기전기매출액            0\n",
      "당기전기영업손익/매출액       0\n",
      "FINDEP             0\n",
      "PBR변화율             0\n",
      "ROA변화율            22\n",
      "EBITDA마진율          1\n",
      "현금흐름/총부채비율         0\n",
      "영업현금흐름-단기차입금       0\n",
      "CND                0\n",
      "target_1           0\n",
      "target_2           0\n",
      "target_3           0\n",
      "dtype: int64\n"
     ]
    }
   ],
   "source": [
    "pd.set_option('display.max_rows',None)\n",
    "print(df.isna().sum())\n",
    "pd.reset_option('display.max_rows',None)"
   ]
  },
  {
   "cell_type": "code",
   "execution_count": 83,
   "metadata": {},
   "outputs": [],
   "source": [
    "# 결측치 제거\n",
    "df.dropna(axis=0, inplace=True)"
   ]
  },
  {
   "cell_type": "code",
   "execution_count": 84,
   "metadata": {},
   "outputs": [
    {
     "name": "stdout",
     "output_type": "stream",
     "text": [
      "전체 행: 10662 개\n",
      "전체 기업 수 1453\n",
      "결측치 수 :  0\n"
     ]
    }
   ],
   "source": [
    "print('전체 행:', df.shape[0],'개')\n",
    "print('전체 기업 수',len(df['회사명'].unique()))\n",
    "print(\"결측치 수 : \", df.isna().sum().sum())"
   ]
  },
  {
   "attachments": {},
   "cell_type": "markdown",
   "metadata": {},
   "source": [
    "\n",
    "## 결측치 처리 완료\n",
    "---"
   ]
  },
  {
   "cell_type": "code",
   "execution_count": 85,
   "metadata": {},
   "outputs": [
    {
     "name": "stdout",
     "output_type": "stream",
     "text": [
      "양의 무한대 : target_3\n",
      "0    548\n",
      "1      1\n",
      "Name: count, dtype: int64\n",
      "음의 무한대 : target_3\n",
      "0    96\n",
      "1     3\n",
      "Name: count, dtype: int64\n"
     ]
    }
   ],
   "source": [
    "# 무한대 값 확인\n",
    "\n",
    "print(\"양의 무한대 :\",df[df[[\"이자부담률\"]].isin([np.inf]).any(axis = 1)][\"target_3\"].value_counts())\n",
    "print(\"음의 무한대 :\", df[df[[\"이자부담률\"]].isin([-np.inf]).any(axis = 1)][\"target_3\"].value_counts())"
   ]
  },
  {
   "cell_type": "code",
   "execution_count": 86,
   "metadata": {},
   "outputs": [
    {
     "name": "stdout",
     "output_type": "stream",
     "text": [
      "이자부담률 무한대 값 행 수 : 648\n"
     ]
    }
   ],
   "source": [
    "# 이자부담률 무한대 값 삭제\n",
    "# 전년도 이자부담률 데이터가 0값이서 데이터 제거(648개)\n",
    "\n",
    "a = df[df[\"이자부담률\"].isin([np.inf])].index.to_list()\n",
    "b = df[df[\"이자부담률\"].isin([-np.inf])].index.to_list()\n",
    "c = a + b\n",
    "print(\"이자부담률 무한대 값 행 수 :\", len(c))\n",
    "df.drop(index=c, inplace=True)"
   ]
  },
  {
   "cell_type": "code",
   "execution_count": 87,
   "metadata": {},
   "outputs": [
    {
     "name": "stdout",
     "output_type": "stream",
     "text": [
      "유형자산증가율 무한대 값 행 수 : 2\n"
     ]
    }
   ],
   "source": [
    "# 유형자산증가율 무한대 값 삭제\n",
    "# 전년도 유형자산 데이터가 0값이서 데이터 제거(2개)\n",
    "\n",
    "\n",
    "a = df[df[\"유형자산증가율\"].isin([np.inf])].index.to_list()\n",
    "b = df[df[\"유형자산증가율\"].isin([-np.inf])].index.to_list()\n",
    "c = a + b\n",
    "print(\"유형자산증가율 무한대 값 행 수 :\", len(c))\n",
    "df.drop(index=c, inplace=True)"
   ]
  },
  {
   "cell_type": "code",
   "execution_count": 88,
   "metadata": {},
   "outputs": [
    {
     "name": "stdout",
     "output_type": "stream",
     "text": [
      "현금흐름 대 매출액 무한대 값 행 수 : 1\n"
     ]
    }
   ],
   "source": [
    "# 현금흐름 대 매출액 무한대 값 삭제\n",
    "# 전년도 매출액 데이터가 0값이서 데이터 제거(2개)\n",
    "\n",
    "a = df[df[\"현금흐름 대 매출액\"].isin([np.inf])].index.to_list()\n",
    "b = df[df[\"현금흐름 대 매출액\"].isin([-np.inf])].index.to_list()\n",
    "c = a + b\n",
    "print(\"현금흐름 대 매출액 무한대 값 행 수 :\", len(c))\n",
    "df.drop(index=c, inplace=True)"
   ]
  },
  {
   "cell_type": "code",
   "execution_count": 89,
   "metadata": {},
   "outputs": [
    {
     "name": "stdout",
     "output_type": "stream",
     "text": [
      "매출액증가율 무한대 값 행 수 : 3\n"
     ]
    }
   ],
   "source": [
    "# 매출액증가율 무한대 값 삭제\n",
    "# 전년도 매출액 데이터가 0값이서 데이터 제거\n",
    "\n",
    "a = df[df[\"매출액증가율\"].isin([np.inf])].index.to_list()\n",
    "b = df[df[\"매출액증가율\"].isin([-np.inf])].index.to_list()\n",
    "c = a + b\n",
    "print(\"매출액증가율 무한대 값 행 수 :\", len(c))\n",
    "df.drop(index=c, inplace=True)"
   ]
  },
  {
   "cell_type": "code",
   "execution_count": 90,
   "metadata": {},
   "outputs": [
    {
     "name": "stdout",
     "output_type": "stream",
     "text": [
      "ROA변화율 무한대 값 행 수 : 5\n"
     ]
    }
   ],
   "source": [
    "# ROA변화율 무한대 값 삭제\n",
    "# 전년도 ROA 데이터가 0값이서 데이터 제거\n",
    "\n",
    "a = df[df[\"ROA변화율\"].isin([np.inf])].index.to_list()\n",
    "b = df[df[\"ROA변화율\"].isin([-np.inf])].index.to_list()\n",
    "c = a + b\n",
    "print(\"ROA변화율 무한대 값 행 수 :\", len(c))\n",
    "df.drop(index=c, inplace=True)"
   ]
  },
  {
   "cell_type": "code",
   "execution_count": 91,
   "metadata": {},
   "outputs": [
    {
     "name": "stdout",
     "output_type": "stream",
     "text": [
      "양의 무한대 : Series([], Name: count, dtype: int64)\n",
      "음의 무한대 : Series([], Name: count, dtype: int64)\n"
     ]
    }
   ],
   "source": [
    "# 무한대 값 확인\n",
    "\n",
    "print(\"양의 무한대 :\",df[df[[\"이자부담률\"]].isin([np.inf]).any(axis = 1)][\"target_3\"].value_counts())\n",
    "print(\"음의 무한대 :\", df[df[[\"이자부담률\"]].isin([-np.inf]).any(axis = 1)][\"target_3\"].value_counts())"
   ]
  },
  {
   "cell_type": "code",
   "execution_count": 92,
   "metadata": {},
   "outputs": [
    {
     "name": "stdout",
     "output_type": "stream",
     "text": [
      "전체 데이터 수 :  10003\n",
      "부실 기업 데이터 수:  237\n",
      "정상 기업 데이터 수 :  9766\n",
      "부실 정상 데이터 비율 :  target_3\n",
      "0    0.976307\n",
      "1    0.023693\n",
      "Name: proportion, dtype: float64\n",
      "전체 기업 수 :  1442\n",
      "부실 기업 수  :  147\n",
      "정상 기업 수 :  1406\n",
      "결측치 수 :  0\n"
     ]
    }
   ],
   "source": [
    "print(\"전체 데이터 수 : \", df.shape[0])\n",
    "print(\"부실 기업 데이터 수: \",len(df[df[\"target_3\"]==1]))\n",
    "print(\"정상 기업 데이터 수 : \",len(df[df[\"target_3\"]==0]))\n",
    "print(\"부실 정상 데이터 비율 : \",df[\"target_3\"].value_counts(property))\n",
    "print(\"전체 기업 수 : \" , len(np.unique(df[\"회사명\"])))\n",
    "print(\"부실 기업 수  : \",len(np.unique(df[df[\"target_1\"]==1][\"회사명\"])))\n",
    "print(\"정상 기업 수 : \",len(np.unique(df[df[\"target_3\"]==0][\"회사명\"])))\n",
    "print(\"결측치 수 : \", df.isna().sum().sum())"
   ]
  },
  {
   "attachments": {},
   "cell_type": "markdown",
   "metadata": {},
   "source": [
    "\n",
    "## 무한대 값 처리 완료\n",
    "---"
   ]
  },
  {
   "cell_type": "code",
   "execution_count": 93,
   "metadata": {},
   "outputs": [],
   "source": [
    "df[df[\"산업군\"].str.contains(\"금융\")]\n",
    "\n",
    "drop_ind = df[df[\"산업군\"].str.contains(\"금융\")].index\n",
    "df.drop(index=drop_ind, axis=0, inplace=True)\n",
    "df.reset_index(drop=True, inplace=True)"
   ]
  },
  {
   "cell_type": "code",
   "execution_count": 94,
   "metadata": {},
   "outputs": [
    {
     "name": "stdout",
     "output_type": "stream",
     "text": [
      "전체 데이터 수 :  9995\n",
      "부실 기업 데이터 수:  237\n",
      "정상 기업 데이터 수 :  9758\n",
      "부실 정상 데이터 비율 :  target_3\n",
      "0    0.976288\n",
      "1    0.023712\n",
      "Name: proportion, dtype: float64\n",
      "전체 기업 수 :  1440\n",
      "부실 기업 수  :  147\n",
      "정상 기업 수 :  1404\n",
      "결측치 수 :  0\n"
     ]
    }
   ],
   "source": [
    "print(\"전체 데이터 수 : \", df.shape[0])\n",
    "print(\"부실 기업 데이터 수: \",len(df[df[\"target_3\"]==1]))\n",
    "print(\"정상 기업 데이터 수 : \",len(df[df[\"target_3\"]==0]))\n",
    "print(\"부실 정상 데이터 비율 : \",df[\"target_3\"].value_counts(property))\n",
    "print(\"전체 기업 수 : \" , len(np.unique(df[\"회사명\"])))\n",
    "print(\"부실 기업 수  : \",len(np.unique(df[df[\"target_1\"]==1][\"회사명\"])))\n",
    "print(\"정상 기업 수 : \",len(np.unique(df[df[\"target_3\"]==0][\"회사명\"])))\n",
    "print(\"결측치 수 : \", df.isna().sum().sum())"
   ]
  },
  {
   "attachments": {},
   "cell_type": "markdown",
   "metadata": {},
   "source": [
    "# 원본 데이터 결측치 처리 완료\n",
    "---"
   ]
  },
  {
   "cell_type": "code",
   "execution_count": 95,
   "metadata": {},
   "outputs": [
    {
     "name": "stdout",
     "output_type": "stream",
     "text": [
      "부실 기업 타겟 0인 데이터 삭제  수 :  531\n"
     ]
    }
   ],
   "source": [
    "# 부실 기업 타겟 0인 데이터 삭제  \n",
    "\n",
    "target_ls = df[df[\"target_3\"]==1][\"회사명\"].unique().tolist()\n",
    "drop_target_ls = df[(df[\"회사명\"].isin(target_ls)) & (df[\"target_3\"]==0)].index\n",
    "\n",
    "df.drop(index=drop_target_ls, axis=0, inplace=True)\n",
    "\n",
    "print(\"부실 기업 타겟 0인 데이터 삭제  수 : \" ,len(drop_target_ls))"
   ]
  },
  {
   "cell_type": "code",
   "execution_count": 96,
   "metadata": {},
   "outputs": [],
   "source": [
    "# # 타겟 1인 기업들 0값 지워주기\n",
    "\n",
    "# # 부실정의 컬럼 \n",
    "# df['sum'] = df['target_1']+df['target_2']+df['target_3']\n",
    "\n",
    "# ## 임시 부실데이터저장\n",
    "# temp = pd.DataFrame()\n",
    "# for i in df['회사명'].unique():\n",
    "#     a = df[(df['회사명']==i) & df['sum']!=0]\n",
    "#     temp = pd.concat([temp,a],axis=0)\n",
    "# temp.drop(columns=['sum'],axis=1,inplace=True)\n",
    "# print(temp.shape)\n",
    "\n",
    "# for i in temp['회사명'].unique():\n",
    "#     df = df[~(df['회사명']==i)]\n",
    "\n",
    "# df = pd.concat([df,temp],axis=0)\n",
    "\n",
    "# df.drop(columns=[\"sum\"], axis=1, inplace=True)\n",
    "# df.reset_index(drop=True,inplace=True)\n",
    "# print(df.shape)\n"
   ]
  },
  {
   "cell_type": "code",
   "execution_count": 97,
   "metadata": {},
   "outputs": [
    {
     "name": "stdout",
     "output_type": "stream",
     "text": [
      "전체 데이터 수 :  9464\n",
      "부실 기업 데이터 수:  237\n",
      "정상 기업 데이터 수 :  9227\n",
      "부실 정상 데이터 비율 :  target_3\n",
      "0    0.974958\n",
      "1    0.025042\n",
      "Name: proportion, dtype: float64\n",
      "전체 기업 수 :  1440\n",
      "부실 기업 수  :  147\n",
      "정상 기업 수 :  1293\n",
      "결측치 수 :  0\n"
     ]
    }
   ],
   "source": [
    "print(\"전체 데이터 수 : \", df.shape[0])\n",
    "print(\"부실 기업 데이터 수: \",len(df[df[\"target_3\"]==1]))\n",
    "print(\"정상 기업 데이터 수 : \",len(df[df[\"target_3\"]==0]))\n",
    "print(\"부실 정상 데이터 비율 : \",df[\"target_3\"].value_counts(property))\n",
    "print(\"전체 기업 수 : \" , len(np.unique(df[\"회사명\"])))\n",
    "print(\"부실 기업 수  : \",len(np.unique(df[df[\"target_1\"]==1][\"회사명\"])))\n",
    "print(\"정상 기업 수 : \",len(np.unique(df[df[\"target_3\"]==0][\"회사명\"])))\n",
    "print(\"결측치 수 : \", df.isna().sum().sum())"
   ]
  },
  {
   "cell_type": "code",
   "execution_count": 98,
   "metadata": {},
   "outputs": [],
   "source": [
    "df.to_csv(\"./data/결측치처리완료/코스닥결측치처리완료.csv\", encoding=\"utf-8-sig\")"
   ]
  }
 ],
 "metadata": {
  "kernelspec": {
   "display_name": "base",
   "language": "python",
   "name": "python3"
  },
  "language_info": {
   "codemirror_mode": {
    "name": "ipython",
    "version": 3
   },
   "file_extension": ".py",
   "mimetype": "text/x-python",
   "name": "python",
   "nbconvert_exporter": "python",
   "pygments_lexer": "ipython3",
   "version": "3.10.9"
  },
  "orig_nbformat": 4
 },
 "nbformat": 4,
 "nbformat_minor": 2
}
