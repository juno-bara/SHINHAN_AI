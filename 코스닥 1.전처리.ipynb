{
 "cells": [
  {
   "cell_type": "code",
   "execution_count": 294,
   "metadata": {},
   "outputs": [],
   "source": [
    "# 라이브러리 로드\n",
    "import pandas as pd\n",
    "import numpy as np"
   ]
  },
  {
   "cell_type": "code",
   "execution_count": 295,
   "metadata": {},
   "outputs": [],
   "source": [
    "# 데이터 로드\n",
    "\n",
    "수익성 = pd.read_csv('./data/코스닥/코스닥 수익성.csv',encoding='cp949')\n",
    "안정성 = pd.read_csv('./data/코스닥/코스닥 안정성.csv',encoding='cp949')\n",
    "활동성 = pd.read_csv('./data/코스닥/코스닥 활동성.csv',encoding='cp949')\n",
    "성장성 = pd.read_csv('./data/코스닥/코스닥 성장성 계산용.csv',encoding='cp949')\n",
    "현금흐름 = pd.read_csv('./data/코스닥/코스닥 현금흐름 + 누적수익성비율.csv',encoding='cp949')\n",
    "연구개발 = pd.read_csv('./data/코스닥/코스닥 rs.csv',encoding='cp949')\n",
    "EBIT = pd.read_csv('./data/코스닥/에비~ 코스닥.csv',encoding='cp949')\n",
    "per_pbr_총부채 = pd.read_csv('./data/코스닥/per pbr 총부채 코스닥.csv',encoding='cp949')\n",
    "직원수_업력 = pd.read_csv('./data/코스닥/코스닥 직원수 급여 업력 외국인 대주주.csv',encoding='cp949')\n",
    "시가총액 = pd.read_csv('./data/코스닥/코스닥시가총액.csv',index_col=0)  #### 시총도 붙여야됨\n",
    "단기차입금 = pd.read_csv('./data/코스닥/코스닥 단기차입금 유동성 장기부채.csv',encoding='cp949')\n",
    "거시변수 = pd.read_excel('./data/거시경제 변수/거시변수.xlsx', engine=\"openpyxl\")\n",
    "상장일 = pd.read_csv('./data/코스닥/코스닥 상장일.csv',encoding='cp949')\n",
    "대분류 = pd.read_csv('./data/코스닥/코스닥 대분류.csv',encoding='cp949')\n",
    "유형자산 = pd.read_csv(\"./data/코스닥/코스닥 유형자산증가율.csv\", encoding= \"cp949\")"
   ]
  },
  {
   "cell_type": "code",
   "execution_count": 296,
   "metadata": {},
   "outputs": [],
   "source": [
    "#  사용 안하는 코드 컬럼 삭제 \n",
    "대분류.drop(['통계청 한국표준산업분류 코드 10차(대분류)'],axis=1,inplace=True)"
   ]
  },
  {
   "cell_type": "code",
   "execution_count": 297,
   "metadata": {},
   "outputs": [],
   "source": [
    "#  데이터 결합\n",
    "\n",
    "df = 안정성.merge(수익성,on=['회사명','거래소코드','회계년도'],how='left')\n",
    "df = df.merge(활동성,on=['회사명','거래소코드','회계년도'],how='left')\n",
    "df = df.merge(성장성,on=['회사명','거래소코드','회계년도'],how='left')\n",
    "df = df.merge(현금흐름,on=['회사명','거래소코드','회계년도'],how='left')\n",
    "df = df.merge(연구개발,on=['회사명','거래소코드','회계년도'],how='left')\n",
    "df = df.merge(EBIT,on=['회사명','거래소코드','회계년도'],how='left')\n",
    "df = df.merge(per_pbr_총부채,on=['회사명','거래소코드','회계년도'],how='left')\n",
    "df = df.merge(직원수_업력,on=['회사명','거래소코드','회계년도'],how='left')\n",
    "df = df.merge(단기차입금,on=['회사명','거래소코드','회계년도'],how='left')\n",
    "df = df.merge(상장일,on=['회사명','거래소코드','회계년도'],how='left')\n",
    "df = df.merge(대분류,on=['회사명','거래소코드','회계년도'],how='left')\n",
    "df = df.merge(유형자산,on=['회사명','거래소코드','회계년도'],how='left')"
   ]
  },
  {
   "cell_type": "code",
   "execution_count": 298,
   "metadata": {},
   "outputs": [
    {
     "data": {
      "text/plain": [
       "97"
      ]
     },
     "execution_count": 298,
     "metadata": {},
     "output_type": "execute_result"
    }
   ],
   "source": [
    "len(df.columns)"
   ]
  },
  {
   "cell_type": "code",
   "execution_count": 299,
   "metadata": {},
   "outputs": [],
   "source": [
    "## 거래소코드 패딩\n",
    "def padding(x):\n",
    "    x = str(x)\n",
    "    return x.rjust(6, \"0\")\n",
    "## 외국계기업 제거\n",
    "def func_isnt_fcompany(x):\n",
    "    if x[:1] == '9':\n",
    "        return False\n",
    "    else:\n",
    "        return True\n",
    "\n",
    "# 회계년도컬럼, 년도만 뽑아서 int화\n",
    "def change_year(x):\n",
    "    return int(x[:4])\n",
    "\n",
    "def func_not(x):\n",
    "    return not x\n",
    "\n",
    "def change_year_2(x):\n",
    "    return (x[:4])"
   ]
  },
  {
   "cell_type": "code",
   "execution_count": 300,
   "metadata": {},
   "outputs": [],
   "source": [
    "## 거래소 코드 패딩\n",
    "df['거래소코드'] = df['거래소코드'].map(padding)\n",
    "# 회계년도 제거\n",
    "df['회계년도'] = df['회계년도'].map(change_year)"
   ]
  },
  {
   "cell_type": "code",
   "execution_count": 301,
   "metadata": {},
   "outputs": [
    {
     "data": {
      "text/plain": [
       "회사명                            0\n",
       "거래소코드                          0\n",
       "회계년도                           0\n",
       "자산(*)(요약)(IFRS)             1844\n",
       "자본(*)(요약)(IFRS)             1844\n",
       "                            ... \n",
       "유동성장기부채(요약)(IFRS연결)(백만원)    5530\n",
       "상장일                            0\n",
       "통계청 한국표준산업분류 10차(대분류)          0\n",
       "유형자산의 증가(*)(IFRS)(천원)       1844\n",
       "유형자산의 증가(*)(IFRS연결)(천원)     5530\n",
       "Length: 97, dtype: int64"
      ]
     },
     "execution_count": 301,
     "metadata": {},
     "output_type": "execute_result"
    }
   ],
   "source": [
    "df.isna().sum()"
   ]
  },
  {
   "cell_type": "code",
   "execution_count": 302,
   "metadata": {},
   "outputs": [],
   "source": [
    "## 중복되는 데이터 제거\n",
    "df.drop_duplicates(['거래소코드',\"회계년도\"], keep='last', inplace=True)\n",
    "df.reset_index(drop=True, inplace=True)\n",
    "\n",
    "## 없음\n"
   ]
  },
  {
   "cell_type": "code",
   "execution_count": 303,
   "metadata": {},
   "outputs": [
    {
     "name": "stdout",
     "output_type": "stream",
     "text": [
      "전체 행: 15617 개\n",
      "전체 기업 수 1744\n"
     ]
    }
   ],
   "source": [
    "print('전체 행:', df.shape[0],'개')\n",
    "print('전체 기업 수',len(df['회사명'].unique()))"
   ]
  },
  {
   "cell_type": "code",
   "execution_count": 304,
   "metadata": {},
   "outputs": [
    {
     "name": "stdout",
     "output_type": "stream",
     "text": [
      "제거할 데이터 수 :  152\n",
      "제거할 외국계 기업 수 23\n",
      "남은 데이터 수 15465\n",
      "남은 기업 수 1721\n"
     ]
    }
   ],
   "source": [
    "## 외국계 기업 제거\n",
    "print(\"제거할 데이터 수 : \", len(df[df[\"거래소코드\"].map(func_isnt_fcompany).map(func_not)]))\n",
    "print('제거할 외국계 기업 수',len(df[~df[\"거래소코드\"].map(func_isnt_fcompany)].회사명.unique()))\n",
    "\n",
    "df = df[df[\"거래소코드\"].map(func_isnt_fcompany)]\n",
    "print('남은 데이터 수',df.shape[0]) # 외국계기업 데이터 24개 제거\n",
    "print('남은 기업 수',len(df['회사명'].unique()))"
   ]
  },
  {
   "cell_type": "code",
   "execution_count": 305,
   "metadata": {},
   "outputs": [
    {
     "name": "stdout",
     "output_type": "stream",
     "text": [
      "회사수 :  1721\n",
      "거래소코드수 :  1743\n"
     ]
    }
   ],
   "source": [
    "## 회사수와 거래소코드수 차이가나는것 확인\n",
    "print(\"회사수 : \", len(df[\"회사명\"].unique()))\n",
    "print(\"거래소코드수 : \", len(df[\"거래소코드\"].unique()))"
   ]
  },
  {
   "cell_type": "code",
   "execution_count": 306,
   "metadata": {},
   "outputs": [
    {
     "name": "stdout",
     "output_type": "stream",
     "text": [
      "거래소코드가 2개인 기업 수 22 개\n"
     ]
    }
   ],
   "source": [
    "## 거래소 코드 중복기업 전처리\n",
    "list_overlap_code = list()\n",
    "for i in list(df[\"회사명\"].unique()):\n",
    "    if len(df[df[\"회사명\"]==i][\"거래소코드\"].unique()) > 1:\n",
    "        list_overlap_code.append(i)\n",
    "print(\"거래소코드가 2개인 기업 수\", len(list_overlap_code), \"개\")"
   ]
  },
  {
   "cell_type": "code",
   "execution_count": 307,
   "metadata": {},
   "outputs": [
    {
     "data": {
      "text/plain": [
       "['(주)본느',\n",
       " '(주)세화피앤씨',\n",
       " '(주)아이엘사이언스',\n",
       " '(주)알로이스',\n",
       " '(주)에스에이티',\n",
       " '(주)엔케이맥스',\n",
       " '(주)원바이오젠',\n",
       " '(주)인산가',\n",
       " '(주)자비스',\n",
       " '(주)정다운',\n",
       " '(주)카이노스메드',\n",
       " '(주)티에스트릴리온',\n",
       " '(주)포인트엔지니어링',\n",
       " '(주)한국비엔씨',\n",
       " '(주)휴럼',\n",
       " '나무기술(주)',\n",
       " '소프트캠프(주)',\n",
       " '씨아이에스(주)',\n",
       " '에스케이오션플랜트(주)',\n",
       " '엠에프엠코리아(주)',\n",
       " '줌인터넷(주)',\n",
       " '패션플랫폼(주)']"
      ]
     },
     "execution_count": 307,
     "metadata": {},
     "output_type": "execute_result"
    }
   ],
   "source": [
    "list_overlap_code"
   ]
  },
  {
   "cell_type": "code",
   "execution_count": 308,
   "metadata": {},
   "outputs": [],
   "source": [
    "# 중복 거래소코드 제거\n",
    "def func_overlap_code(x):\n",
    "    if x == (df[df[\"회사명\"]==company_name][\"거래소코드\"].iloc[-1]) :\n",
    "        return True\n",
    "    else:\n",
    "        return False\n",
    "\n",
    "list_companyname = list(df[\"회사명\"].unique())\n",
    "\n",
    "\n",
    "dfs = list()\n",
    "\n",
    "\n",
    "for i in list_companyname:\n",
    "    company_name = i\n",
    "    #각 기업별로 데이터프레임 생성\n",
    "    df_concat = df[df[\"회사명\"]==i]\n",
    "    df_concat = df_concat[df_concat[\"거래소코드\"].map(func_overlap_code)] # 거래소코드 바뀌기 전의 거래소코드의 데이터는 삭제\n",
    "    dfs.append(df_concat)\n",
    "df = pd.concat(dfs)\n",
    "df.reset_index(drop=True, inplace=True)"
   ]
  },
  {
   "cell_type": "code",
   "execution_count": 309,
   "metadata": {},
   "outputs": [
    {
     "data": {
      "text/plain": [
       "[]"
      ]
     },
     "execution_count": 309,
     "metadata": {},
     "output_type": "execute_result"
    }
   ],
   "source": [
    "# 회사명이 2개인 거래소코드 존재 확인 \n",
    "list_overlap_code = list()\n",
    "for i in list(df[\"거래소코드\"].unique()):\n",
    "    if len(df[df[\"거래소코드\"]==i][\"회사명\"].unique()) > 1:\n",
    "        list_overlap_code.append(i)\n",
    "list_overlap_code"
   ]
  },
  {
   "cell_type": "code",
   "execution_count": 310,
   "metadata": {},
   "outputs": [],
   "source": [
    "#  연결 재무제표를 개별제무제표로 대체\n",
    " \n",
    "\n",
    "\n",
    "connected_cols = [col for col in df.columns if \"연결\" in col]\n",
    "\n",
    "for connected_col in connected_cols:\n",
    "    original_col = connected_col.replace(\"연결\", \"\")\n",
    "    if original_col in df.columns:\n",
    "        df.loc[df[connected_col].isnull(), connected_col] = df[original_col]"
   ]
  },
  {
   "cell_type": "code",
   "execution_count": 311,
   "metadata": {},
   "outputs": [
    {
     "data": {
      "text/plain": [
       "회사명                                               0\n",
       "거래소코드                                             0\n",
       "회계년도                                              0\n",
       "자산(*)(요약)(IFRS)                                1667\n",
       "자본(*)(요약)(IFRS)                                1667\n",
       "차입금의존도(IFRS)(백만원)                              1865\n",
       "유보율(IFRS)                                      1865\n",
       "현금비율(IFRS)                                     1865\n",
       "부채비율(IFRS)                                     1865\n",
       "당좌비율(IFRS)                                     1865\n",
       "순운전자본비율(IFRS)                                  1865\n",
       "*이자비용(요약)(IFRS)(백만원)                           1667\n",
       "* (정상)영업손익(보고서기재)(요약)(IFRS)(백만원)               1667\n",
       "감가상각비(IFRS)(천원)                                1667\n",
       "자산(*)(요약)(IFRS연결)                              1666\n",
       "자본(*)(요약)(IFRS연결)                              1666\n",
       "차입금의존도(IFRS연결)                                 5482\n",
       "유보율(IFRS연결)(백만원)                               5482\n",
       "현금비율(IFRS연결)(백만원)                              5482\n",
       "부채비율(IFRS연결)                                   1863\n",
       "당좌비율(IFRS연결)                                   1863\n",
       "순운전자본비율(IFRS연결)                                1863\n",
       "*이자비용(요약)(IFRS연결)(백만원)                         1666\n",
       "* (정상)영업손익(보고서기재)(요약)(IFRS연결)(백만원)             1666\n",
       "감가상각비(IFRS연결)(천원)                              1666\n",
       "EBITDA(IFRS)(백만원)                              1865\n",
       "총자본정상영업이익률(IFRS)                               1865\n",
       "자기자본순이익률(IFRS)                                 1865\n",
       "총자본순이익률(IFRS)                                  1865\n",
       "매출액총이익률(IFRS)                                  1865\n",
       "금융비용부담률(IFRS)                                  1865\n",
       "경영자본순이익률(IFRS)                                 1865\n",
       "총자본정상영업이익률(IFRS연결)                             1863\n",
       "자기자본순이익률(IFRS연결)                               1863\n",
       "총자본순이익률(IFRS연결)                                1863\n",
       "매출액총이익률(IFRS연결)                                1863\n",
       "금융비용부담률(IFRS연결)                                1863\n",
       "경영자본순이익률(IFRS연결)                               1863\n",
       "자본금회전률(IFRS)                                   1865\n",
       "유형자산회전율(IFRS)                                  1865\n",
       "재고자산회전률(IFRS)                                  1865\n",
       "자기자본회전률(IFRS)                                  1865\n",
       "타인자본회전률(IFRS)                                  1865\n",
       "총자본회전률(IFRS)                                   1865\n",
       "자본금회전률(IFRS연결)                                 1863\n",
       "유형자산회전율(IFRS연결)                                1863\n",
       "재고자산회전률(IFRS연결)                                1863\n",
       "자기자본회전률(IFRS연결)                                1863\n",
       "타인자본회전률(IFRS연결)                                1863\n",
       "총자본회전률(IFRS연결)                                 1863\n",
       "[제조]      유형자산(요약)(IFRS)(백만원)                  1667\n",
       "[제조]      유형자산(요약)(IFRS연결)(백만원)                1666\n",
       "[제조]매출액(수익)(요약)(IFRS)(백만원)_x                   1667\n",
       "[제조]매출액(수익)(요약)(IFRS연결)(백만원)_x                 1666\n",
       "[제조]자본(*)(요약)(IFRS)(백만원)                       1667\n",
       "[제조]자본(*)(요약)(IFRS연결)(백만원)                     1666\n",
       "[제조]자산(*)(요약)(IFRS)(백만원)_x                     1667\n",
       "[제조]자산(*)(요약)(IFRS연결)(백만원)_x                   1666\n",
       "[제조]* (정상)영업손익(보고서기재)(요약)(IFRS)(백만원)           1667\n",
       "[제조]* (정상)영업손익(보고서기재)(요약)(IFRS연결)(백만원)         1666\n",
       "[제조]      이익잉여금(결손금)(요약)(IFRS)(백만원)            1667\n",
       "[제조]      이익잉여금(결손금)(요약)(IFRS연결)(백만원)          1666\n",
       "[제조]자산(*)(요약)(IFRS)(백만원)_y                     1667\n",
       "[제조]자산(*)(요약)(IFRS연결)(백만원)_y                   1666\n",
       "[제조]영업활동으로 인한 현금흐름(간접법)(*)(요약)(IFRS)(백만원)      1667\n",
       "[제조]영업활동으로 인한 현금흐름(간접법)(*)(요약)(IFRS연결)(백만원)    1666\n",
       "[제조]매출액(수익)(요약)(IFRS)(백만원)_y                   1667\n",
       "[제조]매출액(수익)(요약)(IFRS연결)(백만원)_y                 1666\n",
       "매출액(수익)(요약)(IFRS)(백만원)                         1667\n",
       "연구개발비(IFRS)(천원)                                1667\n",
       "매출액(수익)(요약)(IFRS연결)(백만원)                       1666\n",
       "연구개발비(IFRS연결)(천원)                              1666\n",
       "금융원가(요약)(IFRS)(백만원)                            1667\n",
       "금융수익(요약)(IFRS)(백만원)                            1667\n",
       "법인세비용차감전순이익(손실)(요약)(IFRS)(백만원)                 1667\n",
       "금융원가(요약)(IFRS연결)(백만원)                          1666\n",
       "금융수익(요약)(IFRS연결)(백만원)                          1666\n",
       "법인세비용차감전순이익(손실)(요약)(IFRS연결)(백만원)               1666\n",
       "당기순이익(손실)(요약)(IFRS)(백만원)                       1667\n",
       "당기순이익(손실)(요약)(IFRS연결)(백만원)                     1666\n",
       "자산(*)(요약)(IFRS)(백만원)                           1667\n",
       "자산(*)(요약)(IFRS연결)(백만원)                         1666\n",
       "부채(*)(요약)(IFRS)(백만원)                           1667\n",
       "부채(*)(요약)(IFRS연결)(백만원)                         1666\n",
       "합계_기말인원(명)                                     2538\n",
       "합계_년간총급여(천원)                                   2538\n",
       "설립일                                               0\n",
       "외국인_주식분포비율                                     2868\n",
       "보통주식비율                                         2447\n",
       "단기차입금(요약)(IFRS)(백만원)                           1667\n",
       "유동성장기부채(요약)(IFRS)(백만원)                         1667\n",
       "단기차입금(요약)(IFRS연결)(백만원)                         1666\n",
       "유동성장기부채(요약)(IFRS연결)(백만원)                       1666\n",
       "상장일                                               0\n",
       "통계청 한국표준산업분류 10차(대분류)                             0\n",
       "유형자산의 증가(*)(IFRS)(천원)                          1667\n",
       "유형자산의 증가(*)(IFRS연결)(천원)                        1666\n",
       "dtype: int64"
      ]
     },
     "execution_count": 311,
     "metadata": {},
     "output_type": "execute_result"
    }
   ],
   "source": [
    "pd.set_option(\"display.max.rows\", None)\n",
    "df.isna().sum()"
   ]
  },
  {
   "cell_type": "code",
   "execution_count": 312,
   "metadata": {},
   "outputs": [
    {
     "data": {
      "text/plain": [
       "회사명                                               0\n",
       "거래소코드                                             0\n",
       "회계년도                                              0\n",
       "자산(*)(요약)(IFRS)                                1667\n",
       "자본(*)(요약)(IFRS)                                1667\n",
       "차입금의존도(IFRS)(백만원)                              1865\n",
       "유보율(IFRS)                                      1865\n",
       "현금비율(IFRS)                                     1865\n",
       "부채비율(IFRS)                                     1865\n",
       "당좌비율(IFRS)                                     1865\n",
       "순운전자본비율(IFRS)                                  1865\n",
       "*이자비용(요약)(IFRS)(백만원)                           1667\n",
       "* (정상)영업손익(보고서기재)(요약)(IFRS)(백만원)               1667\n",
       "감가상각비(IFRS)(천원)                                1667\n",
       "자산(*)(요약)(IFRS연결)                              1666\n",
       "자본(*)(요약)(IFRS연결)                              1666\n",
       "차입금의존도(IFRS연결)                                 1863\n",
       "유보율(IFRS연결)(백만원)                               1863\n",
       "현금비율(IFRS연결)(백만원)                              1863\n",
       "부채비율(IFRS연결)                                   1863\n",
       "당좌비율(IFRS연결)                                   1863\n",
       "순운전자본비율(IFRS연결)                                1863\n",
       "*이자비용(요약)(IFRS연결)(백만원)                         1666\n",
       "* (정상)영업손익(보고서기재)(요약)(IFRS연결)(백만원)             1666\n",
       "감가상각비(IFRS연결)(천원)                              1666\n",
       "EBITDA(IFRS)(백만원)                              1865\n",
       "총자본정상영업이익률(IFRS)                               1865\n",
       "자기자본순이익률(IFRS)                                 1865\n",
       "총자본순이익률(IFRS)                                  1865\n",
       "매출액총이익률(IFRS)                                  1865\n",
       "금융비용부담률(IFRS)                                  1865\n",
       "경영자본순이익률(IFRS)                                 1865\n",
       "총자본정상영업이익률(IFRS연결)                             1863\n",
       "자기자본순이익률(IFRS연결)                               1863\n",
       "총자본순이익률(IFRS연결)                                1863\n",
       "매출액총이익률(IFRS연결)                                1863\n",
       "금융비용부담률(IFRS연결)                                1863\n",
       "경영자본순이익률(IFRS연결)                               1863\n",
       "자본금회전률(IFRS)                                   1865\n",
       "유형자산회전율(IFRS)                                  1865\n",
       "재고자산회전률(IFRS)                                  1865\n",
       "자기자본회전률(IFRS)                                  1865\n",
       "타인자본회전률(IFRS)                                  1865\n",
       "총자본회전률(IFRS)                                   1865\n",
       "자본금회전률(IFRS연결)                                 1863\n",
       "유형자산회전율(IFRS연결)                                1863\n",
       "재고자산회전률(IFRS연결)                                1863\n",
       "자기자본회전률(IFRS연결)                                1863\n",
       "타인자본회전률(IFRS연결)                                1863\n",
       "총자본회전률(IFRS연결)                                 1863\n",
       "[제조]      유형자산(요약)(IFRS)(백만원)                  1667\n",
       "[제조]      유형자산(요약)(IFRS연결)(백만원)                1666\n",
       "[제조]매출액(수익)(요약)(IFRS)(백만원)_x                   1667\n",
       "[제조]매출액(수익)(요약)(IFRS연결)(백만원)_x                 1666\n",
       "[제조]자본(*)(요약)(IFRS)(백만원)                       1667\n",
       "[제조]자본(*)(요약)(IFRS연결)(백만원)                     1666\n",
       "[제조]자산(*)(요약)(IFRS)(백만원)_x                     1667\n",
       "[제조]자산(*)(요약)(IFRS연결)(백만원)_x                   1666\n",
       "[제조]* (정상)영업손익(보고서기재)(요약)(IFRS)(백만원)           1667\n",
       "[제조]* (정상)영업손익(보고서기재)(요약)(IFRS연결)(백만원)         1666\n",
       "[제조]      이익잉여금(결손금)(요약)(IFRS)(백만원)            1667\n",
       "[제조]      이익잉여금(결손금)(요약)(IFRS연결)(백만원)          1666\n",
       "[제조]자산(*)(요약)(IFRS)(백만원)_y                     1667\n",
       "[제조]자산(*)(요약)(IFRS연결)(백만원)_y                   1666\n",
       "[제조]영업활동으로 인한 현금흐름(간접법)(*)(요약)(IFRS)(백만원)      1667\n",
       "[제조]영업활동으로 인한 현금흐름(간접법)(*)(요약)(IFRS연결)(백만원)    1666\n",
       "[제조]매출액(수익)(요약)(IFRS)(백만원)_y                   1667\n",
       "[제조]매출액(수익)(요약)(IFRS연결)(백만원)_y                 1666\n",
       "매출액(수익)(요약)(IFRS)(백만원)                         1667\n",
       "연구개발비(IFRS)(천원)                                1667\n",
       "매출액(수익)(요약)(IFRS연결)(백만원)                       1666\n",
       "연구개발비(IFRS연결)(천원)                              1666\n",
       "금융원가(요약)(IFRS)(백만원)                            1667\n",
       "금융수익(요약)(IFRS)(백만원)                            1667\n",
       "법인세비용차감전순이익(손실)(요약)(IFRS)(백만원)                 1667\n",
       "금융원가(요약)(IFRS연결)(백만원)                          1666\n",
       "금융수익(요약)(IFRS연결)(백만원)                          1666\n",
       "법인세비용차감전순이익(손실)(요약)(IFRS연결)(백만원)               1666\n",
       "당기순이익(손실)(요약)(IFRS)(백만원)                       1667\n",
       "당기순이익(손실)(요약)(IFRS연결)(백만원)                     1666\n",
       "자산(*)(요약)(IFRS)(백만원)                           1667\n",
       "자산(*)(요약)(IFRS연결)(백만원)                         1666\n",
       "부채(*)(요약)(IFRS)(백만원)                           1667\n",
       "부채(*)(요약)(IFRS연결)(백만원)                         1666\n",
       "합계_기말인원(명)                                     2538\n",
       "합계_년간총급여(천원)                                   2538\n",
       "설립일                                               0\n",
       "외국인_주식분포비율                                     2868\n",
       "보통주식비율                                         2447\n",
       "단기차입금(요약)(IFRS)(백만원)                           1667\n",
       "유동성장기부채(요약)(IFRS)(백만원)                         1667\n",
       "단기차입금(요약)(IFRS연결)(백만원)                         1666\n",
       "유동성장기부채(요약)(IFRS연결)(백만원)                       1666\n",
       "상장일                                               0\n",
       "통계청 한국표준산업분류 10차(대분류)                             0\n",
       "유형자산의 증가(*)(IFRS)(천원)                          1667\n",
       "유형자산의 증가(*)(IFRS연결)(천원)                        1666\n",
       "dtype: int64"
      ]
     },
     "execution_count": 312,
     "metadata": {},
     "output_type": "execute_result"
    }
   ],
   "source": [
    "# 위 코드에서 채워 지지 않은 컬럼 결측치 다시 채워주기\n",
    "df[\"차입금의존도(IFRS연결)\"].fillna(df[\"차입금의존도(IFRS)(백만원)\"], inplace = True)\n",
    "df[\"유보율(IFRS연결)(백만원)\"].fillna(df[\"유보율(IFRS)\"], inplace = True)\n",
    "df[\"현금비율(IFRS연결)(백만원)\"].fillna(df[\"현금비율(IFRS)\"], inplace = True)\n",
    "\n",
    "df.isna().sum()\n"
   ]
  },
  {
   "cell_type": "code",
   "execution_count": 313,
   "metadata": {},
   "outputs": [],
   "source": [
    "#  삭제 할 개별재무제표 컬럼 정리  \n",
    "pd.reset_option(\"display.max.rows\", None)\n",
    "\n",
    "drop_col = ['유보율(IFRS)' ,'[제조]* (정상)영업손익(보고서기재)(요약)(IFRS)(백만원)','[제조]      이익잉여금(결손금)(요약)(IFRS)(백만원)',\n",
    "'[제조]영업활동으로 인한 현금흐름(간접법)(*)(요약)(IFRS)(백만원)','자산(*)(요약)(IFRS)(백만원)', \n",
    "'부채(*)(요약)(IFRS)(백만원)','[제조]자본(*)(요약)(IFRS)(백만원)','당기순이익(손실)(요약)(IFRS)(백만원)', \n",
    "'법인세비용차감전순이익(손실)(요약)(IFRS)(백만원)','금융원가(요약)(IFRS)(백만원)','금융수익(요약)(IFRS)(백만원)',\n",
    "'매출액(수익)(요약)(IFRS)(백만원)','연구개발비(IFRS)(천원)',\n",
    "'[제조]      유형자산(요약)(IFRS)(백만원)','자본금회전률(IFRS)',\n",
    "'총자본회전률(IFRS)','재고자산회전률(IFRS)','유형자산회전율(IFRS)','자기자본회전률(IFRS)','타인자본회전률(IFRS)',\n",
    "'경영자본순이익률(IFRS)','금융비용부담률(IFRS)','총자본순이익률(IFRS)','매출액총이익률(IFRS)',\n",
    "'자기자본순이익률(IFRS)','총자본정상영업이익률(IFRS)','자산(*)(요약)(IFRS)','자본(*)(요약)(IFRS)',\n",
    " '현금비율(IFRS)','* (정상)영업손익(보고서기재)(요약)(IFRS)(백만원)',\n",
    " '차입금의존도(IFRS)(백만원)','감가상각비(IFRS)(천원)','부채비율(IFRS)',\n",
    "'당좌비율(IFRS)','*이자비용(요약)(IFRS)(백만원)','순운전자본비율(IFRS)',\n",
    "'[제조]자산(*)(요약)(IFRS)(백만원)_x','[제조]자산(*)(요약)(IFRS연결)(백만원)_x',\n",
    "'[제조]자산(*)(요약)(IFRS)(백만원)_y','[제조]자산(*)(요약)(IFRS연결)(백만원)_y',\n",
    "'[제조]매출액(수익)(요약)(IFRS)(백만원)_y', '[제조]매출액(수익)(요약)(IFRS연결)(백만원)_y',\n",
    "'[제조]매출액(수익)(요약)(IFRS)(백만원)_x', '[제조]매출액(수익)(요약)(IFRS연결)(백만원)_x',\n",
    "'유동성장기부채(요약)(IFRS)(백만원)','단기차입금(요약)(IFRS)(백만원)','자산(*)(요약)(IFRS연결)(백만원)','[제조]자본(*)(요약)(IFRS연결)(백만원)',\"유형자산의 증가(*)(IFRS)(천원)\"\n",
    "]\n",
    "\n",
    "# 개별재무제표 컬럼 삭제\n",
    "df.drop(drop_col,axis=1,inplace=True)"
   ]
  },
  {
   "cell_type": "code",
   "execution_count": 314,
   "metadata": {},
   "outputs": [
    {
     "data": {
      "text/plain": [
       "48"
      ]
     },
     "execution_count": 314,
     "metadata": {},
     "output_type": "execute_result"
    }
   ],
   "source": [
    "len(df.columns)"
   ]
  },
  {
   "cell_type": "code",
   "execution_count": 315,
   "metadata": {},
   "outputs": [],
   "source": [
    "## 성장성 지표인 증가율 컬럼 만들기\n",
    "성장성_col = ['[제조]      유형자산(요약)(IFRS연결)(백만원)','매출액(수익)(요약)(IFRS연결)(백만원)',\n",
    "           '자본(*)(요약)(IFRS연결)','자산(*)(요약)(IFRS연결)',\n",
    "           '[제조]* (정상)영업손익(보고서기재)(요약)(IFRS연결)(백만원)']\n",
    "\n",
    "## 증가율 컬럼 전기에 음수일때 당기에 음수지만 증가할때 증가율 계산\n",
    "## ex (2011년 -20, 2012년 -10) -> -10-(-20) / np.abs(-20)= \n",
    "증가율_df = (df.groupby(['회사명', '거래소코드'])[성장성_col].shift(0) - df.groupby(['회사명', '거래소코드'])[성장성_col].shift(1)) / np.abs(df.groupby(['회사명', '거래소코드'])[성장성_col].shift(1))*100\n",
    "증가율_df.rename(columns={'[제조]      유형자산(요약)(IFRS연결)(백만원)':'유형자산증가율', '매출액(수익)(요약)(IFRS연결)(백만원)':'매출액증가율',\n",
    "       '자본(*)(요약)(IFRS연결)':'자기자본증가율', '자산(*)(요약)(IFRS연결)':'총자본증가율',\n",
    "       '[제조]* (정상)영업손익(보고서기재)(요약)(IFRS연결)(백만원)':'정상영업이익증가율'},inplace=True)\n",
    "\n",
    "df.drop(['[제조]      유형자산(요약)(IFRS연결)(백만원)','[제조]* (정상)영업손익(보고서기재)(요약)(IFRS연결)(백만원)'],axis=1,inplace=True)\n",
    "df = pd.concat([df,증가율_df],axis=1)"
   ]
  },
  {
   "cell_type": "code",
   "execution_count": 316,
   "metadata": {},
   "outputs": [],
   "source": [
    "## 시가총액 merge\n",
    "시가총액['회계년도'] = 시가총액['회계년도'].astype(str).str[:4].astype(int)\n",
    "df = df.merge(시가총액,on=['거래소코드','회계년도'],how='left')\n",
    "df['시가총액(백만원)'] = df['시가총액'] / 1000000\n",
    "df.drop(['시가총액'],axis=1,inplace=True)\n",
    "\n",
    "## 거시변수 merge\n",
    "거시변수.rename(columns={'회계연도':'회계년도'},inplace=True)\n",
    "df = df.merge(거시변수,on=['회계년도'],how='left')"
   ]
  },
  {
   "cell_type": "code",
   "execution_count": 317,
   "metadata": {},
   "outputs": [],
   "source": [
    "### 파생변수 만들기 \n",
    "\n",
    "\n",
    "## 기업별 업력 설립일 이후 지속된 기간\n",
    "df['업력'] = df['회계년도'] -  pd.to_datetime(df['설립일'],format='%Y/%m/%d').dt.strftime('%Y').astype(int)\n",
    "df.drop('설립일',axis=1,inplace=True)\n",
    "\n",
    "## 누적수익성비율  - 자산0이면 inf - 공시안함 \n",
    "df['누적수익성비율'] = (df['[제조]      이익잉여금(결손금)(요약)(IFRS연결)(백만원)']/df['자산(*)(요약)(IFRS연결)']) * 100\n",
    "\n",
    "## 이자부담율\n",
    "df['이자부담률'] = (df['EBITDA(IFRS)(백만원)'] / df['*이자비용(요약)(IFRS연결)(백만원)']) * 100 \n",
    "\n",
    "## 부채상환계수 EBITDA / (이자비용 + 단기차입금 + 유동성장기부채)\n",
    "df['부채상환계수'] =( df['EBITDA(IFRS)(백만원)'] / (df['*이자비용(요약)(IFRS연결)(백만원)']+df['단기차입금(요약)(IFRS연결)(백만원)'] + df['유동성장기부채(요약)(IFRS연결)(백만원)'])) * 100\n",
    "\n",
    "## 현금흐름_자산 = 영업현금흐름 / 당기총자산\n",
    "df['현금흐름 대 자산'] = (df.groupby(['회사명','거래소코드'])['[제조]영업활동으로 인한 현금흐름(간접법)(*)(요약)(IFRS연결)(백만원)'].shift(0) / df.groupby(['회사명','거래소코드'])['자산(*)(요약)(IFRS연결)'].shift(0)) * 100\n",
    "\n",
    "## 현금흐름_매출액\n",
    "df['현금흐름 대 매출액'] = (df['[제조]영업활동으로 인한 현금흐름(간접법)(*)(요약)(IFRS연결)(백만원)'] / df['매출액(수익)(요약)(IFRS연결)(백만원)']) * 100\n",
    "\n",
    "# 토빈Q\n",
    "df['토빈Q'] = ((df['부채(*)(요약)(IFRS연결)(백만원)'] + df['시가총액(백만원)']) / df['자산(*)(요약)(IFRS연결)']) * 100 \n",
    "\n",
    "## TMD\n",
    "df['TMD'] =( df['부채(*)(요약)(IFRS연결)(백만원)'] / df['시가총액(백만원)']) * 100\n",
    "\n",
    "## 알트만 변수\n",
    "df['시총/총자산'] = (df['시가총액(백만원)'] / df['자산(*)(요약)(IFRS연결)']) *100\n",
    "\n",
    "## RD -단위도 수정\n",
    "df['연구개발비(IFRS연결)(백만원)'] = df['연구개발비(IFRS연결)(천원)']/1000\n",
    "df.drop(['연구개발비(IFRS연결)(천원)'],axis=1,inplace=True)\n",
    "df['RD'] = (df['연구개발비(IFRS연결)(백만원)'] / df['매출액(수익)(요약)(IFRS연결)(백만원)']) * 100\n",
    "\n",
    "## 직원수변동률 , 직원인건비총액(백만원단위) (고민필요)\n",
    "df['직원수변동률%'] = df.groupby(['회사명','거래소코드'])['합계_기말인원(명)'].pct_change()*100\n",
    "\n",
    "## 직원인건비총액(백만원)\n",
    "df['직원인건비총액(백만원)'] = (df['합계_년간총급여(천원)']/1000) * df['합계_기말인원(명)']\n",
    "df.drop(['합계_년간총급여(천원)'],axis=1,inplace=True)\n",
    "\n",
    "## 알트만 변수  EBIT = 법인세비용차감전순이익+금융원가-금융수익\n",
    "df['EBIT/총자산'] = ((df['법인세비용차감전순이익(손실)(요약)(IFRS연결)(백만원)'] + df['금융원가(요약)(IFRS연결)(백만원)']-df['금융수익(요약)(IFRS연결)(백만원)'])/df['자산(*)(요약)(IFRS연결)']) * 100\n",
    "\n",
    "## PBR \n",
    "df['PBR'] = (df['시가총액(백만원)']  / df['자본(*)(요약)(IFRS연결)']) * 100\n",
    "\n",
    "\n",
    "# 영업손익 전기영업손익 + 당기영업손익\n",
    "df[\"당기전기영업손익\"] = (df.groupby([\"회사명\", \"거래소코드\"])[\"* (정상)영업손익(보고서기재)(요약)(IFRS연결)(백만원)\"].shift(0) + df.groupby([\"회사명\", \"거래소코드\"])[\"* (정상)영업손익(보고서기재)(요약)(IFRS연결)(백만원)\"].shift(1)) / 2\n",
    "df['당기전기매출액'] = (df.groupby([\"회사명\", \"거래소코드\"])[\"매출액(수익)(요약)(IFRS연결)(백만원)\"].shift(0) + df.groupby([\"회사명\", \"거래소코드\"])[\"매출액(수익)(요약)(IFRS연결)(백만원)\"].shift(1)) / 2\n",
    "df[\"당기전기영업손익/매출액\"] = (df['당기전기영업손익'] / df['당기전기매출액']) * 100\n",
    "\n",
    "# capex컬럼 단위 맞춰주기\n",
    "df[\"유형자산의 증가(*)(IFRS연결)(천원)\"] = df[\"유형자산의 증가(*)(IFRS연결)(천원)\"] / 1000\n",
    "\n",
    "# findep =  (capex - 영업현금흐름 ) / capex\n",
    "df[\"FINDEP\"] = (df[\"유형자산의 증가(*)(IFRS연결)(천원)\"] - df['[제조]영업활동으로 인한 현금흐름(간접법)(*)(요약)(IFRS연결)(백만원)']) *100\n",
    "\n",
    "# PBR 변화율\n",
    "df['PBR변화율']  = (df.groupby(['회사명', '거래소코드'])['PBR'].shift(0) - df.groupby(['회사명', '거래소코드'])['PBR'].shift(1)) / np.abs(df.groupby(['회사명', '거래소코드'])['PBR'].shift(1)) *100\n",
    "\n",
    "# ROA 변화율\n",
    "df['ROA변화율']  = (df.groupby(['회사명', '거래소코드'])['총자본순이익률(IFRS연결)'].shift(0) - df.groupby(['회사명', '거래소코드'])['총자본순이익률(IFRS연결)'].shift(1)) / np.abs(df.groupby(['회사명', '거래소코드'])['총자본순이익률(IFRS연결)'].shift(1)) *100\n",
    "\n",
    "# EBITDA마진율\n",
    "df[\"EBITDA마진율\"] = (df[\"EBITDA(IFRS)(백만원)\"] / df[\"매출액(수익)(요약)(IFRS연결)(백만원)\"]) * 100\n",
    "\n",
    "# 논문을 바탕으로 새로운 컬럼 생성\n",
    "\n",
    "df['현금흐름/총부채비율'] = (df['[제조]영업활동으로 인한 현금흐름(간접법)(*)(요약)(IFRS연결)(백만원)'] / df['부채(*)(요약)(IFRS연결)(백만원)']) * 100\n",
    "df[\"영업현금흐름-단기차입금\"] = (df[\"[제조]영업활동으로 인한 현금흐름(간접법)(*)(요약)(IFRS연결)(백만원)\"] - df[\"단기차입금(요약)(IFRS연결)(백만원)\"]) * 100\n",
    "df[\"CND\"] =( np.abs((df[\"[제조]영업활동으로 인한 현금흐름(간접법)(*)(요약)(IFRS연결)(백만원)\"] - df[\"당기순이익(손실)(요약)(IFRS연결)(백만원)\"])) / df[\"매출액(수익)(요약)(IFRS연결)(백만원)\"]) *100\n"
   ]
  },
  {
   "cell_type": "code",
   "execution_count": 318,
   "metadata": {},
   "outputs": [
    {
     "data": {
      "text/plain": [
       "(15329, 76)"
      ]
     },
     "execution_count": 318,
     "metadata": {},
     "output_type": "execute_result"
    }
   ],
   "source": [
    "df.shape"
   ]
  },
  {
   "cell_type": "code",
   "execution_count": 319,
   "metadata": {},
   "outputs": [],
   "source": [
    "# 컬럼이름 정리\n",
    "\n",
    "rename_list = {'자산(*)(요약)(IFRS연결)':'자산', '자본(*)(요약)(IFRS연결)':'자본',\n",
    "       '차입금의존도(IFRS연결)':'차입금의존도', '유보율(IFRS연결)(백만원)':'유보율', '현금비율(IFRS연결)(백만원)':'현금비율',\n",
    "       '부채비율(IFRS연결)':'부채비율', '당좌비율(IFRS연결)':'당좌비율', '순운전자본비율(IFRS연결)':'순운전자본비율',\n",
    "       '*이자비용(요약)(IFRS연결)(백만원)':'이자비용', '* (정상)영업손익(보고서기재)(요약)(IFRS연결)(백만원)':'영업손익',\n",
    "       '감가상각비(IFRS연결)(천원)':'감가상각비', 'EBITDA(IFRS)(백만원)':'EBITDA', '총자본정상영업이익률(IFRS연결)':'총자본정상영업이익률',\n",
    "       '자기자본순이익률(IFRS연결)':'자기자본순이익률', '총자본순이익률(IFRS연결)':'총자본순이익률', '매출액총이익률(IFRS연결)':'매출액총이익률',\n",
    "       '금융비용부담률(IFRS연결)':'금융비용부담률', '경영자본순이익률(IFRS연결)':'경영자본순이익률', '자본금회전률(IFRS연결)':'자본금회전률',\n",
    "       '유형자산회전율(IFRS연결)':'유형자산회전율', '재고자산회전률(IFRS연결)':'재고자산회전률', '자기자본회전률(IFRS연결)':'자기자본회전률',\n",
    "       '타인자본회전률(IFRS연결)':'타인자본회전률', '총자본회전률(IFRS연결)':'총자본회전률', \n",
    "       '[제조]      이익잉여금(결손금)(요약)(IFRS연결)(백만원)':'이익잉여금',\n",
    "       '[제조]영업활동으로 인한 현금흐름(간접법)(*)(요약)(IFRS연결)(백만원)':'영업활동으로 인한 현금흐름',\n",
    "       '매출액(수익)(요약)(IFRS연결)(백만원)':'매출액', '금융원가(요약)(IFRS연결)(백만원)':'금융원가',\n",
    "       '금융수익(요약)(IFRS연결)(백만원)':'금융수익', '법인세비용차감전순이익(손실)(요약)(IFRS연결)(백만원)':'법인세비용차감전순이익',\n",
    "       '당기순이익(손실)(요약)(IFRS연결)(백만원)':'당기순이익', \n",
    "       '부채(*)(요약)(IFRS연결)(백만원)':'부채', '외국인_주식분포비율':'외국인지분율', '보통주식비율':'대주주지분율',\n",
    "       '단기차입금(요약)(IFRS연결)(백만원)':'단기차입금', '유동성장기부채(요약)(IFRS연결)(백만원)':'유동성장기부채',\n",
    "       '시가총액(백만원)':'시가총액','연구개발비(IFRS연결)(백만원)':'연구개발비','직원인건비총액(백만원)':'직원인건비총액','통계청 한국표준산업분류 10차(대분류)':'산업군',\n",
    "       \"유형자산의 증가(*)(IFRS연결)(천원)\" : \"CAPEX\"\n",
    "       }\n",
    "\n",
    "df.rename(columns=rename_list,inplace=True)"
   ]
  },
  {
   "cell_type": "code",
   "execution_count": 320,
   "metadata": {},
   "outputs": [
    {
     "data": {
      "text/plain": [
       "Index(['회사명', '거래소코드', '회계년도', '자산', '자본', '차입금의존도', '유보율', '현금비율', '부채비율',\n",
       "       '당좌비율', '순운전자본비율', '이자비용', '영업손익', '감가상각비', 'EBITDA', '총자본정상영업이익률',\n",
       "       '자기자본순이익률', '총자본순이익률', '매출액총이익률', '금융비용부담률', '경영자본순이익률', '자본금회전률',\n",
       "       '유형자산회전율', '재고자산회전률', '자기자본회전률', '타인자본회전률', '총자본회전률', '이익잉여금',\n",
       "       '영업활동으로 인한 현금흐름', '매출액', '금융원가', '금융수익', '법인세비용차감전순이익', '당기순이익', '부채',\n",
       "       '합계_기말인원(명)', '외국인지분율', '대주주지분율', '단기차입금', '유동성장기부채', '상장일', '산업군',\n",
       "       'CAPEX', '유형자산증가율', '매출액증가율', '자기자본증가율', '총자본증가율', '정상영업이익증가율', '시가총액',\n",
       "       '장단기금리차', 'cpi', '업력', '누적수익성비율', '이자부담률', '부채상환계수', '현금흐름 대 자산',\n",
       "       '현금흐름 대 매출액', '토빈Q', 'TMD', '시총/총자산', '연구개발비', 'RD', '직원수변동률%',\n",
       "       '직원인건비총액', 'EBIT/총자산', 'PBR', '당기전기영업손익', '당기전기매출액', '당기전기영업손익/매출액',\n",
       "       'FINDEP', 'PBR변화율', 'ROA변화율', 'EBITDA마진율', '현금흐름/총부채비율', '영업현금흐름-단기차입금',\n",
       "       'CND'],\n",
       "      dtype='object')"
      ]
     },
     "execution_count": 320,
     "metadata": {},
     "output_type": "execute_result"
    }
   ],
   "source": [
    "df.columns"
   ]
  },
  {
   "cell_type": "code",
   "execution_count": 321,
   "metadata": {},
   "outputs": [
    {
     "name": "stdout",
     "output_type": "stream",
     "text": [
      "전체 행: 14077 개\n",
      "전체 기업 수 1684\n"
     ]
    }
   ],
   "source": [
    "## 회계년도 2011년도 제거\n",
    "df['상장일'] = pd.to_datetime(df['상장일'],format='%Y/%m/%d').dt.strftime('%Y').astype(int)\n",
    "\n",
    "\n",
    "df = df[df['회계년도']>2011].reset_index(drop=True)\n",
    "\n",
    "print('전체 행:', df.shape[0],'개')\n",
    "print('전체 기업 수',len(df['회사명'].unique()))\n"
   ]
  },
  {
   "cell_type": "code",
   "execution_count": 322,
   "metadata": {},
   "outputs": [
    {
     "data": {
      "text/plain": [
       "회사명                0\n",
       "거래소코드              0\n",
       "회계년도               0\n",
       "자산              1456\n",
       "자본              1456\n",
       "                ... \n",
       "ROA변화율          2271\n",
       "EBITDA마진율       1645\n",
       "현금흐름/총부채비율      1457\n",
       "영업현금흐름-단기차입금    1456\n",
       "CND             1459\n",
       "Length: 76, dtype: int64"
      ]
     },
     "execution_count": 322,
     "metadata": {},
     "output_type": "execute_result"
    }
   ],
   "source": [
    "df.isna().sum()"
   ]
  },
  {
   "attachments": {},
   "cell_type": "markdown",
   "metadata": {},
   "source": [
    "-----"
   ]
  },
  {
   "attachments": {},
   "cell_type": "markdown",
   "metadata": {},
   "source": [
    "## 타겟 라벨링\n",
    "-----\n"
   ]
  },
  {
   "cell_type": "code",
   "execution_count": 323,
   "metadata": {},
   "outputs": [],
   "source": [
    "#  데이터 로드, 필요 없는 컬럼 삭제\n",
    "\n",
    "부실 = pd.read_csv('./data/y/y값최종.csv',index_col=0)\n",
    "부실['회계년도'] = 부실['회계년도'].astype(int)\n",
    "부실['거래소코드'] = 부실['거래소코드'].map(padding)\n",
    "부실.drop(['번호','회사명'],axis=1,inplace=True)"
   ]
  },
  {
   "cell_type": "code",
   "execution_count": 324,
   "metadata": {},
   "outputs": [],
   "source": [
    "# 데이터 결합\n",
    "df = df.merge(부실,on=['회계년도','거래소코드'],how='left')"
   ]
  },
  {
   "cell_type": "code",
   "execution_count": 325,
   "metadata": {},
   "outputs": [],
   "source": [
    "## 상폐기업 라벨링\n",
    "\n",
    "df[\"공시제목\"].fillna(0,inplace=True)\n",
    "\n",
    "상폐_ind = df[df[\"공시제목\"]== '상장폐지기업'].index\n",
    "\n",
    "### set1\n",
    "df.loc[상폐_ind,\"target_1\"] = 1\n",
    "\n",
    "for i in df.index:\n",
    "    if (df.loc[i,\"target_1\"] == 1) and (df.loc[i,\"회사명\"] == df.loc[i-1,\"회사명\"]) :\n",
    "        df.loc[i-1, \"target_1\"] = 1\n",
    "df['target_1'].fillna(0,inplace=True)\n",
    "df['target_1'] = df['target_1'].astype(int)\n",
    "\n",
    "# ### set2\n",
    "df.loc[상폐_ind,\"target_2\"] = 1\n",
    "\n",
    "for i in df.index:\n",
    "    if (df.loc[i,\"target_2\"] == 1) and (df.loc[i,\"회사명\"] == df.loc[i-1,\"회사명\"]) and (df.loc[i,'공시제목']=='상장폐지기업') :\n",
    "        df.loc[i-1, \"target_2\"] = 1 \n",
    "    if (df.loc[i,\"target_2\"] == 1) and (df.loc[i,\"회사명\"] == df.loc[i-2,\"회사명\"]) and (df.loc[i,'공시제목']=='상장폐지기업'):\n",
    "        df.loc[i-2, \"target_2\"] = 1\n",
    "\n",
    "df['target_2'].fillna(0,inplace=True)\n",
    "df['target_2'] = df['target_2'].astype(int)\n",
    "\n",
    "## set_3\n",
    "\n",
    "df.loc[상폐_ind,\"target_3\"] = 1\n",
    "\n",
    "for i in df.index:\n",
    "    if (df.loc[i,\"target_3\"] == 1) and (df.loc[i,\"회사명\"] == df.loc[i-1,\"회사명\"]) and (df.loc[i,'공시제목']=='상장폐지기업'):\n",
    "        df.loc[i-1, \"target_3\"] = 1\n",
    "df['target_3'].fillna(0,inplace=True)\n",
    "df['target_3'] = df['target_3'].astype(int)\n"
   ]
  },
  {
   "cell_type": "code",
   "execution_count": 326,
   "metadata": {},
   "outputs": [
    {
     "name": "stdout",
     "output_type": "stream",
     "text": [
      "237\n",
      "331\n",
      "237\n"
     ]
    }
   ],
   "source": [
    "print(df.target_1.sum())\n",
    "print(df.target_2.sum())\n",
    "print(df.target_3.sum())"
   ]
  },
  {
   "cell_type": "code",
   "execution_count": 327,
   "metadata": {},
   "outputs": [],
   "source": [
    "## 회생기업 라벨링\n",
    "\n",
    "df[\"공시제목\"].fillna(0,inplace=True)\n",
    "\n",
    "회생_ind = df[df[\"공시제목\"]== '회생절차개시결정'].index\n",
    "\n",
    "### set1\n",
    "df.loc[회생_ind,\"target_1\"] = 1\n",
    "\n",
    "for i in df.index:\n",
    "    if (df.loc[i,\"target_1\"] == 1) and (df.loc[i,\"회사명\"] == df.loc[i-1,\"회사명\"]) & (df.loc[i,'공시제목']=='회생절차개시결정'):\n",
    "        df.loc[i-1, \"target_1\"] = 1\n",
    "df['target_1'].fillna(0,inplace=True)\n",
    "df['target_1'] = df['target_1'].astype(int)\n",
    "\n",
    "# ### set2\n",
    "df.loc[회생_ind,\"target_2\"] = 1\n",
    "\n",
    "df['target_2'].fillna(0,inplace=True)\n",
    "df['target_2'] = df['target_2'].astype(int)\n",
    "\n",
    "## set_3\n",
    "\n",
    "df.loc[회생_ind,\"target_3\"] = 1\n",
    "\n",
    "df['target_3'].fillna(0,inplace=True)\n",
    "df['target_3'] = df['target_3'].astype(int)"
   ]
  },
  {
   "cell_type": "code",
   "execution_count": 328,
   "metadata": {},
   "outputs": [
    {
     "name": "stdout",
     "output_type": "stream",
     "text": [
      "312\n",
      "369\n",
      "275\n"
     ]
    }
   ],
   "source": [
    "print(df.target_1.sum())\n",
    "print(df.target_2.sum())\n",
    "print(df.target_3.sum())"
   ]
  },
  {
   "cell_type": "code",
   "execution_count": 329,
   "metadata": {},
   "outputs": [
    {
     "name": "stdout",
     "output_type": "stream",
     "text": [
      "전체 데이터 수 :  14077\n",
      "전체 기업 수 :  1684\n",
      "부실 기업 수  :  167\n",
      "정상 기업 수 :  1649\n"
     ]
    }
   ],
   "source": [
    "print(\"전체 데이터 수 : \", df.shape[0])\n",
    "print(\"전체 기업 수 : \" , len(np.unique(df[\"회사명\"])))\n",
    "print(\"부실 기업 수  : \",len(np.unique(df[df[\"target_1\"]==1][\"회사명\"])))\n",
    "# print(len(np.unique(df[df[\"target_2\"]==1][\"회사명\"])))\n",
    "# print(len(np.unique(df[df[\"target_3\"]==1][\"회사명\"])))\n",
    "print(\"정상 기업 수 : \",len(np.unique(df[df[\"target_3\"]==0][\"회사명\"])))\n"
   ]
  },
  {
   "cell_type": "code",
   "execution_count": 330,
   "metadata": {},
   "outputs": [],
   "source": [
    "def get_index_with_50_or_more_nan_columns(df):\n",
    "    \n",
    "    # 결측치 컬럼 개수 계산\n",
    "    nan_column_counts = df.isnull().sum(axis=1)\n",
    "    \n",
    "    # 결측치 컬럼 개수가 50개 이상인 인덱스 번호 추출\n",
    "    index_with_50_or_more_nan_columns = nan_column_counts[nan_column_counts >= 50].index.to_list()\n",
    "    print('제거행 수:' , len(index_with_50_or_more_nan_columns))\n",
    "\n",
    "    df.drop(index=index_with_50_or_more_nan_columns,inplace=True)\n",
    "    return df\n"
   ]
  },
  {
   "cell_type": "code",
   "execution_count": 331,
   "metadata": {},
   "outputs": [
    {
     "name": "stdout",
     "output_type": "stream",
     "text": [
      "제거행 수: 1455\n",
      "12622\n",
      "전체 기업 수 1632\n",
      "전체 데이터 수 :  12622\n"
     ]
    }
   ],
   "source": [
    "print(len(get_index_with_50_or_more_nan_columns(df)))\n",
    "print('전체 기업 수',len(df['회사명'].unique()))\n",
    "print(\"전체 데이터 수 : \", df.shape[0])"
   ]
  },
  {
   "cell_type": "code",
   "execution_count": 332,
   "metadata": {},
   "outputs": [
    {
     "name": "stdout",
     "output_type": "stream",
     "text": [
      "부실데이터 수: 279\n",
      "부실데이터 수: 325\n",
      "부실데이터 수: 245\n"
     ]
    }
   ],
   "source": [
    "print('부실데이터 수:',df[df['target_1']==1].shape[0])\n",
    "print('부실데이터 수:',df[df['target_2']==1].shape[0])\n",
    "print('부실데이터 수:',df[df['target_3']==1].shape[0])"
   ]
  },
  {
   "cell_type": "code",
   "execution_count": 333,
   "metadata": {},
   "outputs": [
    {
     "name": "stdout",
     "output_type": "stream",
     "text": [
      "회사명                  0\n",
      "거래소코드                0\n",
      "회계년도                 0\n",
      "자산                   1\n",
      "자본                   1\n",
      "차입금의존도             186\n",
      "유보율                186\n",
      "현금비율               186\n",
      "부채비율               186\n",
      "당좌비율               186\n",
      "순운전자본비율            186\n",
      "이자비용                 1\n",
      "영업손익                 1\n",
      "감가상각비                1\n",
      "EBITDA             188\n",
      "총자본정상영업이익률         186\n",
      "자기자본순이익률           186\n",
      "총자본순이익률            186\n",
      "매출액총이익률            186\n",
      "금융비용부담률            186\n",
      "경영자본순이익률           186\n",
      "자본금회전률             186\n",
      "유형자산회전율            186\n",
      "재고자산회전률            186\n",
      "자기자본회전률            186\n",
      "타인자본회전률            186\n",
      "총자본회전률             186\n",
      "이익잉여금                1\n",
      "영업활동으로 인한 현금흐름       1\n",
      "매출액                  1\n",
      "금융원가                 1\n",
      "금융수익                 1\n",
      "법인세비용차감전순이익          1\n",
      "당기순이익                1\n",
      "부채                   1\n",
      "합계_기말인원(명)        1085\n",
      "외국인지분율            1351\n",
      "대주주지분율            1095\n",
      "단기차입금                1\n",
      "유동성장기부채              1\n",
      "상장일                  0\n",
      "산업군                  0\n",
      "CAPEX                1\n",
      "유형자산증가율            632\n",
      "매출액증가율             648\n",
      "자기자본증가율            630\n",
      "총자본증가율             630\n",
      "정상영업이익증가율          630\n",
      "시가총액              1163\n",
      "장단기금리차               0\n",
      "cpi                  0\n",
      "업력                   0\n",
      "누적수익성비율              2\n",
      "이자부담률              190\n",
      "부채상환계수             190\n",
      "현금흐름 대 자산            2\n",
      "현금흐름 대 매출액           4\n",
      "토빈Q               1163\n",
      "TMD               1163\n",
      "시총/총자산            1163\n",
      "연구개발비                1\n",
      "RD                   5\n",
      "직원수변동률%           1642\n",
      "직원인건비총액           1085\n",
      "EBIT/총자산             2\n",
      "PBR               1163\n",
      "당기전기영업손익           630\n",
      "당기전기매출액            630\n",
      "당기전기영업손익/매출액       630\n",
      "FINDEP               1\n",
      "PBR변화율            1811\n",
      "ROA변화율             816\n",
      "EBITDA마진율          190\n",
      "현금흐름/총부채비율           2\n",
      "영업현금흐름-단기차입금         1\n",
      "CND                  4\n",
      "공시제목                 0\n",
      "target_1             0\n",
      "target_2             0\n",
      "target_3             0\n",
      "dtype: int64\n"
     ]
    }
   ],
   "source": [
    "pd.set_option('display.max_rows',None)\n",
    "print(df.isna().sum())\n",
    "pd.reset_option('display.max_rows',None)"
   ]
  },
  {
   "cell_type": "code",
   "execution_count": 334,
   "metadata": {},
   "outputs": [
    {
     "name": "stdout",
     "output_type": "stream",
     "text": [
      "전체 행: 10807 개\n",
      "전체 기업 수 1473\n"
     ]
    }
   ],
   "source": [
    "# 상장일이 회계년도 보다 작은 데이터 삭제\n",
    "df = df[df[\"회계년도\"] > df[\"상장일\"]]\n",
    "df.reset_index(drop = True, inplace = True)\n",
    "\n",
    "print('전체 행:', df.shape[0],'개')\n",
    "print('전체 기업 수',len(df['회사명'].unique()))"
   ]
  },
  {
   "cell_type": "code",
   "execution_count": 335,
   "metadata": {},
   "outputs": [
    {
     "data": {
      "text/plain": [
       "1815"
      ]
     },
     "execution_count": 335,
     "metadata": {},
     "output_type": "execute_result"
    }
   ],
   "source": [
    "12622 - 10807"
   ]
  },
  {
   "cell_type": "code",
   "execution_count": 336,
   "metadata": {},
   "outputs": [],
   "source": [
    "# 이용한 컬럼 삭제 \n",
    "\n",
    "df.drop(['자산','이자비용','매출액','부채','금융원가','시가총액',\"EBITDA\",'공시제목','상장일'],axis=1,inplace=True)"
   ]
  },
  {
   "cell_type": "code",
   "execution_count": 337,
   "metadata": {},
   "outputs": [
    {
     "name": "stdout",
     "output_type": "stream",
     "text": [
      "유형자산 증가율 삭제 행 수 :  119\n",
      "총자본증가율 삭제 행 수 :  0\n",
      "직원수변동률 삭제 행 수 :  3\n"
     ]
    }
   ],
   "source": [
    "# 이자부당률이 결측치로 나오는 14년도 영진코퍼레이션 결측치 직접 값 계산해서 결측치 대체\n",
    "\n",
    "df.loc[4173, \"이자부담률\"] = -5.995505908521291\n",
    "\n",
    "# 부채상환계수rk 결측치로 나오는 14년도 영진코퍼레이션 결측치 직접 값 계산해서 결측치 대체\n",
    "\n",
    "df.loc[4173, \"부채상환계수\"] = -760.5303077054485\n",
    "\n",
    "# 대주주 지분율 없는 컬럼 다트에서 값 찾아서 대체 \n",
    "\n",
    "df.loc[903, \"대주주지분율\"] = 50                    # 드림티엔터테인먼트\n",
    "df.loc[2913, \"대주주지분율\"] = 27.83                # 아라온테크\n",
    "df.loc[3668, \"대주주지분율\"] = 49.8                 # 에이루트\n",
    "df.loc[3702, \"대주주지분율\"] = 18.5                 # 에이제이에스\n",
    "df.loc[4399, \"대주주지분율\"] = 23.84                # 와이즈파워\n",
    "df.loc[5542, \"대주주지분율\"] = 100                  # 제이테크놀로지\n",
    "df.loc[8155, \"대주주지분율\"] = 12.03                # 대한그린파워\n",
    "df.loc[8326, \"대주주지분율\"] = 14.94                # 디브이에스코리아\n",
    "df.loc[8807, \"대주주지분율\"] = 40.78                # 세미텍\n",
    "\n",
    "\n",
    "#  유형자산증가율 없는 컬럼 다트에서 값 찾아서 대체 \n",
    "\n",
    "df.loc[1879, \"유형자산증가율\"] = 0                    # 비츠로시스\n",
    "df.loc[1880, \"유형자산증가율\"] = 0                    # 비츠로시스\n",
    "\n",
    "# 외국인 지분율 결측치 0으로 대체\n",
    "df[\"외국인지분율\"].fillna(0, inplace=True)\n",
    "\n",
    "\n",
    "# 직원인건비총액 결측치 0으로 대체\n",
    "df[\"직원인건비총액\"].fillna(0, inplace=True)\n",
    "\n",
    "# 합계_기말인원(명) 결측치 0으로 대체\n",
    "df[\"합계_기말인원(명)\"].fillna(0, inplace=True)\n",
    "\n",
    "\n",
    "\n",
    "#  유형자산증가율 없는 컬럼 다트에서 값 찾아서 대체 \n",
    "df.loc[1879, \"유형자산증가율\"] = 0                    # # 유형자산을 모두 처분하여 감가상각비가 없어 EBITDA값이 결측치인 14년도 영진코퍼레이션 결측치에 영업이익값으로 대체\n",
    "\n",
    "# #매출액증가율 없는 컬럼 삭제\n",
    "\n",
    "de_ind_1 = df[df[[\"매출액증가율\"]].isna().any(axis =1)].index\n",
    "print(\"유형자산 증가율 삭제 행 수 : \",len(de_ind_1))\n",
    "df.drop(index=de_ind_1, axis=0, inplace=True)\n",
    " # 메드팩토 셀리드 큐리언트\n",
    "\n",
    "\n",
    " # 증가율 컬럼 당해 회계년도에 상장하여 전년도 자료가 없어 결측치로 뜨는 데이터 삭제   \n",
    "de_ind = df[df[[\"총자본증가율\"]].isna().any(axis =1)].index\n",
    "print(\"총자본증가율 삭제 행 수 : \",len(de_ind))\n",
    "df.drop(index=de_ind, axis=0, inplace=True)\n",
    "\n",
    "# 직원수변동률 결측치 0으로 대체 \n",
    "de_ind_2 = df[df[[\"직원수변동률%\"]].isna().any(axis =1)].index\n",
    "print(\"직원수변동률 삭제 행 수 : \",len(de_ind_2))\n",
    "df.drop(index=de_ind_2, axis=0, inplace=True)\n",
    "#  비덴트 썬테크놀로지스"
   ]
  },
  {
   "cell_type": "code",
   "execution_count": 338,
   "metadata": {},
   "outputs": [
    {
     "name": "stdout",
     "output_type": "stream",
     "text": [
      "유형자산 증가율 삭제 행 수 :  119\n",
      "총자본증가율 삭제 행 수 :  0\n",
      "직원수변동률 삭제 행 수 :  3\n"
     ]
    }
   ],
   "source": [
    "print(\"유형자산 증가율 삭제 행 수 : \",len(de_ind_1))\n",
    "print(\"총자본증가율 삭제 행 수 : \",len(de_ind))\n",
    "print(\"직원수변동률 삭제 행 수 : \",len(de_ind_2))"
   ]
  },
  {
   "cell_type": "code",
   "execution_count": 339,
   "metadata": {},
   "outputs": [
    {
     "name": "stdout",
     "output_type": "stream",
     "text": [
      "회사명                0\n",
      "거래소코드              0\n",
      "회계년도               0\n",
      "자본                 0\n",
      "차입금의존도             0\n",
      "유보율                0\n",
      "현금비율               0\n",
      "부채비율               0\n",
      "당좌비율               0\n",
      "순운전자본비율            0\n",
      "영업손익               0\n",
      "감가상각비              0\n",
      "총자본정상영업이익률         0\n",
      "자기자본순이익률           0\n",
      "총자본순이익률            0\n",
      "매출액총이익률            0\n",
      "금융비용부담률            0\n",
      "경영자본순이익률           0\n",
      "자본금회전률             0\n",
      "유형자산회전율            0\n",
      "재고자산회전률            0\n",
      "자기자본회전률            0\n",
      "타인자본회전률            0\n",
      "총자본회전률             0\n",
      "이익잉여금              0\n",
      "영업활동으로 인한 현금흐름     0\n",
      "금융수익               0\n",
      "법인세비용차감전순이익        0\n",
      "당기순이익              0\n",
      "합계_기말인원(명)         0\n",
      "외국인지분율             0\n",
      "대주주지분율             0\n",
      "단기차입금              0\n",
      "유동성장기부채            0\n",
      "산업군                0\n",
      "CAPEX              0\n",
      "유형자산증가율            0\n",
      "매출액증가율             0\n",
      "자기자본증가율            0\n",
      "총자본증가율             0\n",
      "정상영업이익증가율          0\n",
      "장단기금리차             0\n",
      "cpi                0\n",
      "업력                 0\n",
      "누적수익성비율            0\n",
      "이자부담률              0\n",
      "부채상환계수             0\n",
      "현금흐름 대 자산          0\n",
      "현금흐름 대 매출액         0\n",
      "토빈Q                0\n",
      "TMD                0\n",
      "시총/총자산             0\n",
      "연구개발비              0\n",
      "RD                 0\n",
      "직원수변동률%            0\n",
      "직원인건비총액            0\n",
      "EBIT/총자산           0\n",
      "PBR                0\n",
      "당기전기영업손익           0\n",
      "당기전기매출액            0\n",
      "당기전기영업손익/매출액       0\n",
      "FINDEP             0\n",
      "PBR변화율             0\n",
      "ROA변화율            22\n",
      "EBITDA마진율          1\n",
      "현금흐름/총부채비율         0\n",
      "영업현금흐름-단기차입금       0\n",
      "CND                0\n",
      "target_1           0\n",
      "target_2           0\n",
      "target_3           0\n",
      "dtype: int64\n"
     ]
    }
   ],
   "source": [
    "pd.set_option('display.max_rows',None)\n",
    "print(df.isna().sum())\n",
    "pd.reset_option('display.max_rows',None)"
   ]
  },
  {
   "cell_type": "code",
   "execution_count": 340,
   "metadata": {},
   "outputs": [],
   "source": [
    "# 결측치 제거\n",
    "df.dropna(axis=0, inplace=True)"
   ]
  },
  {
   "cell_type": "code",
   "execution_count": 341,
   "metadata": {},
   "outputs": [
    {
     "name": "stdout",
     "output_type": "stream",
     "text": [
      "전체 행: 10662 개\n",
      "전체 기업 수 1453\n",
      "결측치 수 :  0\n"
     ]
    }
   ],
   "source": [
    "print('전체 행:', df.shape[0],'개')\n",
    "print('전체 기업 수',len(df['회사명'].unique()))\n",
    "print(\"결측치 수 : \", df.isna().sum().sum())"
   ]
  },
  {
   "cell_type": "code",
   "execution_count": 342,
   "metadata": {},
   "outputs": [
    {
     "data": {
      "text/plain": [
       "Index(['회사명', '거래소코드', '회계년도', '자본', '차입금의존도', '유보율', '현금비율', '부채비율', '당좌비율',\n",
       "       '순운전자본비율', '영업손익', '감가상각비', '총자본정상영업이익률', '자기자본순이익률', '총자본순이익률',\n",
       "       '매출액총이익률', '금융비용부담률', '경영자본순이익률', '자본금회전률', '유형자산회전율', '재고자산회전률',\n",
       "       '자기자본회전률', '타인자본회전률', '총자본회전률', '이익잉여금', '영업활동으로 인한 현금흐름', '금융수익',\n",
       "       '법인세비용차감전순이익', '당기순이익', '합계_기말인원(명)', '외국인지분율', '대주주지분율', '단기차입금',\n",
       "       '유동성장기부채', '산업군', 'CAPEX', '유형자산증가율', '매출액증가율', '자기자본증가율', '총자본증가율',\n",
       "       '정상영업이익증가율', '장단기금리차', 'cpi', '업력', '누적수익성비율', '이자부담률', '부채상환계수',\n",
       "       '현금흐름 대 자산', '현금흐름 대 매출액', '토빈Q', 'TMD', '시총/총자산', '연구개발비', 'RD',\n",
       "       '직원수변동률%', '직원인건비총액', 'EBIT/총자산', 'PBR', '당기전기영업손익', '당기전기매출액',\n",
       "       '당기전기영업손익/매출액', 'FINDEP', 'PBR변화율', 'ROA변화율', 'EBITDA마진율', '현금흐름/총부채비율',\n",
       "       '영업현금흐름-단기차입금', 'CND', 'target_1', 'target_2', 'target_3'],\n",
       "      dtype='object')"
      ]
     },
     "execution_count": 342,
     "metadata": {},
     "output_type": "execute_result"
    }
   ],
   "source": [
    "df.columns"
   ]
  },
  {
   "attachments": {},
   "cell_type": "markdown",
   "metadata": {},
   "source": [
    "\n",
    "## 결측치 처리 완료\n",
    "---"
   ]
  },
  {
   "cell_type": "code",
   "execution_count": 343,
   "metadata": {},
   "outputs": [
    {
     "name": "stdout",
     "output_type": "stream",
     "text": [
      "양의 무한대 : target_3\n",
      "0    548\n",
      "1      1\n",
      "Name: count, dtype: int64\n",
      "음의 무한대 : target_3\n",
      "0    96\n",
      "1     3\n",
      "Name: count, dtype: int64\n"
     ]
    }
   ],
   "source": [
    "# 무한대 값 확인\n",
    "\n",
    "print(\"양의 무한대 :\",df[df[[\"이자부담률\"]].isin([np.inf]).any(axis = 1)][\"target_3\"].value_counts())\n",
    "print(\"음의 무한대 :\", df[df[[\"이자부담률\"]].isin([-np.inf]).any(axis = 1)][\"target_3\"].value_counts())"
   ]
  },
  {
   "cell_type": "code",
   "execution_count": 344,
   "metadata": {},
   "outputs": [
    {
     "name": "stdout",
     "output_type": "stream",
     "text": [
      "이자부담률 무한대 값 행 수 : 648\n"
     ]
    }
   ],
   "source": [
    "# 이자부담률 무한대 값 삭제\n",
    "# 전년도 이자부담률 데이터가 0값이서 데이터 제거(648개)\n",
    "\n",
    "a = df[df[\"이자부담률\"].isin([np.inf])].index.to_list()\n",
    "b = df[df[\"이자부담률\"].isin([-np.inf])].index.to_list()\n",
    "c = a + b\n",
    "print(\"이자부담률 무한대 값 행 수 :\", len(c))\n",
    "df.drop(index=c, inplace=True)"
   ]
  },
  {
   "cell_type": "code",
   "execution_count": 345,
   "metadata": {},
   "outputs": [
    {
     "name": "stdout",
     "output_type": "stream",
     "text": [
      "유형자산증가율 무한대 값 행 수 : 2\n"
     ]
    }
   ],
   "source": [
    "# 유형자산증가율 무한대 값 삭제\n",
    "# 전년도 유형자산 데이터가 0값이서 데이터 제거(2개)\n",
    "\n",
    "\n",
    "a = df[df[\"유형자산증가율\"].isin([np.inf])].index.to_list()\n",
    "b = df[df[\"유형자산증가율\"].isin([-np.inf])].index.to_list()\n",
    "c = a + b\n",
    "print(\"유형자산증가율 무한대 값 행 수 :\", len(c))\n",
    "df.drop(index=c, inplace=True)"
   ]
  },
  {
   "cell_type": "code",
   "execution_count": 346,
   "metadata": {},
   "outputs": [
    {
     "name": "stdout",
     "output_type": "stream",
     "text": [
      "현금흐름 대 매출액 무한대 값 행 수 : 1\n"
     ]
    }
   ],
   "source": [
    "# 현금흐름 대 매출액 무한대 값 삭제\n",
    "# 전년도 매출액 데이터가 0값이서 데이터 제거(2개)\n",
    "\n",
    "a = df[df[\"현금흐름 대 매출액\"].isin([np.inf])].index.to_list()\n",
    "b = df[df[\"현금흐름 대 매출액\"].isin([-np.inf])].index.to_list()\n",
    "c = a + b\n",
    "print(\"현금흐름 대 매출액 무한대 값 행 수 :\", len(c))\n",
    "df.drop(index=c, inplace=True)"
   ]
  },
  {
   "cell_type": "code",
   "execution_count": 347,
   "metadata": {},
   "outputs": [
    {
     "name": "stdout",
     "output_type": "stream",
     "text": [
      "매출액증가율 무한대 값 행 수 : 3\n"
     ]
    }
   ],
   "source": [
    "# 매출액증가율 무한대 값 삭제\n",
    "# 전년도 매출액 데이터가 0값이서 데이터 제거\n",
    "\n",
    "a = df[df[\"매출액증가율\"].isin([np.inf])].index.to_list()\n",
    "b = df[df[\"매출액증가율\"].isin([-np.inf])].index.to_list()\n",
    "c = a + b\n",
    "print(\"매출액증가율 무한대 값 행 수 :\", len(c))\n",
    "df.drop(index=c, inplace=True)"
   ]
  },
  {
   "cell_type": "code",
   "execution_count": 348,
   "metadata": {},
   "outputs": [
    {
     "name": "stdout",
     "output_type": "stream",
     "text": [
      "ROA변화율 무한대 값 행 수 : 5\n"
     ]
    }
   ],
   "source": [
    "# ROA변화율 무한대 값 삭제\n",
    "# 전년도 ROA 데이터가 0값이서 데이터 제거\n",
    "\n",
    "a = df[df[\"ROA변화율\"].isin([np.inf])].index.to_list()\n",
    "b = df[df[\"ROA변화율\"].isin([-np.inf])].index.to_list()\n",
    "c = a + b\n",
    "print(\"ROA변화율 무한대 값 행 수 :\", len(c))\n",
    "df.drop(index=c, inplace=True)"
   ]
  },
  {
   "cell_type": "code",
   "execution_count": 349,
   "metadata": {},
   "outputs": [
    {
     "name": "stdout",
     "output_type": "stream",
     "text": [
      "양의 무한대 : Series([], Name: count, dtype: int64)\n",
      "음의 무한대 : Series([], Name: count, dtype: int64)\n"
     ]
    }
   ],
   "source": [
    "# 무한대 값 확인\n",
    "\n",
    "print(\"양의 무한대 :\",df[df[[\"이자부담률\"]].isin([np.inf]).any(axis = 1)][\"target_3\"].value_counts())\n",
    "print(\"음의 무한대 :\", df[df[[\"이자부담률\"]].isin([-np.inf]).any(axis = 1)][\"target_3\"].value_counts())"
   ]
  },
  {
   "cell_type": "code",
   "execution_count": 350,
   "metadata": {},
   "outputs": [
    {
     "name": "stdout",
     "output_type": "stream",
     "text": [
      "전체 행: 10003 개\n",
      "전체 기업 수 1442\n",
      "결측치 수 :  0\n"
     ]
    }
   ],
   "source": [
    "print('전체 행:', df.shape[0],'개')\n",
    "print('전체 기업 수',len(df['회사명'].unique()))\n",
    "print(\"결측치 수 : \", df.isna().sum().sum())"
   ]
  },
  {
   "attachments": {},
   "cell_type": "markdown",
   "metadata": {},
   "source": [
    "\n",
    "## 무한대 값 처리 완료\n",
    "---"
   ]
  },
  {
   "cell_type": "code",
   "execution_count": 351,
   "metadata": {},
   "outputs": [
    {
     "data": {
      "text/html": [
       "<div>\n",
       "<style scoped>\n",
       "    .dataframe tbody tr th:only-of-type {\n",
       "        vertical-align: middle;\n",
       "    }\n",
       "\n",
       "    .dataframe tbody tr th {\n",
       "        vertical-align: top;\n",
       "    }\n",
       "\n",
       "    .dataframe thead th {\n",
       "        text-align: right;\n",
       "    }\n",
       "</style>\n",
       "<table border=\"1\" class=\"dataframe\">\n",
       "  <thead>\n",
       "    <tr style=\"text-align: right;\">\n",
       "      <th></th>\n",
       "      <th>회사명</th>\n",
       "      <th>회계년도</th>\n",
       "      <th>target_3</th>\n",
       "      <th>산업군</th>\n",
       "    </tr>\n",
       "  </thead>\n",
       "  <tbody>\n",
       "    <tr>\n",
       "      <th>7924</th>\n",
       "      <td>글로벌텍스프리(주)</td>\n",
       "      <td>2018</td>\n",
       "      <td>0</td>\n",
       "      <td>금융 및 보험업</td>\n",
       "    </tr>\n",
       "    <tr>\n",
       "      <th>7925</th>\n",
       "      <td>글로벌텍스프리(주)</td>\n",
       "      <td>2019</td>\n",
       "      <td>0</td>\n",
       "      <td>금융 및 보험업</td>\n",
       "    </tr>\n",
       "    <tr>\n",
       "      <th>7926</th>\n",
       "      <td>글로벌텍스프리(주)</td>\n",
       "      <td>2020</td>\n",
       "      <td>0</td>\n",
       "      <td>금융 및 보험업</td>\n",
       "    </tr>\n",
       "    <tr>\n",
       "      <th>7927</th>\n",
       "      <td>글로벌텍스프리(주)</td>\n",
       "      <td>2021</td>\n",
       "      <td>0</td>\n",
       "      <td>금융 및 보험업</td>\n",
       "    </tr>\n",
       "    <tr>\n",
       "      <th>10699</th>\n",
       "      <td>해성산업(주)</td>\n",
       "      <td>2018</td>\n",
       "      <td>0</td>\n",
       "      <td>금융 및 보험업</td>\n",
       "    </tr>\n",
       "    <tr>\n",
       "      <th>10700</th>\n",
       "      <td>해성산업(주)</td>\n",
       "      <td>2019</td>\n",
       "      <td>0</td>\n",
       "      <td>금융 및 보험업</td>\n",
       "    </tr>\n",
       "    <tr>\n",
       "      <th>10701</th>\n",
       "      <td>해성산업(주)</td>\n",
       "      <td>2020</td>\n",
       "      <td>0</td>\n",
       "      <td>금융 및 보험업</td>\n",
       "    </tr>\n",
       "    <tr>\n",
       "      <th>10702</th>\n",
       "      <td>해성산업(주)</td>\n",
       "      <td>2021</td>\n",
       "      <td>0</td>\n",
       "      <td>금융 및 보험업</td>\n",
       "    </tr>\n",
       "  </tbody>\n",
       "</table>\n",
       "</div>"
      ],
      "text/plain": [
       "              회사명  회계년도  target_3       산업군\n",
       "7924   글로벌텍스프리(주)  2018         0  금융 및 보험업\n",
       "7925   글로벌텍스프리(주)  2019         0  금융 및 보험업\n",
       "7926   글로벌텍스프리(주)  2020         0  금융 및 보험업\n",
       "7927   글로벌텍스프리(주)  2021         0  금융 및 보험업\n",
       "10699     해성산업(주)  2018         0  금융 및 보험업\n",
       "10700     해성산업(주)  2019         0  금융 및 보험업\n",
       "10701     해성산업(주)  2020         0  금융 및 보험업\n",
       "10702     해성산업(주)  2021         0  금융 및 보험업"
      ]
     },
     "execution_count": 351,
     "metadata": {},
     "output_type": "execute_result"
    }
   ],
   "source": [
    "# 산업군이 \"금융 및 보험업\"인 데이터 삭제\n",
    "\n",
    "df[df[\"산업군\"].str.contains(\"금융\")][[\"회사명\", \"회계년도\", \"target_3\", \"산업군\"]]"
   ]
  },
  {
   "cell_type": "code",
   "execution_count": 352,
   "metadata": {},
   "outputs": [],
   "source": [
    "del_col = df[df[\"산업군\"].str.contains(\"금융\")][[\"회사명\", \"회계년도\", \"target_3\", \"산업군\"]].index\n",
    "\n",
    "df.drop(index=del_col, axis=0, inplace=True)\n",
    "df.reset_index(drop=True, inplace=True)\n"
   ]
  },
  {
   "cell_type": "code",
   "execution_count": 353,
   "metadata": {},
   "outputs": [
    {
     "name": "stdout",
     "output_type": "stream",
     "text": [
      "전체 행: 9995 개\n",
      "전체 기업 수 1440\n",
      "결측치 수 :  0\n"
     ]
    }
   ],
   "source": [
    "print('전체 행:', df.shape[0],'개')\n",
    "print('전체 기업 수',len(df['회사명'].unique()))\n",
    "print(\"결측치 수 : \", df.isna().sum().sum())"
   ]
  },
  {
   "attachments": {},
   "cell_type": "markdown",
   "metadata": {},
   "source": [
    "# 원본 데이터 결측치 처리 완료\n",
    "---"
   ]
  },
  {
   "cell_type": "code",
   "execution_count": 354,
   "metadata": {},
   "outputs": [
    {
     "name": "stdout",
     "output_type": "stream",
     "text": [
      "(347, 71)\n"
     ]
    }
   ],
   "source": [
    "# 타겟 1인 기업들 0값 지워주기\n",
    "\n",
    "# 부실정의 컬럼 \n",
    "df['sum'] = df['target_1']+df['target_2']+df['target_3']\n",
    "\n",
    "## 임시 부실데이터저장\n",
    "temp = pd.DataFrame()\n",
    "for i in df['회사명'].unique():\n",
    "    a = df[(df['회사명']==i) & df['sum']!=0]\n",
    "    temp = pd.concat([temp,a],axis=0)\n",
    "temp.drop(columns=['sum'],axis=1,inplace=True)\n",
    "print(temp.shape)\n",
    "\n"
   ]
  },
  {
   "cell_type": "code",
   "execution_count": 355,
   "metadata": {},
   "outputs": [],
   "source": [
    "for i in temp['회사명'].unique():\n",
    "    df = df[~(df['회사명']==i)]\n",
    "\n",
    "df = pd.concat([df,temp],axis=0)"
   ]
  },
  {
   "cell_type": "code",
   "execution_count": 356,
   "metadata": {},
   "outputs": [
    {
     "name": "stdout",
     "output_type": "stream",
     "text": [
      "(9574, 71)\n"
     ]
    }
   ],
   "source": [
    "df.drop(columns=[\"sum\"], axis=1, inplace=True)\n",
    "df.reset_index(drop=True,inplace=True)\n",
    "print(df.shape)\n"
   ]
  },
  {
   "cell_type": "code",
   "execution_count": 357,
   "metadata": {},
   "outputs": [
    {
     "data": {
      "text/plain": [
       "421"
      ]
     },
     "execution_count": 357,
     "metadata": {},
     "output_type": "execute_result"
    }
   ],
   "source": [
    "9995 - 9574"
   ]
  },
  {
   "cell_type": "code",
   "execution_count": 358,
   "metadata": {},
   "outputs": [
    {
     "data": {
      "text/plain": [
       "target_3\n",
       "0    9337\n",
       "1     237\n",
       "Name: count, dtype: int64"
      ]
     },
     "execution_count": 358,
     "metadata": {},
     "output_type": "execute_result"
    }
   ],
   "source": [
    "df[\"target_3\"].value_counts()"
   ]
  },
  {
   "cell_type": "code",
   "execution_count": 359,
   "metadata": {},
   "outputs": [
    {
     "name": "stdout",
     "output_type": "stream",
     "text": [
      "147\n",
      "1403\n"
     ]
    }
   ],
   "source": [
    "print(len(df[df[\"target_3\"]==1][\"회사명\"].unique()))\n",
    "print(len(df[df[\"target_3\"]==0][\"회사명\"].unique()))"
   ]
  },
  {
   "cell_type": "code",
   "execution_count": 360,
   "metadata": {},
   "outputs": [
    {
     "name": "stdout",
     "output_type": "stream",
     "text": [
      "전체 행: 9574 개\n",
      "전체 기업 수 1440\n",
      "결측치 수 :  0\n"
     ]
    }
   ],
   "source": [
    "print('전체 행:', df.shape[0],'개')\n",
    "print('전체 기업 수',len(df['회사명'].unique()))\n",
    "print(\"결측치 수 : \", df.isna().sum().sum())"
   ]
  },
  {
   "cell_type": "code",
   "execution_count": 363,
   "metadata": {},
   "outputs": [
    {
     "name": "stdout",
     "output_type": "stream",
     "text": [
      "전체 데이터 수 :  9574\n",
      "전체 기업 수 :  1440\n",
      "부실 기업 수  :  147\n",
      "정상 기업 수 :  1403\n"
     ]
    }
   ],
   "source": [
    "print(\"전체 데이터 수 : \", df.shape[0])\n",
    "print(\"전체 기업 수 : \" , len(np.unique(df[\"회사명\"])))\n",
    "print(\"부실 기업 수  : \",len(np.unique(df[df[\"target_1\"]==1][\"회사명\"])))\n",
    "# print(len(np.unique(df[df[\"target_2\"]==1][\"회사명\"])))\n",
    "# print(len(np.unique(df[df[\"target_3\"]==1][\"회사명\"])))\n",
    "print(\"정상 기업 수 : \",len(np.unique(df[df[\"target_3\"]==0][\"회사명\"])))\n"
   ]
  },
  {
   "cell_type": "code",
   "execution_count": 361,
   "metadata": {},
   "outputs": [
    {
     "data": {
      "text/html": [
       "<div>\n",
       "<style scoped>\n",
       "    .dataframe tbody tr th:only-of-type {\n",
       "        vertical-align: middle;\n",
       "    }\n",
       "\n",
       "    .dataframe tbody tr th {\n",
       "        vertical-align: top;\n",
       "    }\n",
       "\n",
       "    .dataframe thead th {\n",
       "        text-align: right;\n",
       "    }\n",
       "</style>\n",
       "<table border=\"1\" class=\"dataframe\">\n",
       "  <thead>\n",
       "    <tr style=\"text-align: right;\">\n",
       "      <th></th>\n",
       "      <th>회계년도</th>\n",
       "      <th>자본</th>\n",
       "      <th>차입금의존도</th>\n",
       "      <th>유보율</th>\n",
       "      <th>현금비율</th>\n",
       "      <th>부채비율</th>\n",
       "      <th>당좌비율</th>\n",
       "      <th>순운전자본비율</th>\n",
       "      <th>영업손익</th>\n",
       "      <th>감가상각비</th>\n",
       "      <th>...</th>\n",
       "      <th>FINDEP</th>\n",
       "      <th>PBR변화율</th>\n",
       "      <th>ROA변화율</th>\n",
       "      <th>EBITDA마진율</th>\n",
       "      <th>현금흐름/총부채비율</th>\n",
       "      <th>영업현금흐름-단기차입금</th>\n",
       "      <th>CND</th>\n",
       "      <th>target_1</th>\n",
       "      <th>target_2</th>\n",
       "      <th>target_3</th>\n",
       "    </tr>\n",
       "  </thead>\n",
       "  <tbody>\n",
       "    <tr>\n",
       "      <th>count</th>\n",
       "      <td>9574.000000</td>\n",
       "      <td>9.574000e+03</td>\n",
       "      <td>9574.000000</td>\n",
       "      <td>9574.000000</td>\n",
       "      <td>9574.000000</td>\n",
       "      <td>9574.000000</td>\n",
       "      <td>9574.000000</td>\n",
       "      <td>9574.000000</td>\n",
       "      <td>9.574000e+03</td>\n",
       "      <td>9.574000e+03</td>\n",
       "      <td>...</td>\n",
       "      <td>9.574000e+03</td>\n",
       "      <td>9574.000000</td>\n",
       "      <td>9574.000000</td>\n",
       "      <td>9574.000000</td>\n",
       "      <td>9574.000000</td>\n",
       "      <td>9.574000e+03</td>\n",
       "      <td>9574.000000</td>\n",
       "      <td>9574.000000</td>\n",
       "      <td>9574.000000</td>\n",
       "      <td>9574.000000</td>\n",
       "    </tr>\n",
       "    <tr>\n",
       "      <th>mean</th>\n",
       "      <td>2017.005640</td>\n",
       "      <td>1.161600e+05</td>\n",
       "      <td>22.058254</td>\n",
       "      <td>1208.529430</td>\n",
       "      <td>70.177988</td>\n",
       "      <td>121.535895</td>\n",
       "      <td>227.291673</td>\n",
       "      <td>19.681602</td>\n",
       "      <td>9.087940e+03</td>\n",
       "      <td>1.305645e+06</td>\n",
       "      <td>...</td>\n",
       "      <td>2.255270e+04</td>\n",
       "      <td>23.346677</td>\n",
       "      <td>-110.149951</td>\n",
       "      <td>-18.754304</td>\n",
       "      <td>14.272879</td>\n",
       "      <td>-1.796421e+06</td>\n",
       "      <td>26.743803</td>\n",
       "      <td>0.028097</td>\n",
       "      <td>0.032902</td>\n",
       "      <td>0.024755</td>\n",
       "    </tr>\n",
       "    <tr>\n",
       "      <th>std</th>\n",
       "      <td>2.884411</td>\n",
       "      <td>2.078120e+05</td>\n",
       "      <td>19.199957</td>\n",
       "      <td>1660.258443</td>\n",
       "      <td>147.401451</td>\n",
       "      <td>774.709395</td>\n",
       "      <td>358.400410</td>\n",
       "      <td>29.924214</td>\n",
       "      <td>3.424619e+04</td>\n",
       "      <td>9.224867e+06</td>\n",
       "      <td>...</td>\n",
       "      <td>6.219024e+06</td>\n",
       "      <td>492.439239</td>\n",
       "      <td>3430.151927</td>\n",
       "      <td>733.672760</td>\n",
       "      <td>50.436671</td>\n",
       "      <td>2.447359e+07</td>\n",
       "      <td>261.635826</td>\n",
       "      <td>0.165258</td>\n",
       "      <td>0.178388</td>\n",
       "      <td>0.155384</td>\n",
       "    </tr>\n",
       "    <tr>\n",
       "      <th>min</th>\n",
       "      <td>2012.000000</td>\n",
       "      <td>-5.429690e+05</td>\n",
       "      <td>0.000000</td>\n",
       "      <td>-1490.240000</td>\n",
       "      <td>0.000000</td>\n",
       "      <td>0.000000</td>\n",
       "      <td>1.810000</td>\n",
       "      <td>-1243.210000</td>\n",
       "      <td>-1.741950e+05</td>\n",
       "      <td>-3.575100e+04</td>\n",
       "      <td>...</td>\n",
       "      <td>-6.259930e+07</td>\n",
       "      <td>-10065.643303</td>\n",
       "      <td>-252600.000000</td>\n",
       "      <td>-46389.573529</td>\n",
       "      <td>-1004.410256</td>\n",
       "      <td>-1.405336e+09</td>\n",
       "      <td>0.000427</td>\n",
       "      <td>0.000000</td>\n",
       "      <td>0.000000</td>\n",
       "      <td>0.000000</td>\n",
       "    </tr>\n",
       "    <tr>\n",
       "      <th>25%</th>\n",
       "      <td>2015.000000</td>\n",
       "      <td>3.743950e+04</td>\n",
       "      <td>6.592500</td>\n",
       "      <td>325.680000</td>\n",
       "      <td>12.630000</td>\n",
       "      <td>32.990000</td>\n",
       "      <td>77.012500</td>\n",
       "      <td>2.402500</td>\n",
       "      <td>-1.213250e+03</td>\n",
       "      <td>1.842482e+05</td>\n",
       "      <td>...</td>\n",
       "      <td>-6.498771e+05</td>\n",
       "      <td>-21.350355</td>\n",
       "      <td>-74.642018</td>\n",
       "      <td>0.829039</td>\n",
       "      <td>-3.297378</td>\n",
       "      <td>-1.851450e+06</td>\n",
       "      <td>3.084759</td>\n",
       "      <td>0.000000</td>\n",
       "      <td>0.000000</td>\n",
       "      <td>0.000000</td>\n",
       "    </tr>\n",
       "    <tr>\n",
       "      <th>50%</th>\n",
       "      <td>2017.000000</td>\n",
       "      <td>6.621350e+04</td>\n",
       "      <td>19.825000</td>\n",
       "      <td>787.385000</td>\n",
       "      <td>32.415000</td>\n",
       "      <td>68.760000</td>\n",
       "      <td>129.385000</td>\n",
       "      <td>20.390000</td>\n",
       "      <td>2.917000e+03</td>\n",
       "      <td>4.099785e+05</td>\n",
       "      <td>...</td>\n",
       "      <td>-7.914500e+02</td>\n",
       "      <td>-0.184075</td>\n",
       "      <td>-7.725957</td>\n",
       "      <td>5.406106</td>\n",
       "      <td>9.893372</td>\n",
       "      <td>-4.369500e+05</td>\n",
       "      <td>7.323454</td>\n",
       "      <td>0.000000</td>\n",
       "      <td>0.000000</td>\n",
       "      <td>0.000000</td>\n",
       "    </tr>\n",
       "    <tr>\n",
       "      <th>75%</th>\n",
       "      <td>2020.000000</td>\n",
       "      <td>1.199970e+05</td>\n",
       "      <td>34.267500</td>\n",
       "      <td>1515.202500</td>\n",
       "      <td>76.597500</td>\n",
       "      <td>129.217500</td>\n",
       "      <td>242.502500</td>\n",
       "      <td>38.090000</td>\n",
       "      <td>1.060275e+04</td>\n",
       "      <td>9.704720e+05</td>\n",
       "      <td>...</td>\n",
       "      <td>6.351224e+05</td>\n",
       "      <td>30.342740</td>\n",
       "      <td>71.654509</td>\n",
       "      <td>11.832725</td>\n",
       "      <td>28.722474</td>\n",
       "      <td>4.045250e+05</td>\n",
       "      <td>15.681276</td>\n",
       "      <td>0.000000</td>\n",
       "      <td>0.000000</td>\n",
       "      <td>0.000000</td>\n",
       "    </tr>\n",
       "    <tr>\n",
       "      <th>max</th>\n",
       "      <td>2021.000000</td>\n",
       "      <td>4.867369e+06</td>\n",
       "      <td>749.400000</td>\n",
       "      <td>35257.990000</td>\n",
       "      <td>5410.720000</td>\n",
       "      <td>65433.660000</td>\n",
       "      <td>7488.330000</td>\n",
       "      <td>94.820000</td>\n",
       "      <td>1.315452e+06</td>\n",
       "      <td>4.894829e+08</td>\n",
       "      <td>...</td>\n",
       "      <td>3.454190e+08</td>\n",
       "      <td>45142.470366</td>\n",
       "      <td>146066.666667</td>\n",
       "      <td>79.961348</td>\n",
       "      <td>441.885590</td>\n",
       "      <td>6.059470e+07</td>\n",
       "      <td>17594.094488</td>\n",
       "      <td>1.000000</td>\n",
       "      <td>1.000000</td>\n",
       "      <td>1.000000</td>\n",
       "    </tr>\n",
       "  </tbody>\n",
       "</table>\n",
       "<p>8 rows × 68 columns</p>\n",
       "</div>"
      ],
      "text/plain": [
       "              회계년도            자본       차입금의존도           유보율         현금비율   \n",
       "count  9574.000000  9.574000e+03  9574.000000   9574.000000  9574.000000  \\\n",
       "mean   2017.005640  1.161600e+05    22.058254   1208.529430    70.177988   \n",
       "std       2.884411  2.078120e+05    19.199957   1660.258443   147.401451   \n",
       "min    2012.000000 -5.429690e+05     0.000000  -1490.240000     0.000000   \n",
       "25%    2015.000000  3.743950e+04     6.592500    325.680000    12.630000   \n",
       "50%    2017.000000  6.621350e+04    19.825000    787.385000    32.415000   \n",
       "75%    2020.000000  1.199970e+05    34.267500   1515.202500    76.597500   \n",
       "max    2021.000000  4.867369e+06   749.400000  35257.990000  5410.720000   \n",
       "\n",
       "               부채비율         당좌비율      순운전자본비율          영업손익         감가상각비   \n",
       "count   9574.000000  9574.000000  9574.000000  9.574000e+03  9.574000e+03  \\\n",
       "mean     121.535895   227.291673    19.681602  9.087940e+03  1.305645e+06   \n",
       "std      774.709395   358.400410    29.924214  3.424619e+04  9.224867e+06   \n",
       "min        0.000000     1.810000 -1243.210000 -1.741950e+05 -3.575100e+04   \n",
       "25%       32.990000    77.012500     2.402500 -1.213250e+03  1.842482e+05   \n",
       "50%       68.760000   129.385000    20.390000  2.917000e+03  4.099785e+05   \n",
       "75%      129.217500   242.502500    38.090000  1.060275e+04  9.704720e+05   \n",
       "max    65433.660000  7488.330000    94.820000  1.315452e+06  4.894829e+08   \n",
       "\n",
       "       ...        FINDEP        PBR변화율         ROA변화율     EBITDA마진율   \n",
       "count  ...  9.574000e+03   9574.000000    9574.000000   9574.000000  \\\n",
       "mean   ...  2.255270e+04     23.346677    -110.149951    -18.754304   \n",
       "std    ...  6.219024e+06    492.439239    3430.151927    733.672760   \n",
       "min    ... -6.259930e+07 -10065.643303 -252600.000000 -46389.573529   \n",
       "25%    ... -6.498771e+05    -21.350355     -74.642018      0.829039   \n",
       "50%    ... -7.914500e+02     -0.184075      -7.725957      5.406106   \n",
       "75%    ...  6.351224e+05     30.342740      71.654509     11.832725   \n",
       "max    ...  3.454190e+08  45142.470366  146066.666667     79.961348   \n",
       "\n",
       "        현금흐름/총부채비율  영업현금흐름-단기차입금           CND     target_1     target_2   \n",
       "count  9574.000000  9.574000e+03   9574.000000  9574.000000  9574.000000  \\\n",
       "mean     14.272879 -1.796421e+06     26.743803     0.028097     0.032902   \n",
       "std      50.436671  2.447359e+07    261.635826     0.165258     0.178388   \n",
       "min   -1004.410256 -1.405336e+09      0.000427     0.000000     0.000000   \n",
       "25%      -3.297378 -1.851450e+06      3.084759     0.000000     0.000000   \n",
       "50%       9.893372 -4.369500e+05      7.323454     0.000000     0.000000   \n",
       "75%      28.722474  4.045250e+05     15.681276     0.000000     0.000000   \n",
       "max     441.885590  6.059470e+07  17594.094488     1.000000     1.000000   \n",
       "\n",
       "          target_3  \n",
       "count  9574.000000  \n",
       "mean      0.024755  \n",
       "std       0.155384  \n",
       "min       0.000000  \n",
       "25%       0.000000  \n",
       "50%       0.000000  \n",
       "75%       0.000000  \n",
       "max       1.000000  \n",
       "\n",
       "[8 rows x 68 columns]"
      ]
     },
     "execution_count": 361,
     "metadata": {},
     "output_type": "execute_result"
    }
   ],
   "source": [
    "df.describe()"
   ]
  },
  {
   "cell_type": "code",
   "execution_count": 362,
   "metadata": {},
   "outputs": [],
   "source": [
    "df.to_csv(\"./data/결측치처리완료/코스닥결측치처리완료.csv\", encoding=\"utf-8-sig\")"
   ]
  },
  {
   "cell_type": "code",
   "execution_count": null,
   "metadata": {},
   "outputs": [],
   "source": []
  }
 ],
 "metadata": {
  "kernelspec": {
   "display_name": "base",
   "language": "python",
   "name": "python3"
  },
  "language_info": {
   "codemirror_mode": {
    "name": "ipython",
    "version": 3
   },
   "file_extension": ".py",
   "mimetype": "text/x-python",
   "name": "python",
   "nbconvert_exporter": "python",
   "pygments_lexer": "ipython3",
   "version": "3.10.9"
  },
  "orig_nbformat": 4
 },
 "nbformat": 4,
 "nbformat_minor": 2
}
