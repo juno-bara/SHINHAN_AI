{
 "cells": [
  {
   "cell_type": "code",
   "execution_count": 1,
   "metadata": {},
   "outputs": [],
   "source": [
    "import pandas as pd \n",
    "import numpy as np\n",
    "import matplotlib.pyplot as plt\n",
    "import seaborn as sns\n",
    "\n",
    "from sklearn.discriminant_analysis import LinearDiscriminantAnalysis\n",
    "from sklearn.linear_model import LogisticRegression\n",
    "from sklearn.naive_bayes import GaussianNB\n",
    "\n",
    "from sklearn.ensemble import RandomForestClassifier\n",
    "from xgboost import XGBClassifier\n",
    "\n",
    "from sklearn.feature_selection import SelectFromModel,SequentialFeatureSelector\n",
    "\n",
    "from sklearn.metrics import f1_score,accuracy_score,recall_score,precision_score,confusion_matrix,roc_auc_score\n",
    "\n",
    "import warnings\n",
    "warnings.simplefilter('ignore')"
   ]
  },
  {
   "cell_type": "code",
   "execution_count": 2,
   "metadata": {},
   "outputs": [],
   "source": [
    "def model_basic(x_train, y_train, x_test, y_test):\n",
    "    models = [\n",
    "        LogisticRegression(),\n",
    "        LinearDiscriminantAnalysis(),\n",
    "        GaussianNB(),\n",
    "        RandomForestClassifier(),\n",
    "        XGBClassifier(),\n",
    "        \n",
    "    ]\n",
    "\n",
    "    rdict = {'model': [], 'accuracy': [], 'precision': [], 'recall': [], 'f1_score': [], 'auc_score': []}\n",
    "\n",
    "    for clf in models:\n",
    "        clf = clf.fit(x_train, y_train)\n",
    "        pred = clf.predict(x_test)\n",
    "        pred_prob_rf = clf.predict_proba(x_test)[:, 1].reshape(-1, 1)\n",
    "        auc_score = roc_auc_score(y_test, pred_prob_rf)\n",
    "        results = (\n",
    "            round(accuracy_score(y_test, pred), 4),\n",
    "            round(precision_score(y_test, pred), 4),\n",
    "            round(recall_score(y_test, pred), 4),\n",
    "            round(f1_score(y_test, pred), 4),\n",
    "            round(auc_score, 4)\n",
    "        )\n",
    "\n",
    "        rdict['model'].append(clf)\n",
    "        rdict['accuracy'].append(results[0])\n",
    "        rdict['precision'].append(results[1])\n",
    "        rdict['recall'].append(results[2])\n",
    "        rdict['f1_score'].append(results[3])\n",
    "        rdict['auc_score'].append(results[4])\n",
    "\n",
    "        confusion = confusion_matrix(y_test, pred)\n",
    "        print(confusion)\n",
    "\n",
    "    rdf = pd.DataFrame(data=rdict)\n",
    "    return rdf"
   ]
  },
  {
   "cell_type": "code",
   "execution_count": 3,
   "metadata": {},
   "outputs": [],
   "source": [
    "train = pd.read_csv(\"./data/통계검증완료/코스닥_standard_train.csv\",index_col=0)\n",
    "test =  pd.read_csv(\"./data/통계검증완료/코스닥_standard_test.csv\",index_col=0)\n",
    "\n",
    "train[\"거래소코드\"] = train[\"거래소코드\"].astype(\"object\")\n",
    "train[\"회계년도\"] = train[\"회계년도\"].astype(\"object\")\n",
    "\n",
    "test[\"거래소코드\"] = test[\"거래소코드\"].astype(\"object\")\n",
    "test[\"회계년도\"] = test[\"회계년도\"].astype(\"object\")"
   ]
  },
  {
   "attachments": {},
   "cell_type": "markdown",
   "metadata": {},
   "source": [
    "----"
   ]
  },
  {
   "cell_type": "code",
   "execution_count": 4,
   "metadata": {},
   "outputs": [
    {
     "name": "stdout",
     "output_type": "stream",
     "text": [
      "<class 'pandas.core.frame.DataFrame'>\n",
      "Index: 4331 entries, 0 to 4330\n",
      "Data columns (total 38 columns):\n",
      " #   Column        Non-Null Count  Dtype  \n",
      "---  ------        --------------  -----  \n",
      " 0   회사명           4331 non-null   object \n",
      " 1   거래소코드         4331 non-null   object \n",
      " 2   회계년도          4331 non-null   object \n",
      " 3   산업군           4331 non-null   object \n",
      " 4   총자본순이익률       4331 non-null   float64\n",
      " 5   매출액증가율차분      4331 non-null   float64\n",
      " 6   매출액증가율        4331 non-null   float64\n",
      " 7   EBIT/총자산      4331 non-null   float64\n",
      " 8   총자본정상영업이익률    4331 non-null   float64\n",
      " 9   EBITDA마진율     4331 non-null   float64\n",
      " 10  당기전기영업손익/매출액  4331 non-null   float64\n",
      " 11  WW지수          4331 non-null   float64\n",
      " 12  차입금의존도        4331 non-null   float64\n",
      " 13  순운전자본비율       4331 non-null   float64\n",
      " 14  현금흐름 대 매출액    4331 non-null   float64\n",
      " 15  현금흐름 대 자산     4331 non-null   float64\n",
      " 16  누적수익성비율       4331 non-null   float64\n",
      " 17  당기전기매출액       4331 non-null   float64\n",
      " 18  CND           4331 non-null   float64\n",
      " 19  당기전기영업손익      4331 non-null   float64\n",
      " 20  타인자본회전률       4331 non-null   float64\n",
      " 21  총자본회전률        4331 non-null   float64\n",
      " 22  금융비용부담률       4331 non-null   float64\n",
      " 23  자본금회전률        4331 non-null   float64\n",
      " 24  WWC변수         4331 non-null   float64\n",
      " 25  FINDEP        4331 non-null   float64\n",
      " 26  총자본증가율        4331 non-null   float64\n",
      " 27  TMD           4331 non-null   float64\n",
      " 28  매출액총이익률       4331 non-null   float64\n",
      " 29  SA지수          4331 non-null   float64\n",
      " 30  합계_기말인원(명)    4331 non-null   float64\n",
      " 31  자기자본증가율       4331 non-null   float64\n",
      " 32  정상영업이익증가율     4331 non-null   float64\n",
      " 33  대주주지분율        4331 non-null   float64\n",
      " 34  자기자본순이익률      4331 non-null   float64\n",
      " 35  target_1      4331 non-null   int64  \n",
      " 36  target_2      4331 non-null   int64  \n",
      " 37  target_3      4331 non-null   int64  \n",
      "dtypes: float64(31), int64(3), object(4)\n",
      "memory usage: 1.3+ MB\n"
     ]
    }
   ],
   "source": [
    "train.info()"
   ]
  },
  {
   "cell_type": "code",
   "execution_count": 5,
   "metadata": {},
   "outputs": [
    {
     "data": {
      "text/plain": [
       "Index(['총자본순이익률', '매출액증가율차분', '매출액증가율', 'EBIT/총자산', '총자본정상영업이익률', 'EBITDA마진율',\n",
       "       '당기전기영업손익/매출액', 'WW지수', '차입금의존도', '순운전자본비율', '현금흐름 대 매출액', '현금흐름 대 자산',\n",
       "       '누적수익성비율', '당기전기매출액', 'CND', '당기전기영업손익', '타인자본회전률', '총자본회전률', '금융비용부담률',\n",
       "       '자본금회전률', 'WWC변수', 'FINDEP', '총자본증가율', 'TMD', '매출액총이익률', 'SA지수',\n",
       "       '합계_기말인원(명)', '자기자본증가율', '정상영업이익증가율', '대주주지분율', '자기자본순이익률'],\n",
       "      dtype='object')"
      ]
     },
     "execution_count": 5,
     "metadata": {},
     "output_type": "execute_result"
    }
   ],
   "source": [
    "col_int = train.select_dtypes(\"float\").columns\n",
    "col_int"
   ]
  },
  {
   "attachments": {},
   "cell_type": "markdown",
   "metadata": {},
   "source": [
    "---\n",
    "#target1\n",
    "---"
   ]
  },
  {
   "cell_type": "code",
   "execution_count": 6,
   "metadata": {},
   "outputs": [],
   "source": [
    "x_train = train[col_int]\n",
    "y_train = train[['target_1']]\n",
    "\n",
    "x_test = test[col_int]\n",
    "y_test = test[['target_1']]"
   ]
  },
  {
   "cell_type": "code",
   "execution_count": 7,
   "metadata": {},
   "outputs": [
    {
     "data": {
      "text/plain": [
       "target_1\n",
       "0           2370\n",
       "1             72\n",
       "Name: count, dtype: int64"
      ]
     },
     "execution_count": 7,
     "metadata": {},
     "output_type": "execute_result"
    }
   ],
   "source": [
    "y_test.value_counts()"
   ]
  },
  {
   "cell_type": "code",
   "execution_count": 8,
   "metadata": {},
   "outputs": [],
   "source": [
    "#  선정된 피쳐를 저장하기 위한 데이터프레임 생성 \n",
    "df_select = pd.DataFrame()\n",
    "# 생성된 데이터프레임의 인덱스 지정\n",
    "df_select.index = x_train.columns"
   ]
  },
  {
   "attachments": {},
   "cell_type": "markdown",
   "metadata": {},
   "source": [
    "---\n",
    "# lasso - 임베디드기법\n",
    "---"
   ]
  },
  {
   "cell_type": "code",
   "execution_count": 9,
   "metadata": {},
   "outputs": [],
   "source": [
    "#  lasso\n",
    "selector = SelectFromModel(estimator=LogisticRegression(penalty='l1',solver='liblinear',C=0.01)).fit(x_train, y_train)\n",
    "df_select[\"lasso_0.01\"] = selector.get_support()\n",
    "\n",
    "selector = SelectFromModel(estimator=LogisticRegression(penalty='l1',solver='liblinear',C=0.05)).fit(x_train, y_train)\n",
    "df_select[\"lasso_0.05\"] = selector.get_support()\n",
    "\n",
    "selector = SelectFromModel(estimator=LogisticRegression(penalty='l1',solver='liblinear',C=0.1)).fit(x_train, y_train)\n",
    "df_select[\"lasso_0.1\"] = selector.get_support()\n"
   ]
  },
  {
   "attachments": {},
   "cell_type": "markdown",
   "metadata": {},
   "source": [
    "---\n",
    "# stepwise - 래퍼기법\n",
    "---"
   ]
  },
  {
   "cell_type": "code",
   "execution_count": 10,
   "metadata": {},
   "outputs": [],
   "source": [
    "# logit foward\n",
    "estimator = LogisticRegression(penalty='l1',solver='liblinear',C=0.05)\n",
    "selector = SequentialFeatureSelector(estimator,direction='forward',cv=5,n_jobs=-1)\n",
    "selector.fit(x_train, y_train)\n",
    "df_select['logit_fwd'] = selector.get_support().tolist()\n",
    "# logit backward\n",
    "selector = SequentialFeatureSelector(estimator,direction='backward',cv=5,n_jobs=-1)\n",
    "selector.fit(x_train, y_train)\n",
    "df_select['logit_bwd'] = selector.get_support().tolist()"
   ]
  },
  {
   "cell_type": "code",
   "execution_count": 11,
   "metadata": {},
   "outputs": [],
   "source": [
    "# lda foward\n",
    "estimator = LinearDiscriminantAnalysis(solver='svd')\n",
    "selector = SequentialFeatureSelector(estimator,direction='forward',cv=5,n_jobs=-1)\n",
    "selector.fit(x_train, y_train)\n",
    "df_select['lda_fwd'] = selector.get_support().tolist()\n",
    "# lda backward\n",
    "selector = SequentialFeatureSelector(estimator,direction='backward',cv=5,n_jobs=-1,)\n",
    "selector.fit(x_train, y_train)\n",
    "df_select['lda_bwd'] = selector.get_support().tolist()"
   ]
  },
  {
   "attachments": {},
   "cell_type": "markdown",
   "metadata": {},
   "source": [
    "---\n",
    "## 비모수적 방법\n",
    "---"
   ]
  },
  {
   "cell_type": "code",
   "execution_count": 12,
   "metadata": {},
   "outputs": [],
   "source": [
    "# # RandomForest_foward\n",
    "# estimator = RandomForestClassifier()\n",
    "# selector = SequentialFeatureSelector(estimator,direction='forward',cv=2,n_jobs=-1)\n",
    "# selector.fit(x_train, y_train)\n",
    "# df_select['RFC_fwd'] = selector.get_support().tolist()\n",
    "# # RandomForest _ backward\n",
    "# selector = SequentialFeatureSelector(estimator,direction='backward',cv=2,n_jobs=-1)\n",
    "# selector.fit(x_train, y_train)\n",
    "# df_select['RFC_bwd'] = selector.get_support().tolist()"
   ]
  },
  {
   "attachments": {},
   "cell_type": "markdown",
   "metadata": {},
   "source": [
    "---\n",
    "## 최종 select\n",
    "---"
   ]
  },
  {
   "cell_type": "code",
   "execution_count": 13,
   "metadata": {},
   "outputs": [
    {
     "data": {
      "text/plain": [
       "Index(['총자본순이익률', 'WW지수', '현금흐름 대 매출액', '누적수익성비율', 'CND', 'TMD', '자기자본순이익률'], dtype='object')"
      ]
     },
     "execution_count": 13,
     "metadata": {},
     "output_type": "execute_result"
    }
   ],
   "source": [
    "for col in df_select.columns.to_list():\n",
    "    df_select[col] = df_select[col].apply(lambda x : 1 if x==True else 0)\n",
    "df_select['total'] = df_select.sum(axis=1)\n",
    "df_select[df_select['total']>=5].index"
   ]
  },
  {
   "cell_type": "code",
   "execution_count": 14,
   "metadata": {},
   "outputs": [
    {
     "data": {
      "text/html": [
       "<div>\n",
       "<style scoped>\n",
       "    .dataframe tbody tr th:only-of-type {\n",
       "        vertical-align: middle;\n",
       "    }\n",
       "\n",
       "    .dataframe tbody tr th {\n",
       "        vertical-align: top;\n",
       "    }\n",
       "\n",
       "    .dataframe thead th {\n",
       "        text-align: right;\n",
       "    }\n",
       "</style>\n",
       "<table border=\"1\" class=\"dataframe\">\n",
       "  <thead>\n",
       "    <tr style=\"text-align: right;\">\n",
       "      <th></th>\n",
       "      <th>lasso_0.01</th>\n",
       "      <th>lasso_0.05</th>\n",
       "      <th>lasso_0.1</th>\n",
       "      <th>logit_fwd</th>\n",
       "      <th>logit_bwd</th>\n",
       "      <th>lda_fwd</th>\n",
       "      <th>lda_bwd</th>\n",
       "      <th>total</th>\n",
       "    </tr>\n",
       "  </thead>\n",
       "  <tbody>\n",
       "    <tr>\n",
       "      <th>총자본순이익률</th>\n",
       "      <td>1</td>\n",
       "      <td>1</td>\n",
       "      <td>1</td>\n",
       "      <td>0</td>\n",
       "      <td>0</td>\n",
       "      <td>1</td>\n",
       "      <td>1</td>\n",
       "      <td>5</td>\n",
       "    </tr>\n",
       "    <tr>\n",
       "      <th>WW지수</th>\n",
       "      <td>0</td>\n",
       "      <td>1</td>\n",
       "      <td>1</td>\n",
       "      <td>0</td>\n",
       "      <td>1</td>\n",
       "      <td>1</td>\n",
       "      <td>1</td>\n",
       "      <td>5</td>\n",
       "    </tr>\n",
       "    <tr>\n",
       "      <th>현금흐름 대 매출액</th>\n",
       "      <td>1</td>\n",
       "      <td>1</td>\n",
       "      <td>1</td>\n",
       "      <td>0</td>\n",
       "      <td>1</td>\n",
       "      <td>0</td>\n",
       "      <td>1</td>\n",
       "      <td>5</td>\n",
       "    </tr>\n",
       "    <tr>\n",
       "      <th>누적수익성비율</th>\n",
       "      <td>1</td>\n",
       "      <td>1</td>\n",
       "      <td>1</td>\n",
       "      <td>1</td>\n",
       "      <td>1</td>\n",
       "      <td>0</td>\n",
       "      <td>0</td>\n",
       "      <td>5</td>\n",
       "    </tr>\n",
       "    <tr>\n",
       "      <th>CND</th>\n",
       "      <td>1</td>\n",
       "      <td>1</td>\n",
       "      <td>1</td>\n",
       "      <td>1</td>\n",
       "      <td>1</td>\n",
       "      <td>0</td>\n",
       "      <td>1</td>\n",
       "      <td>6</td>\n",
       "    </tr>\n",
       "    <tr>\n",
       "      <th>TMD</th>\n",
       "      <td>1</td>\n",
       "      <td>1</td>\n",
       "      <td>1</td>\n",
       "      <td>1</td>\n",
       "      <td>1</td>\n",
       "      <td>1</td>\n",
       "      <td>1</td>\n",
       "      <td>7</td>\n",
       "    </tr>\n",
       "    <tr>\n",
       "      <th>자기자본순이익률</th>\n",
       "      <td>0</td>\n",
       "      <td>0</td>\n",
       "      <td>1</td>\n",
       "      <td>1</td>\n",
       "      <td>1</td>\n",
       "      <td>1</td>\n",
       "      <td>1</td>\n",
       "      <td>5</td>\n",
       "    </tr>\n",
       "  </tbody>\n",
       "</table>\n",
       "</div>"
      ],
      "text/plain": [
       "            lasso_0.01  lasso_0.05  lasso_0.1  logit_fwd  logit_bwd  lda_fwd   \n",
       "총자본순이익률              1           1          1          0          0        1  \\\n",
       "WW지수                 0           1          1          0          1        1   \n",
       "현금흐름 대 매출액           1           1          1          0          1        0   \n",
       "누적수익성비율              1           1          1          1          1        0   \n",
       "CND                  1           1          1          1          1        0   \n",
       "TMD                  1           1          1          1          1        1   \n",
       "자기자본순이익률             0           0          1          1          1        1   \n",
       "\n",
       "            lda_bwd  total  \n",
       "총자본순이익률           1      5  \n",
       "WW지수              1      5  \n",
       "현금흐름 대 매출액        1      5  \n",
       "누적수익성비율           0      5  \n",
       "CND               1      6  \n",
       "TMD               1      7  \n",
       "자기자본순이익률          1      5  "
      ]
     },
     "execution_count": 14,
     "metadata": {},
     "output_type": "execute_result"
    }
   ],
   "source": [
    "df_select[df_select['total']>=5]"
   ]
  },
  {
   "cell_type": "code",
   "execution_count": 15,
   "metadata": {},
   "outputs": [],
   "source": [
    "최종_col =df_select[df_select['total']>=5].index.to_list()\n",
    "\n",
    "# temp = ['EBIT/총자산', 'TMD', 'EBITDA마진율', '누적수익성비율', 'abs(영업현금흐름-당기순이익)/매출액', '순운전자본비율','당기전기영업손익']\n",
    "x_train_1 = x_train[최종_col]\n",
    "x_test_1 = x_test[최종_col]"
   ]
  },
  {
   "cell_type": "code",
   "execution_count": 16,
   "metadata": {},
   "outputs": [
    {
     "data": {
      "text/plain": [
       "<Axes: title={'center': 'Correlation of Features'}>"
      ]
     },
     "execution_count": 16,
     "metadata": {},
     "output_type": "execute_result"
    },
    {
     "data": {
      "image/png": "[encoded data removed]",
      "text/plain": [
       "<Figure size 2000x2000 with 2 Axes>"
      ]
     },
     "metadata": {},
     "output_type": "display_data"
    }
   ],
   "source": [
    "colormap = plt.cm.hot\n",
    "\n",
    "corr = x_train_1.corr()\n",
    "mask = np.triu(np.ones_like(corr, dtype=np.bool))\n",
    "plt.figure(figsize=(20, 20))\n",
    "plt.rcParams['axes.unicode_minus'] = False\n",
    "plt.rc('font', family=\"Malgun Gothic\")\n",
    "plt.title(\"Correlation of Features\", y=1.05, size=15)\n",
    "sns.heatmap(corr,  linewidths=0.1, vmax=1.0, vmin=-1.0, square=True,mask=mask,\n",
    "            cmap='RdYlBu_r', linecolor=\"white\", annot=True, annot_kws={'size': 10})"
   ]
  },
  {
   "cell_type": "code",
   "execution_count": 17,
   "metadata": {},
   "outputs": [
    {
     "name": "stdout",
     "output_type": "stream",
     "text": [
      "[[4157    9]\n",
      " [  69   96]]\n",
      "[[4157    9]\n",
      " [  80   85]]\n",
      "[[4054  112]\n",
      " [  46  119]]\n",
      "[[4166    0]\n",
      " [   0  165]]\n",
      "[[4166    0]\n",
      " [   0  165]]\n"
     ]
    },
    {
     "data": {
      "text/html": [
       "<div>\n",
       "<style scoped>\n",
       "    .dataframe tbody tr th:only-of-type {\n",
       "        vertical-align: middle;\n",
       "    }\n",
       "\n",
       "    .dataframe tbody tr th {\n",
       "        vertical-align: top;\n",
       "    }\n",
       "\n",
       "    .dataframe thead th {\n",
       "        text-align: right;\n",
       "    }\n",
       "</style>\n",
       "<table border=\"1\" class=\"dataframe\">\n",
       "  <thead>\n",
       "    <tr style=\"text-align: right;\">\n",
       "      <th></th>\n",
       "      <th>model</th>\n",
       "      <th>accuracy</th>\n",
       "      <th>precision</th>\n",
       "      <th>recall</th>\n",
       "      <th>f1_score</th>\n",
       "      <th>auc_score</th>\n",
       "    </tr>\n",
       "  </thead>\n",
       "  <tbody>\n",
       "    <tr>\n",
       "      <th>0</th>\n",
       "      <td>LogisticRegression()</td>\n",
       "      <td>0.9820</td>\n",
       "      <td>0.9143</td>\n",
       "      <td>0.5818</td>\n",
       "      <td>0.7111</td>\n",
       "      <td>0.9554</td>\n",
       "    </tr>\n",
       "    <tr>\n",
       "      <th>1</th>\n",
       "      <td>LinearDiscriminantAnalysis()</td>\n",
       "      <td>0.9795</td>\n",
       "      <td>0.9043</td>\n",
       "      <td>0.5152</td>\n",
       "      <td>0.6564</td>\n",
       "      <td>0.9528</td>\n",
       "    </tr>\n",
       "    <tr>\n",
       "      <th>2</th>\n",
       "      <td>GaussianNB()</td>\n",
       "      <td>0.9635</td>\n",
       "      <td>0.5152</td>\n",
       "      <td>0.7212</td>\n",
       "      <td>0.6010</td>\n",
       "      <td>0.9497</td>\n",
       "    </tr>\n",
       "    <tr>\n",
       "      <th>3</th>\n",
       "      <td>(DecisionTreeClassifier(max_features='sqrt', r...</td>\n",
       "      <td>1.0000</td>\n",
       "      <td>1.0000</td>\n",
       "      <td>1.0000</td>\n",
       "      <td>1.0000</td>\n",
       "      <td>1.0000</td>\n",
       "    </tr>\n",
       "    <tr>\n",
       "      <th>4</th>\n",
       "      <td>XGBClassifier(base_score=None, booster=None, c...</td>\n",
       "      <td>1.0000</td>\n",
       "      <td>1.0000</td>\n",
       "      <td>1.0000</td>\n",
       "      <td>1.0000</td>\n",
       "      <td>1.0000</td>\n",
       "    </tr>\n",
       "  </tbody>\n",
       "</table>\n",
       "</div>"
      ],
      "text/plain": [
       "                                               model  accuracy  precision   \n",
       "0                               LogisticRegression()    0.9820     0.9143  \\\n",
       "1                       LinearDiscriminantAnalysis()    0.9795     0.9043   \n",
       "2                                       GaussianNB()    0.9635     0.5152   \n",
       "3  (DecisionTreeClassifier(max_features='sqrt', r...    1.0000     1.0000   \n",
       "4  XGBClassifier(base_score=None, booster=None, c...    1.0000     1.0000   \n",
       "\n",
       "   recall  f1_score  auc_score  \n",
       "0  0.5818    0.7111     0.9554  \n",
       "1  0.5152    0.6564     0.9528  \n",
       "2  0.7212    0.6010     0.9497  \n",
       "3  1.0000    1.0000     1.0000  \n",
       "4  1.0000    1.0000     1.0000  "
      ]
     },
     "execution_count": 17,
     "metadata": {},
     "output_type": "execute_result"
    }
   ],
   "source": [
    "model_basic(x_train_1,y_train,x_train_1,y_train)"
   ]
  },
  {
   "cell_type": "code",
   "execution_count": 18,
   "metadata": {},
   "outputs": [
    {
     "name": "stdout",
     "output_type": "stream",
     "text": [
      "[[2360   10]\n",
      " [  25   47]]\n",
      "[[2358   12]\n",
      " [  28   44]]\n",
      "[[2292   78]\n",
      " [  12   60]]\n",
      "[[2360   10]\n",
      " [  23   49]]\n",
      "[[2359   11]\n",
      " [  24   48]]\n"
     ]
    },
    {
     "data": {
      "text/html": [
       "<div>\n",
       "<style scoped>\n",
       "    .dataframe tbody tr th:only-of-type {\n",
       "        vertical-align: middle;\n",
       "    }\n",
       "\n",
       "    .dataframe tbody tr th {\n",
       "        vertical-align: top;\n",
       "    }\n",
       "\n",
       "    .dataframe thead th {\n",
       "        text-align: right;\n",
       "    }\n",
       "</style>\n",
       "<table border=\"1\" class=\"dataframe\">\n",
       "  <thead>\n",
       "    <tr style=\"text-align: right;\">\n",
       "      <th></th>\n",
       "      <th>model</th>\n",
       "      <th>accuracy</th>\n",
       "      <th>precision</th>\n",
       "      <th>recall</th>\n",
       "      <th>f1_score</th>\n",
       "      <th>auc_score</th>\n",
       "    </tr>\n",
       "  </thead>\n",
       "  <tbody>\n",
       "    <tr>\n",
       "      <th>0</th>\n",
       "      <td>LogisticRegression()</td>\n",
       "      <td>0.9857</td>\n",
       "      <td>0.8246</td>\n",
       "      <td>0.6528</td>\n",
       "      <td>0.7287</td>\n",
       "      <td>0.9761</td>\n",
       "    </tr>\n",
       "    <tr>\n",
       "      <th>1</th>\n",
       "      <td>LinearDiscriminantAnalysis()</td>\n",
       "      <td>0.9836</td>\n",
       "      <td>0.7857</td>\n",
       "      <td>0.6111</td>\n",
       "      <td>0.6875</td>\n",
       "      <td>0.9757</td>\n",
       "    </tr>\n",
       "    <tr>\n",
       "      <th>2</th>\n",
       "      <td>GaussianNB()</td>\n",
       "      <td>0.9631</td>\n",
       "      <td>0.4348</td>\n",
       "      <td>0.8333</td>\n",
       "      <td>0.5714</td>\n",
       "      <td>0.9727</td>\n",
       "    </tr>\n",
       "    <tr>\n",
       "      <th>3</th>\n",
       "      <td>(DecisionTreeClassifier(max_features='sqrt', r...</td>\n",
       "      <td>0.9865</td>\n",
       "      <td>0.8305</td>\n",
       "      <td>0.6806</td>\n",
       "      <td>0.7481</td>\n",
       "      <td>0.9702</td>\n",
       "    </tr>\n",
       "    <tr>\n",
       "      <th>4</th>\n",
       "      <td>XGBClassifier(base_score=None, booster=None, c...</td>\n",
       "      <td>0.9857</td>\n",
       "      <td>0.8136</td>\n",
       "      <td>0.6667</td>\n",
       "      <td>0.7328</td>\n",
       "      <td>0.9733</td>\n",
       "    </tr>\n",
       "  </tbody>\n",
       "</table>\n",
       "</div>"
      ],
      "text/plain": [
       "                                               model  accuracy  precision   \n",
       "0                               LogisticRegression()    0.9857     0.8246  \\\n",
       "1                       LinearDiscriminantAnalysis()    0.9836     0.7857   \n",
       "2                                       GaussianNB()    0.9631     0.4348   \n",
       "3  (DecisionTreeClassifier(max_features='sqrt', r...    0.9865     0.8305   \n",
       "4  XGBClassifier(base_score=None, booster=None, c...    0.9857     0.8136   \n",
       "\n",
       "   recall  f1_score  auc_score  \n",
       "0  0.6528    0.7287     0.9761  \n",
       "1  0.6111    0.6875     0.9757  \n",
       "2  0.8333    0.5714     0.9727  \n",
       "3  0.6806    0.7481     0.9702  \n",
       "4  0.6667    0.7328     0.9733  "
      ]
     },
     "execution_count": 18,
     "metadata": {},
     "output_type": "execute_result"
    }
   ],
   "source": [
    "model_basic(x_train_1,y_train,x_test_1,y_test)"
   ]
  },
  {
   "attachments": {},
   "cell_type": "markdown",
   "metadata": {},
   "source": [
    "-----\n",
    "# target2"
   ]
  },
  {
   "cell_type": "code",
   "execution_count": 19,
   "metadata": {},
   "outputs": [],
   "source": [
    "x_train = train[col_int]\n",
    "y_train = train[['target_2']]\n",
    "\n",
    "x_test = test[col_int]\n",
    "y_test = test[['target_2']]\n",
    "\n",
    "#  선정된 피쳐를 저장하기 위한 데이터프레임 생성 \n",
    "df_select_2 = pd.DataFrame()\n",
    "# 생성된 데이터프레임의 인덱스 지정\n",
    "df_select_2.index = x_train.columns"
   ]
  },
  {
   "cell_type": "code",
   "execution_count": 20,
   "metadata": {},
   "outputs": [],
   "source": [
    "#  lasso\n",
    "selector = SelectFromModel(estimator=LogisticRegression(penalty='l1',solver='liblinear',C=0.01)).fit(x_train, y_train)\n",
    "df_select_2[\"lasso_0.01\"] = selector.get_support()\n",
    "\n",
    "selector = SelectFromModel(estimator=LogisticRegression(penalty='l1',solver='liblinear',C=0.05)).fit(x_train, y_train)\n",
    "df_select_2[\"lasso_0.05\"] = selector.get_support()\n",
    "\n",
    "selector = SelectFromModel(estimator=LogisticRegression(penalty='l1',solver='liblinear',C=0.1)).fit(x_train, y_train)\n",
    "df_select_2[\"lasso_0.1\"] = selector.get_support()\n",
    "\n",
    "# logit foward\n",
    "estimator = LogisticRegression(penalty='l1',solver='liblinear',C=0.05)\n",
    "selector = SequentialFeatureSelector(estimator,direction='forward',cv=5,n_jobs=-1)\n",
    "selector.fit(x_train, y_train)\n",
    "df_select_2['logit_fwd'] = selector.get_support().tolist()\n",
    "# logit backward\n",
    "selector = SequentialFeatureSelector(estimator,direction='backward',cv=5,n_jobs=-1)\n",
    "selector.fit(x_train, y_train)\n",
    "df_select_2['logit_bwd'] = selector.get_support().tolist()\n",
    "\n",
    "\n",
    "# lda foward\n",
    "estimator = LinearDiscriminantAnalysis(solver='svd')\n",
    "selector = SequentialFeatureSelector(estimator,direction='forward',cv=5,n_jobs=-1)\n",
    "selector.fit(x_train, y_train)\n",
    "df_select_2['lda_fwd'] = selector.get_support().tolist()\n",
    "# lda backward\n",
    "selector = SequentialFeatureSelector(estimator,direction='backward',cv=5,n_jobs=-1,)\n",
    "selector.fit(x_train, y_train)\n",
    "df_select_2['lda_bwd'] = selector.get_support().tolist()\n",
    "\n",
    "# # RandomForest_foward\n",
    "# estimator = RandomForestClassifier()\n",
    "# selector = SequentialFeatureSelector(estimator,direction='forward',cv=2,n_jobs=-1)\n",
    "# selector.fit(x_train, y_train)\n",
    "# df_select_2['RFC_fwd'] = selector.get_support().tolist()\n",
    "# # RandomForest _ backward\n",
    "# selector = SequentialFeatureSelector(estimator,direction='backward',cv=2,n_jobs=-1)\n",
    "# selector.fit(x_train, y_train)\n",
    "# df_select_2['RFC_bwd'] = selector.get_support().tolist()"
   ]
  },
  {
   "cell_type": "code",
   "execution_count": 21,
   "metadata": {},
   "outputs": [
    {
     "data": {
      "text/plain": [
       "Index(['총자본순이익률', 'WW지수', '현금흐름 대 매출액', '누적수익성비율', 'CND', 'TMD', '자기자본순이익률'], dtype='object')"
      ]
     },
     "execution_count": 21,
     "metadata": {},
     "output_type": "execute_result"
    }
   ],
   "source": [
    "for col in df_select_2.columns.to_list():\n",
    "    df_select_2[col] = df_select_2[col].apply(lambda x : 1 if x==True else 0)\n",
    "df_select_2['total'] = df_select_2.sum(axis=1)\n",
    "df_select_2[df_select_2['total']>=5].index\n"
   ]
  },
  {
   "cell_type": "code",
   "execution_count": 22,
   "metadata": {},
   "outputs": [
    {
     "data": {
      "text/html": [
       "<div>\n",
       "<style scoped>\n",
       "    .dataframe tbody tr th:only-of-type {\n",
       "        vertical-align: middle;\n",
       "    }\n",
       "\n",
       "    .dataframe tbody tr th {\n",
       "        vertical-align: top;\n",
       "    }\n",
       "\n",
       "    .dataframe thead th {\n",
       "        text-align: right;\n",
       "    }\n",
       "</style>\n",
       "<table border=\"1\" class=\"dataframe\">\n",
       "  <thead>\n",
       "    <tr style=\"text-align: right;\">\n",
       "      <th></th>\n",
       "      <th>lasso_0.01</th>\n",
       "      <th>lasso_0.05</th>\n",
       "      <th>lasso_0.1</th>\n",
       "      <th>logit_fwd</th>\n",
       "      <th>logit_bwd</th>\n",
       "      <th>lda_fwd</th>\n",
       "      <th>lda_bwd</th>\n",
       "      <th>total</th>\n",
       "    </tr>\n",
       "  </thead>\n",
       "  <tbody>\n",
       "    <tr>\n",
       "      <th>총자본순이익률</th>\n",
       "      <td>1</td>\n",
       "      <td>1</td>\n",
       "      <td>1</td>\n",
       "      <td>0</td>\n",
       "      <td>0</td>\n",
       "      <td>1</td>\n",
       "      <td>1</td>\n",
       "      <td>5</td>\n",
       "    </tr>\n",
       "    <tr>\n",
       "      <th>WW지수</th>\n",
       "      <td>0</td>\n",
       "      <td>1</td>\n",
       "      <td>1</td>\n",
       "      <td>0</td>\n",
       "      <td>1</td>\n",
       "      <td>1</td>\n",
       "      <td>1</td>\n",
       "      <td>5</td>\n",
       "    </tr>\n",
       "    <tr>\n",
       "      <th>현금흐름 대 매출액</th>\n",
       "      <td>1</td>\n",
       "      <td>1</td>\n",
       "      <td>1</td>\n",
       "      <td>0</td>\n",
       "      <td>1</td>\n",
       "      <td>0</td>\n",
       "      <td>1</td>\n",
       "      <td>5</td>\n",
       "    </tr>\n",
       "    <tr>\n",
       "      <th>누적수익성비율</th>\n",
       "      <td>1</td>\n",
       "      <td>1</td>\n",
       "      <td>1</td>\n",
       "      <td>1</td>\n",
       "      <td>1</td>\n",
       "      <td>0</td>\n",
       "      <td>0</td>\n",
       "      <td>5</td>\n",
       "    </tr>\n",
       "    <tr>\n",
       "      <th>CND</th>\n",
       "      <td>1</td>\n",
       "      <td>1</td>\n",
       "      <td>1</td>\n",
       "      <td>1</td>\n",
       "      <td>1</td>\n",
       "      <td>0</td>\n",
       "      <td>1</td>\n",
       "      <td>6</td>\n",
       "    </tr>\n",
       "    <tr>\n",
       "      <th>TMD</th>\n",
       "      <td>1</td>\n",
       "      <td>1</td>\n",
       "      <td>1</td>\n",
       "      <td>1</td>\n",
       "      <td>1</td>\n",
       "      <td>1</td>\n",
       "      <td>1</td>\n",
       "      <td>7</td>\n",
       "    </tr>\n",
       "    <tr>\n",
       "      <th>자기자본순이익률</th>\n",
       "      <td>0</td>\n",
       "      <td>0</td>\n",
       "      <td>1</td>\n",
       "      <td>1</td>\n",
       "      <td>1</td>\n",
       "      <td>1</td>\n",
       "      <td>1</td>\n",
       "      <td>5</td>\n",
       "    </tr>\n",
       "  </tbody>\n",
       "</table>\n",
       "</div>"
      ],
      "text/plain": [
       "            lasso_0.01  lasso_0.05  lasso_0.1  logit_fwd  logit_bwd  lda_fwd   \n",
       "총자본순이익률              1           1          1          0          0        1  \\\n",
       "WW지수                 0           1          1          0          1        1   \n",
       "현금흐름 대 매출액           1           1          1          0          1        0   \n",
       "누적수익성비율              1           1          1          1          1        0   \n",
       "CND                  1           1          1          1          1        0   \n",
       "TMD                  1           1          1          1          1        1   \n",
       "자기자본순이익률             0           0          1          1          1        1   \n",
       "\n",
       "            lda_bwd  total  \n",
       "총자본순이익률           1      5  \n",
       "WW지수              1      5  \n",
       "현금흐름 대 매출액        1      5  \n",
       "누적수익성비율           0      5  \n",
       "CND               1      6  \n",
       "TMD               1      7  \n",
       "자기자본순이익률          1      5  "
      ]
     },
     "execution_count": 22,
     "metadata": {},
     "output_type": "execute_result"
    }
   ],
   "source": [
    "df_select_2[df_select_2['total']>=5]"
   ]
  },
  {
   "cell_type": "code",
   "execution_count": 23,
   "metadata": {},
   "outputs": [],
   "source": [
    "최종_col =df_select_2[df_select_2['total']>=5].index.to_list()\n",
    "\n",
    "x_train_2 = x_train[최종_col]\n",
    "x_test_2 = x_test[최종_col]"
   ]
  },
  {
   "cell_type": "code",
   "execution_count": 24,
   "metadata": {},
   "outputs": [
    {
     "data": {
      "text/plain": [
       "<Axes: title={'center': 'Correlation of Features'}>"
      ]
     },
     "execution_count": 24,
     "metadata": {},
     "output_type": "execute_result"
    },
    {
     "data": {
      "image/png": "[encoded data removed]",
      "text/plain": [
       "<Figure size 2000x2000 with 2 Axes>"
      ]
     },
     "metadata": {},
     "output_type": "display_data"
    }
   ],
   "source": [
    "colormap = plt.cm.hot\n",
    "\n",
    "corr = x_train_2.corr()\n",
    "mask = np.triu(np.ones_like(corr, dtype=np.bool))\n",
    "plt.figure(figsize=(20, 20))\n",
    "plt.rcParams['axes.unicode_minus'] = False\n",
    "plt.rc('font', family=\"Malgun Gothic\")\n",
    "plt.title(\"Correlation of Features\", y=1.05, size=15)\n",
    "sns.heatmap(corr,  linewidths=0.1, vmax=1.0, vmin=-1.0, square=True,mask=mask,\n",
    "            cmap='RdYlBu_r', linecolor=\"white\", annot=True, annot_kws={'size': 10})"
   ]
  },
  {
   "cell_type": "code",
   "execution_count": 25,
   "metadata": {},
   "outputs": [
    {
     "name": "stdout",
     "output_type": "stream",
     "text": [
      "[[4157    9]\n",
      " [  69   96]]\n",
      "[[4157    9]\n",
      " [  80   85]]\n",
      "[[4054  112]\n",
      " [  46  119]]\n",
      "[[4166    0]\n",
      " [   0  165]]\n",
      "[[4166    0]\n",
      " [   0  165]]\n"
     ]
    },
    {
     "data": {
      "text/html": [
       "<div>\n",
       "<style scoped>\n",
       "    .dataframe tbody tr th:only-of-type {\n",
       "        vertical-align: middle;\n",
       "    }\n",
       "\n",
       "    .dataframe tbody tr th {\n",
       "        vertical-align: top;\n",
       "    }\n",
       "\n",
       "    .dataframe thead th {\n",
       "        text-align: right;\n",
       "    }\n",
       "</style>\n",
       "<table border=\"1\" class=\"dataframe\">\n",
       "  <thead>\n",
       "    <tr style=\"text-align: right;\">\n",
       "      <th></th>\n",
       "      <th>model</th>\n",
       "      <th>accuracy</th>\n",
       "      <th>precision</th>\n",
       "      <th>recall</th>\n",
       "      <th>f1_score</th>\n",
       "      <th>auc_score</th>\n",
       "    </tr>\n",
       "  </thead>\n",
       "  <tbody>\n",
       "    <tr>\n",
       "      <th>0</th>\n",
       "      <td>LogisticRegression()</td>\n",
       "      <td>0.9820</td>\n",
       "      <td>0.9143</td>\n",
       "      <td>0.5818</td>\n",
       "      <td>0.7111</td>\n",
       "      <td>0.9554</td>\n",
       "    </tr>\n",
       "    <tr>\n",
       "      <th>1</th>\n",
       "      <td>LinearDiscriminantAnalysis()</td>\n",
       "      <td>0.9795</td>\n",
       "      <td>0.9043</td>\n",
       "      <td>0.5152</td>\n",
       "      <td>0.6564</td>\n",
       "      <td>0.9528</td>\n",
       "    </tr>\n",
       "    <tr>\n",
       "      <th>2</th>\n",
       "      <td>GaussianNB()</td>\n",
       "      <td>0.9635</td>\n",
       "      <td>0.5152</td>\n",
       "      <td>0.7212</td>\n",
       "      <td>0.6010</td>\n",
       "      <td>0.9497</td>\n",
       "    </tr>\n",
       "    <tr>\n",
       "      <th>3</th>\n",
       "      <td>(DecisionTreeClassifier(max_features='sqrt', r...</td>\n",
       "      <td>1.0000</td>\n",
       "      <td>1.0000</td>\n",
       "      <td>1.0000</td>\n",
       "      <td>1.0000</td>\n",
       "      <td>1.0000</td>\n",
       "    </tr>\n",
       "    <tr>\n",
       "      <th>4</th>\n",
       "      <td>XGBClassifier(base_score=None, booster=None, c...</td>\n",
       "      <td>1.0000</td>\n",
       "      <td>1.0000</td>\n",
       "      <td>1.0000</td>\n",
       "      <td>1.0000</td>\n",
       "      <td>1.0000</td>\n",
       "    </tr>\n",
       "  </tbody>\n",
       "</table>\n",
       "</div>"
      ],
      "text/plain": [
       "                                               model  accuracy  precision   \n",
       "0                               LogisticRegression()    0.9820     0.9143  \\\n",
       "1                       LinearDiscriminantAnalysis()    0.9795     0.9043   \n",
       "2                                       GaussianNB()    0.9635     0.5152   \n",
       "3  (DecisionTreeClassifier(max_features='sqrt', r...    1.0000     1.0000   \n",
       "4  XGBClassifier(base_score=None, booster=None, c...    1.0000     1.0000   \n",
       "\n",
       "   recall  f1_score  auc_score  \n",
       "0  0.5818    0.7111     0.9554  \n",
       "1  0.5152    0.6564     0.9528  \n",
       "2  0.7212    0.6010     0.9497  \n",
       "3  1.0000    1.0000     1.0000  \n",
       "4  1.0000    1.0000     1.0000  "
      ]
     },
     "execution_count": 25,
     "metadata": {},
     "output_type": "execute_result"
    }
   ],
   "source": [
    "model_basic(x_train_2,y_train,x_train_2,y_train)"
   ]
  },
  {
   "cell_type": "code",
   "execution_count": 26,
   "metadata": {},
   "outputs": [
    {
     "name": "stdout",
     "output_type": "stream",
     "text": [
      "[[2360   10]\n",
      " [  25   47]]\n",
      "[[2358   12]\n",
      " [  28   44]]\n",
      "[[2292   78]\n",
      " [  12   60]]\n",
      "[[2359   11]\n",
      " [  24   48]]\n",
      "[[2359   11]\n",
      " [  24   48]]\n"
     ]
    },
    {
     "data": {
      "text/html": [
       "<div>\n",
       "<style scoped>\n",
       "    .dataframe tbody tr th:only-of-type {\n",
       "        vertical-align: middle;\n",
       "    }\n",
       "\n",
       "    .dataframe tbody tr th {\n",
       "        vertical-align: top;\n",
       "    }\n",
       "\n",
       "    .dataframe thead th {\n",
       "        text-align: right;\n",
       "    }\n",
       "</style>\n",
       "<table border=\"1\" class=\"dataframe\">\n",
       "  <thead>\n",
       "    <tr style=\"text-align: right;\">\n",
       "      <th></th>\n",
       "      <th>model</th>\n",
       "      <th>accuracy</th>\n",
       "      <th>precision</th>\n",
       "      <th>recall</th>\n",
       "      <th>f1_score</th>\n",
       "      <th>auc_score</th>\n",
       "    </tr>\n",
       "  </thead>\n",
       "  <tbody>\n",
       "    <tr>\n",
       "      <th>0</th>\n",
       "      <td>LogisticRegression()</td>\n",
       "      <td>0.9857</td>\n",
       "      <td>0.8246</td>\n",
       "      <td>0.6528</td>\n",
       "      <td>0.7287</td>\n",
       "      <td>0.9761</td>\n",
       "    </tr>\n",
       "    <tr>\n",
       "      <th>1</th>\n",
       "      <td>LinearDiscriminantAnalysis()</td>\n",
       "      <td>0.9836</td>\n",
       "      <td>0.7857</td>\n",
       "      <td>0.6111</td>\n",
       "      <td>0.6875</td>\n",
       "      <td>0.9757</td>\n",
       "    </tr>\n",
       "    <tr>\n",
       "      <th>2</th>\n",
       "      <td>GaussianNB()</td>\n",
       "      <td>0.9631</td>\n",
       "      <td>0.4348</td>\n",
       "      <td>0.8333</td>\n",
       "      <td>0.5714</td>\n",
       "      <td>0.9727</td>\n",
       "    </tr>\n",
       "    <tr>\n",
       "      <th>3</th>\n",
       "      <td>(DecisionTreeClassifier(max_features='sqrt', r...</td>\n",
       "      <td>0.9857</td>\n",
       "      <td>0.8136</td>\n",
       "      <td>0.6667</td>\n",
       "      <td>0.7328</td>\n",
       "      <td>0.9688</td>\n",
       "    </tr>\n",
       "    <tr>\n",
       "      <th>4</th>\n",
       "      <td>XGBClassifier(base_score=None, booster=None, c...</td>\n",
       "      <td>0.9857</td>\n",
       "      <td>0.8136</td>\n",
       "      <td>0.6667</td>\n",
       "      <td>0.7328</td>\n",
       "      <td>0.9733</td>\n",
       "    </tr>\n",
       "  </tbody>\n",
       "</table>\n",
       "</div>"
      ],
      "text/plain": [
       "                                               model  accuracy  precision   \n",
       "0                               LogisticRegression()    0.9857     0.8246  \\\n",
       "1                       LinearDiscriminantAnalysis()    0.9836     0.7857   \n",
       "2                                       GaussianNB()    0.9631     0.4348   \n",
       "3  (DecisionTreeClassifier(max_features='sqrt', r...    0.9857     0.8136   \n",
       "4  XGBClassifier(base_score=None, booster=None, c...    0.9857     0.8136   \n",
       "\n",
       "   recall  f1_score  auc_score  \n",
       "0  0.6528    0.7287     0.9761  \n",
       "1  0.6111    0.6875     0.9757  \n",
       "2  0.8333    0.5714     0.9727  \n",
       "3  0.6667    0.7328     0.9688  \n",
       "4  0.6667    0.7328     0.9733  "
      ]
     },
     "execution_count": 26,
     "metadata": {},
     "output_type": "execute_result"
    }
   ],
   "source": [
    "model_basic(x_train_2,y_train,x_test_2,y_test)"
   ]
  },
  {
   "attachments": {},
   "cell_type": "markdown",
   "metadata": {},
   "source": [
    "----\n",
    "# target3"
   ]
  },
  {
   "cell_type": "code",
   "execution_count": 27,
   "metadata": {},
   "outputs": [],
   "source": [
    "x_train = train[col_int]\n",
    "y_train = train[['target_3']]\n",
    "\n",
    "x_test = test[col_int]\n",
    "y_test = test[['target_3']]\n",
    "\n",
    "c= train['target_3'].value_counts()\n",
    "#  선정된 피쳐를 저장하기 위한 데이터프레임 생성 \n",
    "df_select_3 = pd.DataFrame()\n",
    "# 생성된 데이터프레임의 인덱스 지정\n",
    "df_select_3.index = x_train.columns"
   ]
  },
  {
   "cell_type": "code",
   "execution_count": 28,
   "metadata": {},
   "outputs": [],
   "source": [
    "#  lasso\n",
    "selector = SelectFromModel(estimator=LogisticRegression(penalty='l1',solver='liblinear',C=0.01)).fit(x_train, y_train)\n",
    "df_select_3[\"lasso_0.01\"] = selector.get_support()\n",
    "\n",
    "selector = SelectFromModel(estimator=LogisticRegression(penalty='l1',solver='liblinear',C=0.05)).fit(x_train, y_train)\n",
    "df_select_3[\"lasso_0.05\"] = selector.get_support()\n",
    "\n",
    "selector = SelectFromModel(estimator=LogisticRegression(penalty='l1',solver='liblinear',C=0.1)).fit(x_train, y_train)\n",
    "df_select_3[\"lasso_0.1\"] = selector.get_support()\n",
    "\n",
    "# logit foward\n",
    "estimator = LogisticRegression(penalty='l1',solver='liblinear',C=0.05)\n",
    "selector = SequentialFeatureSelector(estimator,direction='forward',cv=5,n_jobs=-1)\n",
    "selector.fit(x_train, y_train)\n",
    "df_select_3['logit_fwd'] = selector.get_support().tolist()\n",
    "# logit backward\n",
    "selector = SequentialFeatureSelector(estimator,direction='backward',cv=5,n_jobs=-1)\n",
    "selector.fit(x_train, y_train)\n",
    "df_select_3['logit_bwd'] = selector.get_support().tolist()\n",
    "\n",
    "\n",
    "# lda foward\n",
    "estimator = LinearDiscriminantAnalysis(solver='svd')\n",
    "selector = SequentialFeatureSelector(estimator,direction='forward',cv=5,n_jobs=-1)\n",
    "selector.fit(x_train, y_train)\n",
    "df_select_3['lda_fwd'] = selector.get_support().tolist()\n",
    "# lda backward\n",
    "selector = SequentialFeatureSelector(estimator,direction='backward',cv=5,n_jobs=-1,)\n",
    "selector.fit(x_train, y_train)\n",
    "df_select_3['lda_bwd'] = selector.get_support().tolist()\n",
    "\n",
    "# # RandomForest_foward\n",
    "# estimator = RandomForestClassifier()\n",
    "# selector = SequentialFeatureSelector(estimator,direction='forward',cv=2,n_jobs=-1)\n",
    "# selector.fit(x_train, y_train)\n",
    "# df_select_3['RFC_fwd'] = selector.get_support().tolist()\n",
    "# # RandomForest _ backward\n",
    "# selector = SequentialFeatureSelector(estimator,direction='backward',cv=2,n_jobs=-1)\n",
    "# selector.fit(x_train, y_train)\n",
    "# df_select_3['RFC_bwd'] = selector.get_support().tolist()"
   ]
  },
  {
   "cell_type": "code",
   "execution_count": 29,
   "metadata": {},
   "outputs": [
    {
     "data": {
      "text/plain": [
       "Index(['총자본순이익률', 'WW지수', '현금흐름 대 매출액', '누적수익성비율', 'CND', 'TMD', '자기자본순이익률'], dtype='object')"
      ]
     },
     "execution_count": 29,
     "metadata": {},
     "output_type": "execute_result"
    }
   ],
   "source": [
    "for col in df_select_3.columns.to_list():\n",
    "    df_select_3[col] = df_select_3[col].apply(lambda x : 1 if x==True else 0)\n",
    "df_select_3['total'] = df_select_3.sum(axis=1)\n",
    "df_select_3[df_select_3['total']>=5].index"
   ]
  },
  {
   "cell_type": "code",
   "execution_count": 30,
   "metadata": {},
   "outputs": [
    {
     "data": {
      "text/html": [
       "<div>\n",
       "<style scoped>\n",
       "    .dataframe tbody tr th:only-of-type {\n",
       "        vertical-align: middle;\n",
       "    }\n",
       "\n",
       "    .dataframe tbody tr th {\n",
       "        vertical-align: top;\n",
       "    }\n",
       "\n",
       "    .dataframe thead th {\n",
       "        text-align: right;\n",
       "    }\n",
       "</style>\n",
       "<table border=\"1\" class=\"dataframe\">\n",
       "  <thead>\n",
       "    <tr style=\"text-align: right;\">\n",
       "      <th></th>\n",
       "      <th>lasso_0.01</th>\n",
       "      <th>lasso_0.05</th>\n",
       "      <th>lasso_0.1</th>\n",
       "      <th>logit_fwd</th>\n",
       "      <th>logit_bwd</th>\n",
       "      <th>lda_fwd</th>\n",
       "      <th>lda_bwd</th>\n",
       "      <th>total</th>\n",
       "    </tr>\n",
       "  </thead>\n",
       "  <tbody>\n",
       "    <tr>\n",
       "      <th>총자본순이익률</th>\n",
       "      <td>1</td>\n",
       "      <td>1</td>\n",
       "      <td>1</td>\n",
       "      <td>0</td>\n",
       "      <td>0</td>\n",
       "      <td>1</td>\n",
       "      <td>1</td>\n",
       "      <td>5</td>\n",
       "    </tr>\n",
       "    <tr>\n",
       "      <th>WW지수</th>\n",
       "      <td>0</td>\n",
       "      <td>1</td>\n",
       "      <td>1</td>\n",
       "      <td>0</td>\n",
       "      <td>1</td>\n",
       "      <td>1</td>\n",
       "      <td>1</td>\n",
       "      <td>5</td>\n",
       "    </tr>\n",
       "    <tr>\n",
       "      <th>현금흐름 대 매출액</th>\n",
       "      <td>1</td>\n",
       "      <td>1</td>\n",
       "      <td>1</td>\n",
       "      <td>0</td>\n",
       "      <td>1</td>\n",
       "      <td>0</td>\n",
       "      <td>1</td>\n",
       "      <td>5</td>\n",
       "    </tr>\n",
       "    <tr>\n",
       "      <th>누적수익성비율</th>\n",
       "      <td>1</td>\n",
       "      <td>1</td>\n",
       "      <td>1</td>\n",
       "      <td>1</td>\n",
       "      <td>1</td>\n",
       "      <td>0</td>\n",
       "      <td>0</td>\n",
       "      <td>5</td>\n",
       "    </tr>\n",
       "    <tr>\n",
       "      <th>CND</th>\n",
       "      <td>1</td>\n",
       "      <td>1</td>\n",
       "      <td>1</td>\n",
       "      <td>1</td>\n",
       "      <td>1</td>\n",
       "      <td>0</td>\n",
       "      <td>1</td>\n",
       "      <td>6</td>\n",
       "    </tr>\n",
       "    <tr>\n",
       "      <th>TMD</th>\n",
       "      <td>1</td>\n",
       "      <td>1</td>\n",
       "      <td>1</td>\n",
       "      <td>1</td>\n",
       "      <td>1</td>\n",
       "      <td>1</td>\n",
       "      <td>1</td>\n",
       "      <td>7</td>\n",
       "    </tr>\n",
       "    <tr>\n",
       "      <th>자기자본순이익률</th>\n",
       "      <td>0</td>\n",
       "      <td>0</td>\n",
       "      <td>1</td>\n",
       "      <td>1</td>\n",
       "      <td>1</td>\n",
       "      <td>1</td>\n",
       "      <td>1</td>\n",
       "      <td>5</td>\n",
       "    </tr>\n",
       "  </tbody>\n",
       "</table>\n",
       "</div>"
      ],
      "text/plain": [
       "            lasso_0.01  lasso_0.05  lasso_0.1  logit_fwd  logit_bwd  lda_fwd   \n",
       "총자본순이익률              1           1          1          0          0        1  \\\n",
       "WW지수                 0           1          1          0          1        1   \n",
       "현금흐름 대 매출액           1           1          1          0          1        0   \n",
       "누적수익성비율              1           1          1          1          1        0   \n",
       "CND                  1           1          1          1          1        0   \n",
       "TMD                  1           1          1          1          1        1   \n",
       "자기자본순이익률             0           0          1          1          1        1   \n",
       "\n",
       "            lda_bwd  total  \n",
       "총자본순이익률           1      5  \n",
       "WW지수              1      5  \n",
       "현금흐름 대 매출액        1      5  \n",
       "누적수익성비율           0      5  \n",
       "CND               1      6  \n",
       "TMD               1      7  \n",
       "자기자본순이익률          1      5  "
      ]
     },
     "execution_count": 30,
     "metadata": {},
     "output_type": "execute_result"
    }
   ],
   "source": [
    "df_select_3[(df_select_3['total']>=5)]"
   ]
  },
  {
   "cell_type": "code",
   "execution_count": 31,
   "metadata": {},
   "outputs": [],
   "source": [
    "최종_col =df_select_3[df_select_3['total']>=5].index.to_list()\n",
    "\n",
    "x_train_3 = x_train[최종_col]\n",
    "x_test_3 = x_test[최종_col]"
   ]
  },
  {
   "cell_type": "code",
   "execution_count": 32,
   "metadata": {},
   "outputs": [
    {
     "data": {
      "text/plain": [
       "<Axes: title={'center': 'Correlation of Features'}>"
      ]
     },
     "execution_count": 32,
     "metadata": {},
     "output_type": "execute_result"
    },
    {
     "data": {
      "image/png": "[encoded data removed]",
      "text/plain": [
       "<Figure size 2000x2000 with 2 Axes>"
      ]
     },
     "metadata": {},
     "output_type": "display_data"
    }
   ],
   "source": [
    "colormap = plt.cm.hot\n",
    "\n",
    "corr = x_train_3.corr()\n",
    "mask = np.triu(np.ones_like(corr, dtype=np.bool))\n",
    "plt.figure(figsize=(20, 20))\n",
    "plt.rcParams['axes.unicode_minus'] = False\n",
    "plt.rc('font', family=\"Malgun Gothic\")\n",
    "plt.title(\"Correlation of Features\", y=1.05, size=15)\n",
    "sns.heatmap(corr,  linewidths=0.1, vmax=1.0, vmin=-1.0, square=True,mask=mask,\n",
    "            cmap='RdYlBu_r', linecolor=\"white\", annot=True, annot_kws={'size': 10})"
   ]
  },
  {
   "cell_type": "code",
   "execution_count": 33,
   "metadata": {},
   "outputs": [
    {
     "name": "stdout",
     "output_type": "stream",
     "text": [
      "[[4157    9]\n",
      " [  69   96]]\n",
      "[[4157    9]\n",
      " [  80   85]]\n",
      "[[4054  112]\n",
      " [  46  119]]\n",
      "[[4166    0]\n",
      " [   1  164]]\n",
      "[[4166    0]\n",
      " [   0  165]]\n"
     ]
    },
    {
     "data": {
      "text/html": [
       "<div>\n",
       "<style scoped>\n",
       "    .dataframe tbody tr th:only-of-type {\n",
       "        vertical-align: middle;\n",
       "    }\n",
       "\n",
       "    .dataframe tbody tr th {\n",
       "        vertical-align: top;\n",
       "    }\n",
       "\n",
       "    .dataframe thead th {\n",
       "        text-align: right;\n",
       "    }\n",
       "</style>\n",
       "<table border=\"1\" class=\"dataframe\">\n",
       "  <thead>\n",
       "    <tr style=\"text-align: right;\">\n",
       "      <th></th>\n",
       "      <th>model</th>\n",
       "      <th>accuracy</th>\n",
       "      <th>precision</th>\n",
       "      <th>recall</th>\n",
       "      <th>f1_score</th>\n",
       "      <th>auc_score</th>\n",
       "    </tr>\n",
       "  </thead>\n",
       "  <tbody>\n",
       "    <tr>\n",
       "      <th>0</th>\n",
       "      <td>LogisticRegression()</td>\n",
       "      <td>0.9820</td>\n",
       "      <td>0.9143</td>\n",
       "      <td>0.5818</td>\n",
       "      <td>0.7111</td>\n",
       "      <td>0.9554</td>\n",
       "    </tr>\n",
       "    <tr>\n",
       "      <th>1</th>\n",
       "      <td>LinearDiscriminantAnalysis()</td>\n",
       "      <td>0.9795</td>\n",
       "      <td>0.9043</td>\n",
       "      <td>0.5152</td>\n",
       "      <td>0.6564</td>\n",
       "      <td>0.9528</td>\n",
       "    </tr>\n",
       "    <tr>\n",
       "      <th>2</th>\n",
       "      <td>GaussianNB()</td>\n",
       "      <td>0.9635</td>\n",
       "      <td>0.5152</td>\n",
       "      <td>0.7212</td>\n",
       "      <td>0.6010</td>\n",
       "      <td>0.9497</td>\n",
       "    </tr>\n",
       "    <tr>\n",
       "      <th>3</th>\n",
       "      <td>(DecisionTreeClassifier(max_features='sqrt', r...</td>\n",
       "      <td>0.9998</td>\n",
       "      <td>1.0000</td>\n",
       "      <td>0.9939</td>\n",
       "      <td>0.9970</td>\n",
       "      <td>1.0000</td>\n",
       "    </tr>\n",
       "    <tr>\n",
       "      <th>4</th>\n",
       "      <td>XGBClassifier(base_score=None, booster=None, c...</td>\n",
       "      <td>1.0000</td>\n",
       "      <td>1.0000</td>\n",
       "      <td>1.0000</td>\n",
       "      <td>1.0000</td>\n",
       "      <td>1.0000</td>\n",
       "    </tr>\n",
       "  </tbody>\n",
       "</table>\n",
       "</div>"
      ],
      "text/plain": [
       "                                               model  accuracy  precision   \n",
       "0                               LogisticRegression()    0.9820     0.9143  \\\n",
       "1                       LinearDiscriminantAnalysis()    0.9795     0.9043   \n",
       "2                                       GaussianNB()    0.9635     0.5152   \n",
       "3  (DecisionTreeClassifier(max_features='sqrt', r...    0.9998     1.0000   \n",
       "4  XGBClassifier(base_score=None, booster=None, c...    1.0000     1.0000   \n",
       "\n",
       "   recall  f1_score  auc_score  \n",
       "0  0.5818    0.7111     0.9554  \n",
       "1  0.5152    0.6564     0.9528  \n",
       "2  0.7212    0.6010     0.9497  \n",
       "3  0.9939    0.9970     1.0000  \n",
       "4  1.0000    1.0000     1.0000  "
      ]
     },
     "execution_count": 33,
     "metadata": {},
     "output_type": "execute_result"
    }
   ],
   "source": [
    "model_basic(x_train_3,y_train,x_train_3,y_train)"
   ]
  },
  {
   "cell_type": "code",
   "execution_count": 34,
   "metadata": {},
   "outputs": [
    {
     "name": "stdout",
     "output_type": "stream",
     "text": [
      "[[2360   10]\n",
      " [  25   47]]\n",
      "[[2358   12]\n",
      " [  28   44]]\n",
      "[[2292   78]\n",
      " [  12   60]]\n",
      "[[2362    8]\n",
      " [  24   48]]\n",
      "[[2359   11]\n",
      " [  24   48]]\n"
     ]
    },
    {
     "data": {
      "text/html": [
       "<div>\n",
       "<style scoped>\n",
       "    .dataframe tbody tr th:only-of-type {\n",
       "        vertical-align: middle;\n",
       "    }\n",
       "\n",
       "    .dataframe tbody tr th {\n",
       "        vertical-align: top;\n",
       "    }\n",
       "\n",
       "    .dataframe thead th {\n",
       "        text-align: right;\n",
       "    }\n",
       "</style>\n",
       "<table border=\"1\" class=\"dataframe\">\n",
       "  <thead>\n",
       "    <tr style=\"text-align: right;\">\n",
       "      <th></th>\n",
       "      <th>model</th>\n",
       "      <th>accuracy</th>\n",
       "      <th>precision</th>\n",
       "      <th>recall</th>\n",
       "      <th>f1_score</th>\n",
       "      <th>auc_score</th>\n",
       "    </tr>\n",
       "  </thead>\n",
       "  <tbody>\n",
       "    <tr>\n",
       "      <th>0</th>\n",
       "      <td>LogisticRegression()</td>\n",
       "      <td>0.9857</td>\n",
       "      <td>0.8246</td>\n",
       "      <td>0.6528</td>\n",
       "      <td>0.7287</td>\n",
       "      <td>0.9761</td>\n",
       "    </tr>\n",
       "    <tr>\n",
       "      <th>1</th>\n",
       "      <td>LinearDiscriminantAnalysis()</td>\n",
       "      <td>0.9836</td>\n",
       "      <td>0.7857</td>\n",
       "      <td>0.6111</td>\n",
       "      <td>0.6875</td>\n",
       "      <td>0.9757</td>\n",
       "    </tr>\n",
       "    <tr>\n",
       "      <th>2</th>\n",
       "      <td>GaussianNB()</td>\n",
       "      <td>0.9631</td>\n",
       "      <td>0.4348</td>\n",
       "      <td>0.8333</td>\n",
       "      <td>0.5714</td>\n",
       "      <td>0.9727</td>\n",
       "    </tr>\n",
       "    <tr>\n",
       "      <th>3</th>\n",
       "      <td>(DecisionTreeClassifier(max_features='sqrt', r...</td>\n",
       "      <td>0.9869</td>\n",
       "      <td>0.8571</td>\n",
       "      <td>0.6667</td>\n",
       "      <td>0.7500</td>\n",
       "      <td>0.9571</td>\n",
       "    </tr>\n",
       "    <tr>\n",
       "      <th>4</th>\n",
       "      <td>XGBClassifier(base_score=None, booster=None, c...</td>\n",
       "      <td>0.9857</td>\n",
       "      <td>0.8136</td>\n",
       "      <td>0.6667</td>\n",
       "      <td>0.7328</td>\n",
       "      <td>0.9733</td>\n",
       "    </tr>\n",
       "  </tbody>\n",
       "</table>\n",
       "</div>"
      ],
      "text/plain": [
       "                                               model  accuracy  precision   \n",
       "0                               LogisticRegression()    0.9857     0.8246  \\\n",
       "1                       LinearDiscriminantAnalysis()    0.9836     0.7857   \n",
       "2                                       GaussianNB()    0.9631     0.4348   \n",
       "3  (DecisionTreeClassifier(max_features='sqrt', r...    0.9869     0.8571   \n",
       "4  XGBClassifier(base_score=None, booster=None, c...    0.9857     0.8136   \n",
       "\n",
       "   recall  f1_score  auc_score  \n",
       "0  0.6528    0.7287     0.9761  \n",
       "1  0.6111    0.6875     0.9757  \n",
       "2  0.8333    0.5714     0.9727  \n",
       "3  0.6667    0.7500     0.9571  \n",
       "4  0.6667    0.7328     0.9733  "
      ]
     },
     "execution_count": 34,
     "metadata": {},
     "output_type": "execute_result"
    }
   ],
   "source": [
    "model_basic(x_train_3,y_train,x_test_3,y_test)"
   ]
  },
  {
   "attachments": {},
   "cell_type": "markdown",
   "metadata": {},
   "source": [
    "-----------------------\n"
   ]
  },
  {
   "cell_type": "code",
   "execution_count": 35,
   "metadata": {},
   "outputs": [
    {
     "name": "stdout",
     "output_type": "stream",
     "text": [
      "타겟 1 컬럼 :  Index(['총자본순이익률', 'WW지수', '현금흐름 대 매출액', '누적수익성비율', 'CND', 'TMD', '자기자본순이익률'], dtype='object')\n",
      "타겟 2 컬럼 :  Index(['총자본순이익률', 'WW지수', '현금흐름 대 매출액', '누적수익성비율', 'CND', 'TMD', '자기자본순이익률'], dtype='object')\n",
      "타겟 3 컬럼 :  Index(['총자본순이익률', 'WW지수', '현금흐름 대 매출액', '누적수익성비율', 'CND', 'TMD', '자기자본순이익률'], dtype='object')\n"
     ]
    }
   ],
   "source": [
    "print(\"타겟 1 컬럼 : \",x_train_1.columns)\n",
    "print(\"타겟 2 컬럼 : \",x_train_2.columns)\n",
    "print(\"타겟 3 컬럼 : \",x_train_3.columns)"
   ]
  }
 ],
 "metadata": {
  "kernelspec": {
   "display_name": "base",
   "language": "python",
   "name": "python3"
  },
  "language_info": {
   "codemirror_mode": {
    "name": "ipython",
    "version": 3
   },
   "file_extension": ".py",
   "mimetype": "text/x-python",
   "name": "python",
   "nbconvert_exporter": "python",
   "pygments_lexer": "ipython3",
   "version": "3.10.9"
  },
  "orig_nbformat": 4
 },
 "nbformat": 4,
 "nbformat_minor": 2
}
