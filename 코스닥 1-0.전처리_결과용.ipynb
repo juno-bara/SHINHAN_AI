{
 "cells": [
  {
   "cell_type": "code",
   "execution_count": 60,
   "metadata": {},
   "outputs": [],
   "source": [
    "# 라이브러리 로드\n",
    "import pandas as pd\n",
    "import numpy as np\n",
    "\n",
    "import warnings\n",
    "warnings.filterwarnings(\"ignore\")"
   ]
  },
  {
   "cell_type": "code",
   "execution_count": 61,
   "metadata": {},
   "outputs": [],
   "source": [
    "# 데이터 로드\n",
    "\n",
    "수익성 = pd.read_csv('./data/코스닥/코스닥 수익성.csv',encoding='cp949')\n",
    "안정성 = pd.read_csv('./data/코스닥/코스닥 안정성.csv',encoding='cp949')\n",
    "활동성 = pd.read_csv('./data/코스닥/코스닥 활동성.csv',encoding='cp949')\n",
    "성장성 = pd.read_csv('./data/코스닥/코스닥 성장성 계산용.csv',encoding='cp949')\n",
    "현금흐름 = pd.read_csv('./data/코스닥/코스닥 현금흐름 + 누적수익성비율.csv',encoding='cp949')\n",
    "연구개발 = pd.read_csv('./data/코스닥/코스닥 rs.csv',encoding='cp949')\n",
    "EBIT = pd.read_csv('./data/코스닥/에비~ 코스닥.csv',encoding='cp949')\n",
    "per_pbr_총부채 = pd.read_csv('./data/코스닥/per pbr 총부채 코스닥.csv',encoding='cp949')\n",
    "직원수_업력 = pd.read_csv('./data/코스닥/코스닥 직원수 급여 업력 외국인 대주주.csv',encoding='cp949')\n",
    "시가총액 = pd.read_csv('./data/코스닥/코스닥시가총액.csv',index_col=0)  #### 시총도 붙여야됨\n",
    "단기차입금 = pd.read_csv('./data/코스닥/코스닥 단기차입금 유동성 장기부채.csv',encoding='cp949')\n",
    "거시변수 = pd.read_excel('./data/거시경제 변수/거시변수.xlsx', engine=\"openpyxl\")\n",
    "상장일 = pd.read_csv('./data/코스닥/코스닥 상장일.csv',encoding='cp949')\n",
    "대분류 = pd.read_csv('./data/코스닥/코스닥 대분류.csv',encoding='cp949')\n",
    "유형자산 = pd.read_csv(\"./data/코스닥/코스닥 유형자산증가율.csv\", encoding= \"cp949\")"
   ]
  },
  {
   "cell_type": "code",
   "execution_count": 62,
   "metadata": {},
   "outputs": [],
   "source": [
    "#  사용 안하는 코드 컬럼 삭제 \n",
    "대분류.drop(['통계청 한국표준산업분류 코드 10차(대분류)'],axis=1,inplace=True)"
   ]
  },
  {
   "cell_type": "code",
   "execution_count": 63,
   "metadata": {},
   "outputs": [],
   "source": [
    "#  데이터 결합\n",
    "\n",
    "df = 안정성.merge(수익성,on=['회사명','거래소코드','회계년도'],how='left')\n",
    "df = df.merge(활동성,on=['회사명','거래소코드','회계년도'],how='left')\n",
    "df = df.merge(성장성,on=['회사명','거래소코드','회계년도'],how='left')\n",
    "df = df.merge(현금흐름,on=['회사명','거래소코드','회계년도'],how='left')\n",
    "df = df.merge(연구개발,on=['회사명','거래소코드','회계년도'],how='left')\n",
    "df = df.merge(EBIT,on=['회사명','거래소코드','회계년도'],how='left')\n",
    "df = df.merge(per_pbr_총부채,on=['회사명','거래소코드','회계년도'],how='left')\n",
    "df = df.merge(직원수_업력,on=['회사명','거래소코드','회계년도'],how='left')\n",
    "df = df.merge(단기차입금,on=['회사명','거래소코드','회계년도'],how='left')\n",
    "df = df.merge(상장일,on=['회사명','거래소코드','회계년도'],how='left')\n",
    "df = df.merge(대분류,on=['회사명','거래소코드','회계년도'],how='left')\n",
    "df = df.merge(유형자산,on=['회사명','거래소코드','회계년도'],how='left')"
   ]
  },
  {
   "cell_type": "code",
   "execution_count": 64,
   "metadata": {},
   "outputs": [
    {
     "data": {
      "text/plain": [
       "97"
      ]
     },
     "execution_count": 64,
     "metadata": {},
     "output_type": "execute_result"
    }
   ],
   "source": [
    "len(df.columns)"
   ]
  },
  {
   "cell_type": "code",
   "execution_count": 65,
   "metadata": {},
   "outputs": [],
   "source": [
    "## 거래소코드 패딩\n",
    "def padding(x):\n",
    "    x = str(x)\n",
    "    return x.rjust(6, \"0\")\n",
    "## 외국계기업 제거\n",
    "def func_isnt_fcompany(x):\n",
    "    if x[:1] == '9':\n",
    "        return False\n",
    "    else:\n",
    "        return True\n",
    "\n",
    "# 회계년도컬럼, 년도만 뽑아서 int화\n",
    "def change_year(x):\n",
    "    return int(x[:4])\n",
    "\n",
    "def func_not(x):\n",
    "    return not x\n",
    "\n",
    "def change_year_2(x):\n",
    "    return (x[:4])"
   ]
  },
  {
   "cell_type": "code",
   "execution_count": 66,
   "metadata": {},
   "outputs": [],
   "source": [
    "## 거래소 코드 패딩\n",
    "df['거래소코드'] = df['거래소코드'].map(padding)\n",
    "# 회계년도 변환\n",
    "df['회계년도'] = df['회계년도'].map(change_year)"
   ]
  },
  {
   "cell_type": "code",
   "execution_count": 67,
   "metadata": {},
   "outputs": [
    {
     "data": {
      "text/plain": [
       "회사명                            0\n",
       "거래소코드                          0\n",
       "회계년도                           0\n",
       "자산(*)(요약)(IFRS)             1844\n",
       "자본(*)(요약)(IFRS)             1844\n",
       "                            ... \n",
       "유동성장기부채(요약)(IFRS연결)(백만원)    5530\n",
       "상장일                            0\n",
       "통계청 한국표준산업분류 10차(대분류)          0\n",
       "유형자산의 증가(*)(IFRS)(천원)       1844\n",
       "유형자산의 증가(*)(IFRS연결)(천원)     5530\n",
       "Length: 97, dtype: int64"
      ]
     },
     "execution_count": 67,
     "metadata": {},
     "output_type": "execute_result"
    }
   ],
   "source": [
    "\n",
    "# pd.set_option(\"display.max.rows\", None)\n",
    "pd.reset_option(\"display.max.rows\", None)\n",
    "df.isna().sum()"
   ]
  },
  {
   "cell_type": "code",
   "execution_count": 68,
   "metadata": {},
   "outputs": [],
   "source": [
    "## 중복되는 데이터 제거\n",
    "df.drop_duplicates(['거래소코드',\"회계년도\"], keep='last', inplace=True)\n",
    "df.reset_index(drop=True, inplace=True)\n",
    "\n",
    "## 없음\n"
   ]
  },
  {
   "cell_type": "code",
   "execution_count": 69,
   "metadata": {},
   "outputs": [
    {
     "name": "stdout",
     "output_type": "stream",
     "text": [
      "전체 행: 15617 개\n",
      "전체 기업 수 1744\n"
     ]
    }
   ],
   "source": [
    "print('전체 행:', df.shape[0],'개')\n",
    "print('전체 기업 수',len(df['회사명'].unique()))"
   ]
  },
  {
   "cell_type": "code",
   "execution_count": 70,
   "metadata": {},
   "outputs": [
    {
     "name": "stdout",
     "output_type": "stream",
     "text": [
      "제거할 데이터 수 :  152\n",
      "제거할 외국계 기업 수 23\n",
      "남은 데이터 수 15465\n",
      "남은 기업 수 1721\n"
     ]
    }
   ],
   "source": [
    "## 외국계 기업 제거\n",
    "print(\"제거할 데이터 수 : \", len(df[df[\"거래소코드\"].map(func_isnt_fcompany).map(func_not)]))\n",
    "print('제거할 외국계 기업 수',len(df[~df[\"거래소코드\"].map(func_isnt_fcompany)].회사명.unique()))\n",
    "\n",
    "df = df[df[\"거래소코드\"].map(func_isnt_fcompany)]\n",
    "print('남은 데이터 수',df.shape[0]) # 외국계기업 데이터 24개 제거\n",
    "print('남은 기업 수',len(df['회사명'].unique()))"
   ]
  },
  {
   "cell_type": "code",
   "execution_count": 71,
   "metadata": {},
   "outputs": [
    {
     "name": "stdout",
     "output_type": "stream",
     "text": [
      "회사수 :  1721\n",
      "거래소코드수 :  1743\n"
     ]
    }
   ],
   "source": [
    "## 회사수와 거래소코드수 차이가나는것 확인\n",
    "print(\"회사수 : \", len(df[\"회사명\"].unique()))\n",
    "print(\"거래소코드수 : \", len(df[\"거래소코드\"].unique()))"
   ]
  },
  {
   "cell_type": "code",
   "execution_count": 72,
   "metadata": {},
   "outputs": [
    {
     "name": "stdout",
     "output_type": "stream",
     "text": [
      "거래소코드가 2개인 기업 수 22 개\n"
     ]
    }
   ],
   "source": [
    "## 거래소 코드 중복기업 전처리\n",
    "list_overlap_code = list()\n",
    "for i in list(df[\"회사명\"].unique()):\n",
    "    if len(df[df[\"회사명\"]==i][\"거래소코드\"].unique()) > 1:\n",
    "        list_overlap_code.append(i)\n",
    "print(\"거래소코드가 2개인 기업 수\", len(list_overlap_code), \"개\")"
   ]
  },
  {
   "cell_type": "code",
   "execution_count": 73,
   "metadata": {},
   "outputs": [
    {
     "data": {
      "text/html": [
       "<div>\n",
       "<style scoped>\n",
       "    .dataframe tbody tr th:only-of-type {\n",
       "        vertical-align: middle;\n",
       "    }\n",
       "\n",
       "    .dataframe tbody tr th {\n",
       "        vertical-align: top;\n",
       "    }\n",
       "\n",
       "    .dataframe thead th {\n",
       "        text-align: right;\n",
       "    }\n",
       "</style>\n",
       "<table border=\"1\" class=\"dataframe\">\n",
       "  <thead>\n",
       "    <tr style=\"text-align: right;\">\n",
       "      <th></th>\n",
       "      <th>회사명</th>\n",
       "      <th>거래소코드</th>\n",
       "      <th>회계년도</th>\n",
       "      <th>자산(*)(요약)(IFRS)</th>\n",
       "      <th>자본(*)(요약)(IFRS)</th>\n",
       "      <th>차입금의존도(IFRS)(백만원)</th>\n",
       "      <th>유보율(IFRS)</th>\n",
       "      <th>현금비율(IFRS)</th>\n",
       "      <th>부채비율(IFRS)</th>\n",
       "      <th>당좌비율(IFRS)</th>\n",
       "      <th>...</th>\n",
       "      <th>외국인_주식분포비율</th>\n",
       "      <th>보통주식비율</th>\n",
       "      <th>단기차입금(요약)(IFRS)(백만원)</th>\n",
       "      <th>유동성장기부채(요약)(IFRS)(백만원)</th>\n",
       "      <th>단기차입금(요약)(IFRS연결)(백만원)</th>\n",
       "      <th>유동성장기부채(요약)(IFRS연결)(백만원)</th>\n",
       "      <th>상장일</th>\n",
       "      <th>통계청 한국표준산업분류 10차(대분류)</th>\n",
       "      <th>유형자산의 증가(*)(IFRS)(천원)</th>\n",
       "      <th>유형자산의 증가(*)(IFRS연결)(천원)</th>\n",
       "    </tr>\n",
       "  </thead>\n",
       "  <tbody>\n",
       "    <tr>\n",
       "      <th>2424</th>\n",
       "      <td>(주)본느</td>\n",
       "      <td>242420</td>\n",
       "      <td>2014</td>\n",
       "      <td>NaN</td>\n",
       "      <td>NaN</td>\n",
       "      <td>NaN</td>\n",
       "      <td>NaN</td>\n",
       "      <td>NaN</td>\n",
       "      <td>NaN</td>\n",
       "      <td>NaN</td>\n",
       "      <td>...</td>\n",
       "      <td>NaN</td>\n",
       "      <td>NaN</td>\n",
       "      <td>NaN</td>\n",
       "      <td>NaN</td>\n",
       "      <td>NaN</td>\n",
       "      <td>NaN</td>\n",
       "      <td>2016/05/16</td>\n",
       "      <td>제조업</td>\n",
       "      <td>NaN</td>\n",
       "      <td>NaN</td>\n",
       "    </tr>\n",
       "    <tr>\n",
       "      <th>2425</th>\n",
       "      <td>(주)본느</td>\n",
       "      <td>242420</td>\n",
       "      <td>2015</td>\n",
       "      <td>NaN</td>\n",
       "      <td>NaN</td>\n",
       "      <td>NaN</td>\n",
       "      <td>NaN</td>\n",
       "      <td>NaN</td>\n",
       "      <td>NaN</td>\n",
       "      <td>NaN</td>\n",
       "      <td>...</td>\n",
       "      <td>NaN</td>\n",
       "      <td>NaN</td>\n",
       "      <td>NaN</td>\n",
       "      <td>NaN</td>\n",
       "      <td>NaN</td>\n",
       "      <td>NaN</td>\n",
       "      <td>2016/05/16</td>\n",
       "      <td>제조업</td>\n",
       "      <td>NaN</td>\n",
       "      <td>NaN</td>\n",
       "    </tr>\n",
       "    <tr>\n",
       "      <th>2426</th>\n",
       "      <td>(주)본느</td>\n",
       "      <td>226340</td>\n",
       "      <td>2015</td>\n",
       "      <td>NaN</td>\n",
       "      <td>NaN</td>\n",
       "      <td>NaN</td>\n",
       "      <td>NaN</td>\n",
       "      <td>NaN</td>\n",
       "      <td>NaN</td>\n",
       "      <td>NaN</td>\n",
       "      <td>...</td>\n",
       "      <td>1.03</td>\n",
       "      <td>9.09</td>\n",
       "      <td>NaN</td>\n",
       "      <td>NaN</td>\n",
       "      <td>NaN</td>\n",
       "      <td>NaN</td>\n",
       "      <td>2015/11/05</td>\n",
       "      <td>제조업</td>\n",
       "      <td>NaN</td>\n",
       "      <td>NaN</td>\n",
       "    </tr>\n",
       "    <tr>\n",
       "      <th>2427</th>\n",
       "      <td>(주)본느</td>\n",
       "      <td>242420</td>\n",
       "      <td>2016</td>\n",
       "      <td>NaN</td>\n",
       "      <td>NaN</td>\n",
       "      <td>NaN</td>\n",
       "      <td>NaN</td>\n",
       "      <td>NaN</td>\n",
       "      <td>NaN</td>\n",
       "      <td>NaN</td>\n",
       "      <td>...</td>\n",
       "      <td>NaN</td>\n",
       "      <td>74.70</td>\n",
       "      <td>NaN</td>\n",
       "      <td>NaN</td>\n",
       "      <td>NaN</td>\n",
       "      <td>NaN</td>\n",
       "      <td>2016/05/16</td>\n",
       "      <td>제조업</td>\n",
       "      <td>NaN</td>\n",
       "      <td>NaN</td>\n",
       "    </tr>\n",
       "    <tr>\n",
       "      <th>2428</th>\n",
       "      <td>(주)본느</td>\n",
       "      <td>226340</td>\n",
       "      <td>2016</td>\n",
       "      <td>NaN</td>\n",
       "      <td>NaN</td>\n",
       "      <td>NaN</td>\n",
       "      <td>NaN</td>\n",
       "      <td>NaN</td>\n",
       "      <td>NaN</td>\n",
       "      <td>NaN</td>\n",
       "      <td>...</td>\n",
       "      <td>0.40</td>\n",
       "      <td>9.49</td>\n",
       "      <td>NaN</td>\n",
       "      <td>NaN</td>\n",
       "      <td>NaN</td>\n",
       "      <td>NaN</td>\n",
       "      <td>2015/11/05</td>\n",
       "      <td>제조업</td>\n",
       "      <td>NaN</td>\n",
       "      <td>NaN</td>\n",
       "    </tr>\n",
       "    <tr>\n",
       "      <th>...</th>\n",
       "      <td>...</td>\n",
       "      <td>...</td>\n",
       "      <td>...</td>\n",
       "      <td>...</td>\n",
       "      <td>...</td>\n",
       "      <td>...</td>\n",
       "      <td>...</td>\n",
       "      <td>...</td>\n",
       "      <td>...</td>\n",
       "      <td>...</td>\n",
       "      <td>...</td>\n",
       "      <td>...</td>\n",
       "      <td>...</td>\n",
       "      <td>...</td>\n",
       "      <td>...</td>\n",
       "      <td>...</td>\n",
       "      <td>...</td>\n",
       "      <td>...</td>\n",
       "      <td>...</td>\n",
       "      <td>...</td>\n",
       "      <td>...</td>\n",
       "    </tr>\n",
       "    <tr>\n",
       "      <th>15058</th>\n",
       "      <td>패션플랫폼(주)</td>\n",
       "      <td>225590</td>\n",
       "      <td>2017</td>\n",
       "      <td>NaN</td>\n",
       "      <td>NaN</td>\n",
       "      <td>NaN</td>\n",
       "      <td>NaN</td>\n",
       "      <td>NaN</td>\n",
       "      <td>NaN</td>\n",
       "      <td>NaN</td>\n",
       "      <td>...</td>\n",
       "      <td>0.24</td>\n",
       "      <td>4.78</td>\n",
       "      <td>NaN</td>\n",
       "      <td>NaN</td>\n",
       "      <td>NaN</td>\n",
       "      <td>NaN</td>\n",
       "      <td>2015/10/05</td>\n",
       "      <td>제조업</td>\n",
       "      <td>NaN</td>\n",
       "      <td>NaN</td>\n",
       "    </tr>\n",
       "    <tr>\n",
       "      <th>15059</th>\n",
       "      <td>패션플랫폼(주)</td>\n",
       "      <td>225590</td>\n",
       "      <td>2018</td>\n",
       "      <td>43263.0</td>\n",
       "      <td>31640.0</td>\n",
       "      <td>6.84</td>\n",
       "      <td>1240.05</td>\n",
       "      <td>87.69</td>\n",
       "      <td>36.73</td>\n",
       "      <td>191.57</td>\n",
       "      <td>...</td>\n",
       "      <td>0.15</td>\n",
       "      <td>57.92</td>\n",
       "      <td>0.0</td>\n",
       "      <td>0.0</td>\n",
       "      <td>NaN</td>\n",
       "      <td>NaN</td>\n",
       "      <td>2015/10/05</td>\n",
       "      <td>제조업</td>\n",
       "      <td>642500.0</td>\n",
       "      <td>NaN</td>\n",
       "    </tr>\n",
       "    <tr>\n",
       "      <th>15060</th>\n",
       "      <td>패션플랫폼(주)</td>\n",
       "      <td>225590</td>\n",
       "      <td>2019</td>\n",
       "      <td>54773.0</td>\n",
       "      <td>40656.0</td>\n",
       "      <td>7.02</td>\n",
       "      <td>1505.74</td>\n",
       "      <td>32.98</td>\n",
       "      <td>34.72</td>\n",
       "      <td>196.55</td>\n",
       "      <td>...</td>\n",
       "      <td>0.76</td>\n",
       "      <td>56.48</td>\n",
       "      <td>0.0</td>\n",
       "      <td>1588.0</td>\n",
       "      <td>NaN</td>\n",
       "      <td>NaN</td>\n",
       "      <td>2015/10/05</td>\n",
       "      <td>제조업</td>\n",
       "      <td>923838.0</td>\n",
       "      <td>NaN</td>\n",
       "    </tr>\n",
       "    <tr>\n",
       "      <th>15061</th>\n",
       "      <td>패션플랫폼(주)</td>\n",
       "      <td>225590</td>\n",
       "      <td>2020</td>\n",
       "      <td>54913.0</td>\n",
       "      <td>41741.0</td>\n",
       "      <td>6.24</td>\n",
       "      <td>1546.46</td>\n",
       "      <td>36.91</td>\n",
       "      <td>31.56</td>\n",
       "      <td>175.55</td>\n",
       "      <td>...</td>\n",
       "      <td>2.20</td>\n",
       "      <td>57.49</td>\n",
       "      <td>50.0</td>\n",
       "      <td>1738.0</td>\n",
       "      <td>NaN</td>\n",
       "      <td>NaN</td>\n",
       "      <td>2015/10/05</td>\n",
       "      <td>제조업</td>\n",
       "      <td>1591910.0</td>\n",
       "      <td>NaN</td>\n",
       "    </tr>\n",
       "    <tr>\n",
       "      <th>15062</th>\n",
       "      <td>패션플랫폼(주)</td>\n",
       "      <td>225590</td>\n",
       "      <td>2021</td>\n",
       "      <td>60783.0</td>\n",
       "      <td>46146.0</td>\n",
       "      <td>3.30</td>\n",
       "      <td>1711.84</td>\n",
       "      <td>44.01</td>\n",
       "      <td>31.72</td>\n",
       "      <td>103.88</td>\n",
       "      <td>...</td>\n",
       "      <td>3.78</td>\n",
       "      <td>44.34</td>\n",
       "      <td>0.0</td>\n",
       "      <td>1584.0</td>\n",
       "      <td>0.0</td>\n",
       "      <td>1584.0</td>\n",
       "      <td>2015/10/05</td>\n",
       "      <td>제조업</td>\n",
       "      <td>744456.0</td>\n",
       "      <td>979994.0</td>\n",
       "    </tr>\n",
       "  </tbody>\n",
       "</table>\n",
       "<p>269 rows × 97 columns</p>\n",
       "</div>"
      ],
      "text/plain": [
       "            회사명   거래소코드  회계년도  자산(*)(요약)(IFRS)  자본(*)(요약)(IFRS)   \n",
       "2424      (주)본느  242420  2014              NaN              NaN  \\\n",
       "2425      (주)본느  242420  2015              NaN              NaN   \n",
       "2426      (주)본느  226340  2015              NaN              NaN   \n",
       "2427      (주)본느  242420  2016              NaN              NaN   \n",
       "2428      (주)본느  226340  2016              NaN              NaN   \n",
       "...         ...     ...   ...              ...              ...   \n",
       "15058  패션플랫폼(주)  225590  2017              NaN              NaN   \n",
       "15059  패션플랫폼(주)  225590  2018          43263.0          31640.0   \n",
       "15060  패션플랫폼(주)  225590  2019          54773.0          40656.0   \n",
       "15061  패션플랫폼(주)  225590  2020          54913.0          41741.0   \n",
       "15062  패션플랫폼(주)  225590  2021          60783.0          46146.0   \n",
       "\n",
       "       차입금의존도(IFRS)(백만원)  유보율(IFRS)  현금비율(IFRS)  부채비율(IFRS)  당좌비율(IFRS)  ...   \n",
       "2424                 NaN        NaN         NaN         NaN         NaN  ...  \\\n",
       "2425                 NaN        NaN         NaN         NaN         NaN  ...   \n",
       "2426                 NaN        NaN         NaN         NaN         NaN  ...   \n",
       "2427                 NaN        NaN         NaN         NaN         NaN  ...   \n",
       "2428                 NaN        NaN         NaN         NaN         NaN  ...   \n",
       "...                  ...        ...         ...         ...         ...  ...   \n",
       "15058                NaN        NaN         NaN         NaN         NaN  ...   \n",
       "15059               6.84    1240.05       87.69       36.73      191.57  ...   \n",
       "15060               7.02    1505.74       32.98       34.72      196.55  ...   \n",
       "15061               6.24    1546.46       36.91       31.56      175.55  ...   \n",
       "15062               3.30    1711.84       44.01       31.72      103.88  ...   \n",
       "\n",
       "       외국인_주식분포비율  보통주식비율  단기차입금(요약)(IFRS)(백만원)  유동성장기부채(요약)(IFRS)(백만원)   \n",
       "2424          NaN     NaN                   NaN                     NaN  \\\n",
       "2425          NaN     NaN                   NaN                     NaN   \n",
       "2426         1.03    9.09                   NaN                     NaN   \n",
       "2427          NaN   74.70                   NaN                     NaN   \n",
       "2428         0.40    9.49                   NaN                     NaN   \n",
       "...           ...     ...                   ...                     ...   \n",
       "15058        0.24    4.78                   NaN                     NaN   \n",
       "15059        0.15   57.92                   0.0                     0.0   \n",
       "15060        0.76   56.48                   0.0                  1588.0   \n",
       "15061        2.20   57.49                  50.0                  1738.0   \n",
       "15062        3.78   44.34                   0.0                  1584.0   \n",
       "\n",
       "       단기차입금(요약)(IFRS연결)(백만원)  유동성장기부채(요약)(IFRS연결)(백만원)         상장일   \n",
       "2424                      NaN                       NaN  2016/05/16  \\\n",
       "2425                      NaN                       NaN  2016/05/16   \n",
       "2426                      NaN                       NaN  2015/11/05   \n",
       "2427                      NaN                       NaN  2016/05/16   \n",
       "2428                      NaN                       NaN  2015/11/05   \n",
       "...                       ...                       ...         ...   \n",
       "15058                     NaN                       NaN  2015/10/05   \n",
       "15059                     NaN                       NaN  2015/10/05   \n",
       "15060                     NaN                       NaN  2015/10/05   \n",
       "15061                     NaN                       NaN  2015/10/05   \n",
       "15062                     0.0                    1584.0  2015/10/05   \n",
       "\n",
       "       통계청 한국표준산업분류 10차(대분류)  유형자산의 증가(*)(IFRS)(천원)  유형자산의 증가(*)(IFRS연결)(천원)  \n",
       "2424                     제조업                    NaN                      NaN  \n",
       "2425                     제조업                    NaN                      NaN  \n",
       "2426                     제조업                    NaN                      NaN  \n",
       "2427                     제조업                    NaN                      NaN  \n",
       "2428                     제조업                    NaN                      NaN  \n",
       "...                      ...                    ...                      ...  \n",
       "15058                    제조업                    NaN                      NaN  \n",
       "15059                    제조업               642500.0                      NaN  \n",
       "15060                    제조업               923838.0                      NaN  \n",
       "15061                    제조업              1591910.0                      NaN  \n",
       "15062                    제조업               744456.0                 979994.0  \n",
       "\n",
       "[269 rows x 97 columns]"
      ]
     },
     "execution_count": 73,
     "metadata": {},
     "output_type": "execute_result"
    }
   ],
   "source": [
    "df[df[\"회사명\"].isin(list_overlap_code)]"
   ]
  },
  {
   "cell_type": "code",
   "execution_count": 74,
   "metadata": {},
   "outputs": [
    {
     "data": {
      "text/plain": [
       "['(주)본느',\n",
       " '(주)세화피앤씨',\n",
       " '(주)아이엘사이언스',\n",
       " '(주)알로이스',\n",
       " '(주)에스에이티',\n",
       " '(주)엔케이맥스',\n",
       " '(주)원바이오젠',\n",
       " '(주)인산가',\n",
       " '(주)자비스',\n",
       " '(주)정다운',\n",
       " '(주)카이노스메드',\n",
       " '(주)티에스트릴리온',\n",
       " '(주)포인트엔지니어링',\n",
       " '(주)한국비엔씨',\n",
       " '(주)휴럼',\n",
       " '나무기술(주)',\n",
       " '소프트캠프(주)',\n",
       " '씨아이에스(주)',\n",
       " '에스케이오션플랜트(주)',\n",
       " '엠에프엠코리아(주)',\n",
       " '줌인터넷(주)',\n",
       " '패션플랫폼(주)']"
      ]
     },
     "execution_count": 74,
     "metadata": {},
     "output_type": "execute_result"
    }
   ],
   "source": [
    "list_overlap_code"
   ]
  },
  {
   "cell_type": "code",
   "execution_count": 75,
   "metadata": {},
   "outputs": [],
   "source": [
    "# 중복 거래소코드 제거\n",
    "def func_overlap_code(x):\n",
    "    if x == (df[df[\"회사명\"]==company_name][\"거래소코드\"].iloc[-1]) :\n",
    "        return True\n",
    "    else:\n",
    "        return False\n",
    "\n",
    "list_companyname = list(df[\"회사명\"].unique())\n",
    "\n",
    "\n",
    "dfs = list()\n",
    "\n",
    "\n",
    "for i in list_companyname:\n",
    "    company_name = i\n",
    "    #각 기업별로 데이터프레임 생성\n",
    "    df_concat = df[df[\"회사명\"]==i]\n",
    "    df_concat = df_concat[df_concat[\"거래소코드\"].map(func_overlap_code)] # 거래소코드 바뀌기 전의 거래소코드의 데이터는 삭제\n",
    "    dfs.append(df_concat)\n",
    "df = pd.concat(dfs)\n",
    "df.reset_index(drop=True, inplace=True)"
   ]
  },
  {
   "cell_type": "code",
   "execution_count": 76,
   "metadata": {},
   "outputs": [
    {
     "data": {
      "text/plain": [
       "[]"
      ]
     },
     "execution_count": 76,
     "metadata": {},
     "output_type": "execute_result"
    }
   ],
   "source": [
    "# 회사명이 2개인 거래소코드 존재 확인 \n",
    "list_overlap_code = list()\n",
    "for i in list(df[\"거래소코드\"].unique()):\n",
    "    if len(df[df[\"거래소코드\"]==i][\"회사명\"].unique()) > 1:\n",
    "        list_overlap_code.append(i)\n",
    "list_overlap_code"
   ]
  },
  {
   "cell_type": "code",
   "execution_count": 77,
   "metadata": {},
   "outputs": [
    {
     "name": "stdout",
     "output_type": "stream",
     "text": [
      "<class 'pandas.core.frame.DataFrame'>\n",
      "RangeIndex: 15329 entries, 0 to 15328\n",
      "Data columns (total 97 columns):\n",
      " #   Column                                       Non-Null Count  Dtype  \n",
      "---  ------                                       --------------  -----  \n",
      " 0   회사명                                          15329 non-null  object \n",
      " 1   거래소코드                                        15329 non-null  object \n",
      " 2   회계년도                                         15329 non-null  int64  \n",
      " 3   자산(*)(요약)(IFRS)                              13662 non-null  float64\n",
      " 4   자본(*)(요약)(IFRS)                              13662 non-null  float64\n",
      " 5   차입금의존도(IFRS)(백만원)                            13464 non-null  float64\n",
      " 6   유보율(IFRS)                                    13464 non-null  float64\n",
      " 7   현금비율(IFRS)                                   13464 non-null  float64\n",
      " 8   부채비율(IFRS)                                   13464 non-null  float64\n",
      " 9   당좌비율(IFRS)                                   13464 non-null  float64\n",
      " 10  순운전자본비율(IFRS)                                13464 non-null  float64\n",
      " 11  *이자비용(요약)(IFRS)(백만원)                         13662 non-null  float64\n",
      " 12  * (정상)영업손익(보고서기재)(요약)(IFRS)(백만원)             13662 non-null  float64\n",
      " 13  감가상각비(IFRS)(천원)                              13662 non-null  float64\n",
      " 14  자산(*)(요약)(IFRS연결)                            9916 non-null   float64\n",
      " 15  자본(*)(요약)(IFRS연결)                            9916 non-null   float64\n",
      " 16  차입금의존도(IFRS연결)                               9847 non-null   float64\n",
      " 17  유보율(IFRS연결)(백만원)                             9847 non-null   float64\n",
      " 18  현금비율(IFRS연결)(백만원)                            9847 non-null   float64\n",
      " 19  부채비율(IFRS연결)                                 9847 non-null   float64\n",
      " 20  당좌비율(IFRS연결)                                 9847 non-null   float64\n",
      " 21  순운전자본비율(IFRS연결)                              9847 non-null   float64\n",
      " 22  *이자비용(요약)(IFRS연결)(백만원)                       9916 non-null   float64\n",
      " 23  * (정상)영업손익(보고서기재)(요약)(IFRS연결)(백만원)           9916 non-null   float64\n",
      " 24  감가상각비(IFRS연결)(천원)                            9916 non-null   float64\n",
      " 25  EBITDA(IFRS)(백만원)                            13464 non-null  float64\n",
      " 26  총자본정상영업이익률(IFRS)                             13464 non-null  float64\n",
      " 27  자기자본순이익률(IFRS)                               13464 non-null  float64\n",
      " 28  총자본순이익률(IFRS)                                13464 non-null  float64\n",
      " 29  매출액총이익률(IFRS)                                13464 non-null  float64\n",
      " 30  금융비용부담률(IFRS)                                13464 non-null  float64\n",
      " 31  경영자본순이익률(IFRS)                               13464 non-null  float64\n",
      " 32  총자본정상영업이익률(IFRS연결)                           9847 non-null   float64\n",
      " 33  자기자본순이익률(IFRS연결)                             9847 non-null   float64\n",
      " 34  총자본순이익률(IFRS연결)                              9847 non-null   float64\n",
      " 35  매출액총이익률(IFRS연결)                              9847 non-null   float64\n",
      " 36  금융비용부담률(IFRS연결)                              9847 non-null   float64\n",
      " 37  경영자본순이익률(IFRS연결)                             9847 non-null   float64\n",
      " 38  자본금회전률(IFRS)                                 13464 non-null  float64\n",
      " 39  유형자산회전율(IFRS)                                13464 non-null  float64\n",
      " 40  재고자산회전률(IFRS)                                13464 non-null  float64\n",
      " 41  자기자본회전률(IFRS)                                13464 non-null  float64\n",
      " 42  타인자본회전률(IFRS)                                13464 non-null  float64\n",
      " 43  총자본회전률(IFRS)                                 13464 non-null  float64\n",
      " 44  자본금회전률(IFRS연결)                               9847 non-null   float64\n",
      " 45  유형자산회전율(IFRS연결)                              9847 non-null   float64\n",
      " 46  재고자산회전률(IFRS연결)                              9847 non-null   float64\n",
      " 47  자기자본회전률(IFRS연결)                              9847 non-null   float64\n",
      " 48  타인자본회전률(IFRS연결)                              9847 non-null   float64\n",
      " 49  총자본회전률(IFRS연결)                               9847 non-null   float64\n",
      " 50  [제조]      유형자산(요약)(IFRS)(백만원)                13662 non-null  float64\n",
      " 51  [제조]      유형자산(요약)(IFRS연결)(백만원)              9916 non-null   float64\n",
      " 52  [제조]매출액(수익)(요약)(IFRS)(백만원)_x                 13662 non-null  float64\n",
      " 53  [제조]매출액(수익)(요약)(IFRS연결)(백만원)_x               9916 non-null   float64\n",
      " 54  [제조]자본(*)(요약)(IFRS)(백만원)                     13662 non-null  float64\n",
      " 55  [제조]자본(*)(요약)(IFRS연결)(백만원)                   9916 non-null   float64\n",
      " 56  [제조]자산(*)(요약)(IFRS)(백만원)_x                   13662 non-null  float64\n",
      " 57  [제조]자산(*)(요약)(IFRS연결)(백만원)_x                 9916 non-null   float64\n",
      " 58  [제조]* (정상)영업손익(보고서기재)(요약)(IFRS)(백만원)         13662 non-null  float64\n",
      " 59  [제조]* (정상)영업손익(보고서기재)(요약)(IFRS연결)(백만원)       9916 non-null   float64\n",
      " 60  [제조]      이익잉여금(결손금)(요약)(IFRS)(백만원)          13662 non-null  float64\n",
      " 61  [제조]      이익잉여금(결손금)(요약)(IFRS연결)(백만원)        9916 non-null   float64\n",
      " 62  [제조]자산(*)(요약)(IFRS)(백만원)_y                   13662 non-null  float64\n",
      " 63  [제조]자산(*)(요약)(IFRS연결)(백만원)_y                 9916 non-null   float64\n",
      " 64  [제조]영업활동으로 인한 현금흐름(간접법)(*)(요약)(IFRS)(백만원)    13662 non-null  float64\n",
      " 65  [제조]영업활동으로 인한 현금흐름(간접법)(*)(요약)(IFRS연결)(백만원)  9916 non-null   float64\n",
      " 66  [제조]매출액(수익)(요약)(IFRS)(백만원)_y                 13662 non-null  float64\n",
      " 67  [제조]매출액(수익)(요약)(IFRS연결)(백만원)_y               9916 non-null   float64\n",
      " 68  매출액(수익)(요약)(IFRS)(백만원)                       13662 non-null  float64\n",
      " 69  연구개발비(IFRS)(천원)                              13662 non-null  float64\n",
      " 70  매출액(수익)(요약)(IFRS연결)(백만원)                     9916 non-null   float64\n",
      " 71  연구개발비(IFRS연결)(천원)                            9916 non-null   float64\n",
      " 72  금융원가(요약)(IFRS)(백만원)                          13662 non-null  float64\n",
      " 73  금융수익(요약)(IFRS)(백만원)                          13662 non-null  float64\n",
      " 74  법인세비용차감전순이익(손실)(요약)(IFRS)(백만원)               13662 non-null  float64\n",
      " 75  금융원가(요약)(IFRS연결)(백만원)                        9916 non-null   float64\n",
      " 76  금융수익(요약)(IFRS연결)(백만원)                        9916 non-null   float64\n",
      " 77  법인세비용차감전순이익(손실)(요약)(IFRS연결)(백만원)             9916 non-null   float64\n",
      " 78  당기순이익(손실)(요약)(IFRS)(백만원)                     13662 non-null  float64\n",
      " 79  당기순이익(손실)(요약)(IFRS연결)(백만원)                   9916 non-null   float64\n",
      " 80  자산(*)(요약)(IFRS)(백만원)                         13662 non-null  float64\n",
      " 81  자산(*)(요약)(IFRS연결)(백만원)                       9916 non-null   float64\n",
      " 82  부채(*)(요약)(IFRS)(백만원)                         13662 non-null  float64\n",
      " 83  부채(*)(요약)(IFRS연결)(백만원)                       9916 non-null   float64\n",
      " 84  합계_기말인원(명)                                   12791 non-null  float64\n",
      " 85  합계_년간총급여(천원)                                 12791 non-null  float64\n",
      " 86  설립일                                          15329 non-null  object \n",
      " 87  외국인_주식분포비율                                   12461 non-null  float64\n",
      " 88  보통주식비율                                       12882 non-null  float64\n",
      " 89  단기차입금(요약)(IFRS)(백만원)                         13662 non-null  float64\n",
      " 90  유동성장기부채(요약)(IFRS)(백만원)                       13662 non-null  float64\n",
      " 91  단기차입금(요약)(IFRS연결)(백만원)                       9916 non-null   float64\n",
      " 92  유동성장기부채(요약)(IFRS연결)(백만원)                     9916 non-null   float64\n",
      " 93  상장일                                          15329 non-null  object \n",
      " 94  통계청 한국표준산업분류 10차(대분류)                        15329 non-null  object \n",
      " 95  유형자산의 증가(*)(IFRS)(천원)                        13662 non-null  float64\n",
      " 96  유형자산의 증가(*)(IFRS연결)(천원)                      9916 non-null   float64\n",
      "dtypes: float64(91), int64(1), object(5)\n",
      "memory usage: 11.3+ MB\n"
     ]
    }
   ],
   "source": [
    "df.info()"
   ]
  },
  {
   "cell_type": "code",
   "execution_count": 78,
   "metadata": {},
   "outputs": [],
   "source": [
    "#  연결 재무제표를 개별제무제표로 대체\n",
    " \n",
    "\n",
    "\n",
    "connected_cols = [col for col in df.columns if \"연결\" in col]\n",
    "\n",
    "for connected_col in connected_cols:\n",
    "    original_col = connected_col.replace(\"연결\", \"\")\n",
    "    if original_col in df.columns:\n",
    "        df.loc[df[connected_col].isnull(), connected_col] = df[original_col]"
   ]
  },
  {
   "cell_type": "code",
   "execution_count": 79,
   "metadata": {},
   "outputs": [
    {
     "data": {
      "text/plain": [
       "회사명                                               0\n",
       "거래소코드                                             0\n",
       "회계년도                                              0\n",
       "자산(*)(요약)(IFRS)                                1667\n",
       "자본(*)(요약)(IFRS)                                1667\n",
       "차입금의존도(IFRS)(백만원)                              1865\n",
       "유보율(IFRS)                                      1865\n",
       "현금비율(IFRS)                                     1865\n",
       "부채비율(IFRS)                                     1865\n",
       "당좌비율(IFRS)                                     1865\n",
       "순운전자본비율(IFRS)                                  1865\n",
       "*이자비용(요약)(IFRS)(백만원)                           1667\n",
       "* (정상)영업손익(보고서기재)(요약)(IFRS)(백만원)               1667\n",
       "감가상각비(IFRS)(천원)                                1667\n",
       "자산(*)(요약)(IFRS연결)                              1666\n",
       "자본(*)(요약)(IFRS연결)                              1666\n",
       "차입금의존도(IFRS연결)                                 5482\n",
       "유보율(IFRS연결)(백만원)                               5482\n",
       "현금비율(IFRS연결)(백만원)                              5482\n",
       "부채비율(IFRS연결)                                   1863\n",
       "당좌비율(IFRS연결)                                   1863\n",
       "순운전자본비율(IFRS연결)                                1863\n",
       "*이자비용(요약)(IFRS연결)(백만원)                         1666\n",
       "* (정상)영업손익(보고서기재)(요약)(IFRS연결)(백만원)             1666\n",
       "감가상각비(IFRS연결)(천원)                              1666\n",
       "EBITDA(IFRS)(백만원)                              1865\n",
       "총자본정상영업이익률(IFRS)                               1865\n",
       "자기자본순이익률(IFRS)                                 1865\n",
       "총자본순이익률(IFRS)                                  1865\n",
       "매출액총이익률(IFRS)                                  1865\n",
       "금융비용부담률(IFRS)                                  1865\n",
       "경영자본순이익률(IFRS)                                 1865\n",
       "총자본정상영업이익률(IFRS연결)                             1863\n",
       "자기자본순이익률(IFRS연결)                               1863\n",
       "총자본순이익률(IFRS연결)                                1863\n",
       "매출액총이익률(IFRS연결)                                1863\n",
       "금융비용부담률(IFRS연결)                                1863\n",
       "경영자본순이익률(IFRS연결)                               1863\n",
       "자본금회전률(IFRS)                                   1865\n",
       "유형자산회전율(IFRS)                                  1865\n",
       "재고자산회전률(IFRS)                                  1865\n",
       "자기자본회전률(IFRS)                                  1865\n",
       "타인자본회전률(IFRS)                                  1865\n",
       "총자본회전률(IFRS)                                   1865\n",
       "자본금회전률(IFRS연결)                                 1863\n",
       "유형자산회전율(IFRS연결)                                1863\n",
       "재고자산회전률(IFRS연결)                                1863\n",
       "자기자본회전률(IFRS연결)                                1863\n",
       "타인자본회전률(IFRS연결)                                1863\n",
       "총자본회전률(IFRS연결)                                 1863\n",
       "[제조]      유형자산(요약)(IFRS)(백만원)                  1667\n",
       "[제조]      유형자산(요약)(IFRS연결)(백만원)                1666\n",
       "[제조]매출액(수익)(요약)(IFRS)(백만원)_x                   1667\n",
       "[제조]매출액(수익)(요약)(IFRS연결)(백만원)_x                 1666\n",
       "[제조]자본(*)(요약)(IFRS)(백만원)                       1667\n",
       "[제조]자본(*)(요약)(IFRS연결)(백만원)                     1666\n",
       "[제조]자산(*)(요약)(IFRS)(백만원)_x                     1667\n",
       "[제조]자산(*)(요약)(IFRS연결)(백만원)_x                   1666\n",
       "[제조]* (정상)영업손익(보고서기재)(요약)(IFRS)(백만원)           1667\n",
       "[제조]* (정상)영업손익(보고서기재)(요약)(IFRS연결)(백만원)         1666\n",
       "[제조]      이익잉여금(결손금)(요약)(IFRS)(백만원)            1667\n",
       "[제조]      이익잉여금(결손금)(요약)(IFRS연결)(백만원)          1666\n",
       "[제조]자산(*)(요약)(IFRS)(백만원)_y                     1667\n",
       "[제조]자산(*)(요약)(IFRS연결)(백만원)_y                   1666\n",
       "[제조]영업활동으로 인한 현금흐름(간접법)(*)(요약)(IFRS)(백만원)      1667\n",
       "[제조]영업활동으로 인한 현금흐름(간접법)(*)(요약)(IFRS연결)(백만원)    1666\n",
       "[제조]매출액(수익)(요약)(IFRS)(백만원)_y                   1667\n",
       "[제조]매출액(수익)(요약)(IFRS연결)(백만원)_y                 1666\n",
       "매출액(수익)(요약)(IFRS)(백만원)                         1667\n",
       "연구개발비(IFRS)(천원)                                1667\n",
       "매출액(수익)(요약)(IFRS연결)(백만원)                       1666\n",
       "연구개발비(IFRS연결)(천원)                              1666\n",
       "금융원가(요약)(IFRS)(백만원)                            1667\n",
       "금융수익(요약)(IFRS)(백만원)                            1667\n",
       "법인세비용차감전순이익(손실)(요약)(IFRS)(백만원)                 1667\n",
       "금융원가(요약)(IFRS연결)(백만원)                          1666\n",
       "금융수익(요약)(IFRS연결)(백만원)                          1666\n",
       "법인세비용차감전순이익(손실)(요약)(IFRS연결)(백만원)               1666\n",
       "당기순이익(손실)(요약)(IFRS)(백만원)                       1667\n",
       "당기순이익(손실)(요약)(IFRS연결)(백만원)                     1666\n",
       "자산(*)(요약)(IFRS)(백만원)                           1667\n",
       "자산(*)(요약)(IFRS연결)(백만원)                         1666\n",
       "부채(*)(요약)(IFRS)(백만원)                           1667\n",
       "부채(*)(요약)(IFRS연결)(백만원)                         1666\n",
       "합계_기말인원(명)                                     2538\n",
       "합계_년간총급여(천원)                                   2538\n",
       "설립일                                               0\n",
       "외국인_주식분포비율                                     2868\n",
       "보통주식비율                                         2447\n",
       "단기차입금(요약)(IFRS)(백만원)                           1667\n",
       "유동성장기부채(요약)(IFRS)(백만원)                         1667\n",
       "단기차입금(요약)(IFRS연결)(백만원)                         1666\n",
       "유동성장기부채(요약)(IFRS연결)(백만원)                       1666\n",
       "상장일                                               0\n",
       "통계청 한국표준산업분류 10차(대분류)                             0\n",
       "유형자산의 증가(*)(IFRS)(천원)                          1667\n",
       "유형자산의 증가(*)(IFRS연결)(천원)                        1666\n",
       "dtype: int64"
      ]
     },
     "execution_count": 79,
     "metadata": {},
     "output_type": "execute_result"
    }
   ],
   "source": [
    "pd.set_option(\"display.max.rows\", None)\n",
    "df.isna().sum()"
   ]
  },
  {
   "cell_type": "code",
   "execution_count": 80,
   "metadata": {},
   "outputs": [
    {
     "data": {
      "text/plain": [
       "회사명                                               0\n",
       "거래소코드                                             0\n",
       "회계년도                                              0\n",
       "자산(*)(요약)(IFRS)                                1667\n",
       "자본(*)(요약)(IFRS)                                1667\n",
       "차입금의존도(IFRS)(백만원)                              1865\n",
       "유보율(IFRS)                                      1865\n",
       "현금비율(IFRS)                                     1865\n",
       "부채비율(IFRS)                                     1865\n",
       "당좌비율(IFRS)                                     1865\n",
       "순운전자본비율(IFRS)                                  1865\n",
       "*이자비용(요약)(IFRS)(백만원)                           1667\n",
       "* (정상)영업손익(보고서기재)(요약)(IFRS)(백만원)               1667\n",
       "감가상각비(IFRS)(천원)                                1667\n",
       "자산(*)(요약)(IFRS연결)                              1666\n",
       "자본(*)(요약)(IFRS연결)                              1666\n",
       "차입금의존도(IFRS연결)                                 1863\n",
       "유보율(IFRS연결)(백만원)                               1863\n",
       "현금비율(IFRS연결)(백만원)                              1863\n",
       "부채비율(IFRS연결)                                   1863\n",
       "당좌비율(IFRS연결)                                   1863\n",
       "순운전자본비율(IFRS연결)                                1863\n",
       "*이자비용(요약)(IFRS연결)(백만원)                         1666\n",
       "* (정상)영업손익(보고서기재)(요약)(IFRS연결)(백만원)             1666\n",
       "감가상각비(IFRS연결)(천원)                              1666\n",
       "EBITDA(IFRS)(백만원)                              1865\n",
       "총자본정상영업이익률(IFRS)                               1865\n",
       "자기자본순이익률(IFRS)                                 1865\n",
       "총자본순이익률(IFRS)                                  1865\n",
       "매출액총이익률(IFRS)                                  1865\n",
       "금융비용부담률(IFRS)                                  1865\n",
       "경영자본순이익률(IFRS)                                 1865\n",
       "총자본정상영업이익률(IFRS연결)                             1863\n",
       "자기자본순이익률(IFRS연결)                               1863\n",
       "총자본순이익률(IFRS연결)                                1863\n",
       "매출액총이익률(IFRS연결)                                1863\n",
       "금융비용부담률(IFRS연결)                                1863\n",
       "경영자본순이익률(IFRS연결)                               1863\n",
       "자본금회전률(IFRS)                                   1865\n",
       "유형자산회전율(IFRS)                                  1865\n",
       "재고자산회전률(IFRS)                                  1865\n",
       "자기자본회전률(IFRS)                                  1865\n",
       "타인자본회전률(IFRS)                                  1865\n",
       "총자본회전률(IFRS)                                   1865\n",
       "자본금회전률(IFRS연결)                                 1863\n",
       "유형자산회전율(IFRS연결)                                1863\n",
       "재고자산회전률(IFRS연결)                                1863\n",
       "자기자본회전률(IFRS연결)                                1863\n",
       "타인자본회전률(IFRS연결)                                1863\n",
       "총자본회전률(IFRS연결)                                 1863\n",
       "[제조]      유형자산(요약)(IFRS)(백만원)                  1667\n",
       "[제조]      유형자산(요약)(IFRS연결)(백만원)                1666\n",
       "[제조]매출액(수익)(요약)(IFRS)(백만원)_x                   1667\n",
       "[제조]매출액(수익)(요약)(IFRS연결)(백만원)_x                 1666\n",
       "[제조]자본(*)(요약)(IFRS)(백만원)                       1667\n",
       "[제조]자본(*)(요약)(IFRS연결)(백만원)                     1666\n",
       "[제조]자산(*)(요약)(IFRS)(백만원)_x                     1667\n",
       "[제조]자산(*)(요약)(IFRS연결)(백만원)_x                   1666\n",
       "[제조]* (정상)영업손익(보고서기재)(요약)(IFRS)(백만원)           1667\n",
       "[제조]* (정상)영업손익(보고서기재)(요약)(IFRS연결)(백만원)         1666\n",
       "[제조]      이익잉여금(결손금)(요약)(IFRS)(백만원)            1667\n",
       "[제조]      이익잉여금(결손금)(요약)(IFRS연결)(백만원)          1666\n",
       "[제조]자산(*)(요약)(IFRS)(백만원)_y                     1667\n",
       "[제조]자산(*)(요약)(IFRS연결)(백만원)_y                   1666\n",
       "[제조]영업활동으로 인한 현금흐름(간접법)(*)(요약)(IFRS)(백만원)      1667\n",
       "[제조]영업활동으로 인한 현금흐름(간접법)(*)(요약)(IFRS연결)(백만원)    1666\n",
       "[제조]매출액(수익)(요약)(IFRS)(백만원)_y                   1667\n",
       "[제조]매출액(수익)(요약)(IFRS연결)(백만원)_y                 1666\n",
       "매출액(수익)(요약)(IFRS)(백만원)                         1667\n",
       "연구개발비(IFRS)(천원)                                1667\n",
       "매출액(수익)(요약)(IFRS연결)(백만원)                       1666\n",
       "연구개발비(IFRS연결)(천원)                              1666\n",
       "금융원가(요약)(IFRS)(백만원)                            1667\n",
       "금융수익(요약)(IFRS)(백만원)                            1667\n",
       "법인세비용차감전순이익(손실)(요약)(IFRS)(백만원)                 1667\n",
       "금융원가(요약)(IFRS연결)(백만원)                          1666\n",
       "금융수익(요약)(IFRS연결)(백만원)                          1666\n",
       "법인세비용차감전순이익(손실)(요약)(IFRS연결)(백만원)               1666\n",
       "당기순이익(손실)(요약)(IFRS)(백만원)                       1667\n",
       "당기순이익(손실)(요약)(IFRS연결)(백만원)                     1666\n",
       "자산(*)(요약)(IFRS)(백만원)                           1667\n",
       "자산(*)(요약)(IFRS연결)(백만원)                         1666\n",
       "부채(*)(요약)(IFRS)(백만원)                           1667\n",
       "부채(*)(요약)(IFRS연결)(백만원)                         1666\n",
       "합계_기말인원(명)                                     2538\n",
       "합계_년간총급여(천원)                                   2538\n",
       "설립일                                               0\n",
       "외국인_주식분포비율                                     2868\n",
       "보통주식비율                                         2447\n",
       "단기차입금(요약)(IFRS)(백만원)                           1667\n",
       "유동성장기부채(요약)(IFRS)(백만원)                         1667\n",
       "단기차입금(요약)(IFRS연결)(백만원)                         1666\n",
       "유동성장기부채(요약)(IFRS연결)(백만원)                       1666\n",
       "상장일                                               0\n",
       "통계청 한국표준산업분류 10차(대분류)                             0\n",
       "유형자산의 증가(*)(IFRS)(천원)                          1667\n",
       "유형자산의 증가(*)(IFRS연결)(천원)                        1666\n",
       "dtype: int64"
      ]
     },
     "execution_count": 80,
     "metadata": {},
     "output_type": "execute_result"
    }
   ],
   "source": [
    "# 위 코드에서 채워 지지 않은 컬럼 결측치 다시 채워주기\n",
    "df[\"차입금의존도(IFRS연결)\"].fillna(df[\"차입금의존도(IFRS)(백만원)\"], inplace = True)\n",
    "df[\"유보율(IFRS연결)(백만원)\"].fillna(df[\"유보율(IFRS)\"], inplace = True)\n",
    "df[\"현금비율(IFRS연결)(백만원)\"].fillna(df[\"현금비율(IFRS)\"], inplace = True)\n",
    "\n",
    "df.isna().sum()\n"
   ]
  },
  {
   "cell_type": "code",
   "execution_count": 81,
   "metadata": {},
   "outputs": [],
   "source": [
    "#  삭제 할 개별재무제표 컬럼 정리  \n",
    "pd.reset_option(\"display.max.rows\", None)\n",
    "\n",
    "drop_col = ['유보율(IFRS)' ,'[제조]* (정상)영업손익(보고서기재)(요약)(IFRS)(백만원)','[제조]      이익잉여금(결손금)(요약)(IFRS)(백만원)',\n",
    "'[제조]영업활동으로 인한 현금흐름(간접법)(*)(요약)(IFRS)(백만원)','자산(*)(요약)(IFRS)(백만원)', \n",
    "'부채(*)(요약)(IFRS)(백만원)','[제조]자본(*)(요약)(IFRS)(백만원)','당기순이익(손실)(요약)(IFRS)(백만원)', \n",
    "'법인세비용차감전순이익(손실)(요약)(IFRS)(백만원)','금융원가(요약)(IFRS)(백만원)','금융수익(요약)(IFRS)(백만원)',\n",
    "'매출액(수익)(요약)(IFRS)(백만원)','연구개발비(IFRS)(천원)',\n",
    "'[제조]      유형자산(요약)(IFRS)(백만원)','자본금회전률(IFRS)',\n",
    "'총자본회전률(IFRS)','재고자산회전률(IFRS)','유형자산회전율(IFRS)','자기자본회전률(IFRS)','타인자본회전률(IFRS)',\n",
    "'경영자본순이익률(IFRS)','금융비용부담률(IFRS)','총자본순이익률(IFRS)','매출액총이익률(IFRS)',\n",
    "'자기자본순이익률(IFRS)','총자본정상영업이익률(IFRS)','자산(*)(요약)(IFRS)','자본(*)(요약)(IFRS)',\n",
    " '현금비율(IFRS)','* (정상)영업손익(보고서기재)(요약)(IFRS)(백만원)',\n",
    " '차입금의존도(IFRS)(백만원)','감가상각비(IFRS)(천원)','부채비율(IFRS)',\n",
    "'당좌비율(IFRS)','*이자비용(요약)(IFRS)(백만원)','순운전자본비율(IFRS)',\n",
    "'[제조]자산(*)(요약)(IFRS)(백만원)_x','[제조]자산(*)(요약)(IFRS연결)(백만원)_x',\n",
    "'[제조]자산(*)(요약)(IFRS)(백만원)_y','[제조]자산(*)(요약)(IFRS연결)(백만원)_y',\n",
    "'[제조]매출액(수익)(요약)(IFRS)(백만원)_y', '[제조]매출액(수익)(요약)(IFRS연결)(백만원)_y',\n",
    "'[제조]매출액(수익)(요약)(IFRS)(백만원)_x', '[제조]매출액(수익)(요약)(IFRS연결)(백만원)_x',\n",
    "'유동성장기부채(요약)(IFRS)(백만원)','단기차입금(요약)(IFRS)(백만원)','자산(*)(요약)(IFRS연결)(백만원)','[제조]자본(*)(요약)(IFRS연결)(백만원)',\"유형자산의 증가(*)(IFRS)(천원)\"\n",
    "]\n",
    "\n",
    "# 개별재무제표 컬럼 삭제\n",
    "df.drop(drop_col,axis=1,inplace=True)"
   ]
  },
  {
   "cell_type": "code",
   "execution_count": 82,
   "metadata": {},
   "outputs": [
    {
     "data": {
      "text/plain": [
       "48"
      ]
     },
     "execution_count": 82,
     "metadata": {},
     "output_type": "execute_result"
    }
   ],
   "source": [
    "len(df.columns)"
   ]
  },
  {
   "cell_type": "code",
   "execution_count": 83,
   "metadata": {},
   "outputs": [],
   "source": [
    "## 성장성 지표인 증가율 컬럼 만들기\n",
    "성장성_col = ['[제조]      유형자산(요약)(IFRS연결)(백만원)','매출액(수익)(요약)(IFRS연결)(백만원)',\n",
    "           '자본(*)(요약)(IFRS연결)','자산(*)(요약)(IFRS연결)',\n",
    "           '[제조]* (정상)영업손익(보고서기재)(요약)(IFRS연결)(백만원)']\n",
    "\n",
    "## 증가율 컬럼 전기에 음수일때 당기에 음수지만 증가할때 증가율 계산\n",
    "## ex (2011년 -20, 2012년 -10) -> -10-(-20) / np.abs(-20)= \n",
    "증가율_df = (df.groupby(['회사명', '거래소코드'])[성장성_col].shift(0) - df.groupby(['회사명', '거래소코드'])[성장성_col].shift(1)) / np.abs(df.groupby(['회사명', '거래소코드'])[성장성_col].shift(1))*100\n",
    "증가율_df.rename(columns={'[제조]      유형자산(요약)(IFRS연결)(백만원)':'유형자산증가율', '매출액(수익)(요약)(IFRS연결)(백만원)':'매출액증가율',\n",
    "       '자본(*)(요약)(IFRS연결)':'자기자본증가율', '자산(*)(요약)(IFRS연결)':'총자본증가율',\n",
    "       '[제조]* (정상)영업손익(보고서기재)(요약)(IFRS연결)(백만원)':'정상영업이익증가율'},inplace=True)\n",
    "\n",
    "df.drop(['[제조]      유형자산(요약)(IFRS연결)(백만원)','[제조]* (정상)영업손익(보고서기재)(요약)(IFRS연결)(백만원)'],axis=1,inplace=True)\n",
    "df = pd.concat([df,증가율_df],axis=1)"
   ]
  },
  {
   "cell_type": "code",
   "execution_count": 84,
   "metadata": {},
   "outputs": [],
   "source": [
    "## 시가총액 merge\n",
    "시가총액['회계년도'] = 시가총액['회계년도'].astype(str).str[:4].astype(int)\n",
    "df = df.merge(시가총액,on=['거래소코드','회계년도'],how='left')\n",
    "df['시가총액(백만원)'] = df['시가총액'] / 1000000\n",
    "df.drop(['시가총액'],axis=1,inplace=True)\n",
    "\n",
    "## 거시변수 merge\n",
    "거시변수.rename(columns={'회계연도':'회계년도'},inplace=True)\n",
    "df = df.merge(거시변수,on=['회계년도'],how='left')"
   ]
  },
  {
   "cell_type": "code",
   "execution_count": 85,
   "metadata": {},
   "outputs": [],
   "source": [
    "### 파생변수 만들기 \n",
    "\n",
    "\n",
    "## 기업별 업력 설립일 이후 지속된 기간\n",
    "df['업력'] = df['회계년도'] -  pd.to_datetime(df['설립일'],format='%Y/%m/%d').dt.strftime('%Y').astype(int)\n",
    "df.drop('설립일',axis=1,inplace=True)\n",
    "\n",
    "## 누적수익성비율  - 자산0이면 inf - 공시안함 \n",
    "df['누적수익성비율'] = (df['[제조]      이익잉여금(결손금)(요약)(IFRS연결)(백만원)']/df['자산(*)(요약)(IFRS연결)']) * 100\n",
    "\n",
    "## 이자부담율\n",
    "# df['이자부담률'] = (df['EBITDA(IFRS)(백만원)'] / df['*이자비용(요약)(IFRS연결)(백만원)']) * 100 \n",
    "\n",
    "## 부채상환계수 EBITDA / (이자비용 + 단기차입금 + 유동성장기부채)\n",
    "# df['부채상환계수'] =( df['EBITDA(IFRS)(백만원)'] / (df['*이자비용(요약)(IFRS연결)(백만원)']+df['단기차입금(요약)(IFRS연결)(백만원)'] + df['유동성장기부채(요약)(IFRS연결)(백만원)'])) * 100\n",
    "\n",
    "## 현금흐름_자산 = 영업현금흐름 / 당기총자산\n",
    "# df['현금흐름 대 자산'] = (df.groupby(['회사명','거래소코드'])['[제조]영업활동으로 인한 현금흐름(간접법)(*)(요약)(IFRS연결)(백만원)'].shift(0) / df.groupby(['회사명','거래소코드'])['자산(*)(요약)(IFRS연결)'].shift(0)) * 100\n",
    "\n",
    "## 현금흐름_매출액\n",
    "# df['현금흐름 대 매출액'] = (df['[제조]영업활동으로 인한 현금흐름(간접법)(*)(요약)(IFRS연결)(백만원)'] / df['매출액(수익)(요약)(IFRS연결)(백만원)']) * 100\n",
    "\n",
    "# 토빈Q\n",
    "# df['토빈Q'] = ((df['부채(*)(요약)(IFRS연결)(백만원)'] + df['시가총액(백만원)']) / df['자산(*)(요약)(IFRS연결)']) * 100 \n",
    "\n",
    "## TMD\n",
    "df['TMD'] =( df['부채(*)(요약)(IFRS연결)(백만원)'] / df['시가총액(백만원)']) * 100\n",
    "\n",
    "## 알트만 변수\n",
    "# df['시총/총자산'] = (df['시가총액(백만원)'] / df['자산(*)(요약)(IFRS연결)']) *100\n",
    "\n",
    "## RD -단위도 수정\n",
    "# df['연구개발비(IFRS연결)(백만원)'] = df['연구개발비(IFRS연결)(천원)']/1000\n",
    "# df.drop(['연구개발비(IFRS연결)(천원)'],axis=1,inplace=True)\n",
    "# df['RD'] = (df['연구개발비(IFRS연결)(백만원)'] / df['매출액(수익)(요약)(IFRS연결)(백만원)']) * 100\n",
    "\n",
    "## 직원수변동률 , 직원인건비총액(백만원단위) (고민필요)\n",
    "# df['직원수변동률%'] = df.groupby(['회사명','거래소코드'])['합계_기말인원(명)'].pct_change()*100\n",
    "\n",
    "## 직원인건비총액(백만원)\n",
    "# df['직원인건비총액(백만원)'] = (df['합계_년간총급여(천원)']/1000) * df['합계_기말인원(명)']\n",
    "# df.drop(['합계_년간총급여(천원)'],axis=1,inplace=True)\n",
    "\n",
    "## 알트만 변수  EBIT = 법인세비용차감전순이익+금융원가-금융수익\n",
    "# df['EBIT/총자산'] = ((df['법인세비용차감전순이익(손실)(요약)(IFRS연결)(백만원)'] + df['금융원가(요약)(IFRS연결)(백만원)']-df['금융수익(요약)(IFRS연결)(백만원)'])/df['자산(*)(요약)(IFRS연결)']) * 100\n",
    "\n",
    "## PBR \n",
    "# df['PBR'] = (df['시가총액(백만원)']  / df['자본(*)(요약)(IFRS연결)']) * 100\n",
    "\n",
    "\n",
    "# 영업손익 전기영업손익 + 당기영업손익\n",
    "# df[\"당기전기영업손익\"] = (df.groupby([\"회사명\", \"거래소코드\"])[\"* (정상)영업손익(보고서기재)(요약)(IFRS연결)(백만원)\"].shift(0) + df.groupby([\"회사명\", \"거래소코드\"])[\"* (정상)영업손익(보고서기재)(요약)(IFRS연결)(백만원)\"].shift(1)) / 2\n",
    "# df['당기전기매출액'] = (df.groupby([\"회사명\", \"거래소코드\"])[\"매출액(수익)(요약)(IFRS연결)(백만원)\"].shift(0) + df.groupby([\"회사명\", \"거래소코드\"])[\"매출액(수익)(요약)(IFRS연결)(백만원)\"].shift(1)) / 2\n",
    "# df[\"당기전기영업손익/매출액\"] = (df['당기전기영업손익'] / df['당기전기매출액']) * 100\n",
    "\n",
    "# capex컬럼 단위 맞춰주기\n",
    "# df[\"유형자산의 증가(*)(IFRS연결)(천원)\"] = df[\"유형자산의 증가(*)(IFRS연결)(천원)\"] / 1000\n",
    "\n",
    "# findep =  (capex - 영업현금흐름 ) / capex\n",
    "# df[\"FINDEP\"] = (df[\"유형자산의 증가(*)(IFRS연결)(천원)\"] - df['[제조]영업활동으로 인한 현금흐름(간접법)(*)(요약)(IFRS연결)(백만원)']) *100\n",
    "\n",
    "# PBR 변화율\n",
    "# df['PBR변화율']  = (df.groupby(['회사명', '거래소코드'])['PBR'].shift(0) - df.groupby(['회사명', '거래소코드'])['PBR'].shift(1)) / np.abs(df.groupby(['회사명', '거래소코드'])['PBR'].shift(1)) *100\n",
    "\n",
    "# ROA 변화율\n",
    "# df['ROA변화율']  = (df.groupby(['회사명', '거래소코드'])['총자본순이익률(IFRS연결)'].shift(0) - df.groupby(['회사명', '거래소코드'])['총자본순이익률(IFRS연결)'].shift(1)) / np.abs(df.groupby(['회사명', '거래소코드'])['총자본순이익률(IFRS연결)'].shift(1)) *100\n",
    "\n",
    "# EBITDA마진율\n",
    "# df[\"EBITDA마진율\"] = (df[\"EBITDA(IFRS)(백만원)\"] / df[\"매출액(수익)(요약)(IFRS연결)(백만원)\"]) * 100\n",
    "\n",
    "# 논문을 바탕으로 새로운 컬럼 생성\n",
    "\n",
    "# df['현금흐름/총부채비율'] = (df['[제조]영업활동으로 인한 현금흐름(간접법)(*)(요약)(IFRS연결)(백만원)'] / df['부채(*)(요약)(IFRS연결)(백만원)']) * 100\n",
    "# df[\"영업현금흐름-단기차입금\"] = (df[\"[제조]영업활동으로 인한 현금흐름(간접법)(*)(요약)(IFRS연결)(백만원)\"] - df[\"단기차입금(요약)(IFRS연결)(백만원)\"]) * 100\n",
    "df[\"CND\"] =( np.abs((df[\"[제조]영업활동으로 인한 현금흐름(간접법)(*)(요약)(IFRS연결)(백만원)\"] - df[\"당기순이익(손실)(요약)(IFRS연결)(백만원)\"])) / df[\"매출액(수익)(요약)(IFRS연결)(백만원)\"]) *100\n"
   ]
  },
  {
   "cell_type": "code",
   "execution_count": 143,
   "metadata": {},
   "outputs": [
    {
     "data": {
      "text/plain": [
       "(15329, 57)"
      ]
     },
     "execution_count": 143,
     "metadata": {},
     "output_type": "execute_result"
    }
   ],
   "source": [
    "df.shape"
   ]
  },
  {
   "cell_type": "code",
   "execution_count": 144,
   "metadata": {},
   "outputs": [],
   "source": [
    "# 컬럼이름 정리\n",
    "\n",
    "rename_list = {'자산(*)(요약)(IFRS연결)':'자산', '자본(*)(요약)(IFRS연결)':'자본',\n",
    "       '차입금의존도(IFRS연결)':'차입금의존도', '유보율(IFRS연결)(백만원)':'유보율', '현금비율(IFRS연결)(백만원)':'현금비율',\n",
    "       '부채비율(IFRS연결)':'부채비율', '당좌비율(IFRS연결)':'당좌비율', '순운전자본비율(IFRS연결)':'순운전자본비율',\n",
    "       '*이자비용(요약)(IFRS연결)(백만원)':'이자비용', '* (정상)영업손익(보고서기재)(요약)(IFRS연결)(백만원)':'영업손익',\n",
    "       '감가상각비(IFRS연결)(천원)':'감가상각비', 'EBITDA(IFRS)(백만원)':'EBITDA', '총자본정상영업이익률(IFRS연결)':'총자본정상영업이익률',\n",
    "       '자기자본순이익률(IFRS연결)':'자기자본순이익률', '총자본순이익률(IFRS연결)':'총자본순이익률', '매출액총이익률(IFRS연결)':'매출액총이익률',\n",
    "       '금융비용부담률(IFRS연결)':'금융비용부담률', '경영자본순이익률(IFRS연결)':'경영자본순이익률', '자본금회전률(IFRS연결)':'자본금회전률',\n",
    "       '유형자산회전율(IFRS연결)':'유형자산회전율', '재고자산회전률(IFRS연결)':'재고자산회전률', '자기자본회전률(IFRS연결)':'자기자본회전률',\n",
    "       '타인자본회전률(IFRS연결)':'타인자본회전률', '총자본회전률(IFRS연결)':'총자본회전률', \n",
    "       '[제조]      이익잉여금(결손금)(요약)(IFRS연결)(백만원)':'이익잉여금',\n",
    "       '[제조]영업활동으로 인한 현금흐름(간접법)(*)(요약)(IFRS연결)(백만원)':'영업활동으로 인한 현금흐름',\n",
    "       '매출액(수익)(요약)(IFRS연결)(백만원)':'매출액', '금융원가(요약)(IFRS연결)(백만원)':'금융원가',\n",
    "       '금융수익(요약)(IFRS연결)(백만원)':'금융수익', '법인세비용차감전순이익(손실)(요약)(IFRS연결)(백만원)':'법인세비용차감전순이익',\n",
    "       '당기순이익(손실)(요약)(IFRS연결)(백만원)':'당기순이익', \n",
    "       '부채(*)(요약)(IFRS연결)(백만원)':'부채', '외국인_주식분포비율':'외국인지분율', '보통주식비율':'대주주지분율',\n",
    "       '단기차입금(요약)(IFRS연결)(백만원)':'단기차입금', '유동성장기부채(요약)(IFRS연결)(백만원)':'유동성장기부채',\n",
    "       '시가총액(백만원)':'시가총액','연구개발비(IFRS연결)(백만원)':'연구개발비','직원인건비총액(백만원)':'직원인건비총액','통계청 한국표준산업분류 10차(대분류)':'산업군',\n",
    "       \"유형자산의 증가(*)(IFRS연결)(천원)\" : \"CAPEX\"\n",
    "       }\n",
    "\n",
    "df.rename(columns=rename_list,inplace=True)"
   ]
  },
  {
   "cell_type": "code",
   "execution_count": 145,
   "metadata": {},
   "outputs": [
    {
     "data": {
      "text/plain": [
       "Index(['회사명', '거래소코드', '회계년도', '자산', '자본', '차입금의존도', '유보율', '현금비율', '부채비율',\n",
       "       '당좌비율', '순운전자본비율', '이자비용', '영업손익', '감가상각비', 'EBITDA', '총자본정상영업이익률',\n",
       "       '자기자본순이익률', '총자본순이익률', '매출액총이익률', '금융비용부담률', '경영자본순이익률', '자본금회전률',\n",
       "       '유형자산회전율', '재고자산회전률', '자기자본회전률', '타인자본회전률', '총자본회전률', '이익잉여금',\n",
       "       '영업활동으로 인한 현금흐름', '매출액', '연구개발비(IFRS연결)(천원)', '금융원가', '금융수익',\n",
       "       '법인세비용차감전순이익', '당기순이익', '부채', '합계_기말인원(명)', '합계_년간총급여(천원)', '외국인지분율',\n",
       "       '대주주지분율', '단기차입금', '유동성장기부채', '상장일', '산업군', 'CAPEX', '유형자산증가율',\n",
       "       '매출액증가율', '자기자본증가율', '총자본증가율', '정상영업이익증가율', '시가총액', '장단기금리차', 'cpi',\n",
       "       '업력', '누적수익성비율', 'TMD', 'CND'],\n",
       "      dtype='object')"
      ]
     },
     "execution_count": 145,
     "metadata": {},
     "output_type": "execute_result"
    }
   ],
   "source": [
    "df.columns"
   ]
  },
  {
   "cell_type": "code",
   "execution_count": 146,
   "metadata": {},
   "outputs": [
    {
     "name": "stdout",
     "output_type": "stream",
     "text": [
      "전체 행: 14077 개\n",
      "전체 기업 수 1684\n"
     ]
    }
   ],
   "source": [
    "## 회계년도 2011년도 제거\n",
    "df['상장일'] = pd.to_datetime(df['상장일'],format='%Y/%m/%d').dt.strftime('%Y').astype(int)\n",
    "\n",
    "\n",
    "df = df[df['회계년도']>2011].reset_index(drop=True)\n",
    "\n",
    "print('전체 행:', df.shape[0],'개')\n",
    "print('전체 기업 수',len(df['회사명'].unique()))\n"
   ]
  },
  {
   "cell_type": "code",
   "execution_count": 147,
   "metadata": {},
   "outputs": [
    {
     "data": {
      "text/plain": [
       "회사명                     0\n",
       "거래소코드                   0\n",
       "회계년도                    0\n",
       "자산                   1456\n",
       "자본                   1456\n",
       "차입금의존도               1641\n",
       "유보율                  1641\n",
       "현금비율                 1641\n",
       "부채비율                 1641\n",
       "당좌비율                 1641\n",
       "순운전자본비율              1641\n",
       "이자비용                 1456\n",
       "영업손익                 1456\n",
       "감가상각비                1456\n",
       "EBITDA               1643\n",
       "총자본정상영업이익률           1641\n",
       "자기자본순이익률             1641\n",
       "총자본순이익률              1641\n",
       "매출액총이익률              1641\n",
       "금융비용부담률              1641\n",
       "경영자본순이익률             1641\n",
       "자본금회전률               1641\n",
       "유형자산회전율              1641\n",
       "재고자산회전률              1641\n",
       "자기자본회전률              1641\n",
       "타인자본회전률              1641\n",
       "총자본회전률               1641\n",
       "이익잉여금                1456\n",
       "영업활동으로 인한 현금흐름       1456\n",
       "매출액                  1456\n",
       "연구개발비(IFRS연결)(천원)    1456\n",
       "금융원가                 1456\n",
       "금융수익                 1456\n",
       "법인세비용차감전순이익          1456\n",
       "당기순이익                1456\n",
       "부채                   1456\n",
       "합계_기말인원(명)           2234\n",
       "합계_년간총급여(천원)         2234\n",
       "외국인지분율               2583\n",
       "대주주지분율               2147\n",
       "단기차입금                1456\n",
       "유동성장기부채              1456\n",
       "상장일                     0\n",
       "산업군                     0\n",
       "CAPEX                1456\n",
       "유형자산증가율              2087\n",
       "매출액증가율               2103\n",
       "자기자본증가율              2085\n",
       "총자본증가율               2085\n",
       "정상영업이익증가율            2085\n",
       "시가총액                 2217\n",
       "장단기금리차                  0\n",
       "cpi                     0\n",
       "업력                      0\n",
       "누적수익성비율              1457\n",
       "TMD                  2618\n",
       "CND                  1459\n",
       "dtype: int64"
      ]
     },
     "execution_count": 147,
     "metadata": {},
     "output_type": "execute_result"
    }
   ],
   "source": [
    "df.isna().sum()"
   ]
  },
  {
   "attachments": {},
   "cell_type": "markdown",
   "metadata": {},
   "source": [
    "-----"
   ]
  },
  {
   "attachments": {},
   "cell_type": "markdown",
   "metadata": {},
   "source": [
    "## 타겟 라벨링\n",
    "-----\n"
   ]
  },
  {
   "cell_type": "code",
   "execution_count": 148,
   "metadata": {},
   "outputs": [],
   "source": [
    "#  데이터 로드, 필요 없는 컬럼 삭제\n",
    "\n",
    "부실 = pd.read_csv('./data/y/y값최종.csv',index_col=0)\n",
    "부실['회계년도'] = 부실['회계년도'].astype(int)\n",
    "부실['거래소코드'] = 부실['거래소코드'].map(padding)\n",
    "부실.drop(['번호','회사명'],axis=1,inplace=True)"
   ]
  },
  {
   "cell_type": "code",
   "execution_count": 149,
   "metadata": {},
   "outputs": [],
   "source": [
    "# 데이터 결합\n",
    "df = df.merge(부실,on=['회계년도','거래소코드'],how='left')"
   ]
  },
  {
   "cell_type": "code",
   "execution_count": 150,
   "metadata": {},
   "outputs": [],
   "source": [
    "## 상폐기업 라벨링\n",
    "\n",
    "df[\"공시제목\"].fillna(0,inplace=True)\n",
    "\n",
    "상폐_ind = df[df[\"공시제목\"]== '상장폐지기업'].index\n",
    "\n",
    "### set1\n",
    "df.loc[상폐_ind,\"target_1\"] = 1\n",
    "\n",
    "for i in df.index:\n",
    "    if (df.loc[i,\"target_1\"] == 1) and (df.loc[i,\"회사명\"] == df.loc[i-1,\"회사명\"]) :\n",
    "        df.loc[i-1, \"target_1\"] = 1\n",
    "df['target_1'].fillna(0,inplace=True)\n",
    "df['target_1'] = df['target_1'].astype(int)\n",
    "\n",
    "# ### set2\n",
    "df.loc[상폐_ind,\"target_2\"] = 1\n",
    "\n",
    "for i in df.index:\n",
    "    if (df.loc[i,\"target_2\"] == 1) and (df.loc[i,\"회사명\"] == df.loc[i-1,\"회사명\"]) and (df.loc[i,'공시제목']=='상장폐지기업') :\n",
    "        df.loc[i-1, \"target_2\"] = 1 \n",
    "    if (df.loc[i,\"target_2\"] == 1) and (df.loc[i,\"회사명\"] == df.loc[i-2,\"회사명\"]) and (df.loc[i,'공시제목']=='상장폐지기업'):\n",
    "        df.loc[i-2, \"target_2\"] = 1\n",
    "\n",
    "df['target_2'].fillna(0,inplace=True)\n",
    "df['target_2'] = df['target_2'].astype(int)\n",
    "\n",
    "## set_3\n",
    "\n",
    "df.loc[상폐_ind,\"target_3\"] = 1\n",
    "\n",
    "for i in df.index:\n",
    "    if (df.loc[i,\"target_3\"] == 1) and (df.loc[i,\"회사명\"] == df.loc[i-1,\"회사명\"]) and (df.loc[i,'공시제목']=='상장폐지기업'):\n",
    "        df.loc[i-1, \"target_3\"] = 1\n",
    "df['target_3'].fillna(0,inplace=True)\n",
    "df['target_3'] = df['target_3'].astype(int)\n"
   ]
  },
  {
   "cell_type": "code",
   "execution_count": 151,
   "metadata": {},
   "outputs": [
    {
     "name": "stdout",
     "output_type": "stream",
     "text": [
      "237\n",
      "331\n",
      "237\n"
     ]
    }
   ],
   "source": [
    "print(df.target_1.sum())\n",
    "print(df.target_2.sum())\n",
    "print(df.target_3.sum())"
   ]
  },
  {
   "cell_type": "code",
   "execution_count": 152,
   "metadata": {},
   "outputs": [],
   "source": [
    "## 회생기업 라벨링\n",
    "\n",
    "df[\"공시제목\"].fillna(0,inplace=True)\n",
    "\n",
    "회생_ind = df[df[\"공시제목\"]== '회생절차개시결정'].index\n",
    "\n",
    "### set1\n",
    "df.loc[회생_ind,\"target_1\"] = 1\n",
    "\n",
    "for i in df.index:\n",
    "    if (df.loc[i,\"target_1\"] == 1) and (df.loc[i,\"회사명\"] == df.loc[i-1,\"회사명\"]) & (df.loc[i,'공시제목']=='회생절차개시결정'):\n",
    "        df.loc[i-1, \"target_1\"] = 1\n",
    "df['target_1'].fillna(0,inplace=True)\n",
    "df['target_1'] = df['target_1'].astype(int)\n",
    "\n",
    "# ### set2\n",
    "df.loc[회생_ind,\"target_2\"] = 1\n",
    "\n",
    "df['target_2'].fillna(0,inplace=True)\n",
    "df['target_2'] = df['target_2'].astype(int)\n",
    "\n",
    "## set_3\n",
    "\n",
    "df.loc[회생_ind,\"target_3\"] = 1\n",
    "\n",
    "df['target_3'].fillna(0,inplace=True)\n",
    "df['target_3'] = df['target_3'].astype(int)"
   ]
  },
  {
   "cell_type": "code",
   "execution_count": 153,
   "metadata": {},
   "outputs": [
    {
     "name": "stdout",
     "output_type": "stream",
     "text": [
      "312\n",
      "369\n",
      "275\n"
     ]
    }
   ],
   "source": [
    "print(df.target_1.sum())\n",
    "print(df.target_2.sum())\n",
    "print(df.target_3.sum())"
   ]
  },
  {
   "cell_type": "code",
   "execution_count": 154,
   "metadata": {},
   "outputs": [
    {
     "name": "stdout",
     "output_type": "stream",
     "text": [
      "부실 기업 수_1  :  167\n",
      "부실 기업 수_2  :  167\n",
      "부실 기업 수_3  :  167\n"
     ]
    }
   ],
   "source": [
    "print(\"부실 기업 수_1  : \",len(np.unique(df[df[\"target_1\"]==1][\"회사명\"])))\n",
    "print(\"부실 기업 수_2  : \",len(np.unique(df[df[\"target_2\"]==1][\"회사명\"])))\n",
    "print(\"부실 기업 수_3  : \",len(np.unique(df[df[\"target_3\"]==1][\"회사명\"])))"
   ]
  },
  {
   "cell_type": "code",
   "execution_count": 155,
   "metadata": {},
   "outputs": [
    {
     "name": "stdout",
     "output_type": "stream",
     "text": [
      "전체 데이터 수 :  14077\n",
      "부실 기업 데이터 수:  275\n",
      "정상 기업 데이터 수 :  13802\n",
      "부실 정상 데이터 비율 :  target_3\n",
      "0    0.980465\n",
      "1    0.019535\n",
      "Name: proportion, dtype: float64\n",
      "전체 기업 수 :  1684\n",
      "부실 기업 수  :  167\n",
      "정상 기업 수 :  1649\n",
      "결측치 수 :  83327\n"
     ]
    }
   ],
   "source": [
    "print(\"전체 데이터 수 : \", df.shape[0])\n",
    "print(\"부실 기업 데이터 수: \",len(df[df[\"target_3\"]==1]))\n",
    "print(\"정상 기업 데이터 수 : \",len(df[df[\"target_3\"]==0]))\n",
    "print(\"부실 정상 데이터 비율 : \",df[\"target_3\"].value_counts(property))\n",
    "print(\"전체 기업 수 : \" , len(np.unique(df[\"회사명\"])))\n",
    "print(\"부실 기업 수  : \",len(np.unique(df[df[\"target_1\"]==1][\"회사명\"])))\n",
    "print(\"정상 기업 수 : \",len(np.unique(df[df[\"target_3\"]==0][\"회사명\"])))\n",
    "print(\"결측치 수 : \", df.isna().sum().sum())\n"
   ]
  },
  {
   "cell_type": "code",
   "execution_count": 156,
   "metadata": {},
   "outputs": [],
   "source": [
    "def get_index_with_50_or_more_nan_columns(df):\n",
    "    \n",
    "    # 결측치 컬럼 개수 계산\n",
    "    nan_column_counts = df.isnull().sum(axis=1)\n",
    "    \n",
    "    # 결측치 컬럼 개수가 50개 이상인 인덱스 번호 추출\n",
    "    index_with_50_or_more_nan_columns = nan_column_counts[nan_column_counts >= 50].index.to_list()\n",
    "    print('제거행 수:' , len(index_with_50_or_more_nan_columns))\n",
    "\n",
    "    df.drop(index=index_with_50_or_more_nan_columns,inplace=True)\n",
    "    return df\n"
   ]
  },
  {
   "cell_type": "code",
   "execution_count": 157,
   "metadata": {},
   "outputs": [
    {
     "name": "stdout",
     "output_type": "stream",
     "text": [
      "제거행 수: 0\n",
      "14077\n",
      "전체 기업 수 1684\n",
      "전체 데이터 수 :  14077\n"
     ]
    }
   ],
   "source": [
    "print(len(get_index_with_50_or_more_nan_columns(df)))\n",
    "print('전체 기업 수',len(df['회사명'].unique()))\n",
    "print(\"전체 데이터 수 : \", df.shape[0])"
   ]
  },
  {
   "cell_type": "code",
   "execution_count": 158,
   "metadata": {},
   "outputs": [
    {
     "name": "stdout",
     "output_type": "stream",
     "text": [
      "부실데이터 수: 312\n",
      "부실데이터 수: 369\n",
      "부실데이터 수: 275\n",
      "전체 데이터 수 :  14077\n",
      "부실 기업 데이터 수:  275\n",
      "정상 기업 데이터 수 :  13802\n",
      "부실 정상 데이터 비율 :  target_3\n",
      "0    0.980465\n",
      "1    0.019535\n",
      "Name: proportion, dtype: float64\n",
      "전체 기업 수 :  1684\n",
      "부실 기업 수  :  167\n",
      "정상 기업 수 :  1649\n",
      "결측치 수 :  83327\n"
     ]
    }
   ],
   "source": [
    "print('부실데이터 수:',df[df['target_1']==1].shape[0])\n",
    "print('부실데이터 수:',df[df['target_2']==1].shape[0])\n",
    "print('부실데이터 수:',df[df['target_3']==1].shape[0])\n",
    "\n",
    "print(\"전체 데이터 수 : \", df.shape[0])\n",
    "print(\"부실 기업 데이터 수: \",len(df[df[\"target_3\"]==1]))\n",
    "print(\"정상 기업 데이터 수 : \",len(df[df[\"target_3\"]==0]))\n",
    "print(\"부실 정상 데이터 비율 : \",df[\"target_3\"].value_counts(property))\n",
    "print(\"전체 기업 수 : \" , len(np.unique(df[\"회사명\"])))\n",
    "print(\"부실 기업 수  : \",len(np.unique(df[df[\"target_1\"]==1][\"회사명\"])))\n",
    "print(\"정상 기업 수 : \",len(np.unique(df[df[\"target_3\"]==0][\"회사명\"])))\n",
    "print(\"결측치 수 : \", df.isna().sum().sum())"
   ]
  },
  {
   "cell_type": "code",
   "execution_count": 159,
   "metadata": {},
   "outputs": [
    {
     "name": "stdout",
     "output_type": "stream",
     "text": [
      "회사명                     0\n",
      "거래소코드                   0\n",
      "회계년도                    0\n",
      "자산                   1456\n",
      "자본                   1456\n",
      "차입금의존도               1641\n",
      "유보율                  1641\n",
      "현금비율                 1641\n",
      "부채비율                 1641\n",
      "당좌비율                 1641\n",
      "순운전자본비율              1641\n",
      "이자비용                 1456\n",
      "영업손익                 1456\n",
      "감가상각비                1456\n",
      "EBITDA               1643\n",
      "총자본정상영업이익률           1641\n",
      "자기자본순이익률             1641\n",
      "총자본순이익률              1641\n",
      "매출액총이익률              1641\n",
      "금융비용부담률              1641\n",
      "경영자본순이익률             1641\n",
      "자본금회전률               1641\n",
      "유형자산회전율              1641\n",
      "재고자산회전률              1641\n",
      "자기자본회전률              1641\n",
      "타인자본회전률              1641\n",
      "총자본회전률               1641\n",
      "이익잉여금                1456\n",
      "영업활동으로 인한 현금흐름       1456\n",
      "매출액                  1456\n",
      "연구개발비(IFRS연결)(천원)    1456\n",
      "금융원가                 1456\n",
      "금융수익                 1456\n",
      "법인세비용차감전순이익          1456\n",
      "당기순이익                1456\n",
      "부채                   1456\n",
      "합계_기말인원(명)           2234\n",
      "합계_년간총급여(천원)         2234\n",
      "외국인지분율               2583\n",
      "대주주지분율               2147\n",
      "단기차입금                1456\n",
      "유동성장기부채              1456\n",
      "상장일                     0\n",
      "산업군                     0\n",
      "CAPEX                1456\n",
      "유형자산증가율              2087\n",
      "매출액증가율               2103\n",
      "자기자본증가율              2085\n",
      "총자본증가율               2085\n",
      "정상영업이익증가율            2085\n",
      "시가총액                 2217\n",
      "장단기금리차                  0\n",
      "cpi                     0\n",
      "업력                      0\n",
      "누적수익성비율              1457\n",
      "TMD                  2618\n",
      "CND                  1459\n",
      "공시제목                    0\n",
      "target_1                0\n",
      "target_2                0\n",
      "target_3                0\n",
      "dtype: int64\n"
     ]
    }
   ],
   "source": [
    "pd.set_option('display.max_rows',None)\n",
    "print(df.isna().sum())\n",
    "pd.reset_option('display.max_rows',None)"
   ]
  },
  {
   "cell_type": "code",
   "execution_count": 160,
   "metadata": {},
   "outputs": [
    {
     "name": "stdout",
     "output_type": "stream",
     "text": [
      "전체 데이터 수 :  10984\n",
      "부실 기업 데이터 수:  261\n",
      "정상 기업 데이터 수 :  10723\n",
      "부실 정상 데이터 비율 :  target_3\n",
      "0    0.976238\n",
      "1    0.023762\n",
      "Name: proportion, dtype: float64\n",
      "전체 기업 수 :  1514\n",
      "부실 기업 수  :  163\n",
      "정상 기업 수 :  1469\n",
      "결측치 수 :  8612\n"
     ]
    }
   ],
   "source": [
    "# 상장일이 회계년도 보다 작은 데이터 삭제\n",
    "df = df[df[\"회계년도\"] > df[\"상장일\"]]\n",
    "df.reset_index(drop = True, inplace = True)\n",
    "\n",
    "print(\"전체 데이터 수 : \", df.shape[0])\n",
    "print(\"부실 기업 데이터 수: \",len(df[df[\"target_3\"]==1]))\n",
    "print(\"정상 기업 데이터 수 : \",len(df[df[\"target_3\"]==0]))\n",
    "print(\"부실 정상 데이터 비율 : \",df[\"target_3\"].value_counts(property))\n",
    "print(\"전체 기업 수 : \" , len(np.unique(df[\"회사명\"])))\n",
    "print(\"부실 기업 수  : \",len(np.unique(df[df[\"target_1\"]==1][\"회사명\"])))\n",
    "print(\"정상 기업 수 : \",len(np.unique(df[df[\"target_3\"]==0][\"회사명\"])))\n",
    "print(\"결측치 수 : \", df.isna().sum().sum())"
   ]
  },
  {
   "cell_type": "code",
   "execution_count": 161,
   "metadata": {},
   "outputs": [
    {
     "data": {
      "text/plain": [
       "1570"
      ]
     },
     "execution_count": 161,
     "metadata": {},
     "output_type": "execute_result"
    }
   ],
   "source": [
    "12377 - 10807"
   ]
  },
  {
   "cell_type": "code",
   "execution_count": 162,
   "metadata": {},
   "outputs": [],
   "source": [
    "# 이용한 컬럼 삭제 \n",
    "\n",
    "df.drop(['자산','이자비용','매출액','부채','금융원가','시가총액',\"EBITDA\",'공시제목','상장일'],axis=1,inplace=True)"
   ]
  },
  {
   "cell_type": "code",
   "execution_count": 163,
   "metadata": {},
   "outputs": [
    {
     "name": "stdout",
     "output_type": "stream",
     "text": [
      "유형자산 증가율 삭제 행 수 :  296\n",
      "총자본증가율 삭제 행 수 :  0\n"
     ]
    }
   ],
   "source": [
    "# 이자부당률이 결측치로 나오는 14년도 영진코퍼레이션 결측치 직접 값 계산해서 결측치 대체\n",
    "\n",
    "# df.loc[4173, \"이자부담률\"] = -5.995505908521291\n",
    "\n",
    "# 부채상환계수rk 결측치로 나오는 14년도 영진코퍼레이션 결측치 직접 값 계산해서 결측치 대체\n",
    "\n",
    "# df.loc[4173, \"부채상환계수\"] = -760.5303077054485\n",
    "\n",
    "# 대주주 지분율 없는 컬럼 다트에서 값 찾아서 대체 \n",
    "\n",
    "df.loc[903, \"대주주지분율\"] = 50                    # 드림티엔터테인먼트\n",
    "df.loc[2913, \"대주주지분율\"] = 27.83                # 아라온테크\n",
    "df.loc[3668, \"대주주지분율\"] = 49.8                 # 에이루트\n",
    "df.loc[3702, \"대주주지분율\"] = 18.5                 # 에이제이에스\n",
    "df.loc[4399, \"대주주지분율\"] = 23.84                # 와이즈파워\n",
    "df.loc[5542, \"대주주지분율\"] = 100                  # 제이테크놀로지\n",
    "df.loc[8155, \"대주주지분율\"] = 12.03                # 대한그린파워\n",
    "df.loc[8326, \"대주주지분율\"] = 14.94                # 디브이에스코리아\n",
    "df.loc[8807, \"대주주지분율\"] = 40.78                # 세미텍\n",
    "\n",
    "\n",
    "#  유형자산증가율 없는 컬럼 다트에서 값 찾아서 대체 \n",
    "\n",
    "df.loc[1879, \"유형자산증가율\"] = 0                    # 비츠로시스\n",
    "df.loc[1880, \"유형자산증가율\"] = 0                    # 비츠로시스\n",
    "\n",
    "# 외국인 지분율 결측치 0으로 대체\n",
    "df[\"외국인지분율\"].fillna(0, inplace=True)\n",
    "\n",
    "\n",
    "# 직원인건비총액 결측치 0으로 대체\n",
    "# df[\"직원인건비총액\"].fillna(0, inplace=True)\n",
    "\n",
    "# 합계_기말인원(명) 결측치 0으로 대체\n",
    "df[\"합계_기말인원(명)\"].fillna(0, inplace=True)\n",
    "\n",
    "\n",
    "\n",
    "#  유형자산증가율 없는 컬럼 다트에서 값 찾아서 대체 \n",
    "df.loc[1879, \"유형자산증가율\"] = 0                    # # 유형자산을 모두 처분하여 감가상각비가 없어 EBITDA값이 결측치인 14년도 영진코퍼레이션 결측치에 영업이익값으로 대체\n",
    "\n",
    "# #매출액증가율 없는 컬럼 삭제\n",
    "\n",
    "de_ind_1 = df[df[[\"매출액증가율\"]].isna().any(axis =1)].index\n",
    "print(\"유형자산 증가율 삭제 행 수 : \",len(de_ind_1))\n",
    "df.drop(index=de_ind_1, axis=0, inplace=True)\n",
    " # 메드팩토 셀리드 큐리언트\n",
    "\n",
    "\n",
    " # 증가율 컬럼 당해 회계년도에 상장하여 전년도 자료가 없어 결측치로 뜨는 데이터 삭제   \n",
    "de_ind = df[df[[\"총자본증가율\"]].isna().any(axis =1)].index\n",
    "print(\"총자본증가율 삭제 행 수 : \",len(de_ind))\n",
    "df.drop(index=de_ind, axis=0, inplace=True)\n",
    "\n",
    "# 직원수변동률 결측치 0으로 대체 \n",
    "# de_ind_2 = df[df[[\"직원수변동률%\"]].isna().any(axis =1)].index\n",
    "# print(\"직원수변동률 삭제 행 수 : \",len(de_ind_2))\n",
    "# df.drop(index=de_ind_2, axis=0, inplace=True)\n",
    "#  비덴트 썬테크놀로지스"
   ]
  },
  {
   "cell_type": "code",
   "execution_count": 164,
   "metadata": {},
   "outputs": [
    {
     "name": "stdout",
     "output_type": "stream",
     "text": [
      "회사명                  0\n",
      "거래소코드                0\n",
      "회계년도                 0\n",
      "자본                   0\n",
      "차입금의존도               0\n",
      "유보율                  0\n",
      "현금비율                 0\n",
      "부채비율                 0\n",
      "당좌비율                 0\n",
      "순운전자본비율              0\n",
      "영업손익                 0\n",
      "감가상각비                0\n",
      "총자본정상영업이익률           0\n",
      "자기자본순이익률             0\n",
      "총자본순이익률              0\n",
      "매출액총이익률              0\n",
      "금융비용부담률              0\n",
      "경영자본순이익률             0\n",
      "자본금회전률               0\n",
      "유형자산회전율              0\n",
      "재고자산회전률              0\n",
      "자기자본회전률              0\n",
      "타인자본회전률              0\n",
      "총자본회전률               0\n",
      "이익잉여금                0\n",
      "영업활동으로 인한 현금흐름       0\n",
      "연구개발비(IFRS연결)(천원)    0\n",
      "금융수익                 0\n",
      "법인세비용차감전순이익          0\n",
      "당기순이익                0\n",
      "합계_기말인원(명)           0\n",
      "합계_년간총급여(천원)         6\n",
      "외국인지분율               0\n",
      "대주주지분율               9\n",
      "단기차입금                0\n",
      "유동성장기부채              0\n",
      "산업군                  0\n",
      "CAPEX                0\n",
      "유형자산증가율              2\n",
      "매출액증가율               0\n",
      "자기자본증가율              0\n",
      "총자본증가율               0\n",
      "정상영업이익증가율            0\n",
      "장단기금리차               0\n",
      "cpi                  0\n",
      "업력                   0\n",
      "누적수익성비율              0\n",
      "TMD                  0\n",
      "CND                  0\n",
      "target_1             0\n",
      "target_2             0\n",
      "target_3             0\n",
      "dtype: int64\n"
     ]
    }
   ],
   "source": [
    "pd.set_option('display.max_rows',None)\n",
    "print(df.isna().sum())\n",
    "pd.reset_option('display.max_rows',None)"
   ]
  },
  {
   "cell_type": "code",
   "execution_count": 165,
   "metadata": {},
   "outputs": [],
   "source": [
    "# 결측치 제거\n",
    "df.dropna(axis=0, inplace=True)"
   ]
  },
  {
   "cell_type": "code",
   "execution_count": 166,
   "metadata": {},
   "outputs": [
    {
     "name": "stdout",
     "output_type": "stream",
     "text": [
      "전체 행: 10674 개\n",
      "전체 기업 수 1455\n",
      "결측치 수 :  0\n"
     ]
    }
   ],
   "source": [
    "print('전체 행:', df.shape[0],'개')\n",
    "print('전체 기업 수',len(df['회사명'].unique()))\n",
    "print(\"결측치 수 : \", df.isna().sum().sum())"
   ]
  },
  {
   "cell_type": "code",
   "execution_count": 167,
   "metadata": {},
   "outputs": [
    {
     "data": {
      "text/plain": [
       "Index(['회사명', '거래소코드', '회계년도', '자본', '차입금의존도', '유보율', '현금비율', '부채비율', '당좌비율',\n",
       "       '순운전자본비율', '영업손익', '감가상각비', '총자본정상영업이익률', '자기자본순이익률', '총자본순이익률',\n",
       "       '매출액총이익률', '금융비용부담률', '경영자본순이익률', '자본금회전률', '유형자산회전율', '재고자산회전률',\n",
       "       '자기자본회전률', '타인자본회전률', '총자본회전률', '이익잉여금', '영업활동으로 인한 현금흐름',\n",
       "       '연구개발비(IFRS연결)(천원)', '금융수익', '법인세비용차감전순이익', '당기순이익', '합계_기말인원(명)',\n",
       "       '합계_년간총급여(천원)', '외국인지분율', '대주주지분율', '단기차입금', '유동성장기부채', '산업군', 'CAPEX',\n",
       "       '유형자산증가율', '매출액증가율', '자기자본증가율', '총자본증가율', '정상영업이익증가율', '장단기금리차', 'cpi',\n",
       "       '업력', '누적수익성비율', 'TMD', 'CND', 'target_1', 'target_2', 'target_3'],\n",
       "      dtype='object')"
      ]
     },
     "execution_count": 167,
     "metadata": {},
     "output_type": "execute_result"
    }
   ],
   "source": [
    "df.columns"
   ]
  },
  {
   "attachments": {},
   "cell_type": "markdown",
   "metadata": {},
   "source": [
    "\n",
    "## 결측치 처리 완료\n",
    "---"
   ]
  },
  {
   "cell_type": "code",
   "execution_count": 168,
   "metadata": {},
   "outputs": [],
   "source": [
    "# # 무한대 값 확인\n",
    "\n",
    "# print(\"양의 무한대 :\",df[df[[\"이자부담률\"]].isin([np.inf]).any(axis = 1)][\"target_3\"].value_counts())\n",
    "# print(\"음의 무한대 :\", df[df[[\"이자부담률\"]].isin([-np.inf]).any(axis = 1)][\"target_3\"].value_counts())"
   ]
  },
  {
   "cell_type": "code",
   "execution_count": 169,
   "metadata": {},
   "outputs": [],
   "source": [
    "# # 이자부담률 무한대 값 삭제\n",
    "# # 전년도 이자부담률 데이터가 0값이서 데이터 제거(648개)\n",
    "\n",
    "# a = df[df[\"이자부담률\"].isin([np.inf])].index.to_list()\n",
    "# b = df[df[\"이자부담률\"].isin([-np.inf])].index.to_list()\n",
    "# c = a + b\n",
    "# print(\"이자부담률 무한대 값 행 수 :\", len(c))\n",
    "# df.drop(index=c, inplace=True)"
   ]
  },
  {
   "cell_type": "code",
   "execution_count": 170,
   "metadata": {},
   "outputs": [
    {
     "name": "stdout",
     "output_type": "stream",
     "text": [
      "유형자산증가율 무한대 값 행 수 : 2\n"
     ]
    }
   ],
   "source": [
    "# 유형자산증가율 무한대 값 삭제\n",
    "# 전년도 유형자산 데이터가 0값이서 데이터 제거(2개)\n",
    "\n",
    "\n",
    "a = df[df[\"유형자산증가율\"].isin([np.inf])].index.to_list()\n",
    "b = df[df[\"유형자산증가율\"].isin([-np.inf])].index.to_list()\n",
    "c = a + b\n",
    "print(\"유형자산증가율 무한대 값 행 수 :\", len(c))\n",
    "df.drop(index=c, inplace=True)"
   ]
  },
  {
   "cell_type": "code",
   "execution_count": 171,
   "metadata": {},
   "outputs": [],
   "source": [
    "# # 현금흐름 대 매출액 무한대 값 삭제\n",
    "# # 전년도 매출액 데이터가 0값이서 데이터 제거(2개)\n",
    "\n",
    "# a = df[df[\"현금흐름 대 매출액\"].isin([np.inf])].index.to_list()\n",
    "# b = df[df[\"현금흐름 대 매출액\"].isin([-np.inf])].index.to_list()\n",
    "# c = a + b\n",
    "# print(\"현금흐름 대 매출액 무한대 값 행 수 :\", len(c))\n",
    "# df.drop(index=c, inplace=True)"
   ]
  },
  {
   "cell_type": "code",
   "execution_count": 172,
   "metadata": {},
   "outputs": [
    {
     "name": "stdout",
     "output_type": "stream",
     "text": [
      "매출액증가율 무한대 값 행 수 : 4\n"
     ]
    }
   ],
   "source": [
    "# 매출액증가율 무한대 값 삭제\n",
    "# 전년도 매출액 데이터가 0값이서 데이터 제거\n",
    "\n",
    "a = df[df[\"매출액증가율\"].isin([np.inf])].index.to_list()\n",
    "b = df[df[\"매출액증가율\"].isin([-np.inf])].index.to_list()\n",
    "c = a + b\n",
    "print(\"매출액증가율 무한대 값 행 수 :\", len(c))\n",
    "df.drop(index=c, inplace=True)"
   ]
  },
  {
   "cell_type": "code",
   "execution_count": 173,
   "metadata": {},
   "outputs": [],
   "source": [
    "# # ROA변화율 무한대 값 삭제\n",
    "# # 전년도 ROA 데이터가 0값이서 데이터 제거\n",
    "\n",
    "# a = df[df[\"ROA변화율\"].isin([np.inf])].index.to_list()\n",
    "# b = df[df[\"ROA변화율\"].isin([-np.inf])].index.to_list()\n",
    "# c = a + b\n",
    "# print(\"ROA변화율 무한대 값 행 수 :\", len(c))\n",
    "# df.drop(index=c, inplace=True)"
   ]
  },
  {
   "cell_type": "code",
   "execution_count": 174,
   "metadata": {},
   "outputs": [
    {
     "name": "stdout",
     "output_type": "stream",
     "text": [
      "양의 무한대 : target_3\n",
      "0    1\n",
      "Name: count, dtype: int64\n",
      "음의 무한대 : Series([], Name: count, dtype: int64)\n"
     ]
    }
   ],
   "source": [
    "# 무한대 값 확인\n",
    "\n",
    "print(\"양의 무한대 :\",df[df.isin([np.inf]).any(axis = 1)][\"target_3\"].value_counts())\n",
    "print(\"음의 무한대 :\", df[df.isin([-np.inf]).any(axis = 1)][\"target_3\"].value_counts())"
   ]
  },
  {
   "cell_type": "code",
   "execution_count": 175,
   "metadata": {},
   "outputs": [],
   "source": [
    "df.drop(index=df[df.isin([np.inf]).any(axis = 1)].index, axis=0, inplace=True)\n",
    "df.reset_index(drop=True, inplace=True)"
   ]
  },
  {
   "cell_type": "code",
   "execution_count": 176,
   "metadata": {},
   "outputs": [
    {
     "name": "stdout",
     "output_type": "stream",
     "text": [
      "전체 데이터 수 :  10667\n",
      "부실 기업 데이터 수:  235\n",
      "정상 기업 데이터 수 :  10432\n",
      "부실 정상 데이터 비율 :  target_3\n",
      "0    0.977969\n",
      "1    0.022031\n",
      "Name: proportion, dtype: float64\n",
      "전체 기업 수 :  1451\n",
      "부실 기업 수  :  149\n",
      "정상 기업 수 :  1414\n",
      "결측치 수 :  0\n"
     ]
    }
   ],
   "source": [
    "print(\"전체 데이터 수 : \", df.shape[0])\n",
    "print(\"부실 기업 데이터 수: \",len(df[df[\"target_3\"]==1]))\n",
    "print(\"정상 기업 데이터 수 : \",len(df[df[\"target_3\"]==0]))\n",
    "print(\"부실 정상 데이터 비율 : \",df[\"target_3\"].value_counts(property))\n",
    "print(\"전체 기업 수 : \" , len(np.unique(df[\"회사명\"])))\n",
    "print(\"부실 기업 수  : \",len(np.unique(df[df[\"target_1\"]==1][\"회사명\"])))\n",
    "print(\"정상 기업 수 : \",len(np.unique(df[df[\"target_3\"]==0][\"회사명\"])))\n",
    "print(\"결측치 수 : \", df.isna().sum().sum())"
   ]
  },
  {
   "attachments": {},
   "cell_type": "markdown",
   "metadata": {},
   "source": [
    "\n",
    "## 무한대 값 처리 완료\n",
    "---"
   ]
  },
  {
   "cell_type": "code",
   "execution_count": 177,
   "metadata": {},
   "outputs": [],
   "source": [
    "df[df[\"산업군\"].str.contains(\"금융\")]\n",
    "\n",
    "drop_ind = df[df[\"산업군\"].str.contains(\"금융\")].index\n",
    "df.drop(index=drop_ind, axis=0, inplace=True)\n",
    "df.reset_index(drop=True, inplace=True)"
   ]
  },
  {
   "cell_type": "code",
   "execution_count": 178,
   "metadata": {},
   "outputs": [
    {
     "name": "stdout",
     "output_type": "stream",
     "text": [
      "전체 데이터 수 :  10653\n",
      "부실 기업 데이터 수:  235\n",
      "정상 기업 데이터 수 :  10418\n",
      "부실 정상 데이터 비율 :  target_3\n",
      "0    0.97794\n",
      "1    0.02206\n",
      "Name: proportion, dtype: float64\n",
      "전체 기업 수 :  1449\n",
      "부실 기업 수  :  149\n",
      "정상 기업 수 :  1412\n",
      "결측치 수 :  0\n"
     ]
    }
   ],
   "source": [
    "print(\"전체 데이터 수 : \", df.shape[0])\n",
    "print(\"부실 기업 데이터 수: \",len(df[df[\"target_3\"]==1]))\n",
    "print(\"정상 기업 데이터 수 : \",len(df[df[\"target_3\"]==0]))\n",
    "print(\"부실 정상 데이터 비율 : \",df[\"target_3\"].value_counts(property))\n",
    "print(\"전체 기업 수 : \" , len(np.unique(df[\"회사명\"])))\n",
    "print(\"부실 기업 수  : \",len(np.unique(df[df[\"target_1\"]==1][\"회사명\"])))\n",
    "print(\"정상 기업 수 : \",len(np.unique(df[df[\"target_3\"]==0][\"회사명\"])))\n",
    "print(\"결측치 수 : \", df.isna().sum().sum())"
   ]
  },
  {
   "attachments": {},
   "cell_type": "markdown",
   "metadata": {},
   "source": [
    "# 원본 데이터 결측치 처리 완료\n",
    "---"
   ]
  },
  {
   "cell_type": "code",
   "execution_count": 179,
   "metadata": {},
   "outputs": [
    {
     "name": "stdout",
     "output_type": "stream",
     "text": [
      "부실 기업 타겟 0인 데이터 삭제  수 :  543\n"
     ]
    }
   ],
   "source": [
    "# 부실 기업 타겟 0인 데이터 삭제  \n",
    "\n",
    "target_ls = df[df[\"target_3\"]==1][\"회사명\"].unique().tolist()\n",
    "drop_target_ls = df[(df[\"회사명\"].isin(target_ls)) & (df[\"target_3\"]==0)].index\n",
    "\n",
    "df.drop(index=drop_target_ls, axis=0, inplace=True)\n",
    "\n",
    "print(\"부실 기업 타겟 0인 데이터 삭제  수 : \" ,len(drop_target_ls))"
   ]
  },
  {
   "cell_type": "code",
   "execution_count": 180,
   "metadata": {},
   "outputs": [
    {
     "name": "stdout",
     "output_type": "stream",
     "text": [
      "전체 데이터 수 :  10110\n",
      "부실 기업 데이터 수:  235\n",
      "정상 기업 데이터 수 :  9875\n",
      "부실 정상 데이터 비율 :  target_3\n",
      "0    0.976756\n",
      "1    0.023244\n",
      "Name: proportion, dtype: float64\n",
      "전체 기업 수 :  1449\n",
      "부실 기업 수  :  149\n",
      "정상 기업 수 :  1300\n",
      "결측치 수 :  0\n"
     ]
    }
   ],
   "source": [
    "print(\"전체 데이터 수 : \", df.shape[0])\n",
    "print(\"부실 기업 데이터 수: \",len(df[df[\"target_3\"]==1]))\n",
    "print(\"정상 기업 데이터 수 : \",len(df[df[\"target_3\"]==0]))\n",
    "print(\"부실 정상 데이터 비율 : \",df[\"target_3\"].value_counts(property))\n",
    "print(\"전체 기업 수 : \" , len(np.unique(df[\"회사명\"])))\n",
    "print(\"부실 기업 수  : \",len(np.unique(df[df[\"target_1\"]==1][\"회사명\"])))\n",
    "print(\"정상 기업 수 : \",len(np.unique(df[df[\"target_3\"]==0][\"회사명\"])))\n",
    "print(\"결측치 수 : \", df.isna().sum().sum())"
   ]
  },
  {
   "cell_type": "code",
   "execution_count": 184,
   "metadata": {},
   "outputs": [],
   "source": [
    "df.to_csv(\"./data/결측치처리완료/코스닥결측치처리완료_00.csv\", encoding=\"utf-8-sig\")"
   ]
  },
  {
   "cell_type": "code",
   "execution_count": 185,
   "metadata": {},
   "outputs": [
    {
     "data": {
      "text/plain": [
       "Index(['회사명', '거래소코드', '회계년도', '자본', '차입금의존도', '유보율', '현금비율', '부채비율', '당좌비율',\n",
       "       '순운전자본비율', '영업손익', '감가상각비', '총자본정상영업이익률', '자기자본순이익률', '총자본순이익률',\n",
       "       '매출액총이익률', '금융비용부담률', '경영자본순이익률', '자본금회전률', '유형자산회전율', '재고자산회전률',\n",
       "       '자기자본회전률', '타인자본회전률', '총자본회전률', '이익잉여금', '영업활동으로 인한 현금흐름',\n",
       "       '연구개발비(IFRS연결)(천원)', '금융수익', '법인세비용차감전순이익', '당기순이익', '합계_기말인원(명)',\n",
       "       '합계_년간총급여(천원)', '외국인지분율', '대주주지분율', '단기차입금', '유동성장기부채', '산업군', 'CAPEX',\n",
       "       '유형자산증가율', '매출액증가율', '자기자본증가율', '총자본증가율', '정상영업이익증가율', '장단기금리차', 'cpi',\n",
       "       '업력', '누적수익성비율', 'TMD', 'CND', 'target_1', 'target_2', 'target_3'],\n",
       "      dtype='object')"
      ]
     },
     "execution_count": 185,
     "metadata": {},
     "output_type": "execute_result"
    }
   ],
   "source": [
    "df.columns"
   ]
  },
  {
   "cell_type": "code",
   "execution_count": 186,
   "metadata": {},
   "outputs": [
    {
     "data": {
      "image/png": "[encoded data removed]",
      "text/plain": [
       "<Figure size 700x500 with 1 Axes>"
      ]
     },
     "metadata": {},
     "output_type": "display_data"
    }
   ],
   "source": [
    "import matplotlib.pyplot as plt\n",
    "import seaborn as sns\n",
    "import matplotlib as mpl\n",
    "from scipy import stats\n",
    "plt.rc('font', family='Malgun Gothic') \n",
    "mpl.rcParams['axes.unicode_minus'] = False\n",
    "%matplotlib inline\n",
    "\n",
    "부실_df = df[df[\"target_3\"]==1].groupby(\"회계년도\")[\"순운전자본비율\"].mean().reset_index()\n",
    "정상_df = df[df[\"target_3\"]==0].groupby(\"회계년도\")[\"순운전자본비율\"].mean().reset_index()\n",
    "\n",
    "plt.figure(figsize=(7,5))\n",
    "plt.plot(부실_df[\"회계년도\"], 부실_df[\"순운전자본비율\"], label = \"부실기업\")\n",
    "plt.plot(정상_df[\"회계년도\"], 정상_df[\"순운전자본비율\"], label = \"정상기업\")\n",
    "plt.title(\"부실기업 정상기업 순운전자본비율 차이\")\n",
    "plt.xlabel(\"회계년도\")\n",
    "plt.ylabel(\"순운전자본비율\")\n",
    "plt.legend()\n",
    "plt.grid(True)\n",
    "plt.show()"
   ]
  }
 ],
 "metadata": {
  "kernelspec": {
   "display_name": "base",
   "language": "python",
   "name": "python3"
  },
  "language_info": {
   "codemirror_mode": {
    "name": "ipython",
    "version": 3
   },
   "file_extension": ".py",
   "mimetype": "text/x-python",
   "name": "python",
   "nbconvert_exporter": "python",
   "pygments_lexer": "ipython3",
   "version": "3.10.9"
  },
  "orig_nbformat": 4
 },
 "nbformat": 4,
 "nbformat_minor": 2
}
