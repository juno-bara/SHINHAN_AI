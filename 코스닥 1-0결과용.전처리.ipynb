{
 "cells": [
  {
   "cell_type": "code",
   "execution_count": 232,
   "metadata": {},
   "outputs": [],
   "source": [
    "# 라이브러리 로드\n",
    "import pandas as pd\n",
    "import numpy as np"
   ]
  },
  {
   "cell_type": "code",
   "execution_count": 233,
   "metadata": {},
   "outputs": [],
   "source": [
    "# 데이터 로드\n",
    "\n",
    "수익성 = pd.read_csv('./datasets/코스닥/코스닥 수익성.csv',encoding='cp949')\n",
    "안정성 = pd.read_csv('./datasets/코스닥/코스닥 안정성.csv',encoding='cp949')\n",
    "활동성 = pd.read_csv('./datasets/코스닥/코스닥 활동성.csv',encoding='cp949')\n",
    "성장성 = pd.read_csv('./datasets/코스닥/코스닥 성장성 계산용.csv',encoding='cp949')\n",
    "현금흐름 = pd.read_csv('./datasets/코스닥/코스닥 현금흐름 + 누적수익성비율.csv',encoding='cp949')\n",
    "연구개발 = pd.read_csv('./datasets/코스닥/코스닥 rs.csv',encoding='cp949')\n",
    "EBIT = pd.read_csv('./datasets/코스닥/에비~ 코스닥.csv',encoding='cp949')\n",
    "per_pbr_총부채 = pd.read_csv('./datasets/코스닥/per pbr 총부채 코스닥.csv',encoding='cp949')\n",
    "직원수_업력 = pd.read_csv('./datasets/코스닥/코스닥 직원수 급여 업력 외국인 대주주.csv',encoding='cp949')\n",
    "시가총액 = pd.read_csv('./datasets/코스닥/코스닥시가총액.csv',index_col=0)  #### 시총도 붙여야됨\n",
    "단기차입금 = pd.read_csv('./datasets/코스닥/코스닥 단기차입금 유동성 장기부채.csv',encoding='cp949')\n",
    "거시변수 = pd.read_excel('./datasets/거시경제 변수/거시변수.xlsx', engine=\"openpyxl\")\n",
    "상장일 = pd.read_csv('./datasets/코스닥/코스닥 상장일.csv',encoding='cp949')\n",
    "대분류 = pd.read_csv('./datasets/코스닥/코스닥 대분류.csv',encoding='cp949')\n",
    "유형자산 = pd.read_csv(\"./datasets/코스닥/코스닥 유형자산증가율.csv\", encoding= \"cp949\")\n",
    "현금성자산 = pd.read_csv(\"./datasets/코스닥/코스닥 현금성 비율.csv\", encoding= \"cp949\")"
   ]
  },
  {
   "cell_type": "code",
   "execution_count": 234,
   "metadata": {},
   "outputs": [],
   "source": [
    "#  사용 안하는 코드 컬럼 삭제 \n",
    "대분류.drop(['통계청 한국표준산업분류 코드 10차(대분류)'],axis=1,inplace=True)"
   ]
  },
  {
   "cell_type": "code",
   "execution_count": 235,
   "metadata": {},
   "outputs": [],
   "source": [
    "#  데이터 결합\n",
    "\n",
    "df = 안정성.merge(수익성,on=['회사명','거래소코드','회계년도'],how='left')\n",
    "df = df.merge(활동성,on=['회사명','거래소코드','회계년도'],how='left')\n",
    "df = df.merge(성장성,on=['회사명','거래소코드','회계년도'],how='left')\n",
    "df = df.merge(현금흐름,on=['회사명','거래소코드','회계년도'],how='left')\n",
    "df = df.merge(연구개발,on=['회사명','거래소코드','회계년도'],how='left')\n",
    "df = df.merge(EBIT,on=['회사명','거래소코드','회계년도'],how='left')\n",
    "df = df.merge(per_pbr_총부채,on=['회사명','거래소코드','회계년도'],how='left')\n",
    "df = df.merge(직원수_업력,on=['회사명','거래소코드','회계년도'],how='left')\n",
    "df = df.merge(단기차입금,on=['회사명','거래소코드','회계년도'],how='left')\n",
    "df = df.merge(상장일,on=['회사명','거래소코드','회계년도'],how='left')\n",
    "df = df.merge(대분류,on=['회사명','거래소코드','회계년도'],how='left')\n",
    "df = df.merge(유형자산,on=['회사명','거래소코드','회계년도'],how='left')\n",
    "df = df.merge(현금성자산,on=['회사명','거래소코드','회계년도'],how='left')"
   ]
  },
  {
   "cell_type": "code",
   "execution_count": 236,
   "metadata": {},
   "outputs": [
    {
     "data": {
      "text/plain": [
       "99"
      ]
     },
     "execution_count": 236,
     "metadata": {},
     "output_type": "execute_result"
    }
   ],
   "source": [
    "len(df.columns)"
   ]
  },
  {
   "cell_type": "code",
   "execution_count": 237,
   "metadata": {},
   "outputs": [],
   "source": [
    "## 거래소코드 패딩\n",
    "def padding(x):\n",
    "    x = str(x)\n",
    "    return x.rjust(6, \"0\")\n",
    "## 외국계기업 제거\n",
    "def func_isnt_fcompany(x):\n",
    "    if x[:1] == '9':\n",
    "        return False\n",
    "    else:\n",
    "        return True\n",
    "\n",
    "# 회계년도컬럼, 년도만 뽑아서 int화\n",
    "def change_year(x):\n",
    "    return int(x[:4])\n",
    "\n",
    "def func_not(x):\n",
    "    return not x\n",
    "\n",
    "def change_year_2(x):\n",
    "    return (x[:4])"
   ]
  },
  {
   "cell_type": "code",
   "execution_count": 238,
   "metadata": {},
   "outputs": [],
   "source": [
    "## 거래소 코드 패딩\n",
    "df['거래소코드'] = df['거래소코드'].map(padding)\n",
    "# 회계년도 제거\n",
    "df['회계년도'] = df['회계년도'].map(change_year)"
   ]
  },
  {
   "cell_type": "code",
   "execution_count": 239,
   "metadata": {},
   "outputs": [
    {
     "data": {
      "text/plain": [
       "회사명                             0\n",
       "거래소코드                           0\n",
       "회계년도                            0\n",
       "자산(*)(요약)(IFRS)              1844\n",
       "자본(*)(요약)(IFRS)              1844\n",
       "                             ... \n",
       "통계청 한국표준산업분류 10차(대분류)           0\n",
       "유형자산의 증가(*)(IFRS)(천원)        1844\n",
       "유형자산의 증가(*)(IFRS연결)(천원)      5530\n",
       "현금및현금성자산(요약)(IFRS)(백만원)      1844\n",
       "현금및현금성자산(요약)(IFRS연결)(백만원)    5530\n",
       "Length: 99, dtype: int64"
      ]
     },
     "execution_count": 239,
     "metadata": {},
     "output_type": "execute_result"
    }
   ],
   "source": [
    "df.isna().sum()"
   ]
  },
  {
   "cell_type": "code",
   "execution_count": 240,
   "metadata": {},
   "outputs": [],
   "source": [
    "## 중복되는 데이터 제거\n",
    "df.drop_duplicates(['거래소코드',\"회계년도\"], keep='last', inplace=True)\n",
    "df.reset_index(drop=True, inplace=True)\n",
    "\n",
    "## 없음\n"
   ]
  },
  {
   "cell_type": "code",
   "execution_count": 241,
   "metadata": {},
   "outputs": [
    {
     "name": "stdout",
     "output_type": "stream",
     "text": [
      "전체 행: 15617 개\n",
      "전체 기업 수 1744\n"
     ]
    }
   ],
   "source": [
    "print('전체 행:', df.shape[0],'개')\n",
    "print('전체 기업 수',len(df['회사명'].unique()))"
   ]
  },
  {
   "cell_type": "code",
   "execution_count": 242,
   "metadata": {},
   "outputs": [
    {
     "name": "stdout",
     "output_type": "stream",
     "text": [
      "제거할 데이터 수 :  152\n",
      "제거할 외국계 기업 수 23\n",
      "남은 데이터 수 15465\n",
      "남은 기업 수 1721\n"
     ]
    }
   ],
   "source": [
    "## 외국계 기업 제거\n",
    "print(\"제거할 데이터 수 : \", len(df[df[\"거래소코드\"].map(func_isnt_fcompany).map(func_not)]))\n",
    "print('제거할 외국계 기업 수',len(df[~df[\"거래소코드\"].map(func_isnt_fcompany)].회사명.unique()))\n",
    "\n",
    "df = df[df[\"거래소코드\"].map(func_isnt_fcompany)]\n",
    "print('남은 데이터 수',df.shape[0]) # 외국계기업 데이터 24개 제거\n",
    "print('남은 기업 수',len(df['회사명'].unique()))"
   ]
  },
  {
   "cell_type": "code",
   "execution_count": 243,
   "metadata": {},
   "outputs": [
    {
     "name": "stdout",
     "output_type": "stream",
     "text": [
      "회사수 :  1721\n",
      "거래소코드수 :  1743\n"
     ]
    }
   ],
   "source": [
    "## 회사수와 거래소코드수 차이가나는것 확인\n",
    "print(\"회사수 : \", len(df[\"회사명\"].unique()))\n",
    "print(\"거래소코드수 : \", len(df[\"거래소코드\"].unique()))"
   ]
  },
  {
   "cell_type": "code",
   "execution_count": 244,
   "metadata": {},
   "outputs": [
    {
     "name": "stdout",
     "output_type": "stream",
     "text": [
      "거래소코드가 2개인 기업 수 22 개\n"
     ]
    }
   ],
   "source": [
    "## 거래소 코드 중복기업 전처리\n",
    "list_overlap_code = list()\n",
    "for i in list(df[\"회사명\"].unique()):\n",
    "    if len(df[df[\"회사명\"]==i][\"거래소코드\"].unique()) > 1:\n",
    "        list_overlap_code.append(i)\n",
    "print(\"거래소코드가 2개인 기업 수\", len(list_overlap_code), \"개\")"
   ]
  },
  {
   "cell_type": "code",
   "execution_count": 245,
   "metadata": {},
   "outputs": [
    {
     "data": {
      "text/plain": [
       "['(주)본느',\n",
       " '(주)세화피앤씨',\n",
       " '(주)아이엘사이언스',\n",
       " '(주)알로이스',\n",
       " '(주)에스에이티',\n",
       " '(주)엔케이맥스',\n",
       " '(주)원바이오젠',\n",
       " '(주)인산가',\n",
       " '(주)자비스',\n",
       " '(주)정다운',\n",
       " '(주)카이노스메드',\n",
       " '(주)티에스트릴리온',\n",
       " '(주)포인트엔지니어링',\n",
       " '(주)한국비엔씨',\n",
       " '(주)휴럼',\n",
       " '나무기술(주)',\n",
       " '소프트캠프(주)',\n",
       " '씨아이에스(주)',\n",
       " '에스케이오션플랜트(주)',\n",
       " '엠에프엠코리아(주)',\n",
       " '줌인터넷(주)',\n",
       " '패션플랫폼(주)']"
      ]
     },
     "execution_count": 245,
     "metadata": {},
     "output_type": "execute_result"
    }
   ],
   "source": [
    "list_overlap_code"
   ]
  },
  {
   "cell_type": "code",
   "execution_count": 246,
   "metadata": {},
   "outputs": [],
   "source": [
    "# 중복 거래소코드 제거\n",
    "def func_overlap_code(x):\n",
    "    if x == (df[df[\"회사명\"]==company_name][\"거래소코드\"].iloc[-1]) :\n",
    "        return True\n",
    "    else:\n",
    "        return False\n",
    "\n",
    "list_companyname = list(df[\"회사명\"].unique())\n",
    "\n",
    "\n",
    "dfs = list()\n",
    "\n",
    "\n",
    "for i in list_companyname:\n",
    "    company_name = i\n",
    "    #각 기업별로 데이터프레임 생성\n",
    "    df_concat = df[df[\"회사명\"]==i]\n",
    "    df_concat = df_concat[df_concat[\"거래소코드\"].map(func_overlap_code)] # 거래소코드 바뀌기 전의 거래소코드의 데이터는 삭제\n",
    "    dfs.append(df_concat)\n",
    "df = pd.concat(dfs)\n",
    "df.reset_index(drop=True, inplace=True)"
   ]
  },
  {
   "cell_type": "code",
   "execution_count": 247,
   "metadata": {},
   "outputs": [
    {
     "data": {
      "text/plain": [
       "[]"
      ]
     },
     "execution_count": 247,
     "metadata": {},
     "output_type": "execute_result"
    }
   ],
   "source": [
    "# 회사명이 2개인 거래소코드 존재 확인 \n",
    "list_overlap_code = list()\n",
    "for i in list(df[\"거래소코드\"].unique()):\n",
    "    if len(df[df[\"거래소코드\"]==i][\"회사명\"].unique()) > 1:\n",
    "        list_overlap_code.append(i)\n",
    "list_overlap_code"
   ]
  },
  {
   "cell_type": "code",
   "execution_count": 248,
   "metadata": {},
   "outputs": [],
   "source": [
    "## 연결 결측치 개별로 채우기\n",
    "for i in range(df.shape[0]):\n",
    "    if pd.isnull(df.loc[i,'유보율(IFRS연결)(백만원)']):\n",
    "       df.loc[i,'유보율(IFRS연결)(백만원)'] = df.loc[i,'유보율(IFRS)']\n",
    "    if pd.isnull(df.loc[i,'[제조]* (정상)영업손익(보고서기재)(요약)(IFRS연결)(백만원)']):\n",
    "       df.loc[i,'[제조]* (정상)영업손익(보고서기재)(요약)(IFRS연결)(백만원)'] = df.loc[i,'[제조]* (정상)영업손익(보고서기재)(요약)(IFRS)(백만원)']\n",
    "    if pd.isnull(df.loc[i,'[제조]      이익잉여금(결손금)(요약)(IFRS연결)(백만원)']):\n",
    "       df.loc[i,'[제조]      이익잉여금(결손금)(요약)(IFRS연결)(백만원)'] = df.loc[i,'[제조]      이익잉여금(결손금)(요약)(IFRS)(백만원)']\n",
    "    if pd.isnull(df.loc[i,'[제조]영업활동으로 인한 현금흐름(간접법)(*)(요약)(IFRS연결)(백만원)']):\n",
    "       df.loc[i,'[제조]영업활동으로 인한 현금흐름(간접법)(*)(요약)(IFRS연결)(백만원)'] = df.loc[i,'[제조]영업활동으로 인한 현금흐름(간접법)(*)(요약)(IFRS)(백만원)']\n",
    "    if pd.isnull(df.loc[i,'자산(*)(요약)(IFRS연결)(백만원)']):\n",
    "       df.loc[i,'자산(*)(요약)(IFRS연결)(백만원)'] = df.loc[i,'자산(*)(요약)(IFRS)(백만원)']\n",
    "    if pd.isnull(df.loc[i,'부채(*)(요약)(IFRS연결)(백만원)']):\n",
    "       df.loc[i,'부채(*)(요약)(IFRS연결)(백만원)'] = df.loc[i,'부채(*)(요약)(IFRS)(백만원)']\n",
    "    if pd.isnull(df.loc[i,'[제조]자본(*)(요약)(IFRS연결)(백만원)']):\n",
    "       df.loc[i,'[제조]자본(*)(요약)(IFRS연결)(백만원)'] = df.loc[i,'[제조]자본(*)(요약)(IFRS)(백만원)']\n",
    "    if pd.isnull(df.loc[i,'당기순이익(손실)(요약)(IFRS연결)(백만원)']):\n",
    "       df.loc[i,'당기순이익(손실)(요약)(IFRS연결)(백만원)'] = df.loc[i,'당기순이익(손실)(요약)(IFRS)(백만원)']\n",
    "    if pd.isnull(df.loc[i,'법인세비용차감전순이익(손실)(요약)(IFRS연결)(백만원)']):\n",
    "       df.loc[i,'법인세비용차감전순이익(손실)(요약)(IFRS연결)(백만원)'] = df.loc[i,'법인세비용차감전순이익(손실)(요약)(IFRS)(백만원)']\n",
    "    if pd.isnull(df.loc[i,'금융원가(요약)(IFRS연결)(백만원)']):\n",
    "       df.loc[i,'금융원가(요약)(IFRS연결)(백만원)'] = df.loc[i,'금융원가(요약)(IFRS)(백만원)']\n",
    "    if pd.isnull(df.loc[i,'금융수익(요약)(IFRS연결)(백만원)']):\n",
    "       df.loc[i,'금융수익(요약)(IFRS연결)(백만원)'] = df.loc[i,'금융수익(요약)(IFRS)(백만원)']\n",
    "    if pd.isnull(df.loc[i,'매출액(수익)(요약)(IFRS연결)(백만원)']):\n",
    "       df.loc[i,'매출액(수익)(요약)(IFRS연결)(백만원)'] = df.loc[i,'매출액(수익)(요약)(IFRS)(백만원)']\n",
    "    if pd.isnull(df.loc[i,'연구개발비(IFRS연결)(천원)']):\n",
    "       df.loc[i,'연구개발비(IFRS연결)(천원)'] = df.loc[i,'연구개발비(IFRS)(천원)']\n",
    "    if pd.isnull(df.loc[i,'[제조]      유형자산(요약)(IFRS연결)(백만원)']):\n",
    "       df.loc[i,'[제조]      유형자산(요약)(IFRS연결)(백만원)'] = df.loc[i,'[제조]      유형자산(요약)(IFRS)(백만원)']\n",
    "    if pd.isnull(df.loc[i,'자본금회전률(IFRS연결)']):\n",
    "       df.loc[i,'자본금회전률(IFRS연결)'] = df.loc[i,'자본금회전률(IFRS)']\n",
    "    if pd.isnull(df.loc[i,'총자본회전률(IFRS연결)']):\n",
    "       df.loc[i,'총자본회전률(IFRS연결)'] = df.loc[i,'총자본회전률(IFRS)']\n",
    "    if pd.isnull(df.loc[i,'재고자산회전률(IFRS연결)']):\n",
    "       df.loc[i,'재고자산회전률(IFRS연결)'] = df.loc[i,'재고자산회전률(IFRS)']\n",
    "    if pd.isnull(df.loc[i,'유형자산회전율(IFRS연결)']):\n",
    "       df.loc[i,'유형자산회전율(IFRS연결)'] = df.loc[i,'유형자산회전율(IFRS)']\n",
    "    if pd.isnull(df.loc[i,'자기자본회전률(IFRS연결)']):\n",
    "       df.loc[i,'자기자본회전률(IFRS연결)'] = df.loc[i,'자기자본회전률(IFRS)']\n",
    "    if pd.isnull(df.loc[i,'타인자본회전률(IFRS연결)']):\n",
    "       df.loc[i,'타인자본회전률(IFRS연결)'] = df.loc[i,'타인자본회전률(IFRS)']\n",
    "    if pd.isnull(df.loc[i,'경영자본순이익률(IFRS연결)']):\n",
    "       df.loc[i,'경영자본순이익률(IFRS연결)'] = df.loc[i,'경영자본순이익률(IFRS)']\n",
    "    if pd.isnull(df.loc[i,'금융비용부담률(IFRS연결)']):\n",
    "       df.loc[i,'금융비용부담률(IFRS연결)'] = df.loc[i,'금융비용부담률(IFRS)']\n",
    "    if pd.isnull(df.loc[i,'총자본순이익률(IFRS연결)']):\n",
    "       df.loc[i,'총자본순이익률(IFRS연결)'] = df.loc[i,'총자본순이익률(IFRS)']\n",
    "    if pd.isnull(df.loc[i,'매출액총이익률(IFRS연결)']):\n",
    "       df.loc[i,'매출액총이익률(IFRS연결)'] = df.loc[i,'매출액총이익률(IFRS)']\n",
    "    if pd.isnull(df.loc[i,'자기자본순이익률(IFRS연결)']):\n",
    "       df.loc[i,'자기자본순이익률(IFRS연결)'] = df.loc[i,'자기자본순이익률(IFRS)']\n",
    "    if pd.isnull(df.loc[i,'총자본정상영업이익률(IFRS연결)']):\n",
    "       df.loc[i,'총자본정상영업이익률(IFRS연결)'] = df.loc[i,'총자본정상영업이익률(IFRS)']\n",
    "    if pd.isnull(df.loc[i,'자산(*)(요약)(IFRS연결)']):\n",
    "       df.loc[i,'자산(*)(요약)(IFRS연결)'] = df.loc[i,'자산(*)(요약)(IFRS)']\n",
    "    if pd.isnull(df.loc[i,'자본(*)(요약)(IFRS연결)']):\n",
    "       df.loc[i,'자본(*)(요약)(IFRS연결)'] = df.loc[i,'자본(*)(요약)(IFRS)']\n",
    "    if pd.isnull(df.loc[i,'현금비율(IFRS연결)(백만원)']):\n",
    "       df.loc[i,'현금비율(IFRS연결)(백만원)'] = df.loc[i,'현금비율(IFRS)']\n",
    "    if pd.isnull(df.loc[i,'* (정상)영업손익(보고서기재)(요약)(IFRS연결)(백만원)']):\n",
    "       df.loc[i,'* (정상)영업손익(보고서기재)(요약)(IFRS연결)(백만원)'] = df.loc[i,'* (정상)영업손익(보고서기재)(요약)(IFRS)(백만원)']\n",
    "    if pd.isnull(df.loc[i,'차입금의존도(IFRS연결)']):\n",
    "       df.loc[i,'차입금의존도(IFRS연결)'] = df.loc[i,'차입금의존도(IFRS)(백만원)']\n",
    "    if pd.isnull(df.loc[i,'감가상각비(IFRS연결)(천원)']):\n",
    "       df.loc[i,'감가상각비(IFRS연결)(천원)'] = df.loc[i,'감가상각비(IFRS)(천원)']\n",
    "    if pd.isnull(df.loc[i,'부채비율(IFRS연결)']):\n",
    "       df.loc[i,'부채비율(IFRS연결)'] = df.loc[i,'부채비율(IFRS)']\n",
    "    if pd.isnull(df.loc[i,'당좌비율(IFRS연결)']):\n",
    "       df.loc[i,'당좌비율(IFRS연결)'] = df.loc[i,'당좌비율(IFRS)']\n",
    "    if pd.isnull(df.loc[i,'*이자비용(요약)(IFRS연결)(백만원)']):\n",
    "       df.loc[i,'*이자비용(요약)(IFRS연결)(백만원)'] = df.loc[i,'*이자비용(요약)(IFRS)(백만원)']\n",
    "    if pd.isnull(df.loc[i,'순운전자본비율(IFRS연결)']):\n",
    "       df.loc[i,'순운전자본비율(IFRS연결)'] = df.loc[i,'순운전자본비율(IFRS)']\n",
    "    if pd.isnull(df.loc[i,'유동성장기부채(요약)(IFRS연결)(백만원)']):\n",
    "       df.loc[i,'유동성장기부채(요약)(IFRS연결)(백만원)'] = df.loc[i,'유동성장기부채(요약)(IFRS)(백만원)']\n",
    "    if pd.isnull(df.loc[i,'단기차입금(요약)(IFRS연결)(백만원)']):\n",
    "       df.loc[i,'단기차입금(요약)(IFRS연결)(백만원)'] = df.loc[i,'단기차입금(요약)(IFRS)(백만원)']\n",
    "    if pd.isnull(df.loc[i,'유형자산의 증가(*)(IFRS연결)(천원)']):\n",
    "       df.loc[i,'유형자산의 증가(*)(IFRS연결)(천원)'] = df.loc[i,'유형자산의 증가(*)(IFRS)(천원)']\n",
    "    if pd.isnull(df.loc[i,'현금및현금성자산(요약)(IFRS연결)(백만원)']):\n",
    "        df.loc[i,'현금및현금성자산(요약)(IFRS연결)(백만원)'] = df.loc[i,'현금및현금성자산(요약)(IFRS)(백만원)']\n"
   ]
  },
  {
   "cell_type": "code",
   "execution_count": 249,
   "metadata": {},
   "outputs": [],
   "source": [
    "# #  연결 재무제표를 개별제무제표로 대체\n",
    "# 위의 코드 요약해서 다시 세워본 코드 \n",
    "\n",
    "\n",
    "# connected_cols = [col for col in df.columns if \"연결\" in col]\n",
    "\n",
    "# for connected_col in connected_cols:\n",
    "#     original_col = connected_col.replace(\"연결\", \"\")\n",
    "#     if original_col in df.columns:\n",
    "#         df.loc[df[connected_col].isnull(), connected_col] = df[original_col]"
   ]
  },
  {
   "cell_type": "code",
   "execution_count": 250,
   "metadata": {},
   "outputs": [],
   "source": [
    "#  삭제 할 개별재무제표 컬럼 정리  \n",
    "\n",
    "drop_col = ['유보율(IFRS)' ,'[제조]* (정상)영업손익(보고서기재)(요약)(IFRS)(백만원)','[제조]      이익잉여금(결손금)(요약)(IFRS)(백만원)',\n",
    "'[제조]영업활동으로 인한 현금흐름(간접법)(*)(요약)(IFRS)(백만원)','자산(*)(요약)(IFRS)(백만원)', \n",
    "'부채(*)(요약)(IFRS)(백만원)','[제조]자본(*)(요약)(IFRS)(백만원)','당기순이익(손실)(요약)(IFRS)(백만원)', \n",
    "'법인세비용차감전순이익(손실)(요약)(IFRS)(백만원)','금융원가(요약)(IFRS)(백만원)','금융수익(요약)(IFRS)(백만원)',\n",
    "'매출액(수익)(요약)(IFRS)(백만원)','연구개발비(IFRS)(천원)',\n",
    "'[제조]      유형자산(요약)(IFRS)(백만원)','자본금회전률(IFRS)',\n",
    "'총자본회전률(IFRS)','재고자산회전률(IFRS)','유형자산회전율(IFRS)','자기자본회전률(IFRS)','타인자본회전률(IFRS)',\n",
    "'경영자본순이익률(IFRS)','금융비용부담률(IFRS)','총자본순이익률(IFRS)','매출액총이익률(IFRS)',\n",
    "'자기자본순이익률(IFRS)','총자본정상영업이익률(IFRS)','자산(*)(요약)(IFRS)','자본(*)(요약)(IFRS)',\n",
    " '현금비율(IFRS)','* (정상)영업손익(보고서기재)(요약)(IFRS)(백만원)',\n",
    " '차입금의존도(IFRS)(백만원)','감가상각비(IFRS)(천원)','부채비율(IFRS)',\n",
    "'당좌비율(IFRS)','*이자비용(요약)(IFRS)(백만원)','순운전자본비율(IFRS)',\n",
    "'[제조]자산(*)(요약)(IFRS)(백만원)_x','[제조]자산(*)(요약)(IFRS연결)(백만원)_x',\n",
    "'[제조]자산(*)(요약)(IFRS)(백만원)_y','[제조]자산(*)(요약)(IFRS연결)(백만원)_y',\n",
    "'[제조]매출액(수익)(요약)(IFRS)(백만원)_y', '[제조]매출액(수익)(요약)(IFRS연결)(백만원)_y',\n",
    "'[제조]매출액(수익)(요약)(IFRS)(백만원)_x', '[제조]매출액(수익)(요약)(IFRS연결)(백만원)_x',\n",
    "'유동성장기부채(요약)(IFRS)(백만원)','단기차입금(요약)(IFRS)(백만원)','자산(*)(요약)(IFRS연결)(백만원)','[제조]자본(*)(요약)(IFRS연결)(백만원)',\"유형자산의 증가(*)(IFRS)(천원)\",'현금및현금성자산(요약)(IFRS)(백만원)'\n",
    "]\n",
    "\n",
    "# 개별재무제표 컬럼 삭제\n",
    "df.drop(drop_col,axis=1,inplace=True)"
   ]
  },
  {
   "cell_type": "code",
   "execution_count": 251,
   "metadata": {},
   "outputs": [
    {
     "data": {
      "text/plain": [
       "49"
      ]
     },
     "execution_count": 251,
     "metadata": {},
     "output_type": "execute_result"
    }
   ],
   "source": [
    "len(df.columns)"
   ]
  },
  {
   "cell_type": "code",
   "execution_count": 252,
   "metadata": {},
   "outputs": [],
   "source": [
    "## 성장성 지표인 증가율 컬럼 만들기\n",
    "성장성_col = ['[제조]      유형자산(요약)(IFRS연결)(백만원)','매출액(수익)(요약)(IFRS연결)(백만원)',\n",
    "           '자본(*)(요약)(IFRS연결)','자산(*)(요약)(IFRS연결)',\n",
    "           '[제조]* (정상)영업손익(보고서기재)(요약)(IFRS연결)(백만원)']\n",
    "\n",
    "## 증가율 컬럼 전기에 음수일때 당기에 음수지만 증가할때 증가율 계산\n",
    "## ex (2011년 -20, 2012년 -10) -> -10-(-20) / np.abs(-20)= \n",
    "증가율_df = (df.groupby(['회사명', '거래소코드'])[성장성_col].shift(0) - df.groupby(['회사명', '거래소코드'])[성장성_col].shift(1)) / np.abs(df.groupby(['회사명', '거래소코드'])[성장성_col].shift(1))*100\n",
    "증가율_df.rename(columns={'[제조]      유형자산(요약)(IFRS연결)(백만원)':'유형자산증가율', '매출액(수익)(요약)(IFRS연결)(백만원)':'매출액증가율',\n",
    "       '자본(*)(요약)(IFRS연결)':'자기자본증가율', '자산(*)(요약)(IFRS연결)':'총자본증가율',\n",
    "       '[제조]* (정상)영업손익(보고서기재)(요약)(IFRS연결)(백만원)':'정상영업이익증가율'},inplace=True)\n",
    "\n",
    "df.drop(['[제조]      유형자산(요약)(IFRS연결)(백만원)','[제조]* (정상)영업손익(보고서기재)(요약)(IFRS연결)(백만원)'],axis=1,inplace=True)\n",
    "df = pd.concat([df,증가율_df],axis=1)"
   ]
  },
  {
   "cell_type": "code",
   "execution_count": 253,
   "metadata": {},
   "outputs": [],
   "source": [
    "## 시가총액 merge\n",
    "시가총액['회계년도'] = 시가총액['회계년도'].astype(str).str[:4].astype(int)\n",
    "df = df.merge(시가총액,on=['거래소코드','회계년도'],how='left')\n",
    "df['시가총액(백만원)'] = df['시가총액'] / 1000000\n",
    "df.drop(['시가총액'],axis=1,inplace=True)\n",
    "\n",
    "## 거시변수 merge\n",
    "거시변수.rename(columns={'회계연도':'회계년도'},inplace=True)\n",
    "df = df.merge(거시변수,on=['회계년도'],how='left')"
   ]
  },
  {
   "cell_type": "code",
   "execution_count": 254,
   "metadata": {},
   "outputs": [],
   "source": [
    "### 파생변수 만들기 \n",
    "\n",
    "\n",
    "## 기업별 업력 설립일 이후 지속된 기간\n",
    "df['업력'] = df['회계년도'] -  pd.to_datetime(df['설립일'],format='%Y/%m/%d').dt.strftime('%Y').astype(int)\n",
    "df.drop('설립일',axis=1,inplace=True)\n",
    "\n",
    "## 누적수익성비율  - 자산0이면 inf - 공시안함 \n",
    "df['누적수익성비율'] = df['[제조]      이익잉여금(결손금)(요약)(IFRS연결)(백만원)']/df['자산(*)(요약)(IFRS연결)']\n",
    "\n",
    "## 이자부담율\n",
    "# df['이자부담률'] = df['EBITDA(IFRS)(백만원)'] / df['*이자비용(요약)(IFRS연결)(백만원)'] \n",
    "\n",
    "## 부채상환계수 EBITDA / (이자비용 + 단기차입금 + 유동성장기부채)\n",
    "# df['부채상환계수'] = df['EBITDA(IFRS)(백만원)'] / (df['*이자비용(요약)(IFRS연결)(백만원)']+df['단기차입금(요약)(IFRS연결)(백만원)'] + df['유동성장기부채(요약)(IFRS연결)(백만원)'])\n",
    "\n",
    "## 현금흐름_자산 = 영업현금흐름 / 당기총자산\n",
    "# df['현금흐름 대 자산'] = df.groupby(['회사명','거래소코드'])['[제조]영업활동으로 인한 현금흐름(간접법)(*)(요약)(IFRS연결)(백만원)'].shift(0) / df.groupby(['회사명','거래소코드'])['자산(*)(요약)(IFRS연결)'].shift(0)\n",
    "\n",
    "## 현금흐름_매출액\n",
    "# df['현금흐름 대 매출액'] = df['[제조]영업활동으로 인한 현금흐름(간접법)(*)(요약)(IFRS연결)(백만원)'] / df['매출액(수익)(요약)(IFRS연결)(백만원)']\n",
    "\n",
    "# 토빈Q\n",
    "# df['토빈Q'] = (df['부채(*)(요약)(IFRS연결)(백만원)'] + df['시가총액(백만원)']) / df['자산(*)(요약)(IFRS연결)']\n",
    "\n",
    "## TMD\n",
    "df['TMD'] = df['부채(*)(요약)(IFRS연결)(백만원)'] / df['시가총액(백만원)']\n",
    "\n",
    "## 알트만 변수\n",
    "df['시총/총자산'] = df['시가총액(백만원)'] / df['자산(*)(요약)(IFRS연결)']\n",
    "\n",
    "## RD -단위도 수정\n",
    "# df['연구개발비(IFRS연결)(백만원)'] = df['연구개발비(IFRS연결)(천원)']/1000\n",
    "# df.drop(['연구개발비(IFRS연결)(천원)'],axis=1,inplace=True)\n",
    "# df['RD'] = df['연구개발비(IFRS연결)(백만원)'] / df['매출액(수익)(요약)(IFRS연결)(백만원)']\n",
    "\n",
    "## 직원수변동률 , 직원인건비총액(백만원단위) (고민필요)\n",
    "# df['직원수변동률%'] = df.groupby(['회사명','거래소코드'])['합계_기말인원(명)'].pct_change()*100\n",
    "\n",
    "## 직원인건비총액(백만원)\n",
    "# df['직원인건비총액(백만원)'] = (df['합계_년간총급여(천원)']/1000) * df['합계_기말인원(명)']\n",
    "# df.drop(['합계_년간총급여(천원)'],axis=1,inplace=True)\n",
    "\n",
    "## 알트만 변수  EBIT = 법인세비용차감전순이익+금융원가-금융수익\n",
    "df['EBIT/총자산'] = (df['법인세비용차감전순이익(손실)(요약)(IFRS연결)(백만원)'] + df['금융원가(요약)(IFRS연결)(백만원)']-df['금융수익(요약)(IFRS연결)(백만원)'])/df['자산(*)(요약)(IFRS연결)']\n",
    "\n",
    "## PBR \n",
    "# df['PBR'] = df['시가총액(백만원)']  / df['자본(*)(요약)(IFRS연결)']\n",
    "\n",
    "\n",
    "# 영업손익 전기영업손익 + 당기영업손익\n",
    "df[\"당기전기영업손익\"] = (df.groupby([\"회사명\", \"거래소코드\"])[\"* (정상)영업손익(보고서기재)(요약)(IFRS연결)(백만원)\"].shift(0) + df.groupby([\"회사명\", \"거래소코드\"])[\"* (정상)영업손익(보고서기재)(요약)(IFRS연결)(백만원)\"].shift(1)) / 2\n",
    "\n",
    "# capex컬럼 단위 맞춰주기\n",
    "# df[\"유형자산의 증가(*)(IFRS연결)(천원)\"] = df[\"유형자산의 증가(*)(IFRS연결)(천원)\"] / 1000\n",
    "\n",
    "# findep =  (capex - 영업현금흐름 ) / capex\n",
    "# df[\"FINDEP\"] = df[\"유형자산의 증가(*)(IFRS연결)(천원)\"] - df['[제조]영업활동으로 인한 현금흐름(간접법)(*)(요약)(IFRS연결)(백만원)']\n",
    "\n",
    "# PBR 변화율\n",
    "# df['PBR변화율']  = (df.groupby(['회사명', '거래소코드'])['PBR'].shift(0) - df.groupby(['회사명', '거래소코드'])['PBR'].shift(1)) / np.abs(df.groupby(['회사명', '거래소코드'])['PBR'].shift(1)) *100\n",
    "\n",
    "# ROA 변화율\n",
    "# df['ROA변화율']  = (df.groupby(['회사명', '거래소코드'])['총자본순이익률(IFRS연결)'].shift(0) - df.groupby(['회사명', '거래소코드'])['총자본순이익률(IFRS연결)'].shift(1)) / np.abs(df.groupby(['회사명', '거래소코드'])['총자본순이익률(IFRS연결)'].shift(1)) *100\n",
    "\n",
    "# EBITDA마진율\n",
    "# df[\"EBITDA마진율\"] = (df[\"EBITDA(IFRS)(백만원)\"] / df[\"매출액(수익)(요약)(IFRS연결)(백만원)\"]) * 100\n",
    "\n",
    "# 논문을 바탕으로 새로운 컬럼 생성\n",
    "\n",
    "# df['현금흐름/총부채비율'] = df['[제조]영업활동으로 인한 현금흐름(간접법)(*)(요약)(IFRS연결)(백만원)'] / df['부채(*)(요약)(IFRS연결)(백만원)']\n",
    "# df[\"영업현금흐름-단기차입금\"] = df[\"[제조]영업활동으로 인한 현금흐름(간접법)(*)(요약)(IFRS연결)(백만원)\"] - df[\"단기차입금(요약)(IFRS연결)(백만원)\"]\n",
    "df[\"abs(영업현금흐름-당기순이익)/매출액\"] = np.abs((df[\"[제조]영업활동으로 인한 현금흐름(간접법)(*)(요약)(IFRS연결)(백만원)\"] - df[\"당기순이익(손실)(요약)(IFRS연결)(백만원)\"])) / df[\"매출액(수익)(요약)(IFRS연결)(백만원)\"]\n",
    "\n"
   ]
  },
  {
   "cell_type": "code",
   "execution_count": 255,
   "metadata": {},
   "outputs": [
    {
     "data": {
      "text/plain": [
       "61"
      ]
     },
     "execution_count": 255,
     "metadata": {},
     "output_type": "execute_result"
    }
   ],
   "source": [
    "len(df.columns)"
   ]
  },
  {
   "cell_type": "code",
   "execution_count": 256,
   "metadata": {},
   "outputs": [],
   "source": [
    "# 컬럼이름 정리\n",
    "\n",
    "rename_list = {'자산(*)(요약)(IFRS연결)':'자산', '자본(*)(요약)(IFRS연결)':'자본',\n",
    "       '차입금의존도(IFRS연결)':'차입금의존도', '유보율(IFRS연결)(백만원)':'유보율', '현금비율(IFRS연결)(백만원)':'현금비율',\n",
    "       '부채비율(IFRS연결)':'부채비율', '당좌비율(IFRS연결)':'당좌비율', '순운전자본비율(IFRS연결)':'순운전자본비율',\n",
    "       '*이자비용(요약)(IFRS연결)(백만원)':'이자비용', '* (정상)영업손익(보고서기재)(요약)(IFRS연결)(백만원)':'영업손익',\n",
    "       '감가상각비(IFRS연결)(천원)':'감가상각비', 'EBITDA(IFRS)(백만원)':'EBITDA', '총자본정상영업이익률(IFRS연결)':'총자본정상영업이익률',\n",
    "       '자기자본순이익률(IFRS연결)':'자기자본순이익률', '총자본순이익률(IFRS연결)':'총자본순이익률', '매출액총이익률(IFRS연결)':'매출액총이익률',\n",
    "       '금융비용부담률(IFRS연결)':'금융비용부담률', '경영자본순이익률(IFRS연결)':'경영자본순이익률', '자본금회전률(IFRS연결)':'자본금회전률',\n",
    "       '유형자산회전율(IFRS연결)':'유형자산회전율', '재고자산회전률(IFRS연결)':'재고자산회전률', '자기자본회전률(IFRS연결)':'자기자본회전률',\n",
    "       '타인자본회전률(IFRS연결)':'타인자본회전률', '총자본회전률(IFRS연결)':'총자본회전률', \n",
    "       '[제조]      이익잉여금(결손금)(요약)(IFRS연결)(백만원)':'이익잉여금',\n",
    "       '[제조]영업활동으로 인한 현금흐름(간접법)(*)(요약)(IFRS연결)(백만원)':'영업활동으로 인한 현금흐름',\n",
    "       '매출액(수익)(요약)(IFRS연결)(백만원)':'매출액', '금융원가(요약)(IFRS연결)(백만원)':'금융원가',\n",
    "       '금융수익(요약)(IFRS연결)(백만원)':'금융수익', '법인세비용차감전순이익(손실)(요약)(IFRS연결)(백만원)':'법인세비용차감전순이익',\n",
    "       '당기순이익(손실)(요약)(IFRS연결)(백만원)':'당기순이익', \n",
    "       '부채(*)(요약)(IFRS연결)(백만원)':'부채', '외국인_주식분포비율':'외국인지분율', '보통주식비율':'대주주지분율',\n",
    "       '단기차입금(요약)(IFRS연결)(백만원)':'단기차입금', '유동성장기부채(요약)(IFRS연결)(백만원)':'유동성장기부채',\n",
    "       '시가총액(백만원)':'시가총액','연구개발비(IFRS연결)(백만원)':'연구개발비','직원인건비총액(백만원)':'직원인건비총액','통계청 한국표준산업분류 10차(대분류)':'산업군',\n",
    "       \"유형자산의 증가(*)(IFRS연결)(천원)\" : \"CAPEX\" }\n",
    "\n",
    "df.rename(columns=rename_list,inplace=True)"
   ]
  },
  {
   "cell_type": "code",
   "execution_count": 257,
   "metadata": {},
   "outputs": [
    {
     "data": {
      "text/plain": [
       "Index(['회사명', '거래소코드', '회계년도', '자산', '자본', '차입금의존도', '유보율', '현금비율', '부채비율',\n",
       "       '당좌비율', '순운전자본비율', '이자비용', '영업손익', '감가상각비', 'EBITDA', '총자본정상영업이익률',\n",
       "       '자기자본순이익률', '총자본순이익률', '매출액총이익률', '금융비용부담률', '경영자본순이익률', '자본금회전률',\n",
       "       '유형자산회전율', '재고자산회전률', '자기자본회전률', '타인자본회전률', '총자본회전률', '이익잉여금',\n",
       "       '영업활동으로 인한 현금흐름', '매출액', '연구개발비(IFRS연결)(천원)', '금융원가', '금융수익',\n",
       "       '법인세비용차감전순이익', '당기순이익', '부채', '합계_기말인원(명)', '합계_년간총급여(천원)', '외국인지분율',\n",
       "       '대주주지분율', '단기차입금', '유동성장기부채', '상장일', '산업군', 'CAPEX',\n",
       "       '현금및현금성자산(요약)(IFRS연결)(백만원)', '유형자산증가율', '매출액증가율', '자기자본증가율', '총자본증가율',\n",
       "       '정상영업이익증가율', '시가총액', '장단기금리차', 'cpi', '업력', '누적수익성비율', 'TMD', '시총/총자산',\n",
       "       'EBIT/총자산', '당기전기영업손익', 'abs(영업현금흐름-당기순이익)/매출액'],\n",
       "      dtype='object')"
      ]
     },
     "execution_count": 257,
     "metadata": {},
     "output_type": "execute_result"
    }
   ],
   "source": [
    "df.columns"
   ]
  },
  {
   "cell_type": "code",
   "execution_count": 258,
   "metadata": {},
   "outputs": [
    {
     "name": "stdout",
     "output_type": "stream",
     "text": [
      "전체 행: 14077 개\n",
      "전체 기업 수 1684\n"
     ]
    }
   ],
   "source": [
    "## 회계년도 2011년도 제거\n",
    "df['상장일'] = pd.to_datetime(df['상장일'],format='%Y/%m/%d').dt.strftime('%Y').astype(int)\n",
    "\n",
    "\n",
    "df = df[df['회계년도']>2011].reset_index(drop=True)\n",
    "\n",
    "print('전체 행:', df.shape[0],'개')\n",
    "print('전체 기업 수',len(df['회사명'].unique()))\n"
   ]
  },
  {
   "cell_type": "code",
   "execution_count": 259,
   "metadata": {},
   "outputs": [
    {
     "data": {
      "text/plain": [
       "회사명                         0\n",
       "거래소코드                       0\n",
       "회계년도                        0\n",
       "자산                       1456\n",
       "자본                       1456\n",
       "                         ... \n",
       "TMD                      2618\n",
       "시총/총자산                   2618\n",
       "EBIT/총자산                 1457\n",
       "당기전기영업손익                 2085\n",
       "abs(영업현금흐름-당기순이익)/매출액    1459\n",
       "Length: 61, dtype: int64"
      ]
     },
     "execution_count": 259,
     "metadata": {},
     "output_type": "execute_result"
    }
   ],
   "source": [
    "df.isna().sum()"
   ]
  },
  {
   "attachments": {},
   "cell_type": "markdown",
   "metadata": {},
   "source": [
    "-----"
   ]
  },
  {
   "attachments": {},
   "cell_type": "markdown",
   "metadata": {},
   "source": [
    "## 타겟 라벨링\n",
    "-----\n"
   ]
  },
  {
   "cell_type": "code",
   "execution_count": 260,
   "metadata": {},
   "outputs": [],
   "source": [
    "#  데이터 로드, 필요 없는 컬럼 삭제\n",
    "\n",
    "부실 = pd.read_csv('./datasets/y/y값최종.csv',index_col=0)\n",
    "부실['회계년도'] = 부실['회계년도'].astype(int)\n",
    "부실['거래소코드'] = 부실['거래소코드'].map(padding)\n",
    "부실.drop(['번호','회사명'],axis=1,inplace=True)"
   ]
  },
  {
   "cell_type": "code",
   "execution_count": 261,
   "metadata": {},
   "outputs": [],
   "source": [
    "# 데이터 결합\n",
    "df = df.merge(부실,on=['회계년도','거래소코드'],how='left')"
   ]
  },
  {
   "cell_type": "code",
   "execution_count": 262,
   "metadata": {},
   "outputs": [],
   "source": [
    "## 상폐기업 라벨링\n",
    "\n",
    "df[\"공시제목\"].fillna(0,inplace=True)\n",
    "\n",
    "상폐_ind = df[df[\"공시제목\"]== '상장폐지기업'].index"
   ]
  },
  {
   "cell_type": "code",
   "execution_count": 263,
   "metadata": {},
   "outputs": [],
   "source": [
    "df.loc[상폐_ind,\"target\"] = 1\n",
    "\n",
    "\n",
    "### set1\n",
    "df.loc[상폐_ind,\"target_1\"] = 1\n",
    "\n",
    "for i in df.index:\n",
    "    if (df.loc[i,\"target_1\"] == 1) and (df.loc[i,\"회사명\"] == df.loc[i-1,\"회사명\"]) :\n",
    "        df.loc[i-1, \"target_1\"] = 1\n",
    "df['target_1'].fillna(0,inplace=True)\n",
    "df['target_1'] = df['target_1'].astype(int)\n",
    "\n",
    "## set_3\n",
    "\n",
    "df.loc[상폐_ind,\"target_2\"] = 1\n",
    "\n",
    "for i in df.index:\n",
    "    if (df.loc[i,\"target_2\"] == 1) and (df.loc[i,\"회사명\"] == df.loc[i-1,\"회사명\"]) and (df.loc[i,'공시제목']=='상장폐지기업'):\n",
    "        df.loc[i-1, \"target_2\"] = 1\n",
    "df['target_2'].fillna(0,inplace=True)\n",
    "df['target_2'] = df['target_2'].astype(int)\n",
    "\n",
    "\n",
    "## set_3\n",
    "\n",
    "df.loc[상폐_ind,\"target_3\"] = 1\n",
    "\n",
    "for i in df.index:\n",
    "    if (df.loc[i,\"target_3\"] == 1) and (df.loc[i,\"회사명\"] == df.loc[i-1,\"회사명\"]) and (df.loc[i,'공시제목']=='상장폐지기업'):\n",
    "        df.loc[i-1, \"target_3\"] = 1\n",
    "df['target_3'].fillna(0,inplace=True)\n",
    "df['target_3'] = df['target_3'].astype(int)"
   ]
  },
  {
   "cell_type": "code",
   "execution_count": 264,
   "metadata": {},
   "outputs": [
    {
     "name": "stdout",
     "output_type": "stream",
     "text": [
      "237\n",
      "237\n",
      "237\n"
     ]
    }
   ],
   "source": [
    "print(df.target_1.sum())\n",
    "print(df.target_2.sum())\n",
    "print(df.target_3.sum())"
   ]
  },
  {
   "cell_type": "code",
   "execution_count": 265,
   "metadata": {},
   "outputs": [],
   "source": [
    "## 회생기업 라벨링\n",
    "\n",
    "df[\"공시제목\"].fillna(0,inplace=True)\n",
    "\n",
    "회생_ind = df[df[\"공시제목\"]== '회생절차개시결정'].index\n",
    "\n",
    "df.loc[회생_ind,\"target\"] = 1\n",
    "df[\"target\"].fillna(0, inplace=True)\n",
    "\n",
    "### set1\n",
    "df.loc[회생_ind,\"target_1\"] = 1\n",
    "\n",
    "for i in df.index:\n",
    "    if (df.loc[i,\"target_1\"] == 1) and (df.loc[i,\"회사명\"] == df.loc[i-1,\"회사명\"]) & (df.loc[i,'공시제목']=='회생절차개시결정'):\n",
    "        df.loc[i-1, \"target_1\"] = 1\n",
    "df['target_1'].fillna(0,inplace=True)\n",
    "df['target_1'] = df['target_1'].astype(int)\n",
    "\n",
    "# ### set2\n",
    "df.loc[회생_ind,\"target_2\"] = 1\n",
    "\n",
    "df['target_2'].fillna(0,inplace=True)\n",
    "df['target_2'] = df['target_2'].astype(int)\n",
    "\n",
    "## set_3\n",
    "\n",
    "df.loc[회생_ind,\"target_3\"] = 1\n",
    "\n",
    "df['target_3'].fillna(0,inplace=True)\n",
    "df['target_3'] = df['target_3'].astype(int)"
   ]
  },
  {
   "cell_type": "code",
   "execution_count": 266,
   "metadata": {},
   "outputs": [
    {
     "name": "stdout",
     "output_type": "stream",
     "text": [
      "312\n",
      "275\n",
      "275\n"
     ]
    }
   ],
   "source": [
    "print(df.target_1.sum())\n",
    "print(df.target_2.sum())\n",
    "print(df.target_3.sum())"
   ]
  },
  {
   "cell_type": "code",
   "execution_count": 267,
   "metadata": {},
   "outputs": [],
   "source": [
    "def get_index_with_50_or_more_nan_columns(df):\n",
    "    \n",
    "    # 결측치 컬럼 개수 계산\n",
    "    nan_column_counts = df.isnull().sum(axis=1)\n",
    "    \n",
    "    # 결측치 컬럼 개수가 50개 이상인 인덱스 번호 추출\n",
    "    index_with_50_or_more_nan_columns = nan_column_counts[nan_column_counts >= 50].index.to_list()\n",
    "    print('제거행 수:' , len(index_with_50_or_more_nan_columns))\n",
    "\n",
    "    df.drop(index=index_with_50_or_more_nan_columns,inplace=True)\n",
    "    return df\n"
   ]
  },
  {
   "cell_type": "code",
   "execution_count": 268,
   "metadata": {},
   "outputs": [
    {
     "name": "stdout",
     "output_type": "stream",
     "text": [
      "제거행 수: 1156\n"
     ]
    },
    {
     "data": {
      "text/plain": [
       "12921"
      ]
     },
     "execution_count": 268,
     "metadata": {},
     "output_type": "execute_result"
    }
   ],
   "source": [
    "len(get_index_with_50_or_more_nan_columns(df))"
   ]
  },
  {
   "cell_type": "code",
   "execution_count": 269,
   "metadata": {},
   "outputs": [
    {
     "name": "stdout",
     "output_type": "stream",
     "text": [
      "부실데이터 수: 308\n",
      "부실데이터 수: 273\n",
      "부실데이터 수: 273\n"
     ]
    }
   ],
   "source": [
    "print('부실데이터 수:',df[df['target_1']==1].shape[0])\n",
    "print('부실데이터 수:',df[df['target_2']==1].shape[0])\n",
    "print('부실데이터 수:',df[df['target_3']==1].shape[0])"
   ]
  },
  {
   "cell_type": "code",
   "execution_count": 270,
   "metadata": {},
   "outputs": [
    {
     "name": "stdout",
     "output_type": "stream",
     "text": [
      "회사명                             0\n",
      "거래소코드                           0\n",
      "회계년도                            0\n",
      "자산                            300\n",
      "자본                            300\n",
      "차입금의존도                        485\n",
      "유보율                           485\n",
      "현금비율                          485\n",
      "부채비율                          485\n",
      "당좌비율                          485\n",
      "순운전자본비율                       485\n",
      "이자비용                          300\n",
      "영업손익                          300\n",
      "감가상각비                         300\n",
      "EBITDA                        487\n",
      "총자본정상영업이익률                    485\n",
      "자기자본순이익률                      485\n",
      "총자본순이익률                       485\n",
      "매출액총이익률                       485\n",
      "금융비용부담률                       485\n",
      "경영자본순이익률                      485\n",
      "자본금회전률                        485\n",
      "유형자산회전율                       485\n",
      "재고자산회전률                       485\n",
      "자기자본회전률                       485\n",
      "타인자본회전률                       485\n",
      "총자본회전률                        485\n",
      "이익잉여금                         300\n",
      "영업활동으로 인한 현금흐름                300\n",
      "매출액                           300\n",
      "연구개발비(IFRS연결)(천원)             300\n",
      "금융원가                          300\n",
      "금융수익                          300\n",
      "법인세비용차감전순이익                   300\n",
      "당기순이익                         300\n",
      "부채                            300\n",
      "합계_기말인원(명)                   1085\n",
      "합계_년간총급여(천원)                 1085\n",
      "외국인지분율                       1524\n",
      "대주주지분율                       1095\n",
      "단기차입금                         300\n",
      "유동성장기부채                       300\n",
      "상장일                             0\n",
      "산업군                             0\n",
      "CAPEX                         300\n",
      "현금및현금성자산(요약)(IFRS연결)(백만원)     300\n",
      "유형자산증가율                       931\n",
      "매출액증가율                        947\n",
      "자기자본증가율                       929\n",
      "총자본증가율                        929\n",
      "정상영업이익증가율                     929\n",
      "시가총액                         1163\n",
      "장단기금리차                          0\n",
      "cpi                             0\n",
      "업력                              0\n",
      "누적수익성비율                       301\n",
      "TMD                          1462\n",
      "시총/총자산                       1462\n",
      "EBIT/총자산                      301\n",
      "당기전기영업손익                      929\n",
      "abs(영업현금흐름-당기순이익)/매출액         303\n",
      "공시제목                            0\n",
      "target                          0\n",
      "target_1                        0\n",
      "target_2                        0\n",
      "target_3                        0\n",
      "dtype: int64\n"
     ]
    }
   ],
   "source": [
    "pd.set_option('display.max_rows',None)\n",
    "print(df.isna().sum())\n",
    "pd.reset_option('display.max_rows',None)"
   ]
  },
  {
   "cell_type": "code",
   "execution_count": 271,
   "metadata": {},
   "outputs": [
    {
     "name": "stdout",
     "output_type": "stream",
     "text": [
      "전체 행: 10931 개\n",
      "전체 기업 수 1509\n"
     ]
    }
   ],
   "source": [
    "# 상장일이 회계년도 보다 작은 데이터 삭제\n",
    "df = df[df[\"회계년도\"] > df[\"상장일\"]]\n",
    "df.reset_index(drop = True, inplace = True)\n",
    "\n",
    "print('전체 행:', df.shape[0],'개')\n",
    "print('전체 기업 수',len(df['회사명'].unique()))"
   ]
  },
  {
   "cell_type": "code",
   "execution_count": 272,
   "metadata": {},
   "outputs": [],
   "source": [
    "# 이용한 컬럼 삭제 \n",
    "\n",
    "# df.drop(['자산','이자비용','매출액','부채','금융원가','시가총액',\"EBITDA\",'공시제목','상장일'],axis=1,inplace=True)"
   ]
  },
  {
   "cell_type": "code",
   "execution_count": 273,
   "metadata": {},
   "outputs": [],
   "source": [
    "# # 이자부당률이 결측치로 나오는 14년도 영진코퍼레이션 결측치 직접 값 계산해서 결측치 대체\n",
    "\n",
    "# df.loc[4173, \"이자부담률\"] = -5.995505908521291\n",
    "\n",
    "# # 부채상환계수rk 결측치로 나오는 14년도 영진코퍼레이션 결측치 직접 값 계산해서 결측치 대체\n",
    "\n",
    "# df.loc[4173, \"부채상환계수\"] = -760.5303077054485\n",
    "\n",
    "# # 대주주 지분율 없는 컬럼 다트에서 값 찾아서 대체 \n",
    "\n",
    "# df.loc[903, \"대주주지분율\"] = 50                    # 드림티엔터테인먼트\n",
    "# df.loc[2913, \"대주주지분율\"] = 27.83                # 아라온테크\n",
    "# df.loc[3668, \"대주주지분율\"] = 49.8                 # 에이루트\n",
    "# df.loc[3702, \"대주주지분율\"] = 18.5                 # 에이제이에스\n",
    "# df.loc[4399, \"대주주지분율\"] = 23.84                # 와이즈파워\n",
    "# df.loc[5542, \"대주주지분율\"] = 100                  # 제이테크놀로지\n",
    "# df.loc[8155, \"대주주지분율\"] = 12.03                # 대한그린파워\n",
    "# df.loc[8326, \"대주주지분율\"] = 14.94                # 디브이에스코리아\n",
    "# df.loc[8807, \"대주주지분율\"] = 40.78                # 세미텍\n",
    "\n",
    "\n",
    "# #  유형자산증가율 없는 컬럼 다트에서 값 찾아서 대체 \n",
    "\n",
    "# df.loc[1879, \"유형자산증가율\"] = 0                    # 비츠로시스\n",
    "# df.loc[1880, \"유형자산증가율\"] = 0                    # 비츠로시스\n",
    "\n",
    "# # 외국인 지분율 결측치 0으로 대체\n",
    "# df[\"외국인지분율\"].fillna(0, inplace=True)\n",
    "\n",
    "\n",
    "# # 직원인건비총액 결측치 0으로 대체\n",
    "# df[\"직원인건비총액\"].fillna(0, inplace=True)\n",
    "\n",
    "# # 합계_기말인원(명) 결측치 0으로 대체\n",
    "# df[\"합계_기말인원(명)\"].fillna(0, inplace=True)\n",
    "\n",
    "\n",
    "\n",
    "# #  유형자산증가율 없는 컬럼 다트에서 값 찾아서 대체 \n",
    "# df.loc[1879, \"유형자산증가율\"] = 0                    # # 유형자산을 모두 처분하여 감가상각비가 없어 EBITDA값이 결측치인 14년도 영진코퍼레이션 결측치에 영업이익값으로 대체\n",
    "\n",
    "\n",
    "# # 이자부당률이 결측치로 나오는 14년도 영진코퍼레이션 결측치 직접 값 계산해서 결측치 대체\n",
    "\n",
    "# df.loc[4173, \"이자부담률\"] = -5.995505908521291\n",
    "\n",
    "# # 부채상환계수rk 결측치로 나오는 14년도 영진코퍼레이션 결측치 직접 값 계산해서 결측치 대체\n",
    "\n",
    "# df.loc[4173, \"부채상환계수\"] = -760.5303077054485\n",
    "\n",
    "# # 대주주 지분율 없는 컬럼 다트에서 값 찾아서 대체 \n",
    "\n",
    "# df.loc[903, \"대주주지분율\"] = 50                    # 드림티엔터테인먼트\n",
    "# df.loc[2913, \"대주주지분율\"] = 27.83                # 아라온테크\n",
    "# df.loc[3668, \"대주주지분율\"] = 49.8                 # 에이루트\n",
    "# df.loc[3702, \"대주주지분율\"] = 18.5                 # 에이제이에스\n",
    "# df.loc[4399, \"대주주지분율\"] = 23.84                # 와이즈파워\n",
    "# df.loc[5542, \"대주주지분율\"] = 100                  # 제이테크놀로지\n",
    "# df.loc[8155, \"대주주지분율\"] = 12.03                # 대한그린파워\n",
    "# df.loc[8326, \"대주주지분율\"] = 14.94                # 디브이에스코리아\n",
    "# df.loc[8807, \"대주주지분율\"] = 40.78                # 세미텍\n",
    "\n",
    "\n",
    "# #  유형자산증가율 없는 컬럼 다트에서 값 찾아서 대체 \n",
    "\n",
    "# df.loc[1879, \"유형자산증가율\"] = 0                    # 비츠로시스\n",
    "# df.loc[1880, \"유형자산증가율\"] = 0                    # 비츠로시스\n",
    "\n",
    "# 외국인 지분율 결측치 0으로 대체\n",
    "df[\"외국인지분율\"].fillna(0, inplace=True)\n",
    "\n",
    "\n",
    "# 직원인건비총액 결측치 0으로 대체\n",
    "# df[\"직원인건비총액\"].fillna(0, inplace=True)\n",
    "\n",
    "# 합계_기말인원(명) 결측치 0으로 대체\n",
    "df[\"합계_기말인원(명)\"].fillna(0, inplace=True)\n",
    "\n",
    "\n",
    "\n",
    "# # #매출액증가율 없는 컬럼 삭제\n",
    "\n",
    "de_ind_1 = df[df[[\"매출액증가율\"]].isna().any(axis=1)].index\n",
    "df.drop(index=de_ind_1, axis=0, inplace=True)\n",
    " # 메드팩토 셀리드 큐리언트\n",
    "\n",
    "\n",
    " # 증가율 컬럼 당해 회계년도에 상장하여 전년도 자료가 없어 결측치로 뜨는 데이터 삭제   \n",
    "de_ind = df[df[[\"총자본증가율\"]].isna().any(axis=1)].index\n",
    "df.drop(index=de_ind, axis=0, inplace=True)\n",
    "\n",
    "# # 직원수변동률 결측치 0으로 대체 \n",
    "# de_ind_2 = df[df[[\"직원수변동률%\"]].isna().any(1)].index\n",
    "# df.drop(index=de_ind_2, axis=0, inplace=True)\n",
    "# #  비덴트 썬테크놀로지스"
   ]
  },
  {
   "cell_type": "code",
   "execution_count": 274,
   "metadata": {},
   "outputs": [
    {
     "name": "stdout",
     "output_type": "stream",
     "text": [
      "회사명                          0\n",
      "거래소코드                        0\n",
      "회계년도                         0\n",
      "자산                           0\n",
      "자본                           0\n",
      "차입금의존도                       0\n",
      "유보율                          0\n",
      "현금비율                         0\n",
      "부채비율                         0\n",
      "당좌비율                         0\n",
      "순운전자본비율                      0\n",
      "이자비용                         0\n",
      "영업손익                         0\n",
      "감가상각비                        0\n",
      "EBITDA                       1\n",
      "총자본정상영업이익률                   0\n",
      "자기자본순이익률                     0\n",
      "총자본순이익률                      0\n",
      "매출액총이익률                      0\n",
      "금융비용부담률                      0\n",
      "경영자본순이익률                     0\n",
      "자본금회전률                       0\n",
      "유형자산회전율                      0\n",
      "재고자산회전률                      0\n",
      "자기자본회전률                      0\n",
      "타인자본회전률                      0\n",
      "총자본회전률                       0\n",
      "이익잉여금                        0\n",
      "영업활동으로 인한 현금흐름               0\n",
      "매출액                          0\n",
      "연구개발비(IFRS연결)(천원)            0\n",
      "금융원가                         0\n",
      "금융수익                         0\n",
      "법인세비용차감전순이익                  0\n",
      "당기순이익                        0\n",
      "부채                           0\n",
      "합계_기말인원(명)                   0\n",
      "합계_년간총급여(천원)                 6\n",
      "외국인지분율                       0\n",
      "대주주지분율                       9\n",
      "단기차입금                        0\n",
      "유동성장기부채                      0\n",
      "상장일                          0\n",
      "산업군                          0\n",
      "CAPEX                        0\n",
      "현금및현금성자산(요약)(IFRS연결)(백만원)    0\n",
      "유형자산증가율                      2\n",
      "매출액증가율                       0\n",
      "자기자본증가율                      0\n",
      "총자본증가율                       0\n",
      "정상영업이익증가율                    0\n",
      "시가총액                         0\n",
      "장단기금리차                       0\n",
      "cpi                          0\n",
      "업력                           0\n",
      "누적수익성비율                      0\n",
      "TMD                          0\n",
      "시총/총자산                       0\n",
      "EBIT/총자산                     0\n",
      "당기전기영업손익                     0\n",
      "abs(영업현금흐름-당기순이익)/매출액        0\n",
      "공시제목                         0\n",
      "target                       0\n",
      "target_1                     0\n",
      "target_2                     0\n",
      "target_3                     0\n",
      "dtype: int64\n"
     ]
    }
   ],
   "source": [
    "pd.set_option('display.max_rows',None)\n",
    "print(df.isna().sum())\n",
    "pd.reset_option('display.max_rows',None)"
   ]
  },
  {
   "cell_type": "code",
   "execution_count": 275,
   "metadata": {},
   "outputs": [],
   "source": [
    "# 결측치 제거(1개)\n",
    "df.dropna(axis=0, inplace=True)"
   ]
  },
  {
   "cell_type": "code",
   "execution_count": 276,
   "metadata": {},
   "outputs": [
    {
     "name": "stdout",
     "output_type": "stream",
     "text": [
      "전체 행: 10673 개\n",
      "전체 기업 수 1455\n",
      "결측치 수 :  0\n"
     ]
    }
   ],
   "source": [
    "print('전체 행:', df.shape[0],'개')\n",
    "print('전체 기업 수',len(df['회사명'].unique()))\n",
    "print(\"결측치 수 : \", df.isna().sum().sum())"
   ]
  },
  {
   "cell_type": "code",
   "execution_count": 277,
   "metadata": {},
   "outputs": [
    {
     "data": {
      "text/plain": [
       "Index(['회사명', '거래소코드', '회계년도', '자산', '자본', '차입금의존도', '유보율', '현금비율', '부채비율',\n",
       "       '당좌비율', '순운전자본비율', '이자비용', '영업손익', '감가상각비', 'EBITDA', '총자본정상영업이익률',\n",
       "       '자기자본순이익률', '총자본순이익률', '매출액총이익률', '금융비용부담률', '경영자본순이익률', '자본금회전률',\n",
       "       '유형자산회전율', '재고자산회전률', '자기자본회전률', '타인자본회전률', '총자본회전률', '이익잉여금',\n",
       "       '영업활동으로 인한 현금흐름', '매출액', '연구개발비(IFRS연결)(천원)', '금융원가', '금융수익',\n",
       "       '법인세비용차감전순이익', '당기순이익', '부채', '합계_기말인원(명)', '합계_년간총급여(천원)', '외국인지분율',\n",
       "       '대주주지분율', '단기차입금', '유동성장기부채', '상장일', '산업군', 'CAPEX',\n",
       "       '현금및현금성자산(요약)(IFRS연결)(백만원)', '유형자산증가율', '매출액증가율', '자기자본증가율', '총자본증가율',\n",
       "       '정상영업이익증가율', '시가총액', '장단기금리차', 'cpi', '업력', '누적수익성비율', 'TMD', '시총/총자산',\n",
       "       'EBIT/총자산', '당기전기영업손익', 'abs(영업현금흐름-당기순이익)/매출액', '공시제목', 'target',\n",
       "       'target_1', 'target_2', 'target_3'],\n",
       "      dtype='object')"
      ]
     },
     "execution_count": 277,
     "metadata": {},
     "output_type": "execute_result"
    }
   ],
   "source": [
    "df.columns"
   ]
  },
  {
   "attachments": {},
   "cell_type": "markdown",
   "metadata": {},
   "source": [
    "\n",
    "## 결측치 처리 완료\n",
    "---"
   ]
  },
  {
   "cell_type": "code",
   "execution_count": 278,
   "metadata": {},
   "outputs": [
    {
     "name": "stdout",
     "output_type": "stream",
     "text": [
      "양의 무한대 : target_3\n",
      "0    7\n",
      "Name: count, dtype: int64\n",
      "음의 무한대 : Series([], Name: count, dtype: int64)\n"
     ]
    }
   ],
   "source": [
    "# 무한대 값 확인\n",
    "\n",
    "print(\"양의 무한대 :\",df[df.isin([np.inf]).any(axis=1)][\"target_3\"].value_counts())\n",
    "print(\"음의 무한대 :\", df[df.isin([-np.inf]).any(axis=1)][\"target_3\"].value_counts())"
   ]
  },
  {
   "cell_type": "code",
   "execution_count": 279,
   "metadata": {},
   "outputs": [
    {
     "data": {
      "text/html": [
       "<div>\n",
       "<style scoped>\n",
       "    .dataframe tbody tr th:only-of-type {\n",
       "        vertical-align: middle;\n",
       "    }\n",
       "\n",
       "    .dataframe tbody tr th {\n",
       "        vertical-align: top;\n",
       "    }\n",
       "\n",
       "    .dataframe thead th {\n",
       "        text-align: right;\n",
       "    }\n",
       "</style>\n",
       "<table border=\"1\" class=\"dataframe\">\n",
       "  <thead>\n",
       "    <tr style=\"text-align: right;\">\n",
       "      <th></th>\n",
       "      <th>회사명</th>\n",
       "      <th>거래소코드</th>\n",
       "      <th>회계년도</th>\n",
       "      <th>자산</th>\n",
       "      <th>자본</th>\n",
       "      <th>차입금의존도</th>\n",
       "      <th>유보율</th>\n",
       "      <th>현금비율</th>\n",
       "      <th>부채비율</th>\n",
       "      <th>당좌비율</th>\n",
       "      <th>...</th>\n",
       "      <th>TMD</th>\n",
       "      <th>시총/총자산</th>\n",
       "      <th>EBIT/총자산</th>\n",
       "      <th>당기전기영업손익</th>\n",
       "      <th>abs(영업현금흐름-당기순이익)/매출액</th>\n",
       "      <th>공시제목</th>\n",
       "      <th>target</th>\n",
       "      <th>target_1</th>\n",
       "      <th>target_2</th>\n",
       "      <th>target_3</th>\n",
       "    </tr>\n",
       "  </thead>\n",
       "  <tbody>\n",
       "    <tr>\n",
       "      <th>2400</th>\n",
       "      <td>(주)셀리드</td>\n",
       "      <td>299660</td>\n",
       "      <td>2021</td>\n",
       "      <td>58256.0</td>\n",
       "      <td>38761.0</td>\n",
       "      <td>27.16</td>\n",
       "      <td>696.63</td>\n",
       "      <td>281.94</td>\n",
       "      <td>50.30</td>\n",
       "      <td>1127.06</td>\n",
       "      <td>...</td>\n",
       "      <td>0.040804</td>\n",
       "      <td>8.201757</td>\n",
       "      <td>-0.224149</td>\n",
       "      <td>-9149.0</td>\n",
       "      <td>5.352035</td>\n",
       "      <td>0</td>\n",
       "      <td>0.0</td>\n",
       "      <td>0</td>\n",
       "      <td>0</td>\n",
       "      <td>0</td>\n",
       "    </tr>\n",
       "    <tr>\n",
       "      <th>4543</th>\n",
       "      <td>(주)원바이오젠</td>\n",
       "      <td>307280</td>\n",
       "      <td>2021</td>\n",
       "      <td>38043.0</td>\n",
       "      <td>26561.0</td>\n",
       "      <td>21.26</td>\n",
       "      <td>632.51</td>\n",
       "      <td>70.38</td>\n",
       "      <td>43.23</td>\n",
       "      <td>164.94</td>\n",
       "      <td>...</td>\n",
       "      <td>0.155157</td>\n",
       "      <td>1.945232</td>\n",
       "      <td>-0.076466</td>\n",
       "      <td>931.0</td>\n",
       "      <td>0.098301</td>\n",
       "      <td>0</td>\n",
       "      <td>0.0</td>\n",
       "      <td>0</td>\n",
       "      <td>0</td>\n",
       "      <td>0</td>\n",
       "    </tr>\n",
       "    <tr>\n",
       "      <th>5941</th>\n",
       "      <td>(주)카이노스메드</td>\n",
       "      <td>284620</td>\n",
       "      <td>2021</td>\n",
       "      <td>41957.0</td>\n",
       "      <td>14600.0</td>\n",
       "      <td>42.73</td>\n",
       "      <td>9.95</td>\n",
       "      <td>90.55</td>\n",
       "      <td>187.37</td>\n",
       "      <td>143.72</td>\n",
       "      <td>...</td>\n",
       "      <td>0.097723</td>\n",
       "      <td>6.672163</td>\n",
       "      <td>-0.263508</td>\n",
       "      <td>-10302.5</td>\n",
       "      <td>4.229844</td>\n",
       "      <td>0</td>\n",
       "      <td>0.0</td>\n",
       "      <td>0</td>\n",
       "      <td>0</td>\n",
       "      <td>0</td>\n",
       "    </tr>\n",
       "    <tr>\n",
       "      <th>6518</th>\n",
       "      <td>(주)큐리언트</td>\n",
       "      <td>115180</td>\n",
       "      <td>2021</td>\n",
       "      <td>57622.0</td>\n",
       "      <td>54076.0</td>\n",
       "      <td>1.52</td>\n",
       "      <td>755.28</td>\n",
       "      <td>668.50</td>\n",
       "      <td>6.56</td>\n",
       "      <td>1944.57</td>\n",
       "      <td>...</td>\n",
       "      <td>0.013170</td>\n",
       "      <td>4.671287</td>\n",
       "      <td>-0.420256</td>\n",
       "      <td>-22634.0</td>\n",
       "      <td>0.141424</td>\n",
       "      <td>0</td>\n",
       "      <td>0.0</td>\n",
       "      <td>0</td>\n",
       "      <td>0</td>\n",
       "      <td>0</td>\n",
       "    </tr>\n",
       "    <tr>\n",
       "      <th>6957</th>\n",
       "      <td>(주)파멥신</td>\n",
       "      <td>208340</td>\n",
       "      <td>2019</td>\n",
       "      <td>161347.0</td>\n",
       "      <td>67783.0</td>\n",
       "      <td>33.84</td>\n",
       "      <td>1861.66</td>\n",
       "      <td>1761.65</td>\n",
       "      <td>138.03</td>\n",
       "      <td>5190.04</td>\n",
       "      <td>...</td>\n",
       "      <td>0.350292</td>\n",
       "      <td>1.655455</td>\n",
       "      <td>-0.068207</td>\n",
       "      <td>-8509.0</td>\n",
       "      <td>inf</td>\n",
       "      <td>0</td>\n",
       "      <td>0.0</td>\n",
       "      <td>0</td>\n",
       "      <td>0</td>\n",
       "      <td>0</td>\n",
       "    </tr>\n",
       "    <tr>\n",
       "      <th>6958</th>\n",
       "      <td>(주)파멥신</td>\n",
       "      <td>208340</td>\n",
       "      <td>2020</td>\n",
       "      <td>133553.0</td>\n",
       "      <td>45715.0</td>\n",
       "      <td>42.50</td>\n",
       "      <td>542.31</td>\n",
       "      <td>44.35</td>\n",
       "      <td>192.14</td>\n",
       "      <td>117.88</td>\n",
       "      <td>...</td>\n",
       "      <td>0.296671</td>\n",
       "      <td>2.216937</td>\n",
       "      <td>-0.190613</td>\n",
       "      <td>-17805.5</td>\n",
       "      <td>165.400000</td>\n",
       "      <td>0</td>\n",
       "      <td>0.0</td>\n",
       "      <td>0</td>\n",
       "      <td>0</td>\n",
       "      <td>0</td>\n",
       "    </tr>\n",
       "    <tr>\n",
       "      <th>7782</th>\n",
       "      <td>(주)휴맥스홀딩스</td>\n",
       "      <td>028080</td>\n",
       "      <td>2016</td>\n",
       "      <td>221495.0</td>\n",
       "      <td>192680.0</td>\n",
       "      <td>11.24</td>\n",
       "      <td>3206.31</td>\n",
       "      <td>9.95</td>\n",
       "      <td>14.95</td>\n",
       "      <td>14.89</td>\n",
       "      <td>...</td>\n",
       "      <td>0.327753</td>\n",
       "      <td>0.396924</td>\n",
       "      <td>-0.003124</td>\n",
       "      <td>5587.0</td>\n",
       "      <td>0.384232</td>\n",
       "      <td>0</td>\n",
       "      <td>0.0</td>\n",
       "      <td>0</td>\n",
       "      <td>0</td>\n",
       "      <td>0</td>\n",
       "    </tr>\n",
       "  </tbody>\n",
       "</table>\n",
       "<p>7 rows × 66 columns</p>\n",
       "</div>"
      ],
      "text/plain": [
       "            회사명   거래소코드  회계년도        자산        자본  차입금의존도      유보율     현금비율   \n",
       "2400     (주)셀리드  299660  2021   58256.0   38761.0   27.16   696.63   281.94  \\\n",
       "4543   (주)원바이오젠  307280  2021   38043.0   26561.0   21.26   632.51    70.38   \n",
       "5941  (주)카이노스메드  284620  2021   41957.0   14600.0   42.73     9.95    90.55   \n",
       "6518    (주)큐리언트  115180  2021   57622.0   54076.0    1.52   755.28   668.50   \n",
       "6957     (주)파멥신  208340  2019  161347.0   67783.0   33.84  1861.66  1761.65   \n",
       "6958     (주)파멥신  208340  2020  133553.0   45715.0   42.50   542.31    44.35   \n",
       "7782  (주)휴맥스홀딩스  028080  2016  221495.0  192680.0   11.24  3206.31     9.95   \n",
       "\n",
       "        부채비율     당좌비율  ...       TMD    시총/총자산  EBIT/총자산  당기전기영업손익   \n",
       "2400   50.30  1127.06  ...  0.040804  8.201757 -0.224149   -9149.0  \\\n",
       "4543   43.23   164.94  ...  0.155157  1.945232 -0.076466     931.0   \n",
       "5941  187.37   143.72  ...  0.097723  6.672163 -0.263508  -10302.5   \n",
       "6518    6.56  1944.57  ...  0.013170  4.671287 -0.420256  -22634.0   \n",
       "6957  138.03  5190.04  ...  0.350292  1.655455 -0.068207   -8509.0   \n",
       "6958  192.14   117.88  ...  0.296671  2.216937 -0.190613  -17805.5   \n",
       "7782   14.95    14.89  ...  0.327753  0.396924 -0.003124    5587.0   \n",
       "\n",
       "      abs(영업현금흐름-당기순이익)/매출액  공시제목  target  target_1  target_2  target_3  \n",
       "2400               5.352035     0     0.0         0         0         0  \n",
       "4543               0.098301     0     0.0         0         0         0  \n",
       "5941               4.229844     0     0.0         0         0         0  \n",
       "6518               0.141424     0     0.0         0         0         0  \n",
       "6957                    inf     0     0.0         0         0         0  \n",
       "6958             165.400000     0     0.0         0         0         0  \n",
       "7782               0.384232     0     0.0         0         0         0  \n",
       "\n",
       "[7 rows x 66 columns]"
      ]
     },
     "execution_count": 279,
     "metadata": {},
     "output_type": "execute_result"
    }
   ],
   "source": [
    "df[df.isin([np.inf]).any(axis=1)]"
   ]
  },
  {
   "cell_type": "code",
   "execution_count": 280,
   "metadata": {},
   "outputs": [],
   "source": [
    "# 무한대 값 나오는 거 인단 삭제\n",
    "\n",
    "df.drop(index=df[df.isin([np.inf]).any(axis=1)].index, axis = 0, inplace = True)\n"
   ]
  },
  {
   "cell_type": "code",
   "execution_count": 281,
   "metadata": {},
   "outputs": [],
   "source": [
    "# # 이자부담률 무한대 값 삭제\n",
    "# # 전년도 이자부담률 데이터가 0값이서 데이터 제거(648개)\n",
    "\n",
    "# a = df[df[\"이자부담률\"].isin([np.inf])].index.to_list()\n",
    "# b = df[df[\"이자부담률\"].isin([-np.inf])].index.to_list()\n",
    "# c = a + b\n",
    "# df.drop(index=c, inplace=True)"
   ]
  },
  {
   "cell_type": "code",
   "execution_count": 282,
   "metadata": {},
   "outputs": [],
   "source": [
    "# 유형자산증가율 무한대 값 삭제\n",
    "# 전년도 유형자산 데이터가 0값이서 데이터 제거(2개)\n",
    "\n",
    "\n",
    "a = df[df[\"유형자산증가율\"].isin([np.inf])].index.to_list()\n",
    "b = df[df[\"유형자산증가율\"].isin([-np.inf])].index.to_list()\n",
    "c = a + b\n",
    "df.drop(index=c, inplace=True)"
   ]
  },
  {
   "cell_type": "code",
   "execution_count": 283,
   "metadata": {},
   "outputs": [],
   "source": [
    "# # 현금흐름 대 매출액 무한대 값 삭제\n",
    "# # 전년도 매출액 데이터가 0값이서 데이터 제거(2개)\n",
    "\n",
    "# a = df[df[\"현금흐름 대 매출액\"].isin([np.inf])].index.to_list()\n",
    "# b = df[df[\"현금흐름 대 매출액\"].isin([-np.inf])].index.to_list()\n",
    "# c = a + b\n",
    "# df.drop(index=c, inplace=True)"
   ]
  },
  {
   "cell_type": "code",
   "execution_count": 284,
   "metadata": {},
   "outputs": [],
   "source": [
    "# 매출액증가율 무한대 값 삭제\n",
    "# 전년도 매출액 데이터가 0값이서 데이터 제거\n",
    "\n",
    "a = df[df[\"매출액증가율\"].isin([np.inf])].index.to_list()\n",
    "b = df[df[\"매출액증가율\"].isin([-np.inf])].index.to_list()\n",
    "c = a + b\n",
    "df.drop(index=c, inplace=True)"
   ]
  },
  {
   "cell_type": "code",
   "execution_count": 285,
   "metadata": {},
   "outputs": [],
   "source": [
    "# # ROA변화율 무한대 값 삭제\n",
    "# # 전년도 ROA 데이터가 0값이서 데이터 제거\n",
    "\n",
    "# a = df[df[\"ROA변화율\"].isin([np.inf])].index.to_list()\n",
    "# b = df[df[\"ROA변화율\"].isin([-np.inf])].index.to_list()\n",
    "# c = a + b\n",
    "# df.drop(index=c, inplace=True)"
   ]
  },
  {
   "cell_type": "code",
   "execution_count": 286,
   "metadata": {},
   "outputs": [
    {
     "name": "stdout",
     "output_type": "stream",
     "text": [
      "전체 행: 10666 개\n",
      "전체 기업 수 1451\n",
      "결측치 수 :  0\n"
     ]
    }
   ],
   "source": [
    "print('전체 행:', df.shape[0],'개')\n",
    "print('전체 기업 수',len(df['회사명'].unique()))\n",
    "print(\"결측치 수 : \", df.isna().sum().sum())"
   ]
  },
  {
   "attachments": {},
   "cell_type": "markdown",
   "metadata": {},
   "source": [
    "\n",
    "## 무한대 값 처리 완료\n",
    "---"
   ]
  },
  {
   "cell_type": "code",
   "execution_count": 287,
   "metadata": {},
   "outputs": [
    {
     "data": {
      "text/html": [
       "<div>\n",
       "<style scoped>\n",
       "    .dataframe tbody tr th:only-of-type {\n",
       "        vertical-align: middle;\n",
       "    }\n",
       "\n",
       "    .dataframe tbody tr th {\n",
       "        vertical-align: top;\n",
       "    }\n",
       "\n",
       "    .dataframe thead th {\n",
       "        text-align: right;\n",
       "    }\n",
       "</style>\n",
       "<table border=\"1\" class=\"dataframe\">\n",
       "  <thead>\n",
       "    <tr style=\"text-align: right;\">\n",
       "      <th></th>\n",
       "      <th>회사명</th>\n",
       "      <th>회계년도</th>\n",
       "      <th>target_3</th>\n",
       "      <th>산업군</th>\n",
       "    </tr>\n",
       "  </thead>\n",
       "  <tbody>\n",
       "    <tr>\n",
       "      <th>8013</th>\n",
       "      <td>글로벌텍스프리(주)</td>\n",
       "      <td>2018</td>\n",
       "      <td>0</td>\n",
       "      <td>금융 및 보험업</td>\n",
       "    </tr>\n",
       "    <tr>\n",
       "      <th>8014</th>\n",
       "      <td>글로벌텍스프리(주)</td>\n",
       "      <td>2019</td>\n",
       "      <td>0</td>\n",
       "      <td>금융 및 보험업</td>\n",
       "    </tr>\n",
       "    <tr>\n",
       "      <th>8015</th>\n",
       "      <td>글로벌텍스프리(주)</td>\n",
       "      <td>2020</td>\n",
       "      <td>0</td>\n",
       "      <td>금융 및 보험업</td>\n",
       "    </tr>\n",
       "    <tr>\n",
       "      <th>8016</th>\n",
       "      <td>글로벌텍스프리(주)</td>\n",
       "      <td>2021</td>\n",
       "      <td>0</td>\n",
       "      <td>금융 및 보험업</td>\n",
       "    </tr>\n",
       "    <tr>\n",
       "      <th>10815</th>\n",
       "      <td>해성산업(주)</td>\n",
       "      <td>2012</td>\n",
       "      <td>0</td>\n",
       "      <td>금융 및 보험업</td>\n",
       "    </tr>\n",
       "    <tr>\n",
       "      <th>10816</th>\n",
       "      <td>해성산업(주)</td>\n",
       "      <td>2013</td>\n",
       "      <td>0</td>\n",
       "      <td>금융 및 보험업</td>\n",
       "    </tr>\n",
       "    <tr>\n",
       "      <th>10817</th>\n",
       "      <td>해성산업(주)</td>\n",
       "      <td>2014</td>\n",
       "      <td>0</td>\n",
       "      <td>금융 및 보험업</td>\n",
       "    </tr>\n",
       "    <tr>\n",
       "      <th>10818</th>\n",
       "      <td>해성산업(주)</td>\n",
       "      <td>2015</td>\n",
       "      <td>0</td>\n",
       "      <td>금융 및 보험업</td>\n",
       "    </tr>\n",
       "    <tr>\n",
       "      <th>10819</th>\n",
       "      <td>해성산업(주)</td>\n",
       "      <td>2016</td>\n",
       "      <td>0</td>\n",
       "      <td>금융 및 보험업</td>\n",
       "    </tr>\n",
       "    <tr>\n",
       "      <th>10820</th>\n",
       "      <td>해성산업(주)</td>\n",
       "      <td>2017</td>\n",
       "      <td>0</td>\n",
       "      <td>금융 및 보험업</td>\n",
       "    </tr>\n",
       "    <tr>\n",
       "      <th>10821</th>\n",
       "      <td>해성산업(주)</td>\n",
       "      <td>2018</td>\n",
       "      <td>0</td>\n",
       "      <td>금융 및 보험업</td>\n",
       "    </tr>\n",
       "    <tr>\n",
       "      <th>10822</th>\n",
       "      <td>해성산업(주)</td>\n",
       "      <td>2019</td>\n",
       "      <td>0</td>\n",
       "      <td>금융 및 보험업</td>\n",
       "    </tr>\n",
       "    <tr>\n",
       "      <th>10823</th>\n",
       "      <td>해성산업(주)</td>\n",
       "      <td>2020</td>\n",
       "      <td>0</td>\n",
       "      <td>금융 및 보험업</td>\n",
       "    </tr>\n",
       "    <tr>\n",
       "      <th>10824</th>\n",
       "      <td>해성산업(주)</td>\n",
       "      <td>2021</td>\n",
       "      <td>0</td>\n",
       "      <td>금융 및 보험업</td>\n",
       "    </tr>\n",
       "  </tbody>\n",
       "</table>\n",
       "</div>"
      ],
      "text/plain": [
       "              회사명  회계년도  target_3       산업군\n",
       "8013   글로벌텍스프리(주)  2018         0  금융 및 보험업\n",
       "8014   글로벌텍스프리(주)  2019         0  금융 및 보험업\n",
       "8015   글로벌텍스프리(주)  2020         0  금융 및 보험업\n",
       "8016   글로벌텍스프리(주)  2021         0  금융 및 보험업\n",
       "10815     해성산업(주)  2012         0  금융 및 보험업\n",
       "10816     해성산업(주)  2013         0  금융 및 보험업\n",
       "10817     해성산업(주)  2014         0  금융 및 보험업\n",
       "10818     해성산업(주)  2015         0  금융 및 보험업\n",
       "10819     해성산업(주)  2016         0  금융 및 보험업\n",
       "10820     해성산업(주)  2017         0  금융 및 보험업\n",
       "10821     해성산업(주)  2018         0  금융 및 보험업\n",
       "10822     해성산업(주)  2019         0  금융 및 보험업\n",
       "10823     해성산업(주)  2020         0  금융 및 보험업\n",
       "10824     해성산업(주)  2021         0  금융 및 보험업"
      ]
     },
     "execution_count": 287,
     "metadata": {},
     "output_type": "execute_result"
    }
   ],
   "source": [
    "# 산업군이 \"금융 및 보험업\"인 데이터 삭제\n",
    "\n",
    "df[df[\"산업군\"].str.contains(\"금융\")][[\"회사명\", \"회계년도\", \"target_3\", \"산업군\"]]"
   ]
  },
  {
   "cell_type": "code",
   "execution_count": 288,
   "metadata": {},
   "outputs": [],
   "source": [
    "# del_col = df[df[\"산업군\"].str.contains(\"금융\")][[\"회사명\", \"회계년도\", \"target_3\", \"산업군\"]].index\n",
    "\n",
    "# df.drop(index=del_col, axis=0, inplace=True)\n",
    "# df.reset_index(drop=True, inplace=True)\n"
   ]
  },
  {
   "cell_type": "code",
   "execution_count": 289,
   "metadata": {},
   "outputs": [
    {
     "name": "stdout",
     "output_type": "stream",
     "text": [
      "전체 행: 10666 개\n",
      "전체 기업 수 1451\n",
      "결측치 수 :  0\n"
     ]
    }
   ],
   "source": [
    "print('전체 행:', df.shape[0],'개')\n",
    "print('전체 기업 수',len(df['회사명'].unique()))\n",
    "print(\"결측치 수 : \", df.isna().sum().sum())"
   ]
  },
  {
   "attachments": {},
   "cell_type": "markdown",
   "metadata": {},
   "source": [
    "# 원본 데이터 결측치 처리 완료\n",
    "---"
   ]
  },
  {
   "cell_type": "code",
   "execution_count": 290,
   "metadata": {},
   "outputs": [],
   "source": [
    "# # 타겟 1인 기업들 0값 지워주기\n",
    "\n",
    "# # 부실정의 컬럼 \n",
    "# df['sum'] = df['target_1']+df['target_2']+df['target_3']\n",
    "\n",
    "# ## 임시 부실데이터저장\n",
    "# temp = pd.DataFrame()\n",
    "# for i in df['회사명'].unique():\n",
    "#     a = df[(df['회사명']==i) & df['sum']!=0]\n",
    "#     temp = pd.concat([temp,a],axis=0)\n",
    "# temp.drop(columns=['sum'],axis=1,inplace=True)\n",
    "# print(temp.shape)\n",
    "\n"
   ]
  },
  {
   "cell_type": "code",
   "execution_count": 291,
   "metadata": {},
   "outputs": [],
   "source": [
    "# for i in temp['회사명'].unique():\n",
    "#     df = df[~(df['회사명']==i)]\n",
    "\n",
    "# df = pd.concat([df,temp],axis=0)"
   ]
  },
  {
   "cell_type": "code",
   "execution_count": 292,
   "metadata": {},
   "outputs": [],
   "source": [
    "# df.drop(columns=[\"sum\"], axis=1, inplace=True)\n",
    "# df.reset_index(drop=True,inplace=True)\n",
    "# print(df.shape)\n"
   ]
  },
  {
   "cell_type": "code",
   "execution_count": 293,
   "metadata": {},
   "outputs": [
    {
     "data": {
      "text/plain": [
       "target_3\n",
       "0    10432\n",
       "1      234\n",
       "Name: count, dtype: int64"
      ]
     },
     "execution_count": 293,
     "metadata": {},
     "output_type": "execute_result"
    }
   ],
   "source": [
    "df[\"target_3\"].value_counts()"
   ]
  },
  {
   "cell_type": "code",
   "execution_count": 294,
   "metadata": {},
   "outputs": [
    {
     "name": "stdout",
     "output_type": "stream",
     "text": [
      "149\n",
      "1414\n"
     ]
    }
   ],
   "source": [
    "print(len(df[df[\"target_3\"]==1][\"회사명\"].unique()))\n",
    "print(len(df[df[\"target_3\"]==0][\"회사명\"].unique()))"
   ]
  },
  {
   "cell_type": "code",
   "execution_count": 295,
   "metadata": {},
   "outputs": [
    {
     "name": "stdout",
     "output_type": "stream",
     "text": [
      "전체 행: 10666 개\n",
      "전체 기업 수 1451\n",
      "결측치 수 :  0\n"
     ]
    }
   ],
   "source": [
    "print('전체 행:', df.shape[0],'개')\n",
    "print('전체 기업 수',len(df['회사명'].unique()))\n",
    "print(\"결측치 수 : \", df.isna().sum().sum())"
   ]
  },
  {
   "cell_type": "code",
   "execution_count": 296,
   "metadata": {},
   "outputs": [
    {
     "data": {
      "text/html": [
       "<div>\n",
       "<style scoped>\n",
       "    .dataframe tbody tr th:only-of-type {\n",
       "        vertical-align: middle;\n",
       "    }\n",
       "\n",
       "    .dataframe tbody tr th {\n",
       "        vertical-align: top;\n",
       "    }\n",
       "\n",
       "    .dataframe thead th {\n",
       "        text-align: right;\n",
       "    }\n",
       "</style>\n",
       "<table border=\"1\" class=\"dataframe\">\n",
       "  <thead>\n",
       "    <tr style=\"text-align: right;\">\n",
       "      <th></th>\n",
       "      <th>회계년도</th>\n",
       "      <th>자산</th>\n",
       "      <th>자본</th>\n",
       "      <th>차입금의존도</th>\n",
       "      <th>유보율</th>\n",
       "      <th>현금비율</th>\n",
       "      <th>부채비율</th>\n",
       "      <th>당좌비율</th>\n",
       "      <th>순운전자본비율</th>\n",
       "      <th>이자비용</th>\n",
       "      <th>...</th>\n",
       "      <th>누적수익성비율</th>\n",
       "      <th>TMD</th>\n",
       "      <th>시총/총자산</th>\n",
       "      <th>EBIT/총자산</th>\n",
       "      <th>당기전기영업손익</th>\n",
       "      <th>abs(영업현금흐름-당기순이익)/매출액</th>\n",
       "      <th>target</th>\n",
       "      <th>target_1</th>\n",
       "      <th>target_2</th>\n",
       "      <th>target_3</th>\n",
       "    </tr>\n",
       "  </thead>\n",
       "  <tbody>\n",
       "    <tr>\n",
       "      <th>count</th>\n",
       "      <td>10666.000000</td>\n",
       "      <td>1.066600e+04</td>\n",
       "      <td>1.066600e+04</td>\n",
       "      <td>10666.000000</td>\n",
       "      <td>10666.000000</td>\n",
       "      <td>10666.000000</td>\n",
       "      <td>10666.000000</td>\n",
       "      <td>10666.000000</td>\n",
       "      <td>10666.000000</td>\n",
       "      <td>10666.000000</td>\n",
       "      <td>...</td>\n",
       "      <td>10666.000000</td>\n",
       "      <td>10666.000000</td>\n",
       "      <td>10666.000000</td>\n",
       "      <td>10666.000000</td>\n",
       "      <td>1.066600e+04</td>\n",
       "      <td>10666.000000</td>\n",
       "      <td>10666.000000</td>\n",
       "      <td>10666.000000</td>\n",
       "      <td>10666.000000</td>\n",
       "      <td>10666.000000</td>\n",
       "    </tr>\n",
       "    <tr>\n",
       "      <th>mean</th>\n",
       "      <td>2016.862366</td>\n",
       "      <td>2.217365e+05</td>\n",
       "      <td>1.122874e+05</td>\n",
       "      <td>21.195172</td>\n",
       "      <td>1189.803286</td>\n",
       "      <td>77.035832</td>\n",
       "      <td>111.878670</td>\n",
       "      <td>253.996550</td>\n",
       "      <td>20.916737</td>\n",
       "      <td>1979.288299</td>\n",
       "      <td>...</td>\n",
       "      <td>0.106414</td>\n",
       "      <td>0.919258</td>\n",
       "      <td>1.262760</td>\n",
       "      <td>0.000674</td>\n",
       "      <td>8.387764e+03</td>\n",
       "      <td>0.258392</td>\n",
       "      <td>0.013313</td>\n",
       "      <td>0.024939</td>\n",
       "      <td>0.021939</td>\n",
       "      <td>0.021939</td>\n",
       "    </tr>\n",
       "    <tr>\n",
       "      <th>std</th>\n",
       "      <td>2.873810</td>\n",
       "      <td>7.936189e+05</td>\n",
       "      <td>2.002822e+05</td>\n",
       "      <td>19.271079</td>\n",
       "      <td>1630.887238</td>\n",
       "      <td>258.793998</td>\n",
       "      <td>381.710359</td>\n",
       "      <td>593.255611</td>\n",
       "      <td>29.997388</td>\n",
       "      <td>4801.119834</td>\n",
       "      <td>...</td>\n",
       "      <td>0.759304</td>\n",
       "      <td>2.177647</td>\n",
       "      <td>1.692478</td>\n",
       "      <td>0.180740</td>\n",
       "      <td>2.903190e+04</td>\n",
       "      <td>2.486601</td>\n",
       "      <td>0.114618</td>\n",
       "      <td>0.155947</td>\n",
       "      <td>0.146491</td>\n",
       "      <td>0.146491</td>\n",
       "    </tr>\n",
       "    <tr>\n",
       "      <th>min</th>\n",
       "      <td>2012.000000</td>\n",
       "      <td>1.629000e+03</td>\n",
       "      <td>-5.429690e+05</td>\n",
       "      <td>0.000000</td>\n",
       "      <td>-1490.240000</td>\n",
       "      <td>0.000000</td>\n",
       "      <td>0.000000</td>\n",
       "      <td>1.810000</td>\n",
       "      <td>-1243.210000</td>\n",
       "      <td>-28.000000</td>\n",
       "      <td>...</td>\n",
       "      <td>-38.243959</td>\n",
       "      <td>0.001306</td>\n",
       "      <td>0.012305</td>\n",
       "      <td>-4.745856</td>\n",
       "      <td>-1.665870e+05</td>\n",
       "      <td>0.000004</td>\n",
       "      <td>0.000000</td>\n",
       "      <td>0.000000</td>\n",
       "      <td>0.000000</td>\n",
       "      <td>0.000000</td>\n",
       "    </tr>\n",
       "    <tr>\n",
       "      <th>25%</th>\n",
       "      <td>2014.000000</td>\n",
       "      <td>6.305100e+04</td>\n",
       "      <td>3.600275e+04</td>\n",
       "      <td>4.652500</td>\n",
       "      <td>314.962500</td>\n",
       "      <td>12.960000</td>\n",
       "      <td>30.190000</td>\n",
       "      <td>78.485000</td>\n",
       "      <td>3.032500</td>\n",
       "      <td>140.000000</td>\n",
       "      <td>...</td>\n",
       "      <td>-0.025992</td>\n",
       "      <td>0.177860</td>\n",
       "      <td>0.474508</td>\n",
       "      <td>-0.027712</td>\n",
       "      <td>-1.038750e+03</td>\n",
       "      <td>0.031233</td>\n",
       "      <td>0.000000</td>\n",
       "      <td>0.000000</td>\n",
       "      <td>0.000000</td>\n",
       "      <td>0.000000</td>\n",
       "    </tr>\n",
       "    <tr>\n",
       "      <th>50%</th>\n",
       "      <td>2017.000000</td>\n",
       "      <td>1.093940e+05</td>\n",
       "      <td>6.428250e+04</td>\n",
       "      <td>18.770000</td>\n",
       "      <td>773.015000</td>\n",
       "      <td>34.445000</td>\n",
       "      <td>65.470000</td>\n",
       "      <td>136.210000</td>\n",
       "      <td>21.690000</td>\n",
       "      <td>727.000000</td>\n",
       "      <td>...</td>\n",
       "      <td>0.225504</td>\n",
       "      <td>0.431009</td>\n",
       "      <td>0.811878</td>\n",
       "      <td>0.028694</td>\n",
       "      <td>2.907750e+03</td>\n",
       "      <td>0.073447</td>\n",
       "      <td>0.000000</td>\n",
       "      <td>0.000000</td>\n",
       "      <td>0.000000</td>\n",
       "      <td>0.000000</td>\n",
       "    </tr>\n",
       "    <tr>\n",
       "      <th>75%</th>\n",
       "      <td>2019.000000</td>\n",
       "      <td>2.024285e+05</td>\n",
       "      <td>1.168628e+05</td>\n",
       "      <td>33.877500</td>\n",
       "      <td>1499.027500</td>\n",
       "      <td>82.627500</td>\n",
       "      <td>125.952500</td>\n",
       "      <td>265.170000</td>\n",
       "      <td>39.787500</td>\n",
       "      <td>2025.000000</td>\n",
       "      <td>...</td>\n",
       "      <td>0.442504</td>\n",
       "      <td>0.968925</td>\n",
       "      <td>1.444983</td>\n",
       "      <td>0.072434</td>\n",
       "      <td>9.856250e+03</td>\n",
       "      <td>0.157700</td>\n",
       "      <td>0.000000</td>\n",
       "      <td>0.000000</td>\n",
       "      <td>0.000000</td>\n",
       "      <td>0.000000</td>\n",
       "    </tr>\n",
       "    <tr>\n",
       "      <th>max</th>\n",
       "      <td>2021.000000</td>\n",
       "      <td>4.700146e+07</td>\n",
       "      <td>4.867369e+06</td>\n",
       "      <td>749.400000</td>\n",
       "      <td>35257.990000</td>\n",
       "      <td>21837.410000</td>\n",
       "      <td>25729.810000</td>\n",
       "      <td>42354.180000</td>\n",
       "      <td>94.820000</td>\n",
       "      <td>149627.000000</td>\n",
       "      <td>...</td>\n",
       "      <td>3.210667</td>\n",
       "      <td>72.854765</td>\n",
       "      <td>37.017833</td>\n",
       "      <td>3.066083</td>\n",
       "      <td>1.185388e+06</td>\n",
       "      <td>175.940945</td>\n",
       "      <td>1.000000</td>\n",
       "      <td>1.000000</td>\n",
       "      <td>1.000000</td>\n",
       "      <td>1.000000</td>\n",
       "    </tr>\n",
       "  </tbody>\n",
       "</table>\n",
       "<p>8 rows × 62 columns</p>\n",
       "</div>"
      ],
      "text/plain": [
       "               회계년도            자산            자본        차입금의존도           유보율   \n",
       "count  10666.000000  1.066600e+04  1.066600e+04  10666.000000  10666.000000  \\\n",
       "mean    2016.862366  2.217365e+05  1.122874e+05     21.195172   1189.803286   \n",
       "std        2.873810  7.936189e+05  2.002822e+05     19.271079   1630.887238   \n",
       "min     2012.000000  1.629000e+03 -5.429690e+05      0.000000  -1490.240000   \n",
       "25%     2014.000000  6.305100e+04  3.600275e+04      4.652500    314.962500   \n",
       "50%     2017.000000  1.093940e+05  6.428250e+04     18.770000    773.015000   \n",
       "75%     2019.000000  2.024285e+05  1.168628e+05     33.877500   1499.027500   \n",
       "max     2021.000000  4.700146e+07  4.867369e+06    749.400000  35257.990000   \n",
       "\n",
       "               현금비율          부채비율          당좌비율       순운전자본비율           이자비용   \n",
       "count  10666.000000  10666.000000  10666.000000  10666.000000   10666.000000  \\\n",
       "mean      77.035832    111.878670    253.996550     20.916737    1979.288299   \n",
       "std      258.793998    381.710359    593.255611     29.997388    4801.119834   \n",
       "min        0.000000      0.000000      1.810000  -1243.210000     -28.000000   \n",
       "25%       12.960000     30.190000     78.485000      3.032500     140.000000   \n",
       "50%       34.445000     65.470000    136.210000     21.690000     727.000000   \n",
       "75%       82.627500    125.952500    265.170000     39.787500    2025.000000   \n",
       "max    21837.410000  25729.810000  42354.180000     94.820000  149627.000000   \n",
       "\n",
       "       ...       누적수익성비율           TMD        시총/총자산      EBIT/총자산   \n",
       "count  ...  10666.000000  10666.000000  10666.000000  10666.000000  \\\n",
       "mean   ...      0.106414      0.919258      1.262760      0.000674   \n",
       "std    ...      0.759304      2.177647      1.692478      0.180740   \n",
       "min    ...    -38.243959      0.001306      0.012305     -4.745856   \n",
       "25%    ...     -0.025992      0.177860      0.474508     -0.027712   \n",
       "50%    ...      0.225504      0.431009      0.811878      0.028694   \n",
       "75%    ...      0.442504      0.968925      1.444983      0.072434   \n",
       "max    ...      3.210667     72.854765     37.017833      3.066083   \n",
       "\n",
       "           당기전기영업손익  abs(영업현금흐름-당기순이익)/매출액        target      target_1   \n",
       "count  1.066600e+04           10666.000000  10666.000000  10666.000000  \\\n",
       "mean   8.387764e+03               0.258392      0.013313      0.024939   \n",
       "std    2.903190e+04               2.486601      0.114618      0.155947   \n",
       "min   -1.665870e+05               0.000004      0.000000      0.000000   \n",
       "25%   -1.038750e+03               0.031233      0.000000      0.000000   \n",
       "50%    2.907750e+03               0.073447      0.000000      0.000000   \n",
       "75%    9.856250e+03               0.157700      0.000000      0.000000   \n",
       "max    1.185388e+06             175.940945      1.000000      1.000000   \n",
       "\n",
       "           target_2      target_3  \n",
       "count  10666.000000  10666.000000  \n",
       "mean       0.021939      0.021939  \n",
       "std        0.146491      0.146491  \n",
       "min        0.000000      0.000000  \n",
       "25%        0.000000      0.000000  \n",
       "50%        0.000000      0.000000  \n",
       "75%        0.000000      0.000000  \n",
       "max        1.000000      1.000000  \n",
       "\n",
       "[8 rows x 62 columns]"
      ]
     },
     "execution_count": 296,
     "metadata": {},
     "output_type": "execute_result"
    }
   ],
   "source": [
    "df.describe()"
   ]
  },
  {
   "cell_type": "code",
   "execution_count": 297,
   "metadata": {},
   "outputs": [
    {
     "data": {
      "text/plain": [
       "Index(['회사명', '거래소코드', '회계년도', '자산', '자본', '차입금의존도', '유보율', '현금비율', '부채비율',\n",
       "       '당좌비율', '순운전자본비율', '이자비용', '영업손익', '감가상각비', 'EBITDA', '총자본정상영업이익률',\n",
       "       '자기자본순이익률', '총자본순이익률', '매출액총이익률', '금융비용부담률', '경영자본순이익률', '자본금회전률',\n",
       "       '유형자산회전율', '재고자산회전률', '자기자본회전률', '타인자본회전률', '총자본회전률', '이익잉여금',\n",
       "       '영업활동으로 인한 현금흐름', '매출액', '연구개발비(IFRS연결)(천원)', '금융원가', '금융수익',\n",
       "       '법인세비용차감전순이익', '당기순이익', '부채', '합계_기말인원(명)', '합계_년간총급여(천원)', '외국인지분율',\n",
       "       '대주주지분율', '단기차입금', '유동성장기부채', '상장일', '산업군', 'CAPEX',\n",
       "       '현금및현금성자산(요약)(IFRS연결)(백만원)', '유형자산증가율', '매출액증가율', '자기자본증가율', '총자본증가율',\n",
       "       '정상영업이익증가율', '시가총액', '장단기금리차', 'cpi', '업력', '누적수익성비율', 'TMD', '시총/총자산',\n",
       "       'EBIT/총자산', '당기전기영업손익', 'abs(영업현금흐름-당기순이익)/매출액', '공시제목', 'target',\n",
       "       'target_1', 'target_2', 'target_3'],\n",
       "      dtype='object')"
      ]
     },
     "execution_count": 297,
     "metadata": {},
     "output_type": "execute_result"
    }
   ],
   "source": [
    "df.columns"
   ]
  },
  {
   "cell_type": "code",
   "execution_count": 298,
   "metadata": {},
   "outputs": [],
   "source": [
    "df.to_csv(\"./datasets/전처리준비/코스닥결측치처리완료_00.csv\", encoding=\"utf-8-sig\")"
   ]
  }
 ],
 "metadata": {
  "kernelspec": {
   "display_name": "base",
   "language": "python",
   "name": "python3"
  },
  "language_info": {
   "codemirror_mode": {
    "name": "ipython",
    "version": 3
   },
   "file_extension": ".py",
   "mimetype": "text/x-python",
   "name": "python",
   "nbconvert_exporter": "python",
   "pygments_lexer": "ipython3",
   "version": "3.10.9"
  },
  "orig_nbformat": 4
 },
 "nbformat": 4,
 "nbformat_minor": 2
}
